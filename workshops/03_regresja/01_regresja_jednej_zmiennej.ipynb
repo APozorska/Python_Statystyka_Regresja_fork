{
  "cells": [
    {
      "cell_type": "markdown",
      "metadata": {
        "id": "zNxdSHh8WEJ-"
      },
      "source": [
        "# Model regresji prostej\n",
        "\n",
        "$$Y = \\beta_0 + \\beta_1 X + \\epsilon,$$\n",
        "gdzie $\\epsilon \\sim \\mathcal{N}(0, \\sigma)$."
      ]
    },
    {
      "cell_type": "markdown",
      "metadata": {
        "id": "80XwTpk_WEKF"
      },
      "source": [
        "**Nomenklatura:**\n",
        "\n",
        "$Y$ - zmienna zależna, zmienna odpowiedzi, zmienna objaśniana\n",
        "\n",
        "$X$ - zmienna niezależna, predyktor, atrybut\n",
        "\n",
        "$\\beta_0, \\beta_1$ - współczynniki regregresji\n",
        "\n",
        "$\\epsilon$ - błąd losowy"
      ]
    },
    {
      "cell_type": "markdown",
      "metadata": {
        "id": "EWSfupDzWEKG"
      },
      "source": [
        "**Cel:** \n",
        "\n",
        "Przy użyciu par  $(x_1, y_1), (x_2, y_2), \\ldots (x_n, y_n)$ odpowiadającym pomiarom, odpowiednio, \n",
        "zmiennej niezależnej $X$ i zmiennej zależnej $Y$, wyznaczyć współczynniki \n",
        "$b_0, b_1$ tak, aby \n",
        "$$y_i \\approx b_0 + b_1 x_i$$"
      ]
    },
    {
      "cell_type": "markdown",
      "metadata": {
        "id": "v0-_axwFWEKG"
      },
      "source": [
        "**Suma błędów  kwadratów:**\n",
        "    \n",
        "$$RSS = e_1^2 + e_2^2 + \\ldots + e_n^2 = (y_1 - \\hat{y_1})^2 + (y_2 - \\hat{y_2})^2 + \\ldots + (y_n - \\hat{y_n})^2$$"
      ]
    },
    {
      "cell_type": "markdown",
      "metadata": {
        "id": "m8DU7B2LWEKH"
      },
      "source": [
        "**Funkcja kryterialna:**\n",
        "    \n",
        "$$(b_0, b_1) = \\arg\\!\\min_{(b_0, b_1)} \\sum_{i=1}^n (y_i - \\hat{y_i})^2 = \\arg\\!\\min_{(b_0, b_1)} \\sum_{i=1}^n (y_i - (b_0 + b_1 x_i))^2$$"
      ]
    },
    {
      "cell_type": "markdown",
      "metadata": {
        "id": "nMAWKnlMWEKH"
      },
      "source": [
        "$$b_0 = \\frac{\\sum_{i=1}^{n}(x_i - \\overline{x})(y_i - \\overline{y})}{\\sum_{i=1}^n(x_i - \\overline{x})^2}$$\n",
        "\n",
        "$$b_1 = \\overline{y} - b_1\\overline{x}$$"
      ]
    },
    {
      "cell_type": "code",
      "execution_count": 2,
      "metadata": {
        "id": "4u_N-raIWEKI",
        "colab": {
          "base_uri": "https://localhost:8080/"
        },
        "outputId": "cc8287f3-12ea-4c69-c812-5f3172b40f65"
      },
      "outputs": [
        {
          "output_type": "stream",
          "name": "stderr",
          "text": [
            "/usr/local/lib/python3.7/dist-packages/statsmodels/tools/_testing.py:19: FutureWarning: pandas.util.testing is deprecated. Use the functions in the public API at pandas.testing instead.\n",
            "  import pandas.util.testing as tm\n"
          ]
        }
      ],
      "source": [
        "import numpy as np\n",
        "import pandas as pd\n",
        "import seaborn as sns\n",
        "\n",
        "import statsmodels.api as sm\n",
        "import statsmodels.formula.api as smf\n",
        "\n",
        "from scipy import stats\n",
        "from patsy import dmatrices\n",
        "from statsmodels.stats.stattools import durbin_watson\n",
        "\n",
        "import matplotlib.pyplot as plt"
      ]
    },
    {
      "cell_type": "markdown",
      "metadata": {
        "id": "cFVGVRlFWEKM"
      },
      "source": [
        "## Pakiet [`statsmodels`](https://www.statsmodels.org/stable/genindex.html)"
      ]
    },
    {
      "cell_type": "code",
      "execution_count": 4,
      "metadata": {
        "id": "qvpYthhTWEKN",
        "outputId": "007cda70-ca95-45ac-cd39-547b98e1b574",
        "colab": {
          "base_uri": "https://localhost:8080/"
        }
      },
      "outputs": [
        {
          "output_type": "stream",
          "name": "stdout",
          "text": [
            "Help on package statsmodels.datasets in statsmodels:\n",
            "\n",
            "NAME\n",
            "    statsmodels.datasets - Datasets module\n",
            "\n",
            "PACKAGE CONTENTS\n",
            "    anes96 (package)\n",
            "    cancer (package)\n",
            "    ccard (package)\n",
            "    china_smoking (package)\n",
            "    co2 (package)\n",
            "    committee (package)\n",
            "    copper (package)\n",
            "    cpunish (package)\n",
            "    elnino (package)\n",
            "    engel (package)\n",
            "    fair (package)\n",
            "    fertility (package)\n",
            "    grunfeld (package)\n",
            "    heart (package)\n",
            "    interest_inflation (package)\n",
            "    longley (package)\n",
            "    macrodata (package)\n",
            "    modechoice (package)\n",
            "    nile (package)\n",
            "    randhie (package)\n",
            "    scotland (package)\n",
            "    spector (package)\n",
            "    stackloss (package)\n",
            "    star98 (package)\n",
            "    statecrime (package)\n",
            "    strikes (package)\n",
            "    sunspots (package)\n",
            "    template_data\n",
            "    tests (package)\n",
            "    utils\n",
            "\n",
            "FUNCTIONS\n",
            "    check_internet(url=None)\n",
            "        Check if internet is available\n",
            "    \n",
            "    clear_data_home(data_home=None)\n",
            "        Delete all the content of the data home cache.\n",
            "    \n",
            "    get_data_home(data_home=None)\n",
            "        Return the path of the statsmodels data dir.\n",
            "        \n",
            "        This folder is used by some large dataset loaders to avoid\n",
            "        downloading the data several times.\n",
            "        \n",
            "        By default the data dir is set to a folder named 'statsmodels_data'\n",
            "        in the user home folder.\n",
            "        \n",
            "        Alternatively, it can be set by the 'STATSMODELS_DATA' environment\n",
            "        variable or programatically by giving an explit folder path. The\n",
            "        '~' symbol is expanded to the user home folder.\n",
            "        \n",
            "        If the folder does not already exist, it is automatically created.\n",
            "    \n",
            "    get_rdataset(dataname, package='datasets', cache=False)\n",
            "        download and return R dataset\n",
            "        \n",
            "        Parameters\n",
            "        ----------\n",
            "        dataname : str\n",
            "            The name of the dataset you want to download\n",
            "        package : str\n",
            "            The package in which the dataset is found. The default is the core\n",
            "            'datasets' package.\n",
            "        cache : bool or str\n",
            "            If True, will download this data into the STATSMODELS_DATA folder.\n",
            "            The default location is a folder called statsmodels_data in the\n",
            "            user home folder. Otherwise, you can specify a path to a folder to\n",
            "            use for caching the data. If False, the data will not be cached.\n",
            "        \n",
            "        Returns\n",
            "        -------\n",
            "        dataset : Dataset instance\n",
            "            A `statsmodels.data.utils.Dataset` instance. This objects has\n",
            "            attributes:\n",
            "        \n",
            "            * data - A pandas DataFrame containing the data\n",
            "            * title - The dataset title\n",
            "            * package - The package from which the data came\n",
            "            * from_cache - Whether not cached data was retrieved\n",
            "            * __doc__ - The verbatim R documentation.\n",
            "        \n",
            "        \n",
            "        Notes\n",
            "        -----\n",
            "        If the R dataset has an integer index. This is reset to be zero-based.\n",
            "        Otherwise the index is preserved. The caching facilities are dumb. That\n",
            "        is, no download dates, e-tags, or otherwise identifying information\n",
            "        is checked to see if the data should be downloaded again or not. If the\n",
            "        dataset is in the cache, it's used.\n",
            "    \n",
            "    webuse(data, baseurl='https://www.stata-press.com/data/r11/', as_df=True)\n",
            "        Download and return an example dataset from Stata.\n",
            "        \n",
            "        Parameters\n",
            "        ----------\n",
            "        data : str\n",
            "            Name of dataset to fetch.\n",
            "        baseurl : str\n",
            "            The base URL to the stata datasets.\n",
            "        as_df : bool\n",
            "            Deprecated. Always returns a DataFrame\n",
            "        \n",
            "        Returns\n",
            "        -------\n",
            "        dta : DataFrame\n",
            "            A DataFrame containing the Stata dataset.\n",
            "        \n",
            "        Examples\n",
            "        --------\n",
            "        >>> dta = webuse('auto')\n",
            "        \n",
            "        Notes\n",
            "        -----\n",
            "        Make sure baseurl has trailing forward slash. Doesn't do any\n",
            "        error checking in response URLs.\n",
            "\n",
            "DATA\n",
            "    __all__ = ['anes96', 'cancer', 'committee', 'ccard', 'copper', 'cpunis...\n",
            "    test = <statsmodels.tools._testing.PytestTester object>\n",
            "\n",
            "FILE\n",
            "    /usr/local/lib/python3.7/dist-packages/statsmodels/datasets/__init__.py\n",
            "\n",
            "\n"
          ]
        }
      ],
      "source": [
        "help(sm.datasets)"
      ]
    },
    {
      "cell_type": "code",
      "execution_count": 5,
      "metadata": {
        "id": "dKaW240JWEKO"
      },
      "outputs": [],
      "source": [
        "#pobieranie plików z statsmodels\n",
        "cancer = sm.datasets.cancer.load_pandas()"
      ]
    },
    {
      "cell_type": "code",
      "source": [
        "print(sm.datasets.cancer.DESCRSHORT)\n",
        "print(sm.datasets.cancer.DESCRLONG)\n",
        "print(sm.datasets.cancer.NOTE)"
      ],
      "metadata": {
        "id": "3fhpPkOB_iiW",
        "colab": {
          "base_uri": "https://localhost:8080/"
        },
        "outputId": "3ef84082-94cb-4d36-d9e1-f9af1ba3518e"
      },
      "execution_count": 6,
      "outputs": [
        {
          "output_type": "stream",
          "name": "stdout",
          "text": [
            "Breast Cancer and county population\n",
            "The number of breast cancer observances in various counties\n",
            "::\n",
            "\n",
            "    Number of observations: 301\n",
            "    Number of variables: 2\n",
            "    Variable name definitions:\n",
            "\n",
            "        cancer - The number of breast cancer observances\n",
            "        population - The population of the county\n",
            "\n",
            "\n"
          ]
        }
      ]
    },
    {
      "cell_type": "code",
      "execution_count": 7,
      "metadata": {
        "id": "Hc6PCcTHWEKO",
        "outputId": "04a8486a-3278-47a5-a73f-a5b8b5d8253a",
        "colab": {
          "base_uri": "https://localhost:8080/",
          "height": 206
        }
      },
      "outputs": [
        {
          "output_type": "execute_result",
          "data": {
            "text/plain": [
              "   cancer  population\n",
              "0     1.0       445.0\n",
              "1     0.0       559.0\n",
              "2     3.0       677.0\n",
              "3     4.0       681.0\n",
              "4     3.0       746.0"
            ],
            "text/html": [
              "\n",
              "  <div id=\"df-94eb7211-df23-496c-a1f6-f73d53111b61\">\n",
              "    <div class=\"colab-df-container\">\n",
              "      <div>\n",
              "<style scoped>\n",
              "    .dataframe tbody tr th:only-of-type {\n",
              "        vertical-align: middle;\n",
              "    }\n",
              "\n",
              "    .dataframe tbody tr th {\n",
              "        vertical-align: top;\n",
              "    }\n",
              "\n",
              "    .dataframe thead th {\n",
              "        text-align: right;\n",
              "    }\n",
              "</style>\n",
              "<table border=\"1\" class=\"dataframe\">\n",
              "  <thead>\n",
              "    <tr style=\"text-align: right;\">\n",
              "      <th></th>\n",
              "      <th>cancer</th>\n",
              "      <th>population</th>\n",
              "    </tr>\n",
              "  </thead>\n",
              "  <tbody>\n",
              "    <tr>\n",
              "      <th>0</th>\n",
              "      <td>1.0</td>\n",
              "      <td>445.0</td>\n",
              "    </tr>\n",
              "    <tr>\n",
              "      <th>1</th>\n",
              "      <td>0.0</td>\n",
              "      <td>559.0</td>\n",
              "    </tr>\n",
              "    <tr>\n",
              "      <th>2</th>\n",
              "      <td>3.0</td>\n",
              "      <td>677.0</td>\n",
              "    </tr>\n",
              "    <tr>\n",
              "      <th>3</th>\n",
              "      <td>4.0</td>\n",
              "      <td>681.0</td>\n",
              "    </tr>\n",
              "    <tr>\n",
              "      <th>4</th>\n",
              "      <td>3.0</td>\n",
              "      <td>746.0</td>\n",
              "    </tr>\n",
              "  </tbody>\n",
              "</table>\n",
              "</div>\n",
              "      <button class=\"colab-df-convert\" onclick=\"convertToInteractive('df-94eb7211-df23-496c-a1f6-f73d53111b61')\"\n",
              "              title=\"Convert this dataframe to an interactive table.\"\n",
              "              style=\"display:none;\">\n",
              "        \n",
              "  <svg xmlns=\"http://www.w3.org/2000/svg\" height=\"24px\"viewBox=\"0 0 24 24\"\n",
              "       width=\"24px\">\n",
              "    <path d=\"M0 0h24v24H0V0z\" fill=\"none\"/>\n",
              "    <path d=\"M18.56 5.44l.94 2.06.94-2.06 2.06-.94-2.06-.94-.94-2.06-.94 2.06-2.06.94zm-11 1L8.5 8.5l.94-2.06 2.06-.94-2.06-.94L8.5 2.5l-.94 2.06-2.06.94zm10 10l.94 2.06.94-2.06 2.06-.94-2.06-.94-.94-2.06-.94 2.06-2.06.94z\"/><path d=\"M17.41 7.96l-1.37-1.37c-.4-.4-.92-.59-1.43-.59-.52 0-1.04.2-1.43.59L10.3 9.45l-7.72 7.72c-.78.78-.78 2.05 0 2.83L4 21.41c.39.39.9.59 1.41.59.51 0 1.02-.2 1.41-.59l7.78-7.78 2.81-2.81c.8-.78.8-2.07 0-2.86zM5.41 20L4 18.59l7.72-7.72 1.47 1.35L5.41 20z\"/>\n",
              "  </svg>\n",
              "      </button>\n",
              "      \n",
              "  <style>\n",
              "    .colab-df-container {\n",
              "      display:flex;\n",
              "      flex-wrap:wrap;\n",
              "      gap: 12px;\n",
              "    }\n",
              "\n",
              "    .colab-df-convert {\n",
              "      background-color: #E8F0FE;\n",
              "      border: none;\n",
              "      border-radius: 50%;\n",
              "      cursor: pointer;\n",
              "      display: none;\n",
              "      fill: #1967D2;\n",
              "      height: 32px;\n",
              "      padding: 0 0 0 0;\n",
              "      width: 32px;\n",
              "    }\n",
              "\n",
              "    .colab-df-convert:hover {\n",
              "      background-color: #E2EBFA;\n",
              "      box-shadow: 0px 1px 2px rgba(60, 64, 67, 0.3), 0px 1px 3px 1px rgba(60, 64, 67, 0.15);\n",
              "      fill: #174EA6;\n",
              "    }\n",
              "\n",
              "    [theme=dark] .colab-df-convert {\n",
              "      background-color: #3B4455;\n",
              "      fill: #D2E3FC;\n",
              "    }\n",
              "\n",
              "    [theme=dark] .colab-df-convert:hover {\n",
              "      background-color: #434B5C;\n",
              "      box-shadow: 0px 1px 3px 1px rgba(0, 0, 0, 0.15);\n",
              "      filter: drop-shadow(0px 1px 2px rgba(0, 0, 0, 0.3));\n",
              "      fill: #FFFFFF;\n",
              "    }\n",
              "  </style>\n",
              "\n",
              "      <script>\n",
              "        const buttonEl =\n",
              "          document.querySelector('#df-94eb7211-df23-496c-a1f6-f73d53111b61 button.colab-df-convert');\n",
              "        buttonEl.style.display =\n",
              "          google.colab.kernel.accessAllowed ? 'block' : 'none';\n",
              "\n",
              "        async function convertToInteractive(key) {\n",
              "          const element = document.querySelector('#df-94eb7211-df23-496c-a1f6-f73d53111b61');\n",
              "          const dataTable =\n",
              "            await google.colab.kernel.invokeFunction('convertToInteractive',\n",
              "                                                     [key], {});\n",
              "          if (!dataTable) return;\n",
              "\n",
              "          const docLinkHtml = 'Like what you see? Visit the ' +\n",
              "            '<a target=\"_blank\" href=https://colab.research.google.com/notebooks/data_table.ipynb>data table notebook</a>'\n",
              "            + ' to learn more about interactive tables.';\n",
              "          element.innerHTML = '';\n",
              "          dataTable['output_type'] = 'display_data';\n",
              "          await google.colab.output.renderOutput(dataTable, element);\n",
              "          const docLink = document.createElement('div');\n",
              "          docLink.innerHTML = docLinkHtml;\n",
              "          element.appendChild(docLink);\n",
              "        }\n",
              "      </script>\n",
              "    </div>\n",
              "  </div>\n",
              "  "
            ]
          },
          "metadata": {},
          "execution_count": 7
        }
      ],
      "source": [
        "cancer.data.head()"
      ]
    },
    {
      "cell_type": "code",
      "execution_count": null,
      "metadata": {
        "id": "Y28XWkSvWEKP"
      },
      "outputs": [],
      "source": [
        "# Pobieranie zbiorow danych z R"
      ]
    },
    {
      "cell_type": "code",
      "execution_count": 8,
      "metadata": {
        "scrolled": true,
        "id": "RDLN7G6QWEKP"
      },
      "outputs": [],
      "source": [
        "carseats = sm.datasets.get_rdataset(dataname=\"Carseats\", package=\"ISLR\", cache=True)"
      ]
    },
    {
      "cell_type": "code",
      "execution_count": 9,
      "metadata": {
        "id": "yH3ww6g1WEKP",
        "outputId": "63b55595-be08-4b0f-84b5-1d0e5bcc3d9f",
        "colab": {
          "base_uri": "https://localhost:8080/"
        }
      },
      "outputs": [
        {
          "output_type": "stream",
          "name": "stdout",
          "text": [
            ".. container::\n",
            "\n",
            "   ======== ===============\n",
            "   Carseats R Documentation\n",
            "   ======== ===============\n",
            "\n",
            "   .. rubric:: Sales of Child Car Seats\n",
            "      :name: sales-of-child-car-seats\n",
            "\n",
            "   .. rubric:: Description\n",
            "      :name: description\n",
            "\n",
            "   A simulated data set containing sales of child car seats at 400\n",
            "   different stores.\n",
            "\n",
            "   .. rubric:: Usage\n",
            "      :name: usage\n",
            "\n",
            "   ::\n",
            "\n",
            "      Carseats\n",
            "\n",
            "   .. rubric:: Format\n",
            "      :name: format\n",
            "\n",
            "   A data frame with 400 observations on the following 11 variables.\n",
            "\n",
            "   ``Sales``\n",
            "      Unit sales (in thousands) at each location\n",
            "\n",
            "   ``CompPrice``\n",
            "      Price charged by competitor at each location\n",
            "\n",
            "   ``Income``\n",
            "      Community income level (in thousands of dollars)\n",
            "\n",
            "   ``Advertising``\n",
            "      Local advertising budget for company at each location (in\n",
            "      thousands of dollars)\n",
            "\n",
            "   ``Population``\n",
            "      Population size in region (in thousands)\n",
            "\n",
            "   ``Price``\n",
            "      Price company charges for car seats at each site\n",
            "\n",
            "   ``ShelveLoc``\n",
            "      A factor with levels ``Bad``, ``Good`` and ``Medium`` indicating\n",
            "      the quality of the shelving location for the car seats at each\n",
            "      site\n",
            "\n",
            "   ``Age``\n",
            "      Average age of the local population\n",
            "\n",
            "   ``Education``\n",
            "      Education level at each location\n",
            "\n",
            "   ``Urban``\n",
            "      A factor with levels ``No`` and ``Yes`` to indicate whether the\n",
            "      store is in an urban or rural location\n",
            "\n",
            "   ``US``\n",
            "      A factor with levels ``No`` and ``Yes`` to indicate whether the\n",
            "      store is in the US or not\n",
            "\n",
            "   .. rubric:: Source\n",
            "      :name: source\n",
            "\n",
            "   Simulated data\n",
            "\n",
            "   .. rubric:: References\n",
            "      :name: references\n",
            "\n",
            "   James, G., Witten, D., Hastie, T., and Tibshirani, R. (2013) *An\n",
            "   Introduction to Statistical Learning with applications in R*,\n",
            "   https://www.statlearning.com, Springer-Verlag, New York\n",
            "\n",
            "   .. rubric:: Examples\n",
            "      :name: examples\n",
            "\n",
            "   ::\n",
            "\n",
            "      summary(Carseats)\n",
            "      lm.fit=lm(Sales~Advertising+Price,data=Carseats)\n",
            "\n"
          ]
        }
      ],
      "source": [
        "#opis\n",
        "print(carseats.__doc__)"
      ]
    },
    {
      "cell_type": "markdown",
      "metadata": {
        "id": "3BUFfPfPWEKK"
      },
      "source": [
        "# Zadanie 1\n",
        "\n",
        "Wczytaj zbiór `Carseats`, który zawierają dane o sprzedaży fotelików samochodowych pewnej firmy w 400 różnych lokalizacjach:\n",
        "\n",
        "• sprzedaż jednostek (w tysiącach) w danej lokalizacji (`Sales`),\n",
        "\n",
        "• cena sprzedaży konkurenta w danej lokalizacji (`CompPrice`),\n",
        "\n",
        "• poziom dochodów społeczności wdanej lokalizacji w tys. dolarów (`Income`),\n",
        "\n",
        "• wielkość populacji w danym regionie (`Population`),\n",
        "\n",
        "• lokalny budżet reklamowy dla firmy w danej lokalizacji (`Advertising`),\n",
        "\n",
        "• cena sprzedaży w danej lokalizacji (`Price`),\n",
        "\n",
        "• na ile korzystne jest miejsce na półkach sklepu dla fotelików w danym regionie?\n",
        "(`Shelveloc`),\n",
        "\n",
        "• średni wiek ludności lokalnej (`Age`),\n",
        "\n",
        "• poziom wykształcenia w każdej lokalizacji (`Education`),\n",
        "\n",
        "• czy położenie sklepu jest w lokalizacji miejskiej? (`Urban`)\n",
        "\n",
        "• czy sklep znajduje się w USA? (`US`)"
      ]
    },
    {
      "cell_type": "markdown",
      "metadata": {
        "id": "xBvDcm3nWEKL"
      },
      "source": [
        "1. Interesuje nas zależność wielkości sprzedaży fotelików samochodowych (w tys. jednostek) od ich ceny sprzedaży (zmienne `Sales` i `Price`). Określ zmienną zależną i niezależną, a następnie:\n",
        "* Narysuj wykres rozproszenia tych zmiennych. \n",
        "* Czy zmienne te są zależne? \n",
        "* Oblicz dla nich współczynnik korelacji Pearsona. \n",
        "       \n",
        "2. Wyznacz funkcję regresji wielkości sprzedaży fotelików względem ich ceny. Narysuj ją na wykresie rozproszenia.\n",
        "\n",
        "3. Zweryfikuj dopasowanie modelu:\n",
        "       a) Czy istnieje związek pomiędzy zmienną zależną a niezależną?\n",
        "       b) Czy wyraz wolny jest istotny w modelu?\n",
        "       c) Oblicz i zinterpretuj wartość współczynnika determinacji R2.\n",
        "       d) Sprawdź, czy spełnione jest założenie o rozkładzie normalnym reszt.\n",
        "       \n",
        "4. Powtórz punkty 1-3 dla zależności wielkości sprzedaży fotelików samochodowych (w tys. jednostek) od ich ceny sprzedaży u konkurenta w danej lokalizacji (zmienne `Sales` i `CompPrice`)."
      ]
    },
    {
      "cell_type": "code",
      "source": [
        "#1\n",
        "#Zależna Sales, niezależna Price \n",
        "carseats_df = carseats.data\n",
        "plt.scatter(carseats_df.Price,carseats_df.Sales)\n",
        "plt.plot()\n",
        "#jest zależność liniowa"
      ],
      "metadata": {
        "colab": {
          "base_uri": "https://localhost:8080/",
          "height": 282
        },
        "id": "qvQ4J0005ikI",
        "outputId": "01ba816d-92b6-442d-8391-0e46719fbe8e"
      },
      "execution_count": 14,
      "outputs": [
        {
          "output_type": "execute_result",
          "data": {
            "text/plain": [
              "[]"
            ]
          },
          "metadata": {},
          "execution_count": 14
        },
        {
          "output_type": "display_data",
          "data": {
            "text/plain": [
              "<Figure size 432x288 with 1 Axes>"
            ],
            "image/png": "[encoded data removed]"
          },
          "metadata": {
            "needs_background": "light"
          }
        }
      ]
    },
    {
      "cell_type": "code",
      "source": [
        "#korelacja pearsonowska\n",
        "np.corrcoef(carseats_df.Price,carseats_df.Sales)[0,1]"
      ],
      "metadata": {
        "colab": {
          "base_uri": "https://localhost:8080/"
        },
        "id": "UjsSa6Pg6ga-",
        "outputId": "722cc65a-630a-41fa-a7ee-e0849094156a"
      },
      "execution_count": 15,
      "outputs": [
        {
          "output_type": "execute_result",
          "data": {
            "text/plain": [
              "-0.44495072784657264"
            ]
          },
          "metadata": {},
          "execution_count": 15
        }
      ]
    },
    {
      "cell_type": "code",
      "source": [
        "#Jak dopasować model do danych?\n",
        "#metoda1\n",
        "model = smf.ols('Sales~Price',data = carseats_df)\n",
        "fitted_model = model.fit()\n",
        "fitted_model.summary()"
      ],
      "metadata": {
        "colab": {
          "base_uri": "https://localhost:8080/",
          "height": 451
        },
        "id": "ZH4dznJs6zNq",
        "outputId": "12c1e7c4-539a-4ea5-e77c-029cd352795a"
      },
      "execution_count": 16,
      "outputs": [
        {
          "output_type": "execute_result",
          "data": {
            "text/plain": [
              "<class 'statsmodels.iolib.summary.Summary'>\n",
              "\"\"\"\n",
              "                            OLS Regression Results                            \n",
              "==============================================================================\n",
              "Dep. Variable:                  Sales   R-squared:                       0.198\n",
              "Model:                            OLS   Adj. R-squared:                  0.196\n",
              "Method:                 Least Squares   F-statistic:                     98.25\n",
              "Date:                Wed, 08 Jun 2022   Prob (F-statistic):           7.62e-21\n",
              "Time:                        15:25:08   Log-Likelihood:                -938.23\n",
              "No. Observations:                 400   AIC:                             1880.\n",
              "Df Residuals:                     398   BIC:                             1888.\n",
              "Df Model:                           1                                         \n",
              "Covariance Type:            nonrobust                                         \n",
              "==============================================================================\n",
              "                 coef    std err          t      P>|t|      [0.025      0.975]\n",
              "------------------------------------------------------------------------------\n",
              "Intercept     13.6419      0.633     21.558      0.000      12.398      14.886\n",
              "Price         -0.0531      0.005     -9.912      0.000      -0.064      -0.043\n",
              "==============================================================================\n",
              "Omnibus:                        2.537   Durbin-Watson:                   1.892\n",
              "Prob(Omnibus):                  0.281   Jarque-Bera (JB):                2.611\n",
              "Skew:                           0.175   Prob(JB):                        0.271\n",
              "Kurtosis:                       2.816   Cond. No.                         591.\n",
              "==============================================================================\n",
              "\n",
              "Warnings:\n",
              "[1] Standard Errors assume that the covariance matrix of the errors is correctly specified.\n",
              "\"\"\""
            ],
            "text/html": [
              "<table class=\"simpletable\">\n",
              "<caption>OLS Regression Results</caption>\n",
              "<tr>\n",
              "  <th>Dep. Variable:</th>          <td>Sales</td>      <th>  R-squared:         </th> <td>   0.198</td>\n",
              "</tr>\n",
              "<tr>\n",
              "  <th>Model:</th>                   <td>OLS</td>       <th>  Adj. R-squared:    </th> <td>   0.196</td>\n",
              "</tr>\n",
              "<tr>\n",
              "  <th>Method:</th>             <td>Least Squares</td>  <th>  F-statistic:       </th> <td>   98.25</td>\n",
              "</tr>\n",
              "<tr>\n",
              "  <th>Date:</th>             <td>Wed, 08 Jun 2022</td> <th>  Prob (F-statistic):</th> <td>7.62e-21</td>\n",
              "</tr>\n",
              "<tr>\n",
              "  <th>Time:</th>                 <td>15:25:08</td>     <th>  Log-Likelihood:    </th> <td> -938.23</td>\n",
              "</tr>\n",
              "<tr>\n",
              "  <th>No. Observations:</th>      <td>   400</td>      <th>  AIC:               </th> <td>   1880.</td>\n",
              "</tr>\n",
              "<tr>\n",
              "  <th>Df Residuals:</th>          <td>   398</td>      <th>  BIC:               </th> <td>   1888.</td>\n",
              "</tr>\n",
              "<tr>\n",
              "  <th>Df Model:</th>              <td>     1</td>      <th>                     </th>     <td> </td>   \n",
              "</tr>\n",
              "<tr>\n",
              "  <th>Covariance Type:</th>      <td>nonrobust</td>    <th>                     </th>     <td> </td>   \n",
              "</tr>\n",
              "</table>\n",
              "<table class=\"simpletable\">\n",
              "<tr>\n",
              "      <td></td>         <th>coef</th>     <th>std err</th>      <th>t</th>      <th>P>|t|</th>  <th>[0.025</th>    <th>0.975]</th>  \n",
              "</tr>\n",
              "<tr>\n",
              "  <th>Intercept</th> <td>   13.6419</td> <td>    0.633</td> <td>   21.558</td> <td> 0.000</td> <td>   12.398</td> <td>   14.886</td>\n",
              "</tr>\n",
              "<tr>\n",
              "  <th>Price</th>     <td>   -0.0531</td> <td>    0.005</td> <td>   -9.912</td> <td> 0.000</td> <td>   -0.064</td> <td>   -0.043</td>\n",
              "</tr>\n",
              "</table>\n",
              "<table class=\"simpletable\">\n",
              "<tr>\n",
              "  <th>Omnibus:</th>       <td> 2.537</td> <th>  Durbin-Watson:     </th> <td>   1.892</td>\n",
              "</tr>\n",
              "<tr>\n",
              "  <th>Prob(Omnibus):</th> <td> 0.281</td> <th>  Jarque-Bera (JB):  </th> <td>   2.611</td>\n",
              "</tr>\n",
              "<tr>\n",
              "  <th>Skew:</th>          <td> 0.175</td> <th>  Prob(JB):          </th> <td>   0.271</td>\n",
              "</tr>\n",
              "<tr>\n",
              "  <th>Kurtosis:</th>      <td> 2.816</td> <th>  Cond. No.          </th> <td>    591.</td>\n",
              "</tr>\n",
              "</table><br/><br/>Warnings:<br/>[1] Standard Errors assume that the covariance matrix of the errors is correctly specified."
            ]
          },
          "metadata": {},
          "execution_count": 16
        }
      ]
    },
    {
      "cell_type": "code",
      "source": [
        "#metoda2\n",
        "carseats_df2 = sm.add_constant(carseats.data,prepend = True,has_constant = \"add\")\n",
        "carseats_df2\n",
        "\n",
        "X,Y = carseats_df2[['const','Price']],carseats_df2['Sales']\n",
        "model2 = sm.OLS(endog = Y,exog = X)\n",
        "fitted_model2 = model2.fit()\n",
        "fitted_model2.summary()"
      ],
      "metadata": {
        "colab": {
          "base_uri": "https://localhost:8080/",
          "height": 506
        },
        "id": "SPdTAvG17nr-",
        "outputId": "7204e21e-c400-4aab-ac61-d9375586fb01"
      },
      "execution_count": 17,
      "outputs": [
        {
          "output_type": "stream",
          "name": "stderr",
          "text": [
            "/usr/local/lib/python3.7/dist-packages/statsmodels/tsa/tsatools.py:117: FutureWarning: In a future version of pandas all arguments of concat except for the argument 'objs' will be keyword-only\n",
            "  x = pd.concat(x[::order], 1)\n"
          ]
        },
        {
          "output_type": "execute_result",
          "data": {
            "text/plain": [
              "<class 'statsmodels.iolib.summary.Summary'>\n",
              "\"\"\"\n",
              "                            OLS Regression Results                            \n",
              "==============================================================================\n",
              "Dep. Variable:                  Sales   R-squared:                       0.198\n",
              "Model:                            OLS   Adj. R-squared:                  0.196\n",
              "Method:                 Least Squares   F-statistic:                     98.25\n",
              "Date:                Wed, 08 Jun 2022   Prob (F-statistic):           7.62e-21\n",
              "Time:                        15:25:11   Log-Likelihood:                -938.23\n",
              "No. Observations:                 400   AIC:                             1880.\n",
              "Df Residuals:                     398   BIC:                             1888.\n",
              "Df Model:                           1                                         \n",
              "Covariance Type:            nonrobust                                         \n",
              "==============================================================================\n",
              "                 coef    std err          t      P>|t|      [0.025      0.975]\n",
              "------------------------------------------------------------------------------\n",
              "const         13.6419      0.633     21.558      0.000      12.398      14.886\n",
              "Price         -0.0531      0.005     -9.912      0.000      -0.064      -0.043\n",
              "==============================================================================\n",
              "Omnibus:                        2.537   Durbin-Watson:                   1.892\n",
              "Prob(Omnibus):                  0.281   Jarque-Bera (JB):                2.611\n",
              "Skew:                           0.175   Prob(JB):                        0.271\n",
              "Kurtosis:                       2.816   Cond. No.                         591.\n",
              "==============================================================================\n",
              "\n",
              "Warnings:\n",
              "[1] Standard Errors assume that the covariance matrix of the errors is correctly specified.\n",
              "\"\"\""
            ],
            "text/html": [
              "<table class=\"simpletable\">\n",
              "<caption>OLS Regression Results</caption>\n",
              "<tr>\n",
              "  <th>Dep. Variable:</th>          <td>Sales</td>      <th>  R-squared:         </th> <td>   0.198</td>\n",
              "</tr>\n",
              "<tr>\n",
              "  <th>Model:</th>                   <td>OLS</td>       <th>  Adj. R-squared:    </th> <td>   0.196</td>\n",
              "</tr>\n",
              "<tr>\n",
              "  <th>Method:</th>             <td>Least Squares</td>  <th>  F-statistic:       </th> <td>   98.25</td>\n",
              "</tr>\n",
              "<tr>\n",
              "  <th>Date:</th>             <td>Wed, 08 Jun 2022</td> <th>  Prob (F-statistic):</th> <td>7.62e-21</td>\n",
              "</tr>\n",
              "<tr>\n",
              "  <th>Time:</th>                 <td>15:25:11</td>     <th>  Log-Likelihood:    </th> <td> -938.23</td>\n",
              "</tr>\n",
              "<tr>\n",
              "  <th>No. Observations:</th>      <td>   400</td>      <th>  AIC:               </th> <td>   1880.</td>\n",
              "</tr>\n",
              "<tr>\n",
              "  <th>Df Residuals:</th>          <td>   398</td>      <th>  BIC:               </th> <td>   1888.</td>\n",
              "</tr>\n",
              "<tr>\n",
              "  <th>Df Model:</th>              <td>     1</td>      <th>                     </th>     <td> </td>   \n",
              "</tr>\n",
              "<tr>\n",
              "  <th>Covariance Type:</th>      <td>nonrobust</td>    <th>                     </th>     <td> </td>   \n",
              "</tr>\n",
              "</table>\n",
              "<table class=\"simpletable\">\n",
              "<tr>\n",
              "    <td></td>       <th>coef</th>     <th>std err</th>      <th>t</th>      <th>P>|t|</th>  <th>[0.025</th>    <th>0.975]</th>  \n",
              "</tr>\n",
              "<tr>\n",
              "  <th>const</th> <td>   13.6419</td> <td>    0.633</td> <td>   21.558</td> <td> 0.000</td> <td>   12.398</td> <td>   14.886</td>\n",
              "</tr>\n",
              "<tr>\n",
              "  <th>Price</th> <td>   -0.0531</td> <td>    0.005</td> <td>   -9.912</td> <td> 0.000</td> <td>   -0.064</td> <td>   -0.043</td>\n",
              "</tr>\n",
              "</table>\n",
              "<table class=\"simpletable\">\n",
              "<tr>\n",
              "  <th>Omnibus:</th>       <td> 2.537</td> <th>  Durbin-Watson:     </th> <td>   1.892</td>\n",
              "</tr>\n",
              "<tr>\n",
              "  <th>Prob(Omnibus):</th> <td> 0.281</td> <th>  Jarque-Bera (JB):  </th> <td>   2.611</td>\n",
              "</tr>\n",
              "<tr>\n",
              "  <th>Skew:</th>          <td> 0.175</td> <th>  Prob(JB):          </th> <td>   0.271</td>\n",
              "</tr>\n",
              "<tr>\n",
              "  <th>Kurtosis:</th>      <td> 2.816</td> <th>  Cond. No.          </th> <td>    591.</td>\n",
              "</tr>\n",
              "</table><br/><br/>Warnings:<br/>[1] Standard Errors assume that the covariance matrix of the errors is correctly specified."
            ]
          },
          "metadata": {},
          "execution_count": 17
        }
      ]
    },
    {
      "cell_type": "code",
      "source": [
        "#metoda 3\n",
        "Y,X = dmatrices('Sales~Price',data = carseats_df,return_type='dataframe')\n",
        "print(Y)\n",
        "print(X)\n",
        "model3 = sm.OLS(endog = Y,exog = X)\n",
        "fitted_model3 = model3.fit()\n",
        "fitted_model3.summary()"
      ],
      "metadata": {
        "colab": {
          "base_uri": "https://localhost:8080/",
          "height": 937
        },
        "id": "VfOG3cXP8beg",
        "outputId": "7fda191a-4ec2-4553-ef3c-0ee663742b21"
      },
      "execution_count": 18,
      "outputs": [
        {
          "output_type": "stream",
          "name": "stdout",
          "text": [
            "     Sales\n",
            "0     9.50\n",
            "1    11.22\n",
            "2    10.06\n",
            "3     7.40\n",
            "4     4.15\n",
            "..     ...\n",
            "395  12.57\n",
            "396   6.14\n",
            "397   7.41\n",
            "398   5.94\n",
            "399   9.71\n",
            "\n",
            "[400 rows x 1 columns]\n",
            "     Intercept  Price\n",
            "0          1.0  120.0\n",
            "1          1.0   83.0\n",
            "2          1.0   80.0\n",
            "3          1.0   97.0\n",
            "4          1.0  128.0\n",
            "..         ...    ...\n",
            "395        1.0  128.0\n",
            "396        1.0  120.0\n",
            "397        1.0  159.0\n",
            "398        1.0   95.0\n",
            "399        1.0  120.0\n",
            "\n",
            "[400 rows x 2 columns]\n"
          ]
        },
        {
          "output_type": "execute_result",
          "data": {
            "text/plain": [
              "<class 'statsmodels.iolib.summary.Summary'>\n",
              "\"\"\"\n",
              "                            OLS Regression Results                            \n",
              "==============================================================================\n",
              "Dep. Variable:                  Sales   R-squared:                       0.198\n",
              "Model:                            OLS   Adj. R-squared:                  0.196\n",
              "Method:                 Least Squares   F-statistic:                     98.25\n",
              "Date:                Wed, 08 Jun 2022   Prob (F-statistic):           7.62e-21\n",
              "Time:                        15:25:14   Log-Likelihood:                -938.23\n",
              "No. Observations:                 400   AIC:                             1880.\n",
              "Df Residuals:                     398   BIC:                             1888.\n",
              "Df Model:                           1                                         \n",
              "Covariance Type:            nonrobust                                         \n",
              "==============================================================================\n",
              "                 coef    std err          t      P>|t|      [0.025      0.975]\n",
              "------------------------------------------------------------------------------\n",
              "Intercept     13.6419      0.633     21.558      0.000      12.398      14.886\n",
              "Price         -0.0531      0.005     -9.912      0.000      -0.064      -0.043\n",
              "==============================================================================\n",
              "Omnibus:                        2.537   Durbin-Watson:                   1.892\n",
              "Prob(Omnibus):                  0.281   Jarque-Bera (JB):                2.611\n",
              "Skew:                           0.175   Prob(JB):                        0.271\n",
              "Kurtosis:                       2.816   Cond. No.                         591.\n",
              "==============================================================================\n",
              "\n",
              "Warnings:\n",
              "[1] Standard Errors assume that the covariance matrix of the errors is correctly specified.\n",
              "\"\"\""
            ],
            "text/html": [
              "<table class=\"simpletable\">\n",
              "<caption>OLS Regression Results</caption>\n",
              "<tr>\n",
              "  <th>Dep. Variable:</th>          <td>Sales</td>      <th>  R-squared:         </th> <td>   0.198</td>\n",
              "</tr>\n",
              "<tr>\n",
              "  <th>Model:</th>                   <td>OLS</td>       <th>  Adj. R-squared:    </th> <td>   0.196</td>\n",
              "</tr>\n",
              "<tr>\n",
              "  <th>Method:</th>             <td>Least Squares</td>  <th>  F-statistic:       </th> <td>   98.25</td>\n",
              "</tr>\n",
              "<tr>\n",
              "  <th>Date:</th>             <td>Wed, 08 Jun 2022</td> <th>  Prob (F-statistic):</th> <td>7.62e-21</td>\n",
              "</tr>\n",
              "<tr>\n",
              "  <th>Time:</th>                 <td>15:25:14</td>     <th>  Log-Likelihood:    </th> <td> -938.23</td>\n",
              "</tr>\n",
              "<tr>\n",
              "  <th>No. Observations:</th>      <td>   400</td>      <th>  AIC:               </th> <td>   1880.</td>\n",
              "</tr>\n",
              "<tr>\n",
              "  <th>Df Residuals:</th>          <td>   398</td>      <th>  BIC:               </th> <td>   1888.</td>\n",
              "</tr>\n",
              "<tr>\n",
              "  <th>Df Model:</th>              <td>     1</td>      <th>                     </th>     <td> </td>   \n",
              "</tr>\n",
              "<tr>\n",
              "  <th>Covariance Type:</th>      <td>nonrobust</td>    <th>                     </th>     <td> </td>   \n",
              "</tr>\n",
              "</table>\n",
              "<table class=\"simpletable\">\n",
              "<tr>\n",
              "      <td></td>         <th>coef</th>     <th>std err</th>      <th>t</th>      <th>P>|t|</th>  <th>[0.025</th>    <th>0.975]</th>  \n",
              "</tr>\n",
              "<tr>\n",
              "  <th>Intercept</th> <td>   13.6419</td> <td>    0.633</td> <td>   21.558</td> <td> 0.000</td> <td>   12.398</td> <td>   14.886</td>\n",
              "</tr>\n",
              "<tr>\n",
              "  <th>Price</th>     <td>   -0.0531</td> <td>    0.005</td> <td>   -9.912</td> <td> 0.000</td> <td>   -0.064</td> <td>   -0.043</td>\n",
              "</tr>\n",
              "</table>\n",
              "<table class=\"simpletable\">\n",
              "<tr>\n",
              "  <th>Omnibus:</th>       <td> 2.537</td> <th>  Durbin-Watson:     </th> <td>   1.892</td>\n",
              "</tr>\n",
              "<tr>\n",
              "  <th>Prob(Omnibus):</th> <td> 0.281</td> <th>  Jarque-Bera (JB):  </th> <td>   2.611</td>\n",
              "</tr>\n",
              "<tr>\n",
              "  <th>Skew:</th>          <td> 0.175</td> <th>  Prob(JB):          </th> <td>   0.271</td>\n",
              "</tr>\n",
              "<tr>\n",
              "  <th>Kurtosis:</th>      <td> 2.816</td> <th>  Cond. No.          </th> <td>    591.</td>\n",
              "</tr>\n",
              "</table><br/><br/>Warnings:<br/>[1] Standard Errors assume that the covariance matrix of the errors is correctly specified."
            ]
          },
          "metadata": {},
          "execution_count": 18
        }
      ]
    },
    {
      "cell_type": "code",
      "source": [
        "#Jak wyciągać poszczególne informacje z summary?\n",
        "print(\"Liczba obserwacji w zbiorze treningowym (No. Observations): {}\".format(model3.nobs))\n",
        "print(\"\\n\")\n",
        "\n",
        "print(\"Liczba stopni swobody (Df Residuals): {}\".format(model3.df_resid))\n",
        "print(\"Liczba stopni swobody w modelu (Df Model): {}\".format(model3.df_model))\n",
        "print(\"\\n\")\n",
        "\n",
        "print(\"Współczynnik determinacji R2 (R-squared): {}\".format(fitted_model3.rsquared))\n",
        "print(\"Modyfikowany współczynnik determinacji R2 (Adj. R-squared): {}\".format(fitted_model3.rsquared_adj))\n",
        "print(\"\\n\")\n",
        "\n",
        "print(\"Wartość statystyki testowej testu F (F-statistic): {}\".format(fitted_model3.fvalue))\n",
        "print(\"P-wartość testu F (Prob (F-statistic)): {}\".format(fitted_model3.f_pvalue))\n",
        "print(\"\\n\")\n",
        "\n",
        "print(\"Wartość funkcji wiarogodności (Log-Likelihood): {}\".format(fitted_model3.llf))\n",
        "print(\"AIC: {}\".format(fitted_model3.aic))\n",
        "print(\"BIC: {}\".format(fitted_model3.bic))\n",
        "print(\"\\n\")\n",
        "\n",
        "normaltest = stats.normaltest(fitted_model3.resid)\n",
        "print(\"Wartość statystyki testowej testu normalności D'Angostino (Omnibus): {}\". format(normaltest.statistic))\n",
        "print(\"P-wartość testu D'Angostino (Prob(Omnibus)): {}\".format(normaltest.pvalue))\n",
        "print(\"\\n\")\n",
        "\n",
        "print(\"Skośność (Skew): {}\".format(stats.skew(fitted_model3.resid)))\n",
        "print(\"Kurtoza (Kurtosis): {}\".format(stats.kurtosis(fitted_model3.resid, fisher = False, bias = True)))\n",
        "print(\"\\n\")\n",
        "\n",
        "normaltest2 = stats.jarque_bera(fitted_model3.resid)\n",
        "print(\"Wartość statystyki Durbina-Watsona: {}\".format(durbin_watson(fitted_model3.resid)))\n",
        "print(\"Wartość statystyki Jarque-Bera: {}\".format(normaltest2[0]))\n",
        "print(\"P-wartość testu Jarque-Bera: {}\".format(normaltest2[1]))\n",
        "print(\"Wskaźnik uwarunkowania (Cond. No): {}\".format(fitted_model3.condition_number))\n",
        "print(\"\\n\")\n",
        "\n",
        "print(\"Wartości dopasowanych wartości parametrów regresji:\")\n",
        "print(fitted_model3.params)\n",
        "print(\"\\n\")\n",
        "\n",
        "print(\"Odchylenie standardowe dla dopasowanych estymatorów parametrów regresji:\")\n",
        "print(fitted_model3.HC0_se)\n",
        "print(\"\\n\")\n",
        "\n",
        "print(\"Wartość statystki testu t-Studenta\")\n",
        "print(fitted_model3.tvalues)\n",
        "print(\"\\n\")\n",
        "\n",
        "print(\"P-wartości testu t-Studenta\")\n",
        "print(fitted_model3.pvalues)\n",
        "print(\"\\n\")\n",
        "\n",
        "print(\"Przedział ufności dla współczynnika regresji dla wyrazu wolnego:\")\n",
        "print(fitted_model3.conf_int_el(0))\n",
        "print(\"Przedział ufności dla współczynnika regresji dla zmiennej TV:\")\n",
        "print(fitted_model3.conf_int_el(1))"
      ],
      "metadata": {
        "id": "oQyEvqyJEopM",
        "colab": {
          "base_uri": "https://localhost:8080/"
        },
        "outputId": "5a0f7566-bd1a-40cb-9ced-0a6df394a590"
      },
      "execution_count": 28,
      "outputs": [
        {
          "output_type": "stream",
          "name": "stdout",
          "text": [
            "Liczba obserwacji w zbiorze treningowym (No. Observations): 400.0\n",
            "\n",
            "\n",
            "Liczba stopni swobody (Df Residuals): 398.0\n",
            "Liczba stopni swobody w modelu (Df Model): 1.0\n",
            "\n",
            "\n",
            "Współczynnik determinacji R2 (R-squared): 0.19798115021119478\n",
            "Modyfikowany współczynnik determinacji R2 (Adj. R-squared): 0.19596602747303193\n",
            "\n",
            "\n",
            "Wartość statystyki testowej testu F (F-statistic): 98.2476880746692\n",
            "P-wartość testu F (Prob (F-statistic)): 7.618187011915281e-21\n",
            "\n",
            "\n",
            "Wartość funkcji wiarogodności (Log-Likelihood): -938.2281770407974\n",
            "AIC: 1880.4563540815948\n",
            "BIC: 1888.4392831758107\n",
            "\n",
            "\n",
            "Wartość statystyki testowej testu normalności D'Angostino (Omnibus): 2.5367349805033097\n",
            "P-wartość testu D'Angostino (Prob(Omnibus)): 0.2812904565628028\n",
            "\n",
            "\n",
            "Skośność (Skew): 0.17508369947717364\n",
            "Kurtoza (Kurtosis): 2.8155126928300667\n",
            "\n",
            "\n",
            "Wartość statystyki Durbina-Watsona: 1.8922196901096124\n",
            "Wartość statystyki Jarque-Bera: 2.61087956328777\n",
            "P-wartość testu Jarque-Bera: 0.27105330456197174\n",
            "Wskaźnik uwarunkowania (Cond. No): 590.7132159165595\n",
            "\n",
            "\n",
            "Wartości dopasowanych wartości parametrów regresji:\n",
            "Intercept    13.641915\n",
            "Price        -0.053073\n",
            "dtype: float64\n",
            "\n",
            "\n",
            "Odchylenie standardowe dla dopasowanych estymatorów parametrów regresji:\n",
            "Intercept    0.626374\n",
            "Price        0.005263\n",
            "dtype: float64\n",
            "\n",
            "\n",
            "Wartość statystki testu t-Studenta\n",
            "Intercept    21.557620\n",
            "Price        -9.911997\n",
            "dtype: float64\n",
            "\n",
            "\n",
            "P-wartości testu t-Studenta\n",
            "Intercept    7.458712e-69\n",
            "Price        7.618187e-21\n",
            "dtype: float64\n",
            "\n",
            "\n",
            "Przedział ufności dla współczynnika regresji dla wyrazu wolnego:\n",
            "(12.4231612532819, 14.882307403293686)\n",
            "Przedział ufności dla współczynnika regresji dla zmiennej TV:\n",
            "(-0.06346255899899662, -0.04281687265396391)\n"
          ]
        }
      ]
    },
    {
      "cell_type": "markdown",
      "source": [
        "### Wykres rozproszenia $x$ vs. $y$ z wyznaczoną przez model prostą regresji $y=13.6419 - 0.0531 \\cdot x$"
      ],
      "metadata": {
        "id": "JHx9TtmA88jE"
      }
    },
    {
      "cell_type": "code",
      "source": [
        "#2\n",
        "plt.scatter(X.Price,Y.Sales)\n",
        "X_plot = np.linspace(0,200,200)\n",
        "#obojętnie czy weźmiemy model1 model2 czy model3 to są te same modele\n",
        "plt.plot(X_plot,X_plot*fitted_model2.params[1]+fitted_model2.params[0],color = 'red')\n",
        "plt.show()"
      ],
      "metadata": {
        "colab": {
          "base_uri": "https://localhost:8080/",
          "height": 265
        },
        "id": "tZ5zodtV83b9",
        "outputId": "c6d67334-1acb-4c5f-bcb5-a54813a1b2bd"
      },
      "execution_count": 20,
      "outputs": [
        {
          "output_type": "display_data",
          "data": {
            "text/plain": [
              "<Figure size 432x288 with 1 Axes>"
            ],
            "image/png": "[encoded data removed]"
          },
          "metadata": {
            "needs_background": "light"
          }
        }
      ]
    },
    {
      "cell_type": "code",
      "source": [
        "#3\n",
        "print(\"Wartość statystki testu t-Studenta\")\n",
        "print(fitted_model3.tvalues)\n",
        "print(\"\\n\")\n",
        "print(\"P-wartości testu t-Studenta\")\n",
        "print(fitted_model3.pvalues)\n",
        "print(\"\\n\")\n",
        "#obydwa blisko 0, jeśli pval małe to współczynnik istotny, więc intercept istotny (to mówi p-val intercepta) jak i jest \n",
        "#istotna zależność liniowa między zmienną niezależną i zależną (p-val Price, Price istotne w modelu)\n",
        "print(\"Współczynnik determinacji R2 (R-squared): {}\".format(fitted_model3.rsquared)) \n",
        "#może być od 0 do 1, im większy tym model lepiej dopasowany do danych, pod warunkiem, że są spełnione założenia modelu liniowego\n",
        "#z reguły jak jest niski to trzeba pomyśleć co można poprawić, jak wysoki to trzeba uważać czy na pewno mamy model liniowy\n",
        "print(\"\\n\")\n",
        "normaltest = stats.normaltest(fitted_model3.resid)\n",
        "print(\"Wartość statystyki testowej testu normalności D'Angostino (Omnibus): {}\". format(normaltest.statistic))\n",
        "print(\"P-wartość testu D'Angostino (Prob(Omnibus)): {}\".format(normaltest.pvalue))\n",
        "print(\"\\n\")\n",
        "normaltest2 = stats.jarque_bera(fitted_model3.resid)\n",
        "print(\"Wartość statystyki Jarque-Bera: {}\".format(normaltest2[0]))\n",
        "print(\"P-wartość testu Jarque-Bera: {}\".format(normaltest2[1]))\n",
        "#mamy normalność"
      ],
      "metadata": {
        "colab": {
          "base_uri": "https://localhost:8080/"
        },
        "id": "5L6vz0UB7OAS",
        "outputId": "15d79619-5d86-4650-a5c4-d6f86787198a"
      },
      "execution_count": 27,
      "outputs": [
        {
          "output_type": "stream",
          "name": "stdout",
          "text": [
            "Wartość statystki testu t-Studenta\n",
            "Intercept    21.557620\n",
            "Price        -9.911997\n",
            "dtype: float64\n",
            "\n",
            "\n",
            "P-wartości testu t-Studenta\n",
            "Intercept    7.458712e-69\n",
            "Price        7.618187e-21\n",
            "dtype: float64\n",
            "\n",
            "\n",
            "Współczynnik determinacji R2 (R-squared): 0.19798115021119478\n",
            "\n",
            "\n",
            "Wartość statystyki testowej testu normalności D'Angostino (Omnibus): 2.5367349805033097\n",
            "P-wartość testu D'Angostino (Prob(Omnibus)): 0.2812904565628028\n",
            "\n",
            "\n",
            "Wartość statystyki Jarque-Bera: 2.61087956328777\n",
            "P-wartość testu Jarque-Bera: 0.27105330456197174\n"
          ]
        }
      ]
    },
    {
      "cell_type": "code",
      "source": [
        "#4 Powtarzamy dla zmiennej Sales i CompPrice \n",
        "#Zależna Sales, niezależna CompPrice\n",
        "carseats_df = carseats.data\n",
        "plt.scatter(carseats_df.CompPrice,carseats_df.Sales)\n",
        "plt.plot()\n",
        "#brak zależności liniowej"
      ],
      "metadata": {
        "colab": {
          "base_uri": "https://localhost:8080/",
          "height": 282
        },
        "id": "rx7V11NR-Lfi",
        "outputId": "6b6d92be-b637-44a0-93e3-4fb141b99d3f"
      },
      "execution_count": 32,
      "outputs": [
        {
          "output_type": "execute_result",
          "data": {
            "text/plain": [
              "[]"
            ]
          },
          "metadata": {},
          "execution_count": 32
        },
        {
          "output_type": "display_data",
          "data": {
            "text/plain": [
              "<Figure size 432x288 with 1 Axes>"
            ],
            "image/png": "[encoded data removed]"
          },
          "metadata": {
            "needs_background": "light"
          }
        }
      ]
    },
    {
      "cell_type": "code",
      "source": [
        "#korelacja pearsonowska potwierdza brak zależności\n",
        "np.corrcoef(carseats_df.CompPrice,carseats_df.Sales)[0,1]"
      ],
      "metadata": {
        "colab": {
          "base_uri": "https://localhost:8080/"
        },
        "id": "GpDLYRB1AV9i",
        "outputId": "c1be3370-889b-43ed-d163-7170968c220d"
      },
      "execution_count": 33,
      "outputs": [
        {
          "output_type": "execute_result",
          "data": {
            "text/plain": [
              "0.06407872955062155"
            ]
          },
          "metadata": {},
          "execution_count": 33
        }
      ]
    },
    {
      "cell_type": "code",
      "source": [
        "Y,X = dmatrices('Sales~CompPrice',data = carseats_df,return_type='dataframe')\n",
        "model3new = sm.OLS(endog = Y,exog = X)\n",
        "fitted_model3new = model3new.fit()\n",
        "fitted_model3new.summary()"
      ],
      "metadata": {
        "colab": {
          "base_uri": "https://localhost:8080/",
          "height": 486
        },
        "id": "3hxASGNxAxGY",
        "outputId": "9c81ba34-5888-4422-bd1b-13305c3124c7"
      },
      "execution_count": 35,
      "outputs": [
        {
          "output_type": "execute_result",
          "data": {
            "text/plain": [
              "<class 'statsmodels.iolib.summary.Summary'>\n",
              "\"\"\"\n",
              "                            OLS Regression Results                            \n",
              "==============================================================================\n",
              "Dep. Variable:                  Sales   R-squared:                       0.004\n",
              "Model:                            OLS   Adj. R-squared:                  0.002\n",
              "Method:                 Least Squares   F-statistic:                     1.641\n",
              "Date:                Wed, 08 Jun 2022   Prob (F-statistic):              0.201\n",
              "Time:                        15:54:35   Log-Likelihood:                -981.53\n",
              "No. Observations:                 400   AIC:                             1967.\n",
              "Df Residuals:                     398   BIC:                             1975.\n",
              "Df Model:                           1                                         \n",
              "Covariance Type:            nonrobust                                         \n",
              "==============================================================================\n",
              "                 coef    std err          t      P>|t|      [0.025      0.975]\n",
              "------------------------------------------------------------------------------\n",
              "Intercept      6.0215      1.160      5.191      0.000       3.741       8.302\n",
              "CompPrice      0.0118      0.009      1.281      0.201      -0.006       0.030\n",
              "==============================================================================\n",
              "Omnibus:                        2.567   Durbin-Watson:                   1.904\n",
              "Prob(Omnibus):                  0.277   Jarque-Bera (JB):                2.625\n",
              "Skew:                           0.191   Prob(JB):                        0.269\n",
              "Kurtosis:                       2.892   Cond. No.                     1.04e+03\n",
              "==============================================================================\n",
              "\n",
              "Warnings:\n",
              "[1] Standard Errors assume that the covariance matrix of the errors is correctly specified.\n",
              "[2] The condition number is large, 1.04e+03. This might indicate that there are\n",
              "strong multicollinearity or other numerical problems.\n",
              "\"\"\""
            ],
            "text/html": [
              "<table class=\"simpletable\">\n",
              "<caption>OLS Regression Results</caption>\n",
              "<tr>\n",
              "  <th>Dep. Variable:</th>          <td>Sales</td>      <th>  R-squared:         </th> <td>   0.004</td>\n",
              "</tr>\n",
              "<tr>\n",
              "  <th>Model:</th>                   <td>OLS</td>       <th>  Adj. R-squared:    </th> <td>   0.002</td>\n",
              "</tr>\n",
              "<tr>\n",
              "  <th>Method:</th>             <td>Least Squares</td>  <th>  F-statistic:       </th> <td>   1.641</td>\n",
              "</tr>\n",
              "<tr>\n",
              "  <th>Date:</th>             <td>Wed, 08 Jun 2022</td> <th>  Prob (F-statistic):</th>  <td> 0.201</td> \n",
              "</tr>\n",
              "<tr>\n",
              "  <th>Time:</th>                 <td>15:54:35</td>     <th>  Log-Likelihood:    </th> <td> -981.53</td>\n",
              "</tr>\n",
              "<tr>\n",
              "  <th>No. Observations:</th>      <td>   400</td>      <th>  AIC:               </th> <td>   1967.</td>\n",
              "</tr>\n",
              "<tr>\n",
              "  <th>Df Residuals:</th>          <td>   398</td>      <th>  BIC:               </th> <td>   1975.</td>\n",
              "</tr>\n",
              "<tr>\n",
              "  <th>Df Model:</th>              <td>     1</td>      <th>                     </th>     <td> </td>   \n",
              "</tr>\n",
              "<tr>\n",
              "  <th>Covariance Type:</th>      <td>nonrobust</td>    <th>                     </th>     <td> </td>   \n",
              "</tr>\n",
              "</table>\n",
              "<table class=\"simpletable\">\n",
              "<tr>\n",
              "      <td></td>         <th>coef</th>     <th>std err</th>      <th>t</th>      <th>P>|t|</th>  <th>[0.025</th>    <th>0.975]</th>  \n",
              "</tr>\n",
              "<tr>\n",
              "  <th>Intercept</th> <td>    6.0215</td> <td>    1.160</td> <td>    5.191</td> <td> 0.000</td> <td>    3.741</td> <td>    8.302</td>\n",
              "</tr>\n",
              "<tr>\n",
              "  <th>CompPrice</th> <td>    0.0118</td> <td>    0.009</td> <td>    1.281</td> <td> 0.201</td> <td>   -0.006</td> <td>    0.030</td>\n",
              "</tr>\n",
              "</table>\n",
              "<table class=\"simpletable\">\n",
              "<tr>\n",
              "  <th>Omnibus:</th>       <td> 2.567</td> <th>  Durbin-Watson:     </th> <td>   1.904</td>\n",
              "</tr>\n",
              "<tr>\n",
              "  <th>Prob(Omnibus):</th> <td> 0.277</td> <th>  Jarque-Bera (JB):  </th> <td>   2.625</td>\n",
              "</tr>\n",
              "<tr>\n",
              "  <th>Skew:</th>          <td> 0.191</td> <th>  Prob(JB):          </th> <td>   0.269</td>\n",
              "</tr>\n",
              "<tr>\n",
              "  <th>Kurtosis:</th>      <td> 2.892</td> <th>  Cond. No.          </th> <td>1.04e+03</td>\n",
              "</tr>\n",
              "</table><br/><br/>Warnings:<br/>[1] Standard Errors assume that the covariance matrix of the errors is correctly specified.<br/>[2] The condition number is large, 1.04e+03. This might indicate that there are<br/>strong multicollinearity or other numerical problems."
            ]
          },
          "metadata": {},
          "execution_count": 35
        }
      ]
    },
    {
      "cell_type": "markdown",
      "source": [
        "### Wykres rozproszenia $x$ vs. $y$ z wyznaczoną przez model prostą regresji $y=6.0215 + 0.0118 \\cdot x$"
      ],
      "metadata": {
        "id": "ZtdToLYyDctD"
      }
    },
    {
      "cell_type": "code",
      "source": [
        "#2\n",
        "plt.scatter(X.CompPrice,Y.Sales)\n",
        "X_plot = np.linspace(0,200,200)\n",
        "plt.plot(X_plot,X_plot*fitted_model3new.params[1]+fitted_model3new.params[0],color = 'red')\n",
        "plt.show()"
      ],
      "metadata": {
        "colab": {
          "base_uri": "https://localhost:8080/",
          "height": 265
        },
        "id": "sXWh95QOBFx1",
        "outputId": "ea4d5f05-1edb-49d7-ee09-98aad36bee6f"
      },
      "execution_count": 37,
      "outputs": [
        {
          "output_type": "display_data",
          "data": {
            "text/plain": [
              "<Figure size 432x288 with 1 Axes>"
            ],
            "image/png": "[encoded data removed]"
          },
          "metadata": {
            "needs_background": "light"
          }
        }
      ]
    },
    {
      "cell_type": "code",
      "source": [
        "print(\"Wartość statystki testu t-Studenta\")\n",
        "print(fitted_model3new.tvalues)\n",
        "print(\"\\n\")\n",
        "print(\"P-wartości testu t-Studenta\")\n",
        "print(fitted_model3new.pvalues)\n",
        "print(\"\\n\")\n",
        "#dla intercepta pval jest blisko 0, zatem jest istotny, nie ma zależności między CompPrice a Sales\n",
        "# bo pval >0.05, \n",
        "print(\"Współczynnik determinacji R2 (R-squared): {}\".format(fitted_model3new.rsquared)) \n",
        "#malutki R^2 model nie jest dobrze dopasowany\n",
        "print(\"\\n\")\n",
        "normaltest = stats.normaltest(fitted_model3new.resid)\n",
        "print(\"Wartość statystyki testowej testu normalności D'Angostino (Omnibus): {}\". format(normaltest.statistic))\n",
        "print(\"P-wartość testu D'Angostino (Prob(Omnibus)): {}\".format(normaltest.pvalue))\n",
        "print(\"\\n\")\n",
        "normaltest2 = stats.jarque_bera(fitted_model3new.resid)\n",
        "print(\"Wartość statystyki Jarque-Bera: {}\".format(normaltest2[0]))\n",
        "print(\"P-wartość testu Jarque-Bera: {}\".format(normaltest2[1]))\n",
        "#mamy normalność"
      ],
      "metadata": {
        "colab": {
          "base_uri": "https://localhost:8080/"
        },
        "id": "OrmJnO9cBwQH",
        "outputId": "c3e42100-2dfa-4f59-d54d-adb6ffe90b40"
      },
      "execution_count": 42,
      "outputs": [
        {
          "output_type": "stream",
          "name": "stdout",
          "text": [
            "Wartość statystki testu t-Studenta\n",
            "Intercept    5.191168\n",
            "CompPrice    1.280999\n",
            "dtype: float64\n",
            "\n",
            "\n",
            "P-wartości testu t-Studenta\n",
            "Intercept    3.339763e-07\n",
            "CompPrice    2.009398e-01\n",
            "dtype: float64\n",
            "\n",
            "\n",
            "Współczynnik determinacji R2 (R-squared): 0.004106083580821762\n",
            "\n",
            "\n",
            "Wartość statystyki testowej testu normalności D'Angostino (Omnibus): 2.566804480232423\n",
            "P-wartość testu D'Angostino (Prob(Omnibus)): 0.27709295814634444\n",
            "\n",
            "\n",
            "Wartość statystyki Jarque-Bera: 2.625307309902451\n",
            "P-wartość testu Jarque-Bera: 0.2691049962371863\n"
          ]
        }
      ]
    },
    {
      "cell_type": "markdown",
      "metadata": {
        "id": "x1V-_XBVWEKb"
      },
      "source": [
        "# Przekształcanie zmiennej objaśniającej"
      ]
    },
    {
      "cell_type": "markdown",
      "metadata": {
        "id": "JgWF6PE1WEKc"
      },
      "source": [
        "# Zadanie 2\n",
        "Wczytaj dane `pollution.csv` (opis danych: https://www.rdocumentation.org/packages/SMPracticals/versions/1.4-3/topics/pollution). Dopasuj model regresji liniowej postaci: `mort~nox`. Czy model jest dobrze dopasowany do danych? Jeżeli nie, dlaczego?"
      ]
    },
    {
      "cell_type": "code",
      "execution_count": 41,
      "metadata": {
        "id": "2zuL9PWXWEKd",
        "colab": {
          "base_uri": "https://localhost:8080/",
          "height": 451
        },
        "outputId": "b3cdef90-3fb2-4b55-adb7-3a55472f3b12"
      },
      "outputs": [
        {
          "output_type": "execute_result",
          "data": {
            "text/plain": [
              "<class 'statsmodels.iolib.summary.Summary'>\n",
              "\"\"\"\n",
              "                            OLS Regression Results                            \n",
              "==============================================================================\n",
              "Dep. Variable:                   mort   R-squared:                       0.006\n",
              "Model:                            OLS   Adj. R-squared:                 -0.011\n",
              "Method:                 Least Squares   F-statistic:                    0.3494\n",
              "Date:                Wed, 08 Jun 2022   Prob (F-statistic):              0.557\n",
              "Time:                        15:59:38   Log-Likelihood:                -332.28\n",
              "No. Observations:                  60   AIC:                             668.6\n",
              "Df Residuals:                      58   BIC:                             672.7\n",
              "Df Model:                           1                                         \n",
              "Covariance Type:            nonrobust                                         \n",
              "==============================================================================\n",
              "                 coef    std err          t      P>|t|      [0.025      0.975]\n",
              "------------------------------------------------------------------------------\n",
              "Intercept    942.7115      9.003    104.706      0.000     924.689     960.734\n",
              "nox           -0.1039      0.176     -0.591      0.557      -0.456       0.248\n",
              "==============================================================================\n",
              "Omnibus:                        0.438   Durbin-Watson:                   1.786\n",
              "Prob(Omnibus):                  0.803   Jarque-Bera (JB):                0.148\n",
              "Skew:                           0.115   Prob(JB):                        0.929\n",
              "Kurtosis:                       3.079   Cond. No.                         57.1\n",
              "==============================================================================\n",
              "\n",
              "Warnings:\n",
              "[1] Standard Errors assume that the covariance matrix of the errors is correctly specified.\n",
              "\"\"\""
            ],
            "text/html": [
              "<table class=\"simpletable\">\n",
              "<caption>OLS Regression Results</caption>\n",
              "<tr>\n",
              "  <th>Dep. Variable:</th>          <td>mort</td>       <th>  R-squared:         </th> <td>   0.006</td>\n",
              "</tr>\n",
              "<tr>\n",
              "  <th>Model:</th>                   <td>OLS</td>       <th>  Adj. R-squared:    </th> <td>  -0.011</td>\n",
              "</tr>\n",
              "<tr>\n",
              "  <th>Method:</th>             <td>Least Squares</td>  <th>  F-statistic:       </th> <td>  0.3494</td>\n",
              "</tr>\n",
              "<tr>\n",
              "  <th>Date:</th>             <td>Wed, 08 Jun 2022</td> <th>  Prob (F-statistic):</th>  <td> 0.557</td> \n",
              "</tr>\n",
              "<tr>\n",
              "  <th>Time:</th>                 <td>15:59:38</td>     <th>  Log-Likelihood:    </th> <td> -332.28</td>\n",
              "</tr>\n",
              "<tr>\n",
              "  <th>No. Observations:</th>      <td>    60</td>      <th>  AIC:               </th> <td>   668.6</td>\n",
              "</tr>\n",
              "<tr>\n",
              "  <th>Df Residuals:</th>          <td>    58</td>      <th>  BIC:               </th> <td>   672.7</td>\n",
              "</tr>\n",
              "<tr>\n",
              "  <th>Df Model:</th>              <td>     1</td>      <th>                     </th>     <td> </td>   \n",
              "</tr>\n",
              "<tr>\n",
              "  <th>Covariance Type:</th>      <td>nonrobust</td>    <th>                     </th>     <td> </td>   \n",
              "</tr>\n",
              "</table>\n",
              "<table class=\"simpletable\">\n",
              "<tr>\n",
              "      <td></td>         <th>coef</th>     <th>std err</th>      <th>t</th>      <th>P>|t|</th>  <th>[0.025</th>    <th>0.975]</th>  \n",
              "</tr>\n",
              "<tr>\n",
              "  <th>Intercept</th> <td>  942.7115</td> <td>    9.003</td> <td>  104.706</td> <td> 0.000</td> <td>  924.689</td> <td>  960.734</td>\n",
              "</tr>\n",
              "<tr>\n",
              "  <th>nox</th>       <td>   -0.1039</td> <td>    0.176</td> <td>   -0.591</td> <td> 0.557</td> <td>   -0.456</td> <td>    0.248</td>\n",
              "</tr>\n",
              "</table>\n",
              "<table class=\"simpletable\">\n",
              "<tr>\n",
              "  <th>Omnibus:</th>       <td> 0.438</td> <th>  Durbin-Watson:     </th> <td>   1.786</td>\n",
              "</tr>\n",
              "<tr>\n",
              "  <th>Prob(Omnibus):</th> <td> 0.803</td> <th>  Jarque-Bera (JB):  </th> <td>   0.148</td>\n",
              "</tr>\n",
              "<tr>\n",
              "  <th>Skew:</th>          <td> 0.115</td> <th>  Prob(JB):          </th> <td>   0.929</td>\n",
              "</tr>\n",
              "<tr>\n",
              "  <th>Kurtosis:</th>      <td> 3.079</td> <th>  Cond. No.          </th> <td>    57.1</td>\n",
              "</tr>\n",
              "</table><br/><br/>Warnings:<br/>[1] Standard Errors assume that the covariance matrix of the errors is correctly specified."
            ]
          },
          "metadata": {},
          "execution_count": 41
        }
      ],
      "source": [
        "#https://www.rdocumentation.org/packages/SMPracticals/versions/1.4-3/topics/pollution\n",
        "pollution = pd.read_csv(\"pollution.csv\")\n",
        "lm1 = smf.ols('mort~nox',data = pollution).fit()\n",
        "lm1.summary()\n",
        "#kiepskie R^2 nie ma zależności"
      ]
    },
    {
      "cell_type": "code",
      "source": [
        "plt.scatter(pollution['nox'],pollution['mort'])\n",
        "X_plot = np.linspace(0,350,350)\n",
        "plt.plot(X_plot,X_plot*lm1.params[1]+lm1.params[0],color = 'red')\n",
        "plt.show()\n",
        "#brak zależności liniowej"
      ],
      "metadata": {
        "colab": {
          "base_uri": "https://localhost:8080/",
          "height": 265
        },
        "id": "gecFUQ7yEcYw",
        "outputId": "f1e47a44-d8a3-45da-b2e0-82affb98a40d"
      },
      "execution_count": null,
      "outputs": [
        {
          "output_type": "display_data",
          "data": {
            "text/plain": [
              "<Figure size 432x288 with 1 Axes>"
            ],
            "image/png": "[encoded data removed]"
          },
          "metadata": {
            "needs_background": "light"
          }
        }
      ]
    },
    {
      "cell_type": "code",
      "source": [
        "plt.hist(pollution['nox']) \n",
        "#ma pojedyncze obserwacje daleko, stąd ciężko dopasować model liniowy"
      ],
      "metadata": {
        "colab": {
          "base_uri": "https://localhost:8080/",
          "height": 334
        },
        "id": "cV2JR006Eway",
        "outputId": "723d497a-3943-4df7-f2aa-d4b30db6c4f9"
      },
      "execution_count": null,
      "outputs": [
        {
          "output_type": "execute_result",
          "data": {
            "text/plain": [
              "(array([52.,  5.,  1.,  0.,  0.,  1.,  0.,  0.,  0.,  1.]),\n",
              " array([  1. ,  32.8,  64.6,  96.4, 128.2, 160. , 191.8, 223.6, 255.4,\n",
              "        287.2, 319. ]),\n",
              " <a list of 10 Patch objects>)"
            ]
          },
          "metadata": {},
          "execution_count": 28
        },
        {
          "output_type": "display_data",
          "data": {
            "text/plain": [
              "<Figure size 432x288 with 1 Axes>"
            ],
            "image/png": "[encoded data removed]"
          },
          "metadata": {
            "needs_background": "light"
          }
        }
      ]
    },
    {
      "cell_type": "code",
      "source": [
        "plt.hist(np.log(pollution['nox']))\n",
        "#przekształcenie logarytmiczne temu w tym wypadku przeciwdziała"
      ],
      "metadata": {
        "colab": {
          "base_uri": "https://localhost:8080/",
          "height": 352
        },
        "id": "eXGaXg1_Fi6Y",
        "outputId": "f50e2226-82a5-42a5-d106-7cf8fe67aa05"
      },
      "execution_count": null,
      "outputs": [
        {
          "output_type": "execute_result",
          "data": {
            "text/plain": [
              "(array([ 3.,  7.,  9., 13.,  9.,  7.,  7.,  3.,  1.,  1.]),\n",
              " array([0.        , 0.57651911, 1.15303822, 1.72955733, 2.30607644,\n",
              "        2.88259555, 3.45911466, 4.03563377, 4.61215288, 5.18867199,\n",
              "        5.7651911 ]),\n",
              " <a list of 10 Patch objects>)"
            ]
          },
          "metadata": {},
          "execution_count": 29
        },
        {
          "output_type": "display_data",
          "data": {
            "text/plain": [
              "<Figure size 432x288 with 1 Axes>"
            ],
            "image/png": "[encoded data removed]"
          },
          "metadata": {
            "needs_background": "light"
          }
        }
      ]
    },
    {
      "cell_type": "code",
      "source": [
        "lm2 = smf.ols('mort~np.log(nox)',data = pollution).fit()\n",
        "lm2.summary()\n",
        "# 3 razy większy R^2"
      ],
      "metadata": {
        "colab": {
          "base_uri": "https://localhost:8080/",
          "height": 451
        },
        "id": "t6BvXa8yFstW",
        "outputId": "d83fb79e-8d4c-42f8-a333-fd304d58860b"
      },
      "execution_count": 43,
      "outputs": [
        {
          "output_type": "execute_result",
          "data": {
            "text/plain": [
              "<class 'statsmodels.iolib.summary.Summary'>\n",
              "\"\"\"\n",
              "                            OLS Regression Results                            \n",
              "==============================================================================\n",
              "Dep. Variable:                   mort   R-squared:                       0.085\n",
              "Model:                            OLS   Adj. R-squared:                  0.069\n",
              "Method:                 Least Squares   F-statistic:                     5.406\n",
              "Date:                Wed, 08 Jun 2022   Prob (F-statistic):             0.0236\n",
              "Time:                        16:04:50   Log-Likelihood:                -329.79\n",
              "No. Observations:                  60   AIC:                             663.6\n",
              "Df Residuals:                      58   BIC:                             667.8\n",
              "Df Model:                           1                                         \n",
              "Covariance Type:            nonrobust                                         \n",
              "===============================================================================\n",
              "                  coef    std err          t      P>|t|      [0.025      0.975]\n",
              "-------------------------------------------------------------------------------\n",
              "Intercept     904.7245     17.173     52.684      0.000     870.350     939.099\n",
              "np.log(nox)    15.3355      6.596      2.325      0.024       2.133      28.538\n",
              "==============================================================================\n",
              "Omnibus:                        3.073   Durbin-Watson:                   1.589\n",
              "Prob(Omnibus):                  0.215   Jarque-Bera (JB):                2.270\n",
              "Skew:                          -0.285   Prob(JB):                        0.321\n",
              "Kurtosis:                       3.764   Cond. No.                         6.47\n",
              "==============================================================================\n",
              "\n",
              "Warnings:\n",
              "[1] Standard Errors assume that the covariance matrix of the errors is correctly specified.\n",
              "\"\"\""
            ],
            "text/html": [
              "<table class=\"simpletable\">\n",
              "<caption>OLS Regression Results</caption>\n",
              "<tr>\n",
              "  <th>Dep. Variable:</th>          <td>mort</td>       <th>  R-squared:         </th> <td>   0.085</td>\n",
              "</tr>\n",
              "<tr>\n",
              "  <th>Model:</th>                   <td>OLS</td>       <th>  Adj. R-squared:    </th> <td>   0.069</td>\n",
              "</tr>\n",
              "<tr>\n",
              "  <th>Method:</th>             <td>Least Squares</td>  <th>  F-statistic:       </th> <td>   5.406</td>\n",
              "</tr>\n",
              "<tr>\n",
              "  <th>Date:</th>             <td>Wed, 08 Jun 2022</td> <th>  Prob (F-statistic):</th>  <td>0.0236</td> \n",
              "</tr>\n",
              "<tr>\n",
              "  <th>Time:</th>                 <td>16:04:50</td>     <th>  Log-Likelihood:    </th> <td> -329.79</td>\n",
              "</tr>\n",
              "<tr>\n",
              "  <th>No. Observations:</th>      <td>    60</td>      <th>  AIC:               </th> <td>   663.6</td>\n",
              "</tr>\n",
              "<tr>\n",
              "  <th>Df Residuals:</th>          <td>    58</td>      <th>  BIC:               </th> <td>   667.8</td>\n",
              "</tr>\n",
              "<tr>\n",
              "  <th>Df Model:</th>              <td>     1</td>      <th>                     </th>     <td> </td>   \n",
              "</tr>\n",
              "<tr>\n",
              "  <th>Covariance Type:</th>      <td>nonrobust</td>    <th>                     </th>     <td> </td>   \n",
              "</tr>\n",
              "</table>\n",
              "<table class=\"simpletable\">\n",
              "<tr>\n",
              "       <td></td>          <th>coef</th>     <th>std err</th>      <th>t</th>      <th>P>|t|</th>  <th>[0.025</th>    <th>0.975]</th>  \n",
              "</tr>\n",
              "<tr>\n",
              "  <th>Intercept</th>   <td>  904.7245</td> <td>   17.173</td> <td>   52.684</td> <td> 0.000</td> <td>  870.350</td> <td>  939.099</td>\n",
              "</tr>\n",
              "<tr>\n",
              "  <th>np.log(nox)</th> <td>   15.3355</td> <td>    6.596</td> <td>    2.325</td> <td> 0.024</td> <td>    2.133</td> <td>   28.538</td>\n",
              "</tr>\n",
              "</table>\n",
              "<table class=\"simpletable\">\n",
              "<tr>\n",
              "  <th>Omnibus:</th>       <td> 3.073</td> <th>  Durbin-Watson:     </th> <td>   1.589</td>\n",
              "</tr>\n",
              "<tr>\n",
              "  <th>Prob(Omnibus):</th> <td> 0.215</td> <th>  Jarque-Bera (JB):  </th> <td>   2.270</td>\n",
              "</tr>\n",
              "<tr>\n",
              "  <th>Skew:</th>          <td>-0.285</td> <th>  Prob(JB):          </th> <td>   0.321</td>\n",
              "</tr>\n",
              "<tr>\n",
              "  <th>Kurtosis:</th>      <td> 3.764</td> <th>  Cond. No.          </th> <td>    6.47</td>\n",
              "</tr>\n",
              "</table><br/><br/>Warnings:<br/>[1] Standard Errors assume that the covariance matrix of the errors is correctly specified."
            ]
          },
          "metadata": {},
          "execution_count": 43
        }
      ]
    },
    {
      "cell_type": "code",
      "source": [
        "plt.scatter(np.log(pollution['nox']),pollution['mort'])\n",
        "X_plot = np.linspace(0,6,6)\n",
        "plt.plot(X_plot,X_plot*lm2.params[1]+lm2.params[0],color = 'red')\n",
        "plt.show()\n",
        "#dane są bardziej liniowe"
      ],
      "metadata": {
        "colab": {
          "base_uri": "https://localhost:8080/",
          "height": 265
        },
        "id": "P3PB37SXF_BL",
        "outputId": "dcdbb46d-9ca3-4239-a096-11e9fcc80590"
      },
      "execution_count": null,
      "outputs": [
        {
          "output_type": "display_data",
          "data": {
            "text/plain": [
              "<Figure size 432x288 with 1 Axes>"
            ],
            "image/png": "[encoded data removed]"
          },
          "metadata": {
            "needs_background": "light"
          }
        }
      ]
    },
    {
      "cell_type": "markdown",
      "metadata": {
        "id": "frVr7ocXWEKd"
      },
      "source": [
        "### Metoda Boxa-Coxa\n",
        "\n",
        "Metoda Boxa-Coxa jest popularnym rozwiązaniem stosowanym do przekształcenia zmiennej. Ważnym założeniem metody jest dodatniość wszystkich wartość.\n",
        "Metoda przekształca zmienną $z>0 \\to t_{\\lambda}(z)$, gdzie \n",
        "$$\n",
        "    t_{\\lambda}(z)=\\left.\n",
        "    \\begin{cases}\n",
        "    \\frac{z^{\\lambda}-1}{\\lambda} \\quad &\\text{dla} \\quad \\lambda\\neq 0\\\\\n",
        "    \\log(z) \\quad &\\text{dla} \\quad \\lambda= 0.\n",
        "    \\end{cases}\\right.\n",
        "$$\n",
        "\n",
        "Wybór $\\lambda$ odbywa się na podstawie metody największej wiarogodności. Funkcja wiarogodności zakłada normalność błędów i ma następującą postać:\n",
        "$$\n",
        "L(\\lambda)=-\\frac{n}{2}\\log\\Big(\\frac{\\text{RRS}_{\\lambda}}{n}\\Big) + (\\lambda-1)\\sum\\log y_i,\n",
        "$$\n",
        "gdzie $\\text{RRS}_{\\lambda}$, to $\\text{RRS}$ dla odpowiedzi $t_{\\lambda}(z)$."
      ]
    },
    {
      "cell_type": "markdown",
      "metadata": {
        "id": "qf4kfWuYWEKe"
      },
      "source": [
        "## Zadanie 2.1\n",
        "Znajdź najlepszy parametr $\\lambda$ dla przekształcenia zmiennej niezależnej `nox`, przekształć zmienną zgodnie z uzyskaną wartością i dopasuj model prostej regresji liniowej."
      ]
    },
    {
      "cell_type": "code",
      "execution_count": 45,
      "metadata": {
        "id": "KcKddfprWEKf",
        "colab": {
          "base_uri": "https://localhost:8080/"
        },
        "outputId": "4abf9e5a-b361-4e34-894b-9c4e44542075"
      },
      "outputs": [
        {
          "output_type": "execute_result",
          "data": {
            "text/plain": [
              "(array([2.37212004, 2.05654847, 1.64030605, 1.87733603, 3.04902336,\n",
              "        2.92857684, 2.92857684, 1.29442924, 2.20003388, 1.76816378,\n",
              "        1.87733603, 3.39157611, 2.78025577, 2.6244457 , 1.97242926,\n",
              "        0.        , 1.29442924, 1.87733603, 2.99164269, 1.29442924,\n",
              "        0.        , 1.04037372, 1.04037372, 1.04037372, 1.48651427,\n",
              "        1.76816378, 1.29442924, 1.76816378, 4.38064428, 3.03046762,\n",
              "        2.50989984, 0.        , 2.69122027, 2.13188324, 2.31932321,\n",
              "        1.04037372, 2.46697562, 2.78025577, 2.92857684, 3.34810063,\n",
              "        2.6244457 , 1.29442924, 2.13188324, 1.97242926, 1.29442924,\n",
              "        2.37212004, 3.42223536, 4.01930866, 2.92857684, 1.76816378,\n",
              "        1.29442924, 1.48651427, 1.76816378, 0.66965304, 2.83354667,\n",
              "        0.66965304, 2.13188324, 1.04037372, 1.87733603, 2.2622045 ]),\n",
              " -0.10007430172722796)"
            ]
          },
          "metadata": {},
          "execution_count": 45
        }
      ],
      "source": [
        "#co jeśli nie wiemy jakiej transformacji dokonać, a wiemy, że y>0. Użyjmy przekształcenia Boxa - Coxa\n",
        "nox_boxcox = stats.boxcox(pollution['nox'])\n",
        "nox_boxcox\n"
      ]
    },
    {
      "cell_type": "code",
      "source": [
        "plt.hist(nox_boxcox[0])\n",
        "plt.show()\n",
        "#też poradziło sobie z pojedynczymi obserwacjami o dużych wartościach nox"
      ],
      "metadata": {
        "colab": {
          "base_uri": "https://localhost:8080/",
          "height": 265
        },
        "id": "eIM-MTlCHpYw",
        "outputId": "4c4eec67-7aaf-48c1-9eed-4286a5a1e785"
      },
      "execution_count": 47,
      "outputs": [
        {
          "output_type": "display_data",
          "data": {
            "text/plain": [
              "<Figure size 432x288 with 1 Axes>"
            ],
            "image/png": "[encoded data removed]"
          },
          "metadata": {
            "needs_background": "light"
          }
        }
      ]
    },
    {
      "cell_type": "code",
      "source": [
        "#macierz X z przekształconym nox, zamiast pierwotnego nox\n",
        "X = sm.add_constant(nox_boxcox[0],prepend = True,has_constant = 'add')\n",
        "Y = pollution['mort']\n",
        "m_boxcox = sm.OLS(endog = Y,exog = X).fit()\n",
        "m_boxcox.summary()"
      ],
      "metadata": {
        "colab": {
          "base_uri": "https://localhost:8080/",
          "height": 451
        },
        "id": "sAilvUunHv3m",
        "outputId": "5b6c17d0-974d-45ab-f8f1-5584b443323d"
      },
      "execution_count": 49,
      "outputs": [
        {
          "output_type": "execute_result",
          "data": {
            "text/plain": [
              "<class 'statsmodels.iolib.summary.Summary'>\n",
              "\"\"\"\n",
              "                            OLS Regression Results                            \n",
              "==============================================================================\n",
              "Dep. Variable:                   mort   R-squared:                       0.105\n",
              "Model:                            OLS   Adj. R-squared:                  0.089\n",
              "Method:                 Least Squares   F-statistic:                     6.795\n",
              "Date:                Wed, 08 Jun 2022   Prob (F-statistic):             0.0116\n",
              "Time:                        16:10:24   Log-Likelihood:                -329.14\n",
              "No. Observations:                  60   AIC:                             662.3\n",
              "Df Residuals:                      58   BIC:                             666.5\n",
              "Df Model:                           1                                         \n",
              "Covariance Type:            nonrobust                                         \n",
              "==============================================================================\n",
              "                 coef    std err          t      P>|t|      [0.025      0.975]\n",
              "------------------------------------------------------------------------------\n",
              "const        896.5674     18.464     48.557      0.000     859.607     933.528\n",
              "x1            21.6882      8.320      2.607      0.012       5.034      38.343\n",
              "==============================================================================\n",
              "Omnibus:                        3.827   Durbin-Watson:                   1.570\n",
              "Prob(Omnibus):                  0.148   Jarque-Bera (JB):                3.100\n",
              "Skew:                          -0.334   Prob(JB):                        0.212\n",
              "Kurtosis:                       3.892   Cond. No.                         6.27\n",
              "==============================================================================\n",
              "\n",
              "Warnings:\n",
              "[1] Standard Errors assume that the covariance matrix of the errors is correctly specified.\n",
              "\"\"\""
            ],
            "text/html": [
              "<table class=\"simpletable\">\n",
              "<caption>OLS Regression Results</caption>\n",
              "<tr>\n",
              "  <th>Dep. Variable:</th>          <td>mort</td>       <th>  R-squared:         </th> <td>   0.105</td>\n",
              "</tr>\n",
              "<tr>\n",
              "  <th>Model:</th>                   <td>OLS</td>       <th>  Adj. R-squared:    </th> <td>   0.089</td>\n",
              "</tr>\n",
              "<tr>\n",
              "  <th>Method:</th>             <td>Least Squares</td>  <th>  F-statistic:       </th> <td>   6.795</td>\n",
              "</tr>\n",
              "<tr>\n",
              "  <th>Date:</th>             <td>Wed, 08 Jun 2022</td> <th>  Prob (F-statistic):</th>  <td>0.0116</td> \n",
              "</tr>\n",
              "<tr>\n",
              "  <th>Time:</th>                 <td>16:10:24</td>     <th>  Log-Likelihood:    </th> <td> -329.14</td>\n",
              "</tr>\n",
              "<tr>\n",
              "  <th>No. Observations:</th>      <td>    60</td>      <th>  AIC:               </th> <td>   662.3</td>\n",
              "</tr>\n",
              "<tr>\n",
              "  <th>Df Residuals:</th>          <td>    58</td>      <th>  BIC:               </th> <td>   666.5</td>\n",
              "</tr>\n",
              "<tr>\n",
              "  <th>Df Model:</th>              <td>     1</td>      <th>                     </th>     <td> </td>   \n",
              "</tr>\n",
              "<tr>\n",
              "  <th>Covariance Type:</th>      <td>nonrobust</td>    <th>                     </th>     <td> </td>   \n",
              "</tr>\n",
              "</table>\n",
              "<table class=\"simpletable\">\n",
              "<tr>\n",
              "    <td></td>       <th>coef</th>     <th>std err</th>      <th>t</th>      <th>P>|t|</th>  <th>[0.025</th>    <th>0.975]</th>  \n",
              "</tr>\n",
              "<tr>\n",
              "  <th>const</th> <td>  896.5674</td> <td>   18.464</td> <td>   48.557</td> <td> 0.000</td> <td>  859.607</td> <td>  933.528</td>\n",
              "</tr>\n",
              "<tr>\n",
              "  <th>x1</th>    <td>   21.6882</td> <td>    8.320</td> <td>    2.607</td> <td> 0.012</td> <td>    5.034</td> <td>   38.343</td>\n",
              "</tr>\n",
              "</table>\n",
              "<table class=\"simpletable\">\n",
              "<tr>\n",
              "  <th>Omnibus:</th>       <td> 3.827</td> <th>  Durbin-Watson:     </th> <td>   1.570</td>\n",
              "</tr>\n",
              "<tr>\n",
              "  <th>Prob(Omnibus):</th> <td> 0.148</td> <th>  Jarque-Bera (JB):  </th> <td>   3.100</td>\n",
              "</tr>\n",
              "<tr>\n",
              "  <th>Skew:</th>          <td>-0.334</td> <th>  Prob(JB):          </th> <td>   0.212</td>\n",
              "</tr>\n",
              "<tr>\n",
              "  <th>Kurtosis:</th>      <td> 3.892</td> <th>  Cond. No.          </th> <td>    6.27</td>\n",
              "</tr>\n",
              "</table><br/><br/>Warnings:<br/>[1] Standard Errors assume that the covariance matrix of the errors is correctly specified."
            ]
          },
          "metadata": {},
          "execution_count": 49
        }
      ]
    },
    {
      "cell_type": "code",
      "source": [
        "plt.scatter(nox_boxcox[0],pollution['mort'])\n",
        "X_plot = np.linspace(0,6,6)\n",
        "plt.plot(X_plot,X_plot*m_boxcox.params[1]+m_boxcox.params[0],color = 'red')\n",
        "plt.show()\n",
        "#dane są bardziej liniowe niż to co było na początku"
      ],
      "metadata": {
        "colab": {
          "base_uri": "https://localhost:8080/",
          "height": 265
        },
        "id": "c27zm0qlIgRr",
        "outputId": "de313954-98ad-44aa-d95e-7014e6da68cb"
      },
      "execution_count": 50,
      "outputs": [
        {
          "output_type": "display_data",
          "data": {
            "text/plain": [
              "<Figure size 432x288 with 1 Axes>"
            ],
            "image/png": "[encoded data removed]"
          },
          "metadata": {
            "needs_background": "light"
          }
        }
      ]
    },
    {
      "cell_type": "markdown",
      "metadata": {
        "id": "4_W1RLQ0WEKf"
      },
      "source": [
        "Co w przypadku, gdy zmienna losowa, która chcielibyśmy przekształcić byłaby niedodatnia?"
      ]
    },
    {
      "cell_type": "markdown",
      "metadata": {
        "id": "4ZKou2S4WEKf"
      },
      "source": [
        "### Metoda Yeo-Johnsona\n",
        "\n",
        "$$\n",
        "    t_{\\lambda}(z)=\\left.\n",
        "    \\begin{cases}\n",
        "    \\frac{(y+1)^{\\lambda} -1}{\\lambda} \\quad &\\text{dla} \\quad \\lambda\\neq 0, y\\geq 0,\\\\\n",
        "    \\log(y+1) \\quad &\\text{dla} \\quad \\lambda= 0, y\\geq0,\\\\\n",
        "    -\\frac{(-y+1)^{2-\\lambda}-1}{2-\\lambda} \\quad &\\text{dla} \\quad \\lambda\\neq 2, y<0,\\\\\n",
        "    -\\log(-y+1) \\quad &\\text{dla} \\quad \\lambda= 2, y<0.\n",
        "    \\end{cases}\\right.\n",
        "$$"
      ]
    },
    {
      "cell_type": "code",
      "execution_count": 51,
      "metadata": {
        "id": "5FX4-DjoWEKg"
      },
      "outputs": [],
      "source": [
        "?stats.yeojohnson"
      ]
    },
    {
      "cell_type": "markdown",
      "metadata": {
        "id": "4hiPX1rxWEKg"
      },
      "source": [
        "# Zmienne kategoryczne"
      ]
    },
    {
      "cell_type": "markdown",
      "metadata": {
        "id": "GCj79j2bWEKg"
      },
      "source": [
        "# Zadanie 3\n",
        "Wczytaj dane `Salaries` z pakieru `carData` i dopasuj model `salary ~ sex`. Zwróć uwagę na kodowanie zmiennej `sex`. "
      ]
    },
    {
      "cell_type": "code",
      "execution_count": 60,
      "metadata": {
        "id": "tP6Dq3M5WEKg",
        "colab": {
          "base_uri": "https://localhost:8080/",
          "height": 206
        },
        "outputId": "a2524143-b266-4d9a-acb0-aeaf7213afbb"
      },
      "outputs": [
        {
          "output_type": "execute_result",
          "data": {
            "text/plain": [
              "       rank discipline  yrs.since.phd  yrs.service   sex  salary\n",
              "0      Prof          B             19           18  Male  139750\n",
              "1      Prof          B             20           16  Male  173200\n",
              "2  AsstProf          B              4            3  Male   79750\n",
              "3      Prof          B             45           39  Male  115000\n",
              "4      Prof          B             40           41  Male  141500"
            ],
            "text/html": [
              "\n",
              "  <div id=\"df-3951b671-07d9-4d01-9117-46af34dbcc17\">\n",
              "    <div class=\"colab-df-container\">\n",
              "      <div>\n",
              "<style scoped>\n",
              "    .dataframe tbody tr th:only-of-type {\n",
              "        vertical-align: middle;\n",
              "    }\n",
              "\n",
              "    .dataframe tbody tr th {\n",
              "        vertical-align: top;\n",
              "    }\n",
              "\n",
              "    .dataframe thead th {\n",
              "        text-align: right;\n",
              "    }\n",
              "</style>\n",
              "<table border=\"1\" class=\"dataframe\">\n",
              "  <thead>\n",
              "    <tr style=\"text-align: right;\">\n",
              "      <th></th>\n",
              "      <th>rank</th>\n",
              "      <th>discipline</th>\n",
              "      <th>yrs.since.phd</th>\n",
              "      <th>yrs.service</th>\n",
              "      <th>sex</th>\n",
              "      <th>salary</th>\n",
              "    </tr>\n",
              "  </thead>\n",
              "  <tbody>\n",
              "    <tr>\n",
              "      <th>0</th>\n",
              "      <td>Prof</td>\n",
              "      <td>B</td>\n",
              "      <td>19</td>\n",
              "      <td>18</td>\n",
              "      <td>Male</td>\n",
              "      <td>139750</td>\n",
              "    </tr>\n",
              "    <tr>\n",
              "      <th>1</th>\n",
              "      <td>Prof</td>\n",
              "      <td>B</td>\n",
              "      <td>20</td>\n",
              "      <td>16</td>\n",
              "      <td>Male</td>\n",
              "      <td>173200</td>\n",
              "    </tr>\n",
              "    <tr>\n",
              "      <th>2</th>\n",
              "      <td>AsstProf</td>\n",
              "      <td>B</td>\n",
              "      <td>4</td>\n",
              "      <td>3</td>\n",
              "      <td>Male</td>\n",
              "      <td>79750</td>\n",
              "    </tr>\n",
              "    <tr>\n",
              "      <th>3</th>\n",
              "      <td>Prof</td>\n",
              "      <td>B</td>\n",
              "      <td>45</td>\n",
              "      <td>39</td>\n",
              "      <td>Male</td>\n",
              "      <td>115000</td>\n",
              "    </tr>\n",
              "    <tr>\n",
              "      <th>4</th>\n",
              "      <td>Prof</td>\n",
              "      <td>B</td>\n",
              "      <td>40</td>\n",
              "      <td>41</td>\n",
              "      <td>Male</td>\n",
              "      <td>141500</td>\n",
              "    </tr>\n",
              "  </tbody>\n",
              "</table>\n",
              "</div>\n",
              "      <button class=\"colab-df-convert\" onclick=\"convertToInteractive('df-3951b671-07d9-4d01-9117-46af34dbcc17')\"\n",
              "              title=\"Convert this dataframe to an interactive table.\"\n",
              "              style=\"display:none;\">\n",
              "        \n",
              "  <svg xmlns=\"http://www.w3.org/2000/svg\" height=\"24px\"viewBox=\"0 0 24 24\"\n",
              "       width=\"24px\">\n",
              "    <path d=\"M0 0h24v24H0V0z\" fill=\"none\"/>\n",
              "    <path d=\"M18.56 5.44l.94 2.06.94-2.06 2.06-.94-2.06-.94-.94-2.06-.94 2.06-2.06.94zm-11 1L8.5 8.5l.94-2.06 2.06-.94-2.06-.94L8.5 2.5l-.94 2.06-2.06.94zm10 10l.94 2.06.94-2.06 2.06-.94-2.06-.94-.94-2.06-.94 2.06-2.06.94z\"/><path d=\"M17.41 7.96l-1.37-1.37c-.4-.4-.92-.59-1.43-.59-.52 0-1.04.2-1.43.59L10.3 9.45l-7.72 7.72c-.78.78-.78 2.05 0 2.83L4 21.41c.39.39.9.59 1.41.59.51 0 1.02-.2 1.41-.59l7.78-7.78 2.81-2.81c.8-.78.8-2.07 0-2.86zM5.41 20L4 18.59l7.72-7.72 1.47 1.35L5.41 20z\"/>\n",
              "  </svg>\n",
              "      </button>\n",
              "      \n",
              "  <style>\n",
              "    .colab-df-container {\n",
              "      display:flex;\n",
              "      flex-wrap:wrap;\n",
              "      gap: 12px;\n",
              "    }\n",
              "\n",
              "    .colab-df-convert {\n",
              "      background-color: #E8F0FE;\n",
              "      border: none;\n",
              "      border-radius: 50%;\n",
              "      cursor: pointer;\n",
              "      display: none;\n",
              "      fill: #1967D2;\n",
              "      height: 32px;\n",
              "      padding: 0 0 0 0;\n",
              "      width: 32px;\n",
              "    }\n",
              "\n",
              "    .colab-df-convert:hover {\n",
              "      background-color: #E2EBFA;\n",
              "      box-shadow: 0px 1px 2px rgba(60, 64, 67, 0.3), 0px 1px 3px 1px rgba(60, 64, 67, 0.15);\n",
              "      fill: #174EA6;\n",
              "    }\n",
              "\n",
              "    [theme=dark] .colab-df-convert {\n",
              "      background-color: #3B4455;\n",
              "      fill: #D2E3FC;\n",
              "    }\n",
              "\n",
              "    [theme=dark] .colab-df-convert:hover {\n",
              "      background-color: #434B5C;\n",
              "      box-shadow: 0px 1px 3px 1px rgba(0, 0, 0, 0.15);\n",
              "      filter: drop-shadow(0px 1px 2px rgba(0, 0, 0, 0.3));\n",
              "      fill: #FFFFFF;\n",
              "    }\n",
              "  </style>\n",
              "\n",
              "      <script>\n",
              "        const buttonEl =\n",
              "          document.querySelector('#df-3951b671-07d9-4d01-9117-46af34dbcc17 button.colab-df-convert');\n",
              "        buttonEl.style.display =\n",
              "          google.colab.kernel.accessAllowed ? 'block' : 'none';\n",
              "\n",
              "        async function convertToInteractive(key) {\n",
              "          const element = document.querySelector('#df-3951b671-07d9-4d01-9117-46af34dbcc17');\n",
              "          const dataTable =\n",
              "            await google.colab.kernel.invokeFunction('convertToInteractive',\n",
              "                                                     [key], {});\n",
              "          if (!dataTable) return;\n",
              "\n",
              "          const docLinkHtml = 'Like what you see? Visit the ' +\n",
              "            '<a target=\"_blank\" href=https://colab.research.google.com/notebooks/data_table.ipynb>data table notebook</a>'\n",
              "            + ' to learn more about interactive tables.';\n",
              "          element.innerHTML = '';\n",
              "          dataTable['output_type'] = 'display_data';\n",
              "          await google.colab.output.renderOutput(dataTable, element);\n",
              "          const docLink = document.createElement('div');\n",
              "          docLink.innerHTML = docLinkHtml;\n",
              "          element.appendChild(docLink);\n",
              "        }\n",
              "      </script>\n",
              "    </div>\n",
              "  </div>\n",
              "  "
            ]
          },
          "metadata": {},
          "execution_count": 60
        }
      ],
      "source": [
        "# http://www.sthda.com/english/articles/40-regression-analysis/163-regression-with-categorical-variables-dummy-coding-essentials-in-r/\n",
        "salaries = sm.datasets.get_rdataset(dataname=\"Salaries\", package=\"carData\")\n",
        "salaries.data.head()"
      ]
    },
    {
      "cell_type": "code",
      "source": [
        "y, X = dmatrices('salary ~ sex', data=salaries.data, return_type='dataframe')\n",
        "X.head()"
      ],
      "metadata": {
        "colab": {
          "base_uri": "https://localhost:8080/",
          "height": 206
        },
        "id": "0Ci6tWbDFxQ2",
        "outputId": "010d5f02-3d85-4752-c042-a09bce5287c1"
      },
      "execution_count": 61,
      "outputs": [
        {
          "output_type": "execute_result",
          "data": {
            "text/plain": [
              "   Intercept  sex[T.Male]\n",
              "0        1.0          1.0\n",
              "1        1.0          1.0\n",
              "2        1.0          1.0\n",
              "3        1.0          1.0\n",
              "4        1.0          1.0"
            ],
            "text/html": [
              "\n",
              "  <div id=\"df-f564162f-b48e-428b-9440-a3915c210d3d\">\n",
              "    <div class=\"colab-df-container\">\n",
              "      <div>\n",
              "<style scoped>\n",
              "    .dataframe tbody tr th:only-of-type {\n",
              "        vertical-align: middle;\n",
              "    }\n",
              "\n",
              "    .dataframe tbody tr th {\n",
              "        vertical-align: top;\n",
              "    }\n",
              "\n",
              "    .dataframe thead th {\n",
              "        text-align: right;\n",
              "    }\n",
              "</style>\n",
              "<table border=\"1\" class=\"dataframe\">\n",
              "  <thead>\n",
              "    <tr style=\"text-align: right;\">\n",
              "      <th></th>\n",
              "      <th>Intercept</th>\n",
              "      <th>sex[T.Male]</th>\n",
              "    </tr>\n",
              "  </thead>\n",
              "  <tbody>\n",
              "    <tr>\n",
              "      <th>0</th>\n",
              "      <td>1.0</td>\n",
              "      <td>1.0</td>\n",
              "    </tr>\n",
              "    <tr>\n",
              "      <th>1</th>\n",
              "      <td>1.0</td>\n",
              "      <td>1.0</td>\n",
              "    </tr>\n",
              "    <tr>\n",
              "      <th>2</th>\n",
              "      <td>1.0</td>\n",
              "      <td>1.0</td>\n",
              "    </tr>\n",
              "    <tr>\n",
              "      <th>3</th>\n",
              "      <td>1.0</td>\n",
              "      <td>1.0</td>\n",
              "    </tr>\n",
              "    <tr>\n",
              "      <th>4</th>\n",
              "      <td>1.0</td>\n",
              "      <td>1.0</td>\n",
              "    </tr>\n",
              "  </tbody>\n",
              "</table>\n",
              "</div>\n",
              "      <button class=\"colab-df-convert\" onclick=\"convertToInteractive('df-f564162f-b48e-428b-9440-a3915c210d3d')\"\n",
              "              title=\"Convert this dataframe to an interactive table.\"\n",
              "              style=\"display:none;\">\n",
              "        \n",
              "  <svg xmlns=\"http://www.w3.org/2000/svg\" height=\"24px\"viewBox=\"0 0 24 24\"\n",
              "       width=\"24px\">\n",
              "    <path d=\"M0 0h24v24H0V0z\" fill=\"none\"/>\n",
              "    <path d=\"M18.56 5.44l.94 2.06.94-2.06 2.06-.94-2.06-.94-.94-2.06-.94 2.06-2.06.94zm-11 1L8.5 8.5l.94-2.06 2.06-.94-2.06-.94L8.5 2.5l-.94 2.06-2.06.94zm10 10l.94 2.06.94-2.06 2.06-.94-2.06-.94-.94-2.06-.94 2.06-2.06.94z\"/><path d=\"M17.41 7.96l-1.37-1.37c-.4-.4-.92-.59-1.43-.59-.52 0-1.04.2-1.43.59L10.3 9.45l-7.72 7.72c-.78.78-.78 2.05 0 2.83L4 21.41c.39.39.9.59 1.41.59.51 0 1.02-.2 1.41-.59l7.78-7.78 2.81-2.81c.8-.78.8-2.07 0-2.86zM5.41 20L4 18.59l7.72-7.72 1.47 1.35L5.41 20z\"/>\n",
              "  </svg>\n",
              "      </button>\n",
              "      \n",
              "  <style>\n",
              "    .colab-df-container {\n",
              "      display:flex;\n",
              "      flex-wrap:wrap;\n",
              "      gap: 12px;\n",
              "    }\n",
              "\n",
              "    .colab-df-convert {\n",
              "      background-color: #E8F0FE;\n",
              "      border: none;\n",
              "      border-radius: 50%;\n",
              "      cursor: pointer;\n",
              "      display: none;\n",
              "      fill: #1967D2;\n",
              "      height: 32px;\n",
              "      padding: 0 0 0 0;\n",
              "      width: 32px;\n",
              "    }\n",
              "\n",
              "    .colab-df-convert:hover {\n",
              "      background-color: #E2EBFA;\n",
              "      box-shadow: 0px 1px 2px rgba(60, 64, 67, 0.3), 0px 1px 3px 1px rgba(60, 64, 67, 0.15);\n",
              "      fill: #174EA6;\n",
              "    }\n",
              "\n",
              "    [theme=dark] .colab-df-convert {\n",
              "      background-color: #3B4455;\n",
              "      fill: #D2E3FC;\n",
              "    }\n",
              "\n",
              "    [theme=dark] .colab-df-convert:hover {\n",
              "      background-color: #434B5C;\n",
              "      box-shadow: 0px 1px 3px 1px rgba(0, 0, 0, 0.15);\n",
              "      filter: drop-shadow(0px 1px 2px rgba(0, 0, 0, 0.3));\n",
              "      fill: #FFFFFF;\n",
              "    }\n",
              "  </style>\n",
              "\n",
              "      <script>\n",
              "        const buttonEl =\n",
              "          document.querySelector('#df-f564162f-b48e-428b-9440-a3915c210d3d button.colab-df-convert');\n",
              "        buttonEl.style.display =\n",
              "          google.colab.kernel.accessAllowed ? 'block' : 'none';\n",
              "\n",
              "        async function convertToInteractive(key) {\n",
              "          const element = document.querySelector('#df-f564162f-b48e-428b-9440-a3915c210d3d');\n",
              "          const dataTable =\n",
              "            await google.colab.kernel.invokeFunction('convertToInteractive',\n",
              "                                                     [key], {});\n",
              "          if (!dataTable) return;\n",
              "\n",
              "          const docLinkHtml = 'Like what you see? Visit the ' +\n",
              "            '<a target=\"_blank\" href=https://colab.research.google.com/notebooks/data_table.ipynb>data table notebook</a>'\n",
              "            + ' to learn more about interactive tables.';\n",
              "          element.innerHTML = '';\n",
              "          dataTable['output_type'] = 'display_data';\n",
              "          await google.colab.output.renderOutput(dataTable, element);\n",
              "          const docLink = document.createElement('div');\n",
              "          docLink.innerHTML = docLinkHtml;\n",
              "          element.appendChild(docLink);\n",
              "        }\n",
              "      </script>\n",
              "    </div>\n",
              "  </div>\n",
              "  "
            ]
          },
          "metadata": {},
          "execution_count": 61
        }
      ]
    },
    {
      "cell_type": "code",
      "source": [
        "sm.OLS(y, X).fit().summary()"
      ],
      "metadata": {
        "colab": {
          "base_uri": "https://localhost:8080/",
          "height": 451
        },
        "id": "vyDe2UUZJw9x",
        "outputId": "28a5011f-d6ed-4021-93d3-18bc23966ab1"
      },
      "execution_count": 62,
      "outputs": [
        {
          "output_type": "execute_result",
          "data": {
            "text/plain": [
              "<class 'statsmodels.iolib.summary.Summary'>\n",
              "\"\"\"\n",
              "                            OLS Regression Results                            \n",
              "==============================================================================\n",
              "Dep. Variable:                 salary   R-squared:                       0.019\n",
              "Model:                            OLS   Adj. R-squared:                  0.017\n",
              "Method:                 Least Squares   F-statistic:                     7.738\n",
              "Date:                Wed, 08 Jun 2022   Prob (F-statistic):            0.00567\n",
              "Time:                        16:30:51   Log-Likelihood:                -4655.4\n",
              "No. Observations:                 397   AIC:                             9315.\n",
              "Df Residuals:                     395   BIC:                             9323.\n",
              "Df Model:                           1                                         \n",
              "Covariance Type:            nonrobust                                         \n",
              "===============================================================================\n",
              "                  coef    std err          t      P>|t|      [0.025      0.975]\n",
              "-------------------------------------------------------------------------------\n",
              "Intercept     1.01e+05   4809.386     21.001      0.000    9.15e+04     1.1e+05\n",
              "sex[T.Male]  1.409e+04   5064.579      2.782      0.006    4131.107     2.4e+04\n",
              "==============================================================================\n",
              "Omnibus:                       28.630   Durbin-Watson:                   1.971\n",
              "Prob(Omnibus):                  0.000   Jarque-Bera (JB):               33.087\n",
              "Skew:                           0.703   Prob(JB):                     6.53e-08\n",
              "Kurtosis:                       3.152   Cond. No.                         6.23\n",
              "==============================================================================\n",
              "\n",
              "Warnings:\n",
              "[1] Standard Errors assume that the covariance matrix of the errors is correctly specified.\n",
              "\"\"\""
            ],
            "text/html": [
              "<table class=\"simpletable\">\n",
              "<caption>OLS Regression Results</caption>\n",
              "<tr>\n",
              "  <th>Dep. Variable:</th>         <td>salary</td>      <th>  R-squared:         </th> <td>   0.019</td>\n",
              "</tr>\n",
              "<tr>\n",
              "  <th>Model:</th>                   <td>OLS</td>       <th>  Adj. R-squared:    </th> <td>   0.017</td>\n",
              "</tr>\n",
              "<tr>\n",
              "  <th>Method:</th>             <td>Least Squares</td>  <th>  F-statistic:       </th> <td>   7.738</td>\n",
              "</tr>\n",
              "<tr>\n",
              "  <th>Date:</th>             <td>Wed, 08 Jun 2022</td> <th>  Prob (F-statistic):</th>  <td>0.00567</td>\n",
              "</tr>\n",
              "<tr>\n",
              "  <th>Time:</th>                 <td>16:30:51</td>     <th>  Log-Likelihood:    </th> <td> -4655.4</td>\n",
              "</tr>\n",
              "<tr>\n",
              "  <th>No. Observations:</th>      <td>   397</td>      <th>  AIC:               </th> <td>   9315.</td>\n",
              "</tr>\n",
              "<tr>\n",
              "  <th>Df Residuals:</th>          <td>   395</td>      <th>  BIC:               </th> <td>   9323.</td>\n",
              "</tr>\n",
              "<tr>\n",
              "  <th>Df Model:</th>              <td>     1</td>      <th>                     </th>     <td> </td>   \n",
              "</tr>\n",
              "<tr>\n",
              "  <th>Covariance Type:</th>      <td>nonrobust</td>    <th>                     </th>     <td> </td>   \n",
              "</tr>\n",
              "</table>\n",
              "<table class=\"simpletable\">\n",
              "<tr>\n",
              "       <td></td>          <th>coef</th>     <th>std err</th>      <th>t</th>      <th>P>|t|</th>  <th>[0.025</th>    <th>0.975]</th>  \n",
              "</tr>\n",
              "<tr>\n",
              "  <th>Intercept</th>   <td>  1.01e+05</td> <td> 4809.386</td> <td>   21.001</td> <td> 0.000</td> <td> 9.15e+04</td> <td>  1.1e+05</td>\n",
              "</tr>\n",
              "<tr>\n",
              "  <th>sex[T.Male]</th> <td> 1.409e+04</td> <td> 5064.579</td> <td>    2.782</td> <td> 0.006</td> <td> 4131.107</td> <td>  2.4e+04</td>\n",
              "</tr>\n",
              "</table>\n",
              "<table class=\"simpletable\">\n",
              "<tr>\n",
              "  <th>Omnibus:</th>       <td>28.630</td> <th>  Durbin-Watson:     </th> <td>   1.971</td>\n",
              "</tr>\n",
              "<tr>\n",
              "  <th>Prob(Omnibus):</th> <td> 0.000</td> <th>  Jarque-Bera (JB):  </th> <td>  33.087</td>\n",
              "</tr>\n",
              "<tr>\n",
              "  <th>Skew:</th>          <td> 0.703</td> <th>  Prob(JB):          </th> <td>6.53e-08</td>\n",
              "</tr>\n",
              "<tr>\n",
              "  <th>Kurtosis:</th>      <td> 3.152</td> <th>  Cond. No.          </th> <td>    6.23</td>\n",
              "</tr>\n",
              "</table><br/><br/>Warnings:<br/>[1] Standard Errors assume that the covariance matrix of the errors is correctly specified."
            ]
          },
          "metadata": {},
          "execution_count": 62
        }
      ]
    },
    {
      "cell_type": "markdown",
      "source": [
        "**Ważne:**\n",
        "\n",
        "Gdy w danych występują zmienne kategoryczne, jak np. w tym przypadku zmienna `sex`, postępujemy z nią następująco\n",
        "\n",
        "1. tworzymy, nową zmienną (ang. *dummy variable*), która\n",
        "\n",
        "    **1**, gdy osoba jest mężczyzną,\n",
        "    \n",
        "    **0**, gdy osoba jest kobietą,\n",
        "    \n",
        "    \n",
        "2. zmienna `sex` jest traktowana w równaniu regresji jako:\n",
        "\n",
        "  $b_0 + b_1$ gdy osoba jest mężczyzną,\n",
        "\n",
        "  $b_0$ gdy osoba jest kobietą."
      ],
      "metadata": {
        "id": "vvEw9TWMF5gB"
      }
    },
    {
      "cell_type": "markdown",
      "source": [
        "teraz zmieniamy poziom referencyjny aby był nim Male wówczas zmienna sex jest traktowana w równaniu regresji jako:\\\n",
        "$c_0$ gdy osoba jest mężczyzną,\\\n",
        "$c_0+ c_1$ gdy osoba jest kobietą.\\\n",
        "Zatem $c_0 = b_0+b_1$ i $c_1 = b_0-c_0 = -b_1$"
      ],
      "metadata": {
        "id": "txnc0DB0GY3J"
      }
    },
    {
      "cell_type": "code",
      "source": [
        "y, X = dmatrices('salary ~ C(sex, Treatment(\"Male\"))', data=salaries.data, return_type='dataframe')\n",
        "X.head()"
      ],
      "metadata": {
        "colab": {
          "base_uri": "https://localhost:8080/",
          "height": 206
        },
        "id": "SMLY0vrbGPBt",
        "outputId": "04ae4c13-01c5-4296-90a2-ae6458357d79"
      },
      "execution_count": 63,
      "outputs": [
        {
          "output_type": "execute_result",
          "data": {
            "text/plain": [
              "   Intercept  C(sex, Treatment(\"Male\"))[T.Female]\n",
              "0        1.0                                  0.0\n",
              "1        1.0                                  0.0\n",
              "2        1.0                                  0.0\n",
              "3        1.0                                  0.0\n",
              "4        1.0                                  0.0"
            ],
            "text/html": [
              "\n",
              "  <div id=\"df-ee554846-9e17-40e2-8c8a-8c1008b2e4c5\">\n",
              "    <div class=\"colab-df-container\">\n",
              "      <div>\n",
              "<style scoped>\n",
              "    .dataframe tbody tr th:only-of-type {\n",
              "        vertical-align: middle;\n",
              "    }\n",
              "\n",
              "    .dataframe tbody tr th {\n",
              "        vertical-align: top;\n",
              "    }\n",
              "\n",
              "    .dataframe thead th {\n",
              "        text-align: right;\n",
              "    }\n",
              "</style>\n",
              "<table border=\"1\" class=\"dataframe\">\n",
              "  <thead>\n",
              "    <tr style=\"text-align: right;\">\n",
              "      <th></th>\n",
              "      <th>Intercept</th>\n",
              "      <th>C(sex, Treatment(\"Male\"))[T.Female]</th>\n",
              "    </tr>\n",
              "  </thead>\n",
              "  <tbody>\n",
              "    <tr>\n",
              "      <th>0</th>\n",
              "      <td>1.0</td>\n",
              "      <td>0.0</td>\n",
              "    </tr>\n",
              "    <tr>\n",
              "      <th>1</th>\n",
              "      <td>1.0</td>\n",
              "      <td>0.0</td>\n",
              "    </tr>\n",
              "    <tr>\n",
              "      <th>2</th>\n",
              "      <td>1.0</td>\n",
              "      <td>0.0</td>\n",
              "    </tr>\n",
              "    <tr>\n",
              "      <th>3</th>\n",
              "      <td>1.0</td>\n",
              "      <td>0.0</td>\n",
              "    </tr>\n",
              "    <tr>\n",
              "      <th>4</th>\n",
              "      <td>1.0</td>\n",
              "      <td>0.0</td>\n",
              "    </tr>\n",
              "  </tbody>\n",
              "</table>\n",
              "</div>\n",
              "      <button class=\"colab-df-convert\" onclick=\"convertToInteractive('df-ee554846-9e17-40e2-8c8a-8c1008b2e4c5')\"\n",
              "              title=\"Convert this dataframe to an interactive table.\"\n",
              "              style=\"display:none;\">\n",
              "        \n",
              "  <svg xmlns=\"http://www.w3.org/2000/svg\" height=\"24px\"viewBox=\"0 0 24 24\"\n",
              "       width=\"24px\">\n",
              "    <path d=\"M0 0h24v24H0V0z\" fill=\"none\"/>\n",
              "    <path d=\"M18.56 5.44l.94 2.06.94-2.06 2.06-.94-2.06-.94-.94-2.06-.94 2.06-2.06.94zm-11 1L8.5 8.5l.94-2.06 2.06-.94-2.06-.94L8.5 2.5l-.94 2.06-2.06.94zm10 10l.94 2.06.94-2.06 2.06-.94-2.06-.94-.94-2.06-.94 2.06-2.06.94z\"/><path d=\"M17.41 7.96l-1.37-1.37c-.4-.4-.92-.59-1.43-.59-.52 0-1.04.2-1.43.59L10.3 9.45l-7.72 7.72c-.78.78-.78 2.05 0 2.83L4 21.41c.39.39.9.59 1.41.59.51 0 1.02-.2 1.41-.59l7.78-7.78 2.81-2.81c.8-.78.8-2.07 0-2.86zM5.41 20L4 18.59l7.72-7.72 1.47 1.35L5.41 20z\"/>\n",
              "  </svg>\n",
              "      </button>\n",
              "      \n",
              "  <style>\n",
              "    .colab-df-container {\n",
              "      display:flex;\n",
              "      flex-wrap:wrap;\n",
              "      gap: 12px;\n",
              "    }\n",
              "\n",
              "    .colab-df-convert {\n",
              "      background-color: #E8F0FE;\n",
              "      border: none;\n",
              "      border-radius: 50%;\n",
              "      cursor: pointer;\n",
              "      display: none;\n",
              "      fill: #1967D2;\n",
              "      height: 32px;\n",
              "      padding: 0 0 0 0;\n",
              "      width: 32px;\n",
              "    }\n",
              "\n",
              "    .colab-df-convert:hover {\n",
              "      background-color: #E2EBFA;\n",
              "      box-shadow: 0px 1px 2px rgba(60, 64, 67, 0.3), 0px 1px 3px 1px rgba(60, 64, 67, 0.15);\n",
              "      fill: #174EA6;\n",
              "    }\n",
              "\n",
              "    [theme=dark] .colab-df-convert {\n",
              "      background-color: #3B4455;\n",
              "      fill: #D2E3FC;\n",
              "    }\n",
              "\n",
              "    [theme=dark] .colab-df-convert:hover {\n",
              "      background-color: #434B5C;\n",
              "      box-shadow: 0px 1px 3px 1px rgba(0, 0, 0, 0.15);\n",
              "      filter: drop-shadow(0px 1px 2px rgba(0, 0, 0, 0.3));\n",
              "      fill: #FFFFFF;\n",
              "    }\n",
              "  </style>\n",
              "\n",
              "      <script>\n",
              "        const buttonEl =\n",
              "          document.querySelector('#df-ee554846-9e17-40e2-8c8a-8c1008b2e4c5 button.colab-df-convert');\n",
              "        buttonEl.style.display =\n",
              "          google.colab.kernel.accessAllowed ? 'block' : 'none';\n",
              "\n",
              "        async function convertToInteractive(key) {\n",
              "          const element = document.querySelector('#df-ee554846-9e17-40e2-8c8a-8c1008b2e4c5');\n",
              "          const dataTable =\n",
              "            await google.colab.kernel.invokeFunction('convertToInteractive',\n",
              "                                                     [key], {});\n",
              "          if (!dataTable) return;\n",
              "\n",
              "          const docLinkHtml = 'Like what you see? Visit the ' +\n",
              "            '<a target=\"_blank\" href=https://colab.research.google.com/notebooks/data_table.ipynb>data table notebook</a>'\n",
              "            + ' to learn more about interactive tables.';\n",
              "          element.innerHTML = '';\n",
              "          dataTable['output_type'] = 'display_data';\n",
              "          await google.colab.output.renderOutput(dataTable, element);\n",
              "          const docLink = document.createElement('div');\n",
              "          docLink.innerHTML = docLinkHtml;\n",
              "          element.appendChild(docLink);\n",
              "        }\n",
              "      </script>\n",
              "    </div>\n",
              "  </div>\n",
              "  "
            ]
          },
          "metadata": {},
          "execution_count": 63
        }
      ]
    },
    {
      "cell_type": "code",
      "source": [
        "sm.OLS(y, X).fit().summary()"
      ],
      "metadata": {
        "colab": {
          "base_uri": "https://localhost:8080/",
          "height": 451
        },
        "id": "ScORIxIUJeF8",
        "outputId": "78cdb334-8d9a-4360-df6c-c1a0c815e2db"
      },
      "execution_count": 64,
      "outputs": [
        {
          "output_type": "execute_result",
          "data": {
            "text/plain": [
              "<class 'statsmodels.iolib.summary.Summary'>\n",
              "\"\"\"\n",
              "                            OLS Regression Results                            \n",
              "==============================================================================\n",
              "Dep. Variable:                 salary   R-squared:                       0.019\n",
              "Model:                            OLS   Adj. R-squared:                  0.017\n",
              "Method:                 Least Squares   F-statistic:                     7.738\n",
              "Date:                Wed, 08 Jun 2022   Prob (F-statistic):            0.00567\n",
              "Time:                        16:31:01   Log-Likelihood:                -4655.4\n",
              "No. Observations:                 397   AIC:                             9315.\n",
              "Df Residuals:                     395   BIC:                             9323.\n",
              "Df Model:                           1                                         \n",
              "Covariance Type:            nonrobust                                         \n",
              "=======================================================================================================\n",
              "                                          coef    std err          t      P>|t|      [0.025      0.975]\n",
              "-------------------------------------------------------------------------------------------------------\n",
              "Intercept                            1.151e+05   1587.378     72.503      0.000    1.12e+05    1.18e+05\n",
              "C(sex, Treatment(\"Male\"))[T.Female] -1.409e+04   5064.579     -2.782      0.006    -2.4e+04   -4131.107\n",
              "==============================================================================\n",
              "Omnibus:                       28.630   Durbin-Watson:                   1.971\n",
              "Prob(Omnibus):                  0.000   Jarque-Bera (JB):               33.087\n",
              "Skew:                           0.703   Prob(JB):                     6.53e-08\n",
              "Kurtosis:                       3.152   Cond. No.                         3.40\n",
              "==============================================================================\n",
              "\n",
              "Warnings:\n",
              "[1] Standard Errors assume that the covariance matrix of the errors is correctly specified.\n",
              "\"\"\""
            ],
            "text/html": [
              "<table class=\"simpletable\">\n",
              "<caption>OLS Regression Results</caption>\n",
              "<tr>\n",
              "  <th>Dep. Variable:</th>         <td>salary</td>      <th>  R-squared:         </th> <td>   0.019</td>\n",
              "</tr>\n",
              "<tr>\n",
              "  <th>Model:</th>                   <td>OLS</td>       <th>  Adj. R-squared:    </th> <td>   0.017</td>\n",
              "</tr>\n",
              "<tr>\n",
              "  <th>Method:</th>             <td>Least Squares</td>  <th>  F-statistic:       </th> <td>   7.738</td>\n",
              "</tr>\n",
              "<tr>\n",
              "  <th>Date:</th>             <td>Wed, 08 Jun 2022</td> <th>  Prob (F-statistic):</th>  <td>0.00567</td>\n",
              "</tr>\n",
              "<tr>\n",
              "  <th>Time:</th>                 <td>16:31:01</td>     <th>  Log-Likelihood:    </th> <td> -4655.4</td>\n",
              "</tr>\n",
              "<tr>\n",
              "  <th>No. Observations:</th>      <td>   397</td>      <th>  AIC:               </th> <td>   9315.</td>\n",
              "</tr>\n",
              "<tr>\n",
              "  <th>Df Residuals:</th>          <td>   395</td>      <th>  BIC:               </th> <td>   9323.</td>\n",
              "</tr>\n",
              "<tr>\n",
              "  <th>Df Model:</th>              <td>     1</td>      <th>                     </th>     <td> </td>   \n",
              "</tr>\n",
              "<tr>\n",
              "  <th>Covariance Type:</th>      <td>nonrobust</td>    <th>                     </th>     <td> </td>   \n",
              "</tr>\n",
              "</table>\n",
              "<table class=\"simpletable\">\n",
              "<tr>\n",
              "                   <td></td>                      <th>coef</th>     <th>std err</th>      <th>t</th>      <th>P>|t|</th>  <th>[0.025</th>    <th>0.975]</th>  \n",
              "</tr>\n",
              "<tr>\n",
              "  <th>Intercept</th>                           <td> 1.151e+05</td> <td> 1587.378</td> <td>   72.503</td> <td> 0.000</td> <td> 1.12e+05</td> <td> 1.18e+05</td>\n",
              "</tr>\n",
              "<tr>\n",
              "  <th>C(sex, Treatment(\"Male\"))[T.Female]</th> <td>-1.409e+04</td> <td> 5064.579</td> <td>   -2.782</td> <td> 0.006</td> <td> -2.4e+04</td> <td>-4131.107</td>\n",
              "</tr>\n",
              "</table>\n",
              "<table class=\"simpletable\">\n",
              "<tr>\n",
              "  <th>Omnibus:</th>       <td>28.630</td> <th>  Durbin-Watson:     </th> <td>   1.971</td>\n",
              "</tr>\n",
              "<tr>\n",
              "  <th>Prob(Omnibus):</th> <td> 0.000</td> <th>  Jarque-Bera (JB):  </th> <td>  33.087</td>\n",
              "</tr>\n",
              "<tr>\n",
              "  <th>Skew:</th>          <td> 0.703</td> <th>  Prob(JB):          </th> <td>6.53e-08</td>\n",
              "</tr>\n",
              "<tr>\n",
              "  <th>Kurtosis:</th>      <td> 3.152</td> <th>  Cond. No.          </th> <td>    3.40</td>\n",
              "</tr>\n",
              "</table><br/><br/>Warnings:<br/>[1] Standard Errors assume that the covariance matrix of the errors is correctly specified."
            ]
          },
          "metadata": {},
          "execution_count": 64
        }
      ]
    },
    {
      "cell_type": "markdown",
      "metadata": {
        "id": "WAHUy5z7WEKh"
      },
      "source": [
        "## Zadanie 3.1 \n",
        "Sprawdź jak została zakodowana zmienna `ShelveLoc` w zbiorze danych `Carseats`. Zmień poziom wartości dla tej zmiennej, sprawdź różnice w modelu."
      ]
    },
    {
      "cell_type": "code",
      "source": [
        "np.unique(carseats_df.ShelveLoc) #3 poziomy"
      ],
      "metadata": {
        "id": "X-o_52iH7K_Q",
        "colab": {
          "base_uri": "https://localhost:8080/"
        },
        "outputId": "3495fa3e-a9e8-43f8-ead5-f2a9e35fefaf"
      },
      "execution_count": 66,
      "outputs": [
        {
          "output_type": "execute_result",
          "data": {
            "text/plain": [
              "array(['Bad', 'Good', 'Medium'], dtype=object)"
            ]
          },
          "metadata": {},
          "execution_count": 66
        }
      ]
    },
    {
      "cell_type": "code",
      "source": [
        "y,X = dmatrices('Sales~ShelveLoc',data = carseats.data,return_type = \"dataframe\")\n",
        "print(X.head())\n",
        "print(carseats_df.ShelveLoc.head())\n",
        "#jako referencyjny wzięty Bad"
      ],
      "metadata": {
        "colab": {
          "base_uri": "https://localhost:8080/"
        },
        "id": "VBoc_MtRJYnF",
        "outputId": "e70ac071-14fd-4e1c-f7d3-42fd3676b87c"
      },
      "execution_count": 67,
      "outputs": [
        {
          "output_type": "stream",
          "name": "stdout",
          "text": [
            "   Intercept  ShelveLoc[T.Good]  ShelveLoc[T.Medium]\n",
            "0        1.0                0.0                  0.0\n",
            "1        1.0                1.0                  0.0\n",
            "2        1.0                0.0                  1.0\n",
            "3        1.0                0.0                  1.0\n",
            "4        1.0                0.0                  0.0\n",
            "0       Bad\n",
            "1      Good\n",
            "2    Medium\n",
            "3    Medium\n",
            "4       Bad\n",
            "Name: ShelveLoc, dtype: object\n"
          ]
        }
      ]
    },
    {
      "cell_type": "code",
      "source": [
        "sm.OLS(y, X).fit().summary()"
      ],
      "metadata": {
        "colab": {
          "base_uri": "https://localhost:8080/",
          "height": 473
        },
        "id": "t3xfsLuJKrN5",
        "outputId": "60a7062a-474b-48f9-ae24-1c0ccbb69fe5"
      },
      "execution_count": 68,
      "outputs": [
        {
          "output_type": "execute_result",
          "data": {
            "text/plain": [
              "<class 'statsmodels.iolib.summary.Summary'>\n",
              "\"\"\"\n",
              "                            OLS Regression Results                            \n",
              "==============================================================================\n",
              "Dep. Variable:                  Sales   R-squared:                       0.317\n",
              "Model:                            OLS   Adj. R-squared:                  0.314\n",
              "Method:                 Least Squares   F-statistic:                     92.23\n",
              "Date:                Wed, 08 Jun 2022   Prob (F-statistic):           1.27e-33\n",
              "Time:                        16:32:55   Log-Likelihood:                -906.03\n",
              "No. Observations:                 400   AIC:                             1818.\n",
              "Df Residuals:                     397   BIC:                             1830.\n",
              "Df Model:                           2                                         \n",
              "Covariance Type:            nonrobust                                         \n",
              "=======================================================================================\n",
              "                          coef    std err          t      P>|t|      [0.025      0.975]\n",
              "---------------------------------------------------------------------------------------\n",
              "Intercept               5.5229      0.239     23.131      0.000       5.054       5.992\n",
              "ShelveLoc[T.Good]       4.6911      0.348     13.464      0.000       4.006       5.376\n",
              "ShelveLoc[T.Medium]     1.7837      0.286      6.229      0.000       1.221       2.347\n",
              "==============================================================================\n",
              "Omnibus:                        0.077   Durbin-Watson:                   1.946\n",
              "Prob(Omnibus):                  0.962   Jarque-Bera (JB):                0.092\n",
              "Skew:                           0.033   Prob(JB):                        0.955\n",
              "Kurtosis:                       2.966   Cond. No.                         4.57\n",
              "==============================================================================\n",
              "\n",
              "Warnings:\n",
              "[1] Standard Errors assume that the covariance matrix of the errors is correctly specified.\n",
              "\"\"\""
            ],
            "text/html": [
              "<table class=\"simpletable\">\n",
              "<caption>OLS Regression Results</caption>\n",
              "<tr>\n",
              "  <th>Dep. Variable:</th>          <td>Sales</td>      <th>  R-squared:         </th> <td>   0.317</td>\n",
              "</tr>\n",
              "<tr>\n",
              "  <th>Model:</th>                   <td>OLS</td>       <th>  Adj. R-squared:    </th> <td>   0.314</td>\n",
              "</tr>\n",
              "<tr>\n",
              "  <th>Method:</th>             <td>Least Squares</td>  <th>  F-statistic:       </th> <td>   92.23</td>\n",
              "</tr>\n",
              "<tr>\n",
              "  <th>Date:</th>             <td>Wed, 08 Jun 2022</td> <th>  Prob (F-statistic):</th> <td>1.27e-33</td>\n",
              "</tr>\n",
              "<tr>\n",
              "  <th>Time:</th>                 <td>16:32:55</td>     <th>  Log-Likelihood:    </th> <td> -906.03</td>\n",
              "</tr>\n",
              "<tr>\n",
              "  <th>No. Observations:</th>      <td>   400</td>      <th>  AIC:               </th> <td>   1818.</td>\n",
              "</tr>\n",
              "<tr>\n",
              "  <th>Df Residuals:</th>          <td>   397</td>      <th>  BIC:               </th> <td>   1830.</td>\n",
              "</tr>\n",
              "<tr>\n",
              "  <th>Df Model:</th>              <td>     2</td>      <th>                     </th>     <td> </td>   \n",
              "</tr>\n",
              "<tr>\n",
              "  <th>Covariance Type:</th>      <td>nonrobust</td>    <th>                     </th>     <td> </td>   \n",
              "</tr>\n",
              "</table>\n",
              "<table class=\"simpletable\">\n",
              "<tr>\n",
              "           <td></td>              <th>coef</th>     <th>std err</th>      <th>t</th>      <th>P>|t|</th>  <th>[0.025</th>    <th>0.975]</th>  \n",
              "</tr>\n",
              "<tr>\n",
              "  <th>Intercept</th>           <td>    5.5229</td> <td>    0.239</td> <td>   23.131</td> <td> 0.000</td> <td>    5.054</td> <td>    5.992</td>\n",
              "</tr>\n",
              "<tr>\n",
              "  <th>ShelveLoc[T.Good]</th>   <td>    4.6911</td> <td>    0.348</td> <td>   13.464</td> <td> 0.000</td> <td>    4.006</td> <td>    5.376</td>\n",
              "</tr>\n",
              "<tr>\n",
              "  <th>ShelveLoc[T.Medium]</th> <td>    1.7837</td> <td>    0.286</td> <td>    6.229</td> <td> 0.000</td> <td>    1.221</td> <td>    2.347</td>\n",
              "</tr>\n",
              "</table>\n",
              "<table class=\"simpletable\">\n",
              "<tr>\n",
              "  <th>Omnibus:</th>       <td> 0.077</td> <th>  Durbin-Watson:     </th> <td>   1.946</td>\n",
              "</tr>\n",
              "<tr>\n",
              "  <th>Prob(Omnibus):</th> <td> 0.962</td> <th>  Jarque-Bera (JB):  </th> <td>   0.092</td>\n",
              "</tr>\n",
              "<tr>\n",
              "  <th>Skew:</th>          <td> 0.033</td> <th>  Prob(JB):          </th> <td>   0.955</td>\n",
              "</tr>\n",
              "<tr>\n",
              "  <th>Kurtosis:</th>      <td> 2.966</td> <th>  Cond. No.          </th> <td>    4.57</td>\n",
              "</tr>\n",
              "</table><br/><br/>Warnings:<br/>[1] Standard Errors assume that the covariance matrix of the errors is correctly specified."
            ]
          },
          "metadata": {},
          "execution_count": 68
        }
      ]
    },
    {
      "cell_type": "code",
      "source": [
        "#bad - y=b_0\n",
        "#medium - y = b0+b2\n",
        "#good - y = b0+b1"
      ],
      "metadata": {
        "id": "inAjqNsBKZqQ"
      },
      "execution_count": null,
      "outputs": []
    },
    {
      "cell_type": "code",
      "source": [
        "y,X = dmatrices('Sales~C(ShelveLoc,Treatment(\"Good\"))',data = carseats.data,return_type = \"dataframe\")\n",
        "X.head() #zmieniamy poziom referencyjny na good"
      ],
      "metadata": {
        "colab": {
          "base_uri": "https://localhost:8080/",
          "height": 206
        },
        "id": "BVzyCFbNKy3y",
        "outputId": "45bfdc9e-fb0b-4b10-93ec-25fade826204"
      },
      "execution_count": 70,
      "outputs": [
        {
          "output_type": "execute_result",
          "data": {
            "text/plain": [
              "   Intercept  C(ShelveLoc, Treatment(\"Good\"))[T.Bad]  \\\n",
              "0        1.0                                     1.0   \n",
              "1        1.0                                     0.0   \n",
              "2        1.0                                     0.0   \n",
              "3        1.0                                     0.0   \n",
              "4        1.0                                     1.0   \n",
              "\n",
              "   C(ShelveLoc, Treatment(\"Good\"))[T.Medium]  \n",
              "0                                        0.0  \n",
              "1                                        0.0  \n",
              "2                                        1.0  \n",
              "3                                        1.0  \n",
              "4                                        0.0  "
            ],
            "text/html": [
              "\n",
              "  <div id=\"df-846f8933-7ff1-4dee-95e2-5004a59dfa21\">\n",
              "    <div class=\"colab-df-container\">\n",
              "      <div>\n",
              "<style scoped>\n",
              "    .dataframe tbody tr th:only-of-type {\n",
              "        vertical-align: middle;\n",
              "    }\n",
              "\n",
              "    .dataframe tbody tr th {\n",
              "        vertical-align: top;\n",
              "    }\n",
              "\n",
              "    .dataframe thead th {\n",
              "        text-align: right;\n",
              "    }\n",
              "</style>\n",
              "<table border=\"1\" class=\"dataframe\">\n",
              "  <thead>\n",
              "    <tr style=\"text-align: right;\">\n",
              "      <th></th>\n",
              "      <th>Intercept</th>\n",
              "      <th>C(ShelveLoc, Treatment(\"Good\"))[T.Bad]</th>\n",
              "      <th>C(ShelveLoc, Treatment(\"Good\"))[T.Medium]</th>\n",
              "    </tr>\n",
              "  </thead>\n",
              "  <tbody>\n",
              "    <tr>\n",
              "      <th>0</th>\n",
              "      <td>1.0</td>\n",
              "      <td>1.0</td>\n",
              "      <td>0.0</td>\n",
              "    </tr>\n",
              "    <tr>\n",
              "      <th>1</th>\n",
              "      <td>1.0</td>\n",
              "      <td>0.0</td>\n",
              "      <td>0.0</td>\n",
              "    </tr>\n",
              "    <tr>\n",
              "      <th>2</th>\n",
              "      <td>1.0</td>\n",
              "      <td>0.0</td>\n",
              "      <td>1.0</td>\n",
              "    </tr>\n",
              "    <tr>\n",
              "      <th>3</th>\n",
              "      <td>1.0</td>\n",
              "      <td>0.0</td>\n",
              "      <td>1.0</td>\n",
              "    </tr>\n",
              "    <tr>\n",
              "      <th>4</th>\n",
              "      <td>1.0</td>\n",
              "      <td>1.0</td>\n",
              "      <td>0.0</td>\n",
              "    </tr>\n",
              "  </tbody>\n",
              "</table>\n",
              "</div>\n",
              "      <button class=\"colab-df-convert\" onclick=\"convertToInteractive('df-846f8933-7ff1-4dee-95e2-5004a59dfa21')\"\n",
              "              title=\"Convert this dataframe to an interactive table.\"\n",
              "              style=\"display:none;\">\n",
              "        \n",
              "  <svg xmlns=\"http://www.w3.org/2000/svg\" height=\"24px\"viewBox=\"0 0 24 24\"\n",
              "       width=\"24px\">\n",
              "    <path d=\"M0 0h24v24H0V0z\" fill=\"none\"/>\n",
              "    <path d=\"M18.56 5.44l.94 2.06.94-2.06 2.06-.94-2.06-.94-.94-2.06-.94 2.06-2.06.94zm-11 1L8.5 8.5l.94-2.06 2.06-.94-2.06-.94L8.5 2.5l-.94 2.06-2.06.94zm10 10l.94 2.06.94-2.06 2.06-.94-2.06-.94-.94-2.06-.94 2.06-2.06.94z\"/><path d=\"M17.41 7.96l-1.37-1.37c-.4-.4-.92-.59-1.43-.59-.52 0-1.04.2-1.43.59L10.3 9.45l-7.72 7.72c-.78.78-.78 2.05 0 2.83L4 21.41c.39.39.9.59 1.41.59.51 0 1.02-.2 1.41-.59l7.78-7.78 2.81-2.81c.8-.78.8-2.07 0-2.86zM5.41 20L4 18.59l7.72-7.72 1.47 1.35L5.41 20z\"/>\n",
              "  </svg>\n",
              "      </button>\n",
              "      \n",
              "  <style>\n",
              "    .colab-df-container {\n",
              "      display:flex;\n",
              "      flex-wrap:wrap;\n",
              "      gap: 12px;\n",
              "    }\n",
              "\n",
              "    .colab-df-convert {\n",
              "      background-color: #E8F0FE;\n",
              "      border: none;\n",
              "      border-radius: 50%;\n",
              "      cursor: pointer;\n",
              "      display: none;\n",
              "      fill: #1967D2;\n",
              "      height: 32px;\n",
              "      padding: 0 0 0 0;\n",
              "      width: 32px;\n",
              "    }\n",
              "\n",
              "    .colab-df-convert:hover {\n",
              "      background-color: #E2EBFA;\n",
              "      box-shadow: 0px 1px 2px rgba(60, 64, 67, 0.3), 0px 1px 3px 1px rgba(60, 64, 67, 0.15);\n",
              "      fill: #174EA6;\n",
              "    }\n",
              "\n",
              "    [theme=dark] .colab-df-convert {\n",
              "      background-color: #3B4455;\n",
              "      fill: #D2E3FC;\n",
              "    }\n",
              "\n",
              "    [theme=dark] .colab-df-convert:hover {\n",
              "      background-color: #434B5C;\n",
              "      box-shadow: 0px 1px 3px 1px rgba(0, 0, 0, 0.15);\n",
              "      filter: drop-shadow(0px 1px 2px rgba(0, 0, 0, 0.3));\n",
              "      fill: #FFFFFF;\n",
              "    }\n",
              "  </style>\n",
              "\n",
              "      <script>\n",
              "        const buttonEl =\n",
              "          document.querySelector('#df-846f8933-7ff1-4dee-95e2-5004a59dfa21 button.colab-df-convert');\n",
              "        buttonEl.style.display =\n",
              "          google.colab.kernel.accessAllowed ? 'block' : 'none';\n",
              "\n",
              "        async function convertToInteractive(key) {\n",
              "          const element = document.querySelector('#df-846f8933-7ff1-4dee-95e2-5004a59dfa21');\n",
              "          const dataTable =\n",
              "            await google.colab.kernel.invokeFunction('convertToInteractive',\n",
              "                                                     [key], {});\n",
              "          if (!dataTable) return;\n",
              "\n",
              "          const docLinkHtml = 'Like what you see? Visit the ' +\n",
              "            '<a target=\"_blank\" href=https://colab.research.google.com/notebooks/data_table.ipynb>data table notebook</a>'\n",
              "            + ' to learn more about interactive tables.';\n",
              "          element.innerHTML = '';\n",
              "          dataTable['output_type'] = 'display_data';\n",
              "          await google.colab.output.renderOutput(dataTable, element);\n",
              "          const docLink = document.createElement('div');\n",
              "          docLink.innerHTML = docLinkHtml;\n",
              "          element.appendChild(docLink);\n",
              "        }\n",
              "      </script>\n",
              "    </div>\n",
              "  </div>\n",
              "  "
            ]
          },
          "metadata": {},
          "execution_count": 70
        }
      ]
    },
    {
      "cell_type": "code",
      "source": [
        "sm.OLS(y, X).fit().summary()\n",
        "#mamy nowe współczynniki c_0,c_1 i c_2\n",
        "#Wyrażają się one przez:\n",
        "#good: y=c_0 = b_0+b_1\n",
        "#medium: y=c_0+c_2 = b_0+b_2\n",
        "#bad: y = c_0+c_1 = b_0\n",
        "#Zatem:\n",
        "# c_0 = b_0+b_1\n",
        "# c_1 = -b_1\n",
        "# c_2 = b_2-b_1"
      ],
      "metadata": {
        "colab": {
          "base_uri": "https://localhost:8080/",
          "height": 473
        },
        "id": "mz5n8cMhOvVg",
        "outputId": "ffbb3733-f9f6-4d46-8de5-e71cf5b1c485"
      },
      "execution_count": 71,
      "outputs": [
        {
          "output_type": "execute_result",
          "data": {
            "text/plain": [
              "<class 'statsmodels.iolib.summary.Summary'>\n",
              "\"\"\"\n",
              "                            OLS Regression Results                            \n",
              "==============================================================================\n",
              "Dep. Variable:                  Sales   R-squared:                       0.317\n",
              "Model:                            OLS   Adj. R-squared:                  0.314\n",
              "Method:                 Least Squares   F-statistic:                     92.23\n",
              "Date:                Wed, 08 Jun 2022   Prob (F-statistic):           1.27e-33\n",
              "Time:                        16:44:12   Log-Likelihood:                -906.03\n",
              "No. Observations:                 400   AIC:                             1818.\n",
              "Df Residuals:                     397   BIC:                             1830.\n",
              "Df Model:                           2                                         \n",
              "Covariance Type:            nonrobust                                         \n",
              "=============================================================================================================\n",
              "                                                coef    std err          t      P>|t|      [0.025      0.975]\n",
              "-------------------------------------------------------------------------------------------------------------\n",
              "Intercept                                    10.2140      0.254     40.253      0.000       9.715      10.713\n",
              "C(ShelveLoc, Treatment(\"Good\"))[T.Bad]       -4.6911      0.348    -13.464      0.000      -5.376      -4.006\n",
              "C(ShelveLoc, Treatment(\"Good\"))[T.Medium]    -2.9074      0.299     -9.725      0.000      -3.495      -2.320\n",
              "==============================================================================\n",
              "Omnibus:                        0.077   Durbin-Watson:                   1.946\n",
              "Prob(Omnibus):                  0.962   Jarque-Bera (JB):                0.092\n",
              "Skew:                           0.033   Prob(JB):                        0.955\n",
              "Kurtosis:                       2.966   Cond. No.                         4.78\n",
              "==============================================================================\n",
              "\n",
              "Warnings:\n",
              "[1] Standard Errors assume that the covariance matrix of the errors is correctly specified.\n",
              "\"\"\""
            ],
            "text/html": [
              "<table class=\"simpletable\">\n",
              "<caption>OLS Regression Results</caption>\n",
              "<tr>\n",
              "  <th>Dep. Variable:</th>          <td>Sales</td>      <th>  R-squared:         </th> <td>   0.317</td>\n",
              "</tr>\n",
              "<tr>\n",
              "  <th>Model:</th>                   <td>OLS</td>       <th>  Adj. R-squared:    </th> <td>   0.314</td>\n",
              "</tr>\n",
              "<tr>\n",
              "  <th>Method:</th>             <td>Least Squares</td>  <th>  F-statistic:       </th> <td>   92.23</td>\n",
              "</tr>\n",
              "<tr>\n",
              "  <th>Date:</th>             <td>Wed, 08 Jun 2022</td> <th>  Prob (F-statistic):</th> <td>1.27e-33</td>\n",
              "</tr>\n",
              "<tr>\n",
              "  <th>Time:</th>                 <td>16:44:12</td>     <th>  Log-Likelihood:    </th> <td> -906.03</td>\n",
              "</tr>\n",
              "<tr>\n",
              "  <th>No. Observations:</th>      <td>   400</td>      <th>  AIC:               </th> <td>   1818.</td>\n",
              "</tr>\n",
              "<tr>\n",
              "  <th>Df Residuals:</th>          <td>   397</td>      <th>  BIC:               </th> <td>   1830.</td>\n",
              "</tr>\n",
              "<tr>\n",
              "  <th>Df Model:</th>              <td>     2</td>      <th>                     </th>     <td> </td>   \n",
              "</tr>\n",
              "<tr>\n",
              "  <th>Covariance Type:</th>      <td>nonrobust</td>    <th>                     </th>     <td> </td>   \n",
              "</tr>\n",
              "</table>\n",
              "<table class=\"simpletable\">\n",
              "<tr>\n",
              "                      <td></td>                         <th>coef</th>     <th>std err</th>      <th>t</th>      <th>P>|t|</th>  <th>[0.025</th>    <th>0.975]</th>  \n",
              "</tr>\n",
              "<tr>\n",
              "  <th>Intercept</th>                                 <td>   10.2140</td> <td>    0.254</td> <td>   40.253</td> <td> 0.000</td> <td>    9.715</td> <td>   10.713</td>\n",
              "</tr>\n",
              "<tr>\n",
              "  <th>C(ShelveLoc, Treatment(\"Good\"))[T.Bad]</th>    <td>   -4.6911</td> <td>    0.348</td> <td>  -13.464</td> <td> 0.000</td> <td>   -5.376</td> <td>   -4.006</td>\n",
              "</tr>\n",
              "<tr>\n",
              "  <th>C(ShelveLoc, Treatment(\"Good\"))[T.Medium]</th> <td>   -2.9074</td> <td>    0.299</td> <td>   -9.725</td> <td> 0.000</td> <td>   -3.495</td> <td>   -2.320</td>\n",
              "</tr>\n",
              "</table>\n",
              "<table class=\"simpletable\">\n",
              "<tr>\n",
              "  <th>Omnibus:</th>       <td> 0.077</td> <th>  Durbin-Watson:     </th> <td>   1.946</td>\n",
              "</tr>\n",
              "<tr>\n",
              "  <th>Prob(Omnibus):</th> <td> 0.962</td> <th>  Jarque-Bera (JB):  </th> <td>   0.092</td>\n",
              "</tr>\n",
              "<tr>\n",
              "  <th>Skew:</th>          <td> 0.033</td> <th>  Prob(JB):          </th> <td>   0.955</td>\n",
              "</tr>\n",
              "<tr>\n",
              "  <th>Kurtosis:</th>      <td> 2.966</td> <th>  Cond. No.          </th> <td>    4.78</td>\n",
              "</tr>\n",
              "</table><br/><br/>Warnings:<br/>[1] Standard Errors assume that the covariance matrix of the errors is correctly specified."
            ]
          },
          "metadata": {},
          "execution_count": 71
        }
      ]
    },
    {
      "cell_type": "markdown",
      "metadata": {
        "id": "Xaba2_WHWEKi"
      },
      "source": [
        "# Zadanie 4\n",
        "Napisz funkcję, która dla wybranej zmiennej niezależnej dopasuje model prostej liniowej postaci: `Sales ~ X`, gdzie `X` to wybrana zmienna. Następnie, korzystając z napisanej funkcji dopasuj model do każdej zmiennej niezależnej w zbiorze `Carseats`."
      ]
    },
    {
      "cell_type": "code",
      "execution_count": 76,
      "metadata": {
        "id": "1P1uQo1iWEKj",
        "colab": {
          "base_uri": "https://localhost:8080/",
          "height": 1000
        },
        "outputId": "d315576a-3d56-41b5-ab99-2e851c920ad4"
      },
      "outputs": [
        {
          "output_type": "display_data",
          "data": {
            "text/plain": [
              "<Figure size 1440x2880 with 10 Axes>"
            ],
            "image/png": "[encoded data removed]"
          },
          "metadata": {
            "needs_background": "light"
          }
        }
      ],
      "source": [
        "def XY_generator(col):\n",
        "  return(dmatrices('Sales ~ {}'.format(col), data=carseats.data, return_type='dataframe'))\n",
        "\n",
        "plt.figure(figsize=(20, 40))\n",
        "\n",
        "columns = carseats_df.columns[carseats_df.columns != 'Sales']\n",
        "\n",
        "for i, col in enumerate(columns):\n",
        "    #dopasowujemy dla zmiennej zależnej Sales  jedną kolumnę z danych (w każdym obrocie inną)\n",
        "    Y, X = XY_generator(col)\n",
        "\n",
        "    plt.subplot(len(columns) // 2 + 1, 2, i+1)\n",
        "    #rysujemy wykres rozproszenia dla każdej pary zmienna niezależna vs zmienna zależna\n",
        "    plt.scatter(carseats_df[col], Y, marker='o')\n",
        "    \n",
        "    #dopasowujemy model jednej zmiennej\n",
        "    model = sm.OLS(endog=Y, exog=X)\n",
        "    fitted_model = model.fit()\n",
        "    plt.plot(carseats_df[col], fitted_model.fittedvalues, color='red')\n",
        "    \n",
        "    plt.xlabel(col)\n",
        "    plt.ylabel('Sales')\n",
        "    #dopisujemy charakterystyki danych modeli R^2 im większe tym lepiej,\n",
        "    #AIC i BIC im mniej tym lepiej\n",
        "    plt.title(\"R2={}, AIC={}, BIC={}\".format(np.round(fitted_model.rsquared, 2), \n",
        "                                            np.round(fitted_model.aic, 2),\n",
        "                                            np.round(fitted_model.bic, 2)))"
      ]
    }
  ],
  "metadata": {
    "kernelspec": {
      "display_name": "Python 3",
      "language": "python",
      "name": "python3"
    },
    "language_info": {
      "codemirror_mode": {
        "name": "ipython",
        "version": 3
      },
      "file_extension": ".py",
      "mimetype": "text/x-python",
      "name": "python",
      "nbconvert_exporter": "python",
      "pygments_lexer": "ipython3",
      "version": "3.7.4"
    },
    "colab": {
      "name": "01_regresja_jednej_zmiennej.ipynb",
      "provenance": [],
      "collapsed_sections": [
        "frVr7ocXWEKd"
      ]
    }
  },
  "nbformat": 4,
  "nbformat_minor": 0
}