{
  "cells": [
    {
      "cell_type": "markdown",
      "metadata": {
        "id": "dkGWE0QwTbMo"
      },
      "source": [
        "# Regresja wielomianowa"
      ]
    },
    {
      "cell_type": "code",
      "execution_count": 1,
      "metadata": {
        "id": "8ceK6xmVTbMw",
        "colab": {
          "base_uri": "https://localhost:8080/"
        },
        "outputId": "5bb7ba60-bcb2-4f5d-f1ae-c37f59ff6a2e"
      },
      "outputs": [
        {
          "output_type": "stream",
          "name": "stderr",
          "text": [
            "/usr/local/lib/python3.7/dist-packages/statsmodels/tools/_testing.py:19: FutureWarning: pandas.util.testing is deprecated. Use the functions in the public API at pandas.testing instead.\n",
            "  import pandas.util.testing as tm\n"
          ]
        }
      ],
      "source": [
        "import numpy as np\n",
        "import pandas as pd\n",
        "\n",
        "import statsmodels.api as sm\n",
        "import statsmodels.formula.api as smf\n",
        "\n",
        "from scipy import stats\n",
        "from patsy import dmatrices\n",
        "\n",
        "import matplotlib.pyplot as plt"
      ]
    },
    {
      "cell_type": "markdown",
      "metadata": {
        "id": "iH5HHybhTbM0"
      },
      "source": [
        "# Zadanie 1\n",
        "Wygeneruj $n$ par punktów (x, y) takich, że\n",
        "$$\n",
        "y = x - 2x^2 + 0.5x^3 + e,\n",
        "$$\n",
        "gdzie $e\\sim\\mathcal{N}(\\mu, \\sigma)$. \n",
        "A następnie dopasuj model\n",
        "\n",
        "a) regresji liniowej: $y=\\beta_0 + \\beta_1\\cdot x$\n",
        "\n",
        "b) regresji wielomianowej stopnia 2: $y=\\beta_0 + \\beta_1\\cdot x + \\beta_2\\cdot x^2$,\n",
        "\n",
        "c) regresji wielomianowej stopnia 3: $y=\\beta_0 + \\beta_1\\cdot x + \\beta_2\\cdot x^2 + \\beta_3\\cdot x^3$,\n",
        "\n",
        "d) regresji wielomianowej stopnia 20: $y=\\beta_0 + \\beta_1\\cdot x + \\beta_2\\cdot x^2 + \\ldots + \\beta_{20}\\cdot x^{20}$,"
      ]
    },
    {
      "cell_type": "markdown",
      "metadata": {
        "id": "4IwZHYWSTbM1"
      },
      "source": [
        "**Wskazówka**: `smf.ols('y ~ x + I(x**k)', data_frame)` lub `PolynomialFeatures` z `sklearn.preprocessing`"
      ]
    },
    {
      "cell_type": "code",
      "source": [
        "n = 100\n",
        "x = stats.uniform.rvs(size = n,loc = -3, scale = 6)\n",
        "eps = stats.norm.rvs(size = n, loc = 2,scale = 2)\n",
        "y = x-2*(x**2)+0.5*(x**3)+eps"
      ],
      "metadata": {
        "id": "wD45BKxp_Egw"
      },
      "execution_count": 2,
      "outputs": []
    },
    {
      "cell_type": "code",
      "source": [
        "plt.scatter(x,y)\n",
        "#zależność mocno nieliniowa"
      ],
      "metadata": {
        "colab": {
          "base_uri": "https://localhost:8080/",
          "height": 282
        },
        "id": "QMdS0ci_Ad3Z",
        "outputId": "2dd4e887-0f07-4f5f-aaaa-02f3cb478638"
      },
      "execution_count": 4,
      "outputs": [
        {
          "output_type": "execute_result",
          "data": {
            "text/plain": [
              "<matplotlib.collections.PathCollection at 0x7f17a93bf290>"
            ]
          },
          "metadata": {},
          "execution_count": 4
        },
        {
          "output_type": "display_data",
          "data": {
            "text/plain": [
              "<Figure size 432x288 with 1 Axes>"
            ],
            "image/png": "[encoded data removed]"
          },
          "metadata": {
            "needs_background": "light"
          }
        }
      ]
    },
    {
      "cell_type": "code",
      "source": [
        "#regresja liniowa\n",
        "X = sm.add_constant(x,prepend = True,has_constant = 'add')\n",
        "model1 = sm.OLS(endog = y,exog = X).fit()\n",
        "model1.summary()"
      ],
      "metadata": {
        "colab": {
          "base_uri": "https://localhost:8080/",
          "height": 451
        },
        "id": "blBOBQIMAr1g",
        "outputId": "b9bb36bb-6a35-4323-b9fe-9f6df8c83858"
      },
      "execution_count": 6,
      "outputs": [
        {
          "output_type": "execute_result",
          "data": {
            "text/plain": [
              "<class 'statsmodels.iolib.summary.Summary'>\n",
              "\"\"\"\n",
              "                            OLS Regression Results                            \n",
              "==============================================================================\n",
              "Dep. Variable:                      y   R-squared:                       0.499\n",
              "Model:                            OLS   Adj. R-squared:                  0.493\n",
              "Method:                 Least Squares   F-statistic:                     97.41\n",
              "Date:                Thu, 09 Jun 2022   Prob (F-statistic):           2.32e-16\n",
              "Time:                        11:21:14   Log-Likelihood:                -317.92\n",
              "No. Observations:                 100   AIC:                             639.8\n",
              "Df Residuals:                      98   BIC:                             645.0\n",
              "Df Model:                           1                                         \n",
              "Covariance Type:            nonrobust                                         \n",
              "==============================================================================\n",
              "                 coef    std err          t      P>|t|      [0.025      0.975]\n",
              "------------------------------------------------------------------------------\n",
              "const         -4.0967      0.593     -6.903      0.000      -5.274      -2.919\n",
              "x1             3.6313      0.368      9.870      0.000       2.901       4.361\n",
              "==============================================================================\n",
              "Omnibus:                       13.562   Durbin-Watson:                   2.084\n",
              "Prob(Omnibus):                  0.001   Jarque-Bera (JB):               14.603\n",
              "Skew:                          -0.851   Prob(JB):                     0.000674\n",
              "Kurtosis:                       3.781   Cond. No.                         1.65\n",
              "==============================================================================\n",
              "\n",
              "Warnings:\n",
              "[1] Standard Errors assume that the covariance matrix of the errors is correctly specified.\n",
              "\"\"\""
            ],
            "text/html": [
              "<table class=\"simpletable\">\n",
              "<caption>OLS Regression Results</caption>\n",
              "<tr>\n",
              "  <th>Dep. Variable:</th>            <td>y</td>        <th>  R-squared:         </th> <td>   0.499</td>\n",
              "</tr>\n",
              "<tr>\n",
              "  <th>Model:</th>                   <td>OLS</td>       <th>  Adj. R-squared:    </th> <td>   0.493</td>\n",
              "</tr>\n",
              "<tr>\n",
              "  <th>Method:</th>             <td>Least Squares</td>  <th>  F-statistic:       </th> <td>   97.41</td>\n",
              "</tr>\n",
              "<tr>\n",
              "  <th>Date:</th>             <td>Thu, 09 Jun 2022</td> <th>  Prob (F-statistic):</th> <td>2.32e-16</td>\n",
              "</tr>\n",
              "<tr>\n",
              "  <th>Time:</th>                 <td>11:21:14</td>     <th>  Log-Likelihood:    </th> <td> -317.92</td>\n",
              "</tr>\n",
              "<tr>\n",
              "  <th>No. Observations:</th>      <td>   100</td>      <th>  AIC:               </th> <td>   639.8</td>\n",
              "</tr>\n",
              "<tr>\n",
              "  <th>Df Residuals:</th>          <td>    98</td>      <th>  BIC:               </th> <td>   645.0</td>\n",
              "</tr>\n",
              "<tr>\n",
              "  <th>Df Model:</th>              <td>     1</td>      <th>                     </th>     <td> </td>   \n",
              "</tr>\n",
              "<tr>\n",
              "  <th>Covariance Type:</th>      <td>nonrobust</td>    <th>                     </th>     <td> </td>   \n",
              "</tr>\n",
              "</table>\n",
              "<table class=\"simpletable\">\n",
              "<tr>\n",
              "    <td></td>       <th>coef</th>     <th>std err</th>      <th>t</th>      <th>P>|t|</th>  <th>[0.025</th>    <th>0.975]</th>  \n",
              "</tr>\n",
              "<tr>\n",
              "  <th>const</th> <td>   -4.0967</td> <td>    0.593</td> <td>   -6.903</td> <td> 0.000</td> <td>   -5.274</td> <td>   -2.919</td>\n",
              "</tr>\n",
              "<tr>\n",
              "  <th>x1</th>    <td>    3.6313</td> <td>    0.368</td> <td>    9.870</td> <td> 0.000</td> <td>    2.901</td> <td>    4.361</td>\n",
              "</tr>\n",
              "</table>\n",
              "<table class=\"simpletable\">\n",
              "<tr>\n",
              "  <th>Omnibus:</th>       <td>13.562</td> <th>  Durbin-Watson:     </th> <td>   2.084</td>\n",
              "</tr>\n",
              "<tr>\n",
              "  <th>Prob(Omnibus):</th> <td> 0.001</td> <th>  Jarque-Bera (JB):  </th> <td>  14.603</td>\n",
              "</tr>\n",
              "<tr>\n",
              "  <th>Skew:</th>          <td>-0.851</td> <th>  Prob(JB):          </th> <td>0.000674</td>\n",
              "</tr>\n",
              "<tr>\n",
              "  <th>Kurtosis:</th>      <td> 3.781</td> <th>  Cond. No.          </th> <td>    1.65</td>\n",
              "</tr>\n",
              "</table><br/><br/>Warnings:<br/>[1] Standard Errors assume that the covariance matrix of the errors is correctly specified."
            ]
          },
          "metadata": {},
          "execution_count": 6
        }
      ]
    },
    {
      "cell_type": "code",
      "source": [
        "plt.scatter(x,y)\n",
        "plt.plot(x,x*model1.params[1]+model1.params[0],color = 'red',label = 'degree=1')\n",
        "#regresja liniowa słabo się dopasowuje"
      ],
      "metadata": {
        "colab": {
          "base_uri": "https://localhost:8080/",
          "height": 282
        },
        "id": "l-QtMNUFBKJf",
        "outputId": "88fdaebd-8fd4-4dfa-dea0-88c4f9752d78"
      },
      "execution_count": 7,
      "outputs": [
        {
          "output_type": "execute_result",
          "data": {
            "text/plain": [
              "[<matplotlib.lines.Line2D at 0x7f17a9285450>]"
            ]
          },
          "metadata": {},
          "execution_count": 7
        },
        {
          "output_type": "display_data",
          "data": {
            "text/plain": [
              "<Figure size 432x288 with 1 Axes>"
            ],
            "image/png": "[encoded data removed]"
          },
          "metadata": {
            "needs_background": "light"
          }
        }
      ]
    },
    {
      "cell_type": "code",
      "source": [
        "from sklearn.preprocessing import PolynomialFeatures"
      ],
      "metadata": {
        "id": "fhaWJ1SYBedC"
      },
      "execution_count": 8,
      "outputs": []
    },
    {
      "cell_type": "code",
      "source": [
        "#dopasowujemy wielomian stopnia 2\n",
        "pol2 = PolynomialFeatures(degree = 2)\n",
        "x.reshape(-1,1)\n",
        "x2 = pol2.fit_transform(x.reshape(-1,1))\n",
        "#na danych 1, x, x^2 dopasowujemy model liniowy (regresja wielomianowa) \n",
        "model2 = sm.OLS(endog = y,exog = x2).fit()\n",
        "model2.summary()"
      ],
      "metadata": {
        "colab": {
          "base_uri": "https://localhost:8080/",
          "height": 473
        },
        "id": "qJ13AuTuBo2E",
        "outputId": "e45c769b-5351-4cf0-c019-42026ec14522"
      },
      "execution_count": 9,
      "outputs": [
        {
          "output_type": "execute_result",
          "data": {
            "text/plain": [
              "<class 'statsmodels.iolib.summary.Summary'>\n",
              "\"\"\"\n",
              "                            OLS Regression Results                            \n",
              "==============================================================================\n",
              "Dep. Variable:                      y   R-squared:                       0.882\n",
              "Model:                            OLS   Adj. R-squared:                  0.880\n",
              "Method:                 Least Squares   F-statistic:                     363.9\n",
              "Date:                Thu, 09 Jun 2022   Prob (F-statistic):           8.19e-46\n",
              "Time:                        11:23:00   Log-Likelihood:                -245.40\n",
              "No. Observations:                 100   AIC:                             496.8\n",
              "Df Residuals:                      97   BIC:                             504.6\n",
              "Df Model:                           2                                         \n",
              "Covariance Type:            nonrobust                                         \n",
              "==============================================================================\n",
              "                 coef    std err          t      P>|t|      [0.025      0.975]\n",
              "------------------------------------------------------------------------------\n",
              "const          1.1326      0.412      2.749      0.007       0.315       1.950\n",
              "x1             3.5116      0.179     19.596      0.000       3.156       3.867\n",
              "x2            -1.9991      0.112    -17.795      0.000      -2.222      -1.776\n",
              "==============================================================================\n",
              "Omnibus:                        5.624   Durbin-Watson:                   1.911\n",
              "Prob(Omnibus):                  0.060   Jarque-Bera (JB):                5.624\n",
              "Skew:                           0.368   Prob(JB):                       0.0601\n",
              "Kurtosis:                       3.899   Cond. No.                         5.47\n",
              "==============================================================================\n",
              "\n",
              "Warnings:\n",
              "[1] Standard Errors assume that the covariance matrix of the errors is correctly specified.\n",
              "\"\"\""
            ],
            "text/html": [
              "<table class=\"simpletable\">\n",
              "<caption>OLS Regression Results</caption>\n",
              "<tr>\n",
              "  <th>Dep. Variable:</th>            <td>y</td>        <th>  R-squared:         </th> <td>   0.882</td>\n",
              "</tr>\n",
              "<tr>\n",
              "  <th>Model:</th>                   <td>OLS</td>       <th>  Adj. R-squared:    </th> <td>   0.880</td>\n",
              "</tr>\n",
              "<tr>\n",
              "  <th>Method:</th>             <td>Least Squares</td>  <th>  F-statistic:       </th> <td>   363.9</td>\n",
              "</tr>\n",
              "<tr>\n",
              "  <th>Date:</th>             <td>Thu, 09 Jun 2022</td> <th>  Prob (F-statistic):</th> <td>8.19e-46</td>\n",
              "</tr>\n",
              "<tr>\n",
              "  <th>Time:</th>                 <td>11:23:00</td>     <th>  Log-Likelihood:    </th> <td> -245.40</td>\n",
              "</tr>\n",
              "<tr>\n",
              "  <th>No. Observations:</th>      <td>   100</td>      <th>  AIC:               </th> <td>   496.8</td>\n",
              "</tr>\n",
              "<tr>\n",
              "  <th>Df Residuals:</th>          <td>    97</td>      <th>  BIC:               </th> <td>   504.6</td>\n",
              "</tr>\n",
              "<tr>\n",
              "  <th>Df Model:</th>              <td>     2</td>      <th>                     </th>     <td> </td>   \n",
              "</tr>\n",
              "<tr>\n",
              "  <th>Covariance Type:</th>      <td>nonrobust</td>    <th>                     </th>     <td> </td>   \n",
              "</tr>\n",
              "</table>\n",
              "<table class=\"simpletable\">\n",
              "<tr>\n",
              "    <td></td>       <th>coef</th>     <th>std err</th>      <th>t</th>      <th>P>|t|</th>  <th>[0.025</th>    <th>0.975]</th>  \n",
              "</tr>\n",
              "<tr>\n",
              "  <th>const</th> <td>    1.1326</td> <td>    0.412</td> <td>    2.749</td> <td> 0.007</td> <td>    0.315</td> <td>    1.950</td>\n",
              "</tr>\n",
              "<tr>\n",
              "  <th>x1</th>    <td>    3.5116</td> <td>    0.179</td> <td>   19.596</td> <td> 0.000</td> <td>    3.156</td> <td>    3.867</td>\n",
              "</tr>\n",
              "<tr>\n",
              "  <th>x2</th>    <td>   -1.9991</td> <td>    0.112</td> <td>  -17.795</td> <td> 0.000</td> <td>   -2.222</td> <td>   -1.776</td>\n",
              "</tr>\n",
              "</table>\n",
              "<table class=\"simpletable\">\n",
              "<tr>\n",
              "  <th>Omnibus:</th>       <td> 5.624</td> <th>  Durbin-Watson:     </th> <td>   1.911</td>\n",
              "</tr>\n",
              "<tr>\n",
              "  <th>Prob(Omnibus):</th> <td> 0.060</td> <th>  Jarque-Bera (JB):  </th> <td>   5.624</td>\n",
              "</tr>\n",
              "<tr>\n",
              "  <th>Skew:</th>          <td> 0.368</td> <th>  Prob(JB):          </th> <td>  0.0601</td>\n",
              "</tr>\n",
              "<tr>\n",
              "  <th>Kurtosis:</th>      <td> 3.899</td> <th>  Cond. No.          </th> <td>    5.47</td>\n",
              "</tr>\n",
              "</table><br/><br/>Warnings:<br/>[1] Standard Errors assume that the covariance matrix of the errors is correctly specified."
            ]
          },
          "metadata": {},
          "execution_count": 9
        }
      ]
    },
    {
      "cell_type": "code",
      "source": [
        "import operator\n",
        "plt.scatter(x,y)\n",
        "\n",
        "plt.scatter(x,y)\n",
        "plt.plot(x,x*model1.params[1]+model1.params[0],color = 'red',label = 'degree=1')\n",
        "\n",
        "#o wiele lepiej dopasowane, ale na ogonach mogłoby być lepiej\n",
        "sort_axis = operator.itemgetter(0)\n",
        "sorted_zip = sorted(zip(x, model2.fittedvalues), key=sort_axis)\n",
        "x_range, y_poly_pred = zip(*sorted_zip)\n",
        "plt.plot(x_range,y_poly_pred,color = 'green',label = 'degree=2')\n",
        "plt.legend()"
      ],
      "metadata": {
        "colab": {
          "base_uri": "https://localhost:8080/",
          "height": 282
        },
        "id": "9K0hvISKCuta",
        "outputId": "5c8845f6-8818-4204-f4a6-892a7bfc39cc"
      },
      "execution_count": 11,
      "outputs": [
        {
          "output_type": "execute_result",
          "data": {
            "text/plain": [
              "<matplotlib.legend.Legend at 0x7f17a8d22890>"
            ]
          },
          "metadata": {},
          "execution_count": 11
        },
        {
          "output_type": "display_data",
          "data": {
            "text/plain": [
              "<Figure size 432x288 with 1 Axes>"
            ],
            "image/png": "[encoded data removed]"
          },
          "metadata": {
            "needs_background": "light"
          }
        }
      ]
    },
    {
      "cell_type": "code",
      "source": [
        "#alternatywna metoda regresji na 1, x, x^2\n",
        "df = pd.DataFrame({'y':y,'x':x})\n",
        "smf.ols('y~x+I(x**2)',df).fit().summary()"
      ],
      "metadata": {
        "colab": {
          "base_uri": "https://localhost:8080/",
          "height": 473
        },
        "id": "TcR31KyvDmRX",
        "outputId": "9aa9294c-ba7c-41cc-a5a1-87180987ca0b"
      },
      "execution_count": 13,
      "outputs": [
        {
          "output_type": "execute_result",
          "data": {
            "text/plain": [
              "<class 'statsmodels.iolib.summary.Summary'>\n",
              "\"\"\"\n",
              "                            OLS Regression Results                            \n",
              "==============================================================================\n",
              "Dep. Variable:                      y   R-squared:                       0.882\n",
              "Model:                            OLS   Adj. R-squared:                  0.880\n",
              "Method:                 Least Squares   F-statistic:                     363.9\n",
              "Date:                Thu, 09 Jun 2022   Prob (F-statistic):           8.19e-46\n",
              "Time:                        11:24:27   Log-Likelihood:                -245.40\n",
              "No. Observations:                 100   AIC:                             496.8\n",
              "Df Residuals:                      97   BIC:                             504.6\n",
              "Df Model:                           2                                         \n",
              "Covariance Type:            nonrobust                                         \n",
              "==============================================================================\n",
              "                 coef    std err          t      P>|t|      [0.025      0.975]\n",
              "------------------------------------------------------------------------------\n",
              "Intercept      1.1326      0.412      2.749      0.007       0.315       1.950\n",
              "x              3.5116      0.179     19.596      0.000       3.156       3.867\n",
              "I(x ** 2)     -1.9991      0.112    -17.795      0.000      -2.222      -1.776\n",
              "==============================================================================\n",
              "Omnibus:                        5.624   Durbin-Watson:                   1.911\n",
              "Prob(Omnibus):                  0.060   Jarque-Bera (JB):                5.624\n",
              "Skew:                           0.368   Prob(JB):                       0.0601\n",
              "Kurtosis:                       3.899   Cond. No.                         5.47\n",
              "==============================================================================\n",
              "\n",
              "Warnings:\n",
              "[1] Standard Errors assume that the covariance matrix of the errors is correctly specified.\n",
              "\"\"\""
            ],
            "text/html": [
              "<table class=\"simpletable\">\n",
              "<caption>OLS Regression Results</caption>\n",
              "<tr>\n",
              "  <th>Dep. Variable:</th>            <td>y</td>        <th>  R-squared:         </th> <td>   0.882</td>\n",
              "</tr>\n",
              "<tr>\n",
              "  <th>Model:</th>                   <td>OLS</td>       <th>  Adj. R-squared:    </th> <td>   0.880</td>\n",
              "</tr>\n",
              "<tr>\n",
              "  <th>Method:</th>             <td>Least Squares</td>  <th>  F-statistic:       </th> <td>   363.9</td>\n",
              "</tr>\n",
              "<tr>\n",
              "  <th>Date:</th>             <td>Thu, 09 Jun 2022</td> <th>  Prob (F-statistic):</th> <td>8.19e-46</td>\n",
              "</tr>\n",
              "<tr>\n",
              "  <th>Time:</th>                 <td>11:24:27</td>     <th>  Log-Likelihood:    </th> <td> -245.40</td>\n",
              "</tr>\n",
              "<tr>\n",
              "  <th>No. Observations:</th>      <td>   100</td>      <th>  AIC:               </th> <td>   496.8</td>\n",
              "</tr>\n",
              "<tr>\n",
              "  <th>Df Residuals:</th>          <td>    97</td>      <th>  BIC:               </th> <td>   504.6</td>\n",
              "</tr>\n",
              "<tr>\n",
              "  <th>Df Model:</th>              <td>     2</td>      <th>                     </th>     <td> </td>   \n",
              "</tr>\n",
              "<tr>\n",
              "  <th>Covariance Type:</th>      <td>nonrobust</td>    <th>                     </th>     <td> </td>   \n",
              "</tr>\n",
              "</table>\n",
              "<table class=\"simpletable\">\n",
              "<tr>\n",
              "      <td></td>         <th>coef</th>     <th>std err</th>      <th>t</th>      <th>P>|t|</th>  <th>[0.025</th>    <th>0.975]</th>  \n",
              "</tr>\n",
              "<tr>\n",
              "  <th>Intercept</th> <td>    1.1326</td> <td>    0.412</td> <td>    2.749</td> <td> 0.007</td> <td>    0.315</td> <td>    1.950</td>\n",
              "</tr>\n",
              "<tr>\n",
              "  <th>x</th>         <td>    3.5116</td> <td>    0.179</td> <td>   19.596</td> <td> 0.000</td> <td>    3.156</td> <td>    3.867</td>\n",
              "</tr>\n",
              "<tr>\n",
              "  <th>I(x ** 2)</th> <td>   -1.9991</td> <td>    0.112</td> <td>  -17.795</td> <td> 0.000</td> <td>   -2.222</td> <td>   -1.776</td>\n",
              "</tr>\n",
              "</table>\n",
              "<table class=\"simpletable\">\n",
              "<tr>\n",
              "  <th>Omnibus:</th>       <td> 5.624</td> <th>  Durbin-Watson:     </th> <td>   1.911</td>\n",
              "</tr>\n",
              "<tr>\n",
              "  <th>Prob(Omnibus):</th> <td> 0.060</td> <th>  Jarque-Bera (JB):  </th> <td>   5.624</td>\n",
              "</tr>\n",
              "<tr>\n",
              "  <th>Skew:</th>          <td> 0.368</td> <th>  Prob(JB):          </th> <td>  0.0601</td>\n",
              "</tr>\n",
              "<tr>\n",
              "  <th>Kurtosis:</th>      <td> 3.899</td> <th>  Cond. No.          </th> <td>    5.47</td>\n",
              "</tr>\n",
              "</table><br/><br/>Warnings:<br/>[1] Standard Errors assume that the covariance matrix of the errors is correctly specified."
            ]
          },
          "metadata": {},
          "execution_count": 13
        }
      ]
    },
    {
      "cell_type": "code",
      "source": [
        "#teraz dla danych 1, x, x^2, x^3\n",
        "pol3 = PolynomialFeatures(degree = 3)\n",
        "x.reshape(-1,1)\n",
        "x3 = pol3.fit_transform(x.reshape(-1,1))\n",
        "model3 = sm.OLS(endog = y,exog = x3).fit()\n",
        "model3.summary()"
      ],
      "metadata": {
        "colab": {
          "base_uri": "https://localhost:8080/",
          "height": 494
        },
        "id": "z5H-X3O9EGRg",
        "outputId": "4ccd45b1-3c57-43e1-95e9-7e1769c2af0f"
      },
      "execution_count": 14,
      "outputs": [
        {
          "output_type": "execute_result",
          "data": {
            "text/plain": [
              "<class 'statsmodels.iolib.summary.Summary'>\n",
              "\"\"\"\n",
              "                            OLS Regression Results                            \n",
              "==============================================================================\n",
              "Dep. Variable:                      y   R-squared:                       0.936\n",
              "Model:                            OLS   Adj. R-squared:                  0.934\n",
              "Method:                 Least Squares   F-statistic:                     469.9\n",
              "Date:                Thu, 09 Jun 2022   Prob (F-statistic):           3.17e-57\n",
              "Time:                        11:24:48   Log-Likelihood:                -214.79\n",
              "No. Observations:                 100   AIC:                             437.6\n",
              "Df Residuals:                      96   BIC:                             448.0\n",
              "Df Model:                           3                                         \n",
              "Covariance Type:            nonrobust                                         \n",
              "==============================================================================\n",
              "                 coef    std err          t      P>|t|      [0.025      0.975]\n",
              "------------------------------------------------------------------------------\n",
              "const          1.4795      0.307      4.813      0.000       0.869       2.090\n",
              "x1             0.7530      0.334      2.255      0.026       0.090       1.416\n",
              "x2            -1.9790      0.083    -23.791      0.000      -2.144      -1.814\n",
              "x3             0.5348      0.059      9.003      0.000       0.417       0.653\n",
              "==============================================================================\n",
              "Omnibus:                        2.765   Durbin-Watson:                   1.763\n",
              "Prob(Omnibus):                  0.251   Jarque-Bera (JB):                2.233\n",
              "Skew:                           0.352   Prob(JB):                        0.327\n",
              "Kurtosis:                       3.201   Cond. No.                         15.2\n",
              "==============================================================================\n",
              "\n",
              "Warnings:\n",
              "[1] Standard Errors assume that the covariance matrix of the errors is correctly specified.\n",
              "\"\"\""
            ],
            "text/html": [
              "<table class=\"simpletable\">\n",
              "<caption>OLS Regression Results</caption>\n",
              "<tr>\n",
              "  <th>Dep. Variable:</th>            <td>y</td>        <th>  R-squared:         </th> <td>   0.936</td>\n",
              "</tr>\n",
              "<tr>\n",
              "  <th>Model:</th>                   <td>OLS</td>       <th>  Adj. R-squared:    </th> <td>   0.934</td>\n",
              "</tr>\n",
              "<tr>\n",
              "  <th>Method:</th>             <td>Least Squares</td>  <th>  F-statistic:       </th> <td>   469.9</td>\n",
              "</tr>\n",
              "<tr>\n",
              "  <th>Date:</th>             <td>Thu, 09 Jun 2022</td> <th>  Prob (F-statistic):</th> <td>3.17e-57</td>\n",
              "</tr>\n",
              "<tr>\n",
              "  <th>Time:</th>                 <td>11:24:48</td>     <th>  Log-Likelihood:    </th> <td> -214.79</td>\n",
              "</tr>\n",
              "<tr>\n",
              "  <th>No. Observations:</th>      <td>   100</td>      <th>  AIC:               </th> <td>   437.6</td>\n",
              "</tr>\n",
              "<tr>\n",
              "  <th>Df Residuals:</th>          <td>    96</td>      <th>  BIC:               </th> <td>   448.0</td>\n",
              "</tr>\n",
              "<tr>\n",
              "  <th>Df Model:</th>              <td>     3</td>      <th>                     </th>     <td> </td>   \n",
              "</tr>\n",
              "<tr>\n",
              "  <th>Covariance Type:</th>      <td>nonrobust</td>    <th>                     </th>     <td> </td>   \n",
              "</tr>\n",
              "</table>\n",
              "<table class=\"simpletable\">\n",
              "<tr>\n",
              "    <td></td>       <th>coef</th>     <th>std err</th>      <th>t</th>      <th>P>|t|</th>  <th>[0.025</th>    <th>0.975]</th>  \n",
              "</tr>\n",
              "<tr>\n",
              "  <th>const</th> <td>    1.4795</td> <td>    0.307</td> <td>    4.813</td> <td> 0.000</td> <td>    0.869</td> <td>    2.090</td>\n",
              "</tr>\n",
              "<tr>\n",
              "  <th>x1</th>    <td>    0.7530</td> <td>    0.334</td> <td>    2.255</td> <td> 0.026</td> <td>    0.090</td> <td>    1.416</td>\n",
              "</tr>\n",
              "<tr>\n",
              "  <th>x2</th>    <td>   -1.9790</td> <td>    0.083</td> <td>  -23.791</td> <td> 0.000</td> <td>   -2.144</td> <td>   -1.814</td>\n",
              "</tr>\n",
              "<tr>\n",
              "  <th>x3</th>    <td>    0.5348</td> <td>    0.059</td> <td>    9.003</td> <td> 0.000</td> <td>    0.417</td> <td>    0.653</td>\n",
              "</tr>\n",
              "</table>\n",
              "<table class=\"simpletable\">\n",
              "<tr>\n",
              "  <th>Omnibus:</th>       <td> 2.765</td> <th>  Durbin-Watson:     </th> <td>   1.763</td>\n",
              "</tr>\n",
              "<tr>\n",
              "  <th>Prob(Omnibus):</th> <td> 0.251</td> <th>  Jarque-Bera (JB):  </th> <td>   2.233</td>\n",
              "</tr>\n",
              "<tr>\n",
              "  <th>Skew:</th>          <td> 0.352</td> <th>  Prob(JB):          </th> <td>   0.327</td>\n",
              "</tr>\n",
              "<tr>\n",
              "  <th>Kurtosis:</th>      <td> 3.201</td> <th>  Cond. No.          </th> <td>    15.2</td>\n",
              "</tr>\n",
              "</table><br/><br/>Warnings:<br/>[1] Standard Errors assume that the covariance matrix of the errors is correctly specified."
            ]
          },
          "metadata": {},
          "execution_count": 14
        }
      ]
    },
    {
      "cell_type": "code",
      "source": [
        "# teraz dla danych 1 ,x ,x^2, x^3,...,x^20\n",
        "pol20 = PolynomialFeatures(degree = 20)\n",
        "x.reshape(-1,1)\n",
        "x20 = pol20.fit_transform(x.reshape(-1,1))\n",
        "model20 = sm.OLS(endog = y,exog = x20).fit()\n",
        "model20.summary()"
      ],
      "metadata": {
        "colab": {
          "base_uri": "https://localhost:8080/",
          "height": 892
        },
        "id": "qVNA9qMSFB0G",
        "outputId": "af235ca1-bb10-42ac-ec38-24344f23564b"
      },
      "execution_count": 16,
      "outputs": [
        {
          "output_type": "execute_result",
          "data": {
            "text/plain": [
              "<class 'statsmodels.iolib.summary.Summary'>\n",
              "\"\"\"\n",
              "                            OLS Regression Results                            \n",
              "==============================================================================\n",
              "Dep. Variable:                      y   R-squared:                       0.947\n",
              "Model:                            OLS   Adj. R-squared:                  0.933\n",
              "Method:                 Least Squares   F-statistic:                     70.23\n",
              "Date:                Thu, 09 Jun 2022   Prob (F-statistic):           5.63e-42\n",
              "Time:                        11:25:23   Log-Likelihood:                -205.79\n",
              "No. Observations:                 100   AIC:                             453.6\n",
              "Df Residuals:                      79   BIC:                             508.3\n",
              "Df Model:                          20                                         \n",
              "Covariance Type:            nonrobust                                         \n",
              "==============================================================================\n",
              "                 coef    std err          t      P>|t|      [0.025      0.975]\n",
              "------------------------------------------------------------------------------\n",
              "const          0.9367      0.803      1.166      0.247      -0.662       2.536\n",
              "x1             2.5554      2.796      0.914      0.363      -3.010       8.120\n",
              "x2            -2.8849     11.222     -0.257      0.798     -25.221      19.451\n",
              "x3            -8.1284     17.084     -0.476      0.636     -42.133      25.876\n",
              "x4            11.1328     36.747      0.303      0.763     -62.011      84.277\n",
              "x5            15.7022     37.489      0.419      0.676     -58.917      90.322\n",
              "x6           -16.2142     51.737     -0.313      0.755    -119.193      86.765\n",
              "x7           -13.0408     38.899     -0.335      0.738     -90.467      64.385\n",
              "x8             9.8836     38.936      0.254      0.800     -67.617      87.384\n",
              "x9             5.6565     22.211      0.255      0.800     -38.553      49.866\n",
              "x10           -3.0567     17.356     -0.176      0.861     -37.603      31.490\n",
              "x11           -1.3800      7.517     -0.184      0.855     -16.341      13.581\n",
              "x12            0.4878      4.818      0.101      0.920      -9.101      10.077\n",
              "x13            0.1926      1.546      0.125      0.901      -2.885       3.270\n",
              "x14           -0.0323      0.844     -0.038      0.970      -1.712       1.647\n",
              "x15           -0.0147      0.190     -0.078      0.938      -0.392       0.363\n",
              "x16           -0.0008      0.091     -0.009      0.993      -0.182       0.180\n",
              "x17            0.0005      0.013      0.041      0.967      -0.025       0.026\n",
              "x18            0.0002      0.006      0.042      0.967      -0.011       0.011\n",
              "x19        -5.021e-06      0.000     -0.014      0.989      -0.001       0.001\n",
              "x20        -8.752e-06      0.000     -0.061      0.952      -0.000       0.000\n",
              "==============================================================================\n",
              "Omnibus:                        2.014   Durbin-Watson:                   1.859\n",
              "Prob(Omnibus):                  0.365   Jarque-Bera (JB):                1.469\n",
              "Skew:                           0.267   Prob(JB):                        0.480\n",
              "Kurtosis:                       3.259   Cond. No.                     1.88e+11\n",
              "==============================================================================\n",
              "\n",
              "Warnings:\n",
              "[1] Standard Errors assume that the covariance matrix of the errors is correctly specified.\n",
              "[2] The condition number is large, 1.88e+11. This might indicate that there are\n",
              "strong multicollinearity or other numerical problems.\n",
              "\"\"\""
            ],
            "text/html": [
              "<table class=\"simpletable\">\n",
              "<caption>OLS Regression Results</caption>\n",
              "<tr>\n",
              "  <th>Dep. Variable:</th>            <td>y</td>        <th>  R-squared:         </th> <td>   0.947</td>\n",
              "</tr>\n",
              "<tr>\n",
              "  <th>Model:</th>                   <td>OLS</td>       <th>  Adj. R-squared:    </th> <td>   0.933</td>\n",
              "</tr>\n",
              "<tr>\n",
              "  <th>Method:</th>             <td>Least Squares</td>  <th>  F-statistic:       </th> <td>   70.23</td>\n",
              "</tr>\n",
              "<tr>\n",
              "  <th>Date:</th>             <td>Thu, 09 Jun 2022</td> <th>  Prob (F-statistic):</th> <td>5.63e-42</td>\n",
              "</tr>\n",
              "<tr>\n",
              "  <th>Time:</th>                 <td>11:25:23</td>     <th>  Log-Likelihood:    </th> <td> -205.79</td>\n",
              "</tr>\n",
              "<tr>\n",
              "  <th>No. Observations:</th>      <td>   100</td>      <th>  AIC:               </th> <td>   453.6</td>\n",
              "</tr>\n",
              "<tr>\n",
              "  <th>Df Residuals:</th>          <td>    79</td>      <th>  BIC:               </th> <td>   508.3</td>\n",
              "</tr>\n",
              "<tr>\n",
              "  <th>Df Model:</th>              <td>    20</td>      <th>                     </th>     <td> </td>   \n",
              "</tr>\n",
              "<tr>\n",
              "  <th>Covariance Type:</th>      <td>nonrobust</td>    <th>                     </th>     <td> </td>   \n",
              "</tr>\n",
              "</table>\n",
              "<table class=\"simpletable\">\n",
              "<tr>\n",
              "    <td></td>       <th>coef</th>     <th>std err</th>      <th>t</th>      <th>P>|t|</th>  <th>[0.025</th>    <th>0.975]</th>  \n",
              "</tr>\n",
              "<tr>\n",
              "  <th>const</th> <td>    0.9367</td> <td>    0.803</td> <td>    1.166</td> <td> 0.247</td> <td>   -0.662</td> <td>    2.536</td>\n",
              "</tr>\n",
              "<tr>\n",
              "  <th>x1</th>    <td>    2.5554</td> <td>    2.796</td> <td>    0.914</td> <td> 0.363</td> <td>   -3.010</td> <td>    8.120</td>\n",
              "</tr>\n",
              "<tr>\n",
              "  <th>x2</th>    <td>   -2.8849</td> <td>   11.222</td> <td>   -0.257</td> <td> 0.798</td> <td>  -25.221</td> <td>   19.451</td>\n",
              "</tr>\n",
              "<tr>\n",
              "  <th>x3</th>    <td>   -8.1284</td> <td>   17.084</td> <td>   -0.476</td> <td> 0.636</td> <td>  -42.133</td> <td>   25.876</td>\n",
              "</tr>\n",
              "<tr>\n",
              "  <th>x4</th>    <td>   11.1328</td> <td>   36.747</td> <td>    0.303</td> <td> 0.763</td> <td>  -62.011</td> <td>   84.277</td>\n",
              "</tr>\n",
              "<tr>\n",
              "  <th>x5</th>    <td>   15.7022</td> <td>   37.489</td> <td>    0.419</td> <td> 0.676</td> <td>  -58.917</td> <td>   90.322</td>\n",
              "</tr>\n",
              "<tr>\n",
              "  <th>x6</th>    <td>  -16.2142</td> <td>   51.737</td> <td>   -0.313</td> <td> 0.755</td> <td> -119.193</td> <td>   86.765</td>\n",
              "</tr>\n",
              "<tr>\n",
              "  <th>x7</th>    <td>  -13.0408</td> <td>   38.899</td> <td>   -0.335</td> <td> 0.738</td> <td>  -90.467</td> <td>   64.385</td>\n",
              "</tr>\n",
              "<tr>\n",
              "  <th>x8</th>    <td>    9.8836</td> <td>   38.936</td> <td>    0.254</td> <td> 0.800</td> <td>  -67.617</td> <td>   87.384</td>\n",
              "</tr>\n",
              "<tr>\n",
              "  <th>x9</th>    <td>    5.6565</td> <td>   22.211</td> <td>    0.255</td> <td> 0.800</td> <td>  -38.553</td> <td>   49.866</td>\n",
              "</tr>\n",
              "<tr>\n",
              "  <th>x10</th>   <td>   -3.0567</td> <td>   17.356</td> <td>   -0.176</td> <td> 0.861</td> <td>  -37.603</td> <td>   31.490</td>\n",
              "</tr>\n",
              "<tr>\n",
              "  <th>x11</th>   <td>   -1.3800</td> <td>    7.517</td> <td>   -0.184</td> <td> 0.855</td> <td>  -16.341</td> <td>   13.581</td>\n",
              "</tr>\n",
              "<tr>\n",
              "  <th>x12</th>   <td>    0.4878</td> <td>    4.818</td> <td>    0.101</td> <td> 0.920</td> <td>   -9.101</td> <td>   10.077</td>\n",
              "</tr>\n",
              "<tr>\n",
              "  <th>x13</th>   <td>    0.1926</td> <td>    1.546</td> <td>    0.125</td> <td> 0.901</td> <td>   -2.885</td> <td>    3.270</td>\n",
              "</tr>\n",
              "<tr>\n",
              "  <th>x14</th>   <td>   -0.0323</td> <td>    0.844</td> <td>   -0.038</td> <td> 0.970</td> <td>   -1.712</td> <td>    1.647</td>\n",
              "</tr>\n",
              "<tr>\n",
              "  <th>x15</th>   <td>   -0.0147</td> <td>    0.190</td> <td>   -0.078</td> <td> 0.938</td> <td>   -0.392</td> <td>    0.363</td>\n",
              "</tr>\n",
              "<tr>\n",
              "  <th>x16</th>   <td>   -0.0008</td> <td>    0.091</td> <td>   -0.009</td> <td> 0.993</td> <td>   -0.182</td> <td>    0.180</td>\n",
              "</tr>\n",
              "<tr>\n",
              "  <th>x17</th>   <td>    0.0005</td> <td>    0.013</td> <td>    0.041</td> <td> 0.967</td> <td>   -0.025</td> <td>    0.026</td>\n",
              "</tr>\n",
              "<tr>\n",
              "  <th>x18</th>   <td>    0.0002</td> <td>    0.006</td> <td>    0.042</td> <td> 0.967</td> <td>   -0.011</td> <td>    0.011</td>\n",
              "</tr>\n",
              "<tr>\n",
              "  <th>x19</th>   <td>-5.021e-06</td> <td>    0.000</td> <td>   -0.014</td> <td> 0.989</td> <td>   -0.001</td> <td>    0.001</td>\n",
              "</tr>\n",
              "<tr>\n",
              "  <th>x20</th>   <td>-8.752e-06</td> <td>    0.000</td> <td>   -0.061</td> <td> 0.952</td> <td>   -0.000</td> <td>    0.000</td>\n",
              "</tr>\n",
              "</table>\n",
              "<table class=\"simpletable\">\n",
              "<tr>\n",
              "  <th>Omnibus:</th>       <td> 2.014</td> <th>  Durbin-Watson:     </th> <td>   1.859</td>\n",
              "</tr>\n",
              "<tr>\n",
              "  <th>Prob(Omnibus):</th> <td> 0.365</td> <th>  Jarque-Bera (JB):  </th> <td>   1.469</td>\n",
              "</tr>\n",
              "<tr>\n",
              "  <th>Skew:</th>          <td> 0.267</td> <th>  Prob(JB):          </th> <td>   0.480</td>\n",
              "</tr>\n",
              "<tr>\n",
              "  <th>Kurtosis:</th>      <td> 3.259</td> <th>  Cond. No.          </th> <td>1.88e+11</td>\n",
              "</tr>\n",
              "</table><br/><br/>Warnings:<br/>[1] Standard Errors assume that the covariance matrix of the errors is correctly specified.<br/>[2] The condition number is large, 1.88e+11. This might indicate that there are<br/>strong multicollinearity or other numerical problems."
            ]
          },
          "metadata": {},
          "execution_count": 16
        }
      ]
    },
    {
      "cell_type": "code",
      "source": [
        "plt.scatter(x,y)\n",
        "\n",
        "plt.scatter(x,y)\n",
        "plt.plot(x,x*model1.params[1]+model1.params[0],color = 'red',label = 'degree=1')\n",
        "\n",
        "sort_axis = operator.itemgetter(0)\n",
        "sorted_zip = sorted(zip(x, model2.fittedvalues), key=sort_axis)\n",
        "x_range, y_poly_pred = zip(*sorted_zip)\n",
        "plt.plot(x_range,y_poly_pred,color = 'green',label = 'degree=2')\n",
        "\n",
        "\n",
        "sort_axis = operator.itemgetter(0)\n",
        "sorted_zip = sorted(zip(x, model3.fittedvalues), key=sort_axis)\n",
        "x_range, y_poly_pred = zip(*sorted_zip)\n",
        "plt.plot(x_range,y_poly_pred,color = 'blue',label = 'degree=3')\n",
        "\n",
        "\n",
        "sort_axis = operator.itemgetter(0)\n",
        "sorted_zip = sorted(zip(x, model20.fittedvalues), key=sort_axis)\n",
        "x_range, y_poly_pred = zip(*sorted_zip)\n",
        "plt.plot(x_range,y_poly_pred,color = 'crimson',label = 'degree=20')\n",
        "plt.legend()\n",
        "#model 1,x,x^2,x^3 bardzo ładnie się dopasował\n",
        "#model 1,x,x^2...,x^20 dopasował się aż za dobrze, mamy przeuczenie"
      ],
      "metadata": {
        "colab": {
          "base_uri": "https://localhost:8080/",
          "height": 282
        },
        "id": "2JLN9C-pE6ri",
        "outputId": "791282d8-d715-4b1c-9409-92d6177de630"
      },
      "execution_count": 17,
      "outputs": [
        {
          "output_type": "execute_result",
          "data": {
            "text/plain": [
              "<matplotlib.legend.Legend at 0x7f17a8ac2c50>"
            ]
          },
          "metadata": {},
          "execution_count": 17
        },
        {
          "output_type": "display_data",
          "data": {
            "text/plain": [
              "<Figure size 432x288 with 1 Axes>"
            ],
            "image/png": "[encoded data removed]"
          },
          "metadata": {
            "needs_background": "light"
          }
        }
      ]
    },
    {
      "cell_type": "markdown",
      "metadata": {
        "id": "L425peEgTbND"
      },
      "source": [
        "### The Bias vs Variance trade-off\n",
        "\n",
        "**Bias** (obciążenie) - odnosi się do błędu wynikającego z uproszczonych założeń modelu dotyczących dopasowania danych. Wysokie obciążenie oznacza, że model nie jest w stanie uchwycić wzorców w danych, co powoduje niedopasowanie/niedouczenie (ang. *under-fitting*).\n",
        "\n",
        "**Variance** - odnosi się do błędu spowodowanego złożonym modelem próbującym dopasować dane. Duża wariancja oznacza, że model przechodzi przez większość punktów danych i powoduje nadmierne dopasowanie do danych (ang. *over-fitting)."
      ]
    },
    {
      "cell_type": "code",
      "source": [
        "# liniowa underfit\n",
        "# 1,x,x^2,x^3 bardzo dobre dopasowanie\n",
        "# 1,x,x^2,...,x^20 overfit\n",
        "fig, ax = plt.subplots(1, 3, figsize=(20, 7))\n",
        "\n",
        "ax[0].scatter(x, y)\n",
        "ax[0].plot(x, model1.fittedvalues, '--', color='red', label=\"degree=1\")\n",
        "ax[0].set_xlabel(\"Underfit\\nHigh bias\\nLow Variance\")\n",
        "\n",
        "sorted_zip = sorted(zip(x, model3.fittedvalues), key=sort_axis)\n",
        "x_range, y_poly_pred = zip(*sorted_zip)\n",
        "ax[1].scatter(x, y)\n",
        "ax[1].plot(x_range, y_poly_pred, '--', color='magenta', label=\"degree=3\")\n",
        "ax[1].set_xlabel(\"Correct Fit\\nLow bias\\nLow Variance\")\n",
        "\n",
        "sorted_zip = sorted(zip(x, model20.fittedvalues), key=sort_axis)\n",
        "x_range, y_poly_pred = zip(*sorted_zip)\n",
        "ax[2].scatter(x, y)\n",
        "ax[2].plot(x_range, y_poly_pred, '--', color='orange', label=\"degree=20\")\n",
        "ax[2].set_xlabel(\"Overfit\\nLow bias\\nHigh Variance\")"
      ],
      "metadata": {
        "colab": {
          "base_uri": "https://localhost:8080/",
          "height": 340
        },
        "id": "Qckl9CQkOgEn",
        "outputId": "89926b9c-a4c1-4029-e739-3d8bb4211af9"
      },
      "execution_count": 19,
      "outputs": [
        {
          "output_type": "execute_result",
          "data": {
            "text/plain": [
              "Text(0.5, 0, 'Overfit\\nLow bias\\nHigh Variance')"
            ]
          },
          "metadata": {},
          "execution_count": 19
        },
        {
          "output_type": "display_data",
          "data": {
            "text/plain": [
              "<Figure size 1440x504 with 3 Axes>"
            ],
            "image/png": "[encoded data removed]"
          },
          "metadata": {
            "needs_background": "light"
          }
        }
      ]
    },
    {
      "cell_type": "markdown",
      "metadata": {
        "id": "jGCIYqUITbNF"
      },
      "source": [
        "# Zadanie 2\n",
        "Wczytaj dane `amazon_salaries.csv` opisujące wysokość rocznych zarobków (`Salary`) w zależności od zajmowanego stanowiska (`Level`). \n",
        "\n",
        "Dopasuj model regresji liniowej oraz model regresji wielomianowej, znajdź najlepszy stopień wielomianu."
      ]
    },
    {
      "cell_type": "code",
      "source": [
        "amazon_salary = pd.read_csv(\"amazon_salaries.csv\")"
      ],
      "metadata": {
        "id": "CXUiVUOKOO83"
      },
      "execution_count": 20,
      "outputs": []
    },
    {
      "cell_type": "code",
      "source": [
        "x = amazon_salary.Level\n",
        "y = amazon_salary.Salary\n",
        "\n",
        "plt.scatter(x, y)"
      ],
      "metadata": {
        "colab": {
          "base_uri": "https://localhost:8080/",
          "height": 293
        },
        "id": "sX5zXLSlPF7-",
        "outputId": "5efb1882-860a-4490-8072-68c3623e23a5"
      },
      "execution_count": 21,
      "outputs": [
        {
          "output_type": "execute_result",
          "data": {
            "text/plain": [
              "<matplotlib.collections.PathCollection at 0x7f17a896e250>"
            ]
          },
          "metadata": {},
          "execution_count": 21
        },
        {
          "output_type": "display_data",
          "data": {
            "text/plain": [
              "<Figure size 432x288 with 1 Axes>"
            ],
            "image/png": "[encoded data removed]"
          },
          "metadata": {
            "needs_background": "light"
          }
        }
      ]
    },
    {
      "cell_type": "code",
      "source": [
        "X = sm.add_constant(x, prepend=True, has_constant='skip')\n",
        "model1 = sm.OLS(endog=y, exog=X).fit()\n",
        "\n",
        "plt.scatter(x, y)\n",
        "plt.plot(x, model1.fittedvalues, '--', color='red', label=\"degree=1\")\n",
        "plt.legend()\n",
        "plt.show()\n",
        "print(\"Degree=1, R2={}\".format(model1.rsquared))\n",
        "\n",
        "for i in np.arange(2, 6):\n",
        "    polynomial_features = PolynomialFeatures(degree=i)\n",
        "    xi = polynomial_features.fit_transform(np.array(x).reshape(-1,1))\n",
        "\n",
        "    model= sm.OLS(endog=y, exog=xi).fit()\n",
        "    \n",
        "    plt.scatter(x, y)\n",
        "    plt.plot(x, model.fittedvalues, '--', color='red', label=\"degree={}\".format(i))\n",
        "    plt.legend()\n",
        "    plt.show()\n",
        "    print(\"Degree={}, R2={}\".format(i, model.rsquared))\n",
        "    #im większy stopień wielomianu tym lepsze dopasowanie"
      ],
      "metadata": {
        "colab": {
          "base_uri": "https://localhost:8080/",
          "height": 1000
        },
        "id": "aQwiVkrVPIgf",
        "outputId": "b324620d-7bb5-4c21-e247-5dad9ba5e273"
      },
      "execution_count": 22,
      "outputs": [
        {
          "output_type": "stream",
          "name": "stderr",
          "text": [
            "/usr/local/lib/python3.7/dist-packages/statsmodels/tsa/tsatools.py:117: FutureWarning: In a future version of pandas all arguments of concat except for the argument 'objs' will be keyword-only\n",
            "  x = pd.concat(x[::order], 1)\n"
          ]
        },
        {
          "output_type": "display_data",
          "data": {
            "text/plain": [
              "<Figure size 432x288 with 1 Axes>"
            ],
            "image/png": "[encoded data removed]"
          },
          "metadata": {
            "needs_background": "light"
          }
        },
        {
          "output_type": "stream",
          "name": "stdout",
          "text": [
            "Degree=1, R2=0.6690412331929894\n"
          ]
        },
        {
          "output_type": "display_data",
          "data": {
            "text/plain": [
              "<Figure size 432x288 with 1 Axes>"
            ],
            "image/png": "[encoded data removed]"
          },
          "metadata": {
            "needs_background": "light"
          }
        },
        {
          "output_type": "stream",
          "name": "stdout",
          "text": [
            "Degree=2, R2=0.9162082221443943\n"
          ]
        },
        {
          "output_type": "display_data",
          "data": {
            "text/plain": [
              "<Figure size 432x288 with 1 Axes>"
            ],
            "image/png": "[encoded data removed]"
          },
          "metadata": {
            "needs_background": "light"
          }
        },
        {
          "output_type": "stream",
          "name": "stdout",
          "text": [
            "Degree=3, R2=0.9812097727913367\n"
          ]
        },
        {
          "output_type": "display_data",
          "data": {
            "text/plain": [
              "<Figure size 432x288 with 1 Axes>"
            ],
            "image/png": "[encoded data removed]"
          },
          "metadata": {
            "needs_background": "light"
          }
        },
        {
          "output_type": "stream",
          "name": "stdout",
          "text": [
            "Degree=4, R2=0.9973922891706613\n"
          ]
        },
        {
          "output_type": "display_data",
          "data": {
            "text/plain": [
              "<Figure size 432x288 with 1 Axes>"
            ],
            "image/png": "[encoded data removed]"
          },
          "metadata": {
            "needs_background": "light"
          }
        },
        {
          "output_type": "stream",
          "name": "stdout",
          "text": [
            "Degree=5, R2=0.9997969027099755\n"
          ]
        }
      ]
    },
    {
      "cell_type": "code",
      "source": [
        "#cięzko jednoznacznie stwierdzić, który stopień wielomianu wziąć, może 4, może 5 stopnia\n",
        "# przydałby sie zbiór testowy (inne stanowiska z zarobkami)"
      ],
      "metadata": {
        "id": "Vaz3RwuoPYgP"
      },
      "execution_count": null,
      "outputs": []
    }
  ],
  "metadata": {
    "kernelspec": {
      "display_name": "Python 3",
      "language": "python",
      "name": "python3"
    },
    "language_info": {
      "codemirror_mode": {
        "name": "ipython",
        "version": 3
      },
      "file_extension": ".py",
      "mimetype": "text/x-python",
      "name": "python",
      "nbconvert_exporter": "python",
      "pygments_lexer": "ipython3",
      "version": "3.7.4"
    },
    "colab": {
      "name": "04_regresja_wielomianowa.ipynb",
      "provenance": [],
      "collapsed_sections": []
    }
  },
  "nbformat": 4,
  "nbformat_minor": 0
}