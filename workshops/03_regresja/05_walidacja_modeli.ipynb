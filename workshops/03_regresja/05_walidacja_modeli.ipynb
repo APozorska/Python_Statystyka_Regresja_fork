{
  "cells": [
    {
      "cell_type": "markdown",
      "metadata": {
        "id": "IYozQrxAU73A"
      },
      "source": [
        "# Model regresji liniowej w scikit-learn"
      ]
    },
    {
      "cell_type": "markdown",
      "metadata": {
        "id": "liSIT6ZmU73I"
      },
      "source": [
        "https://scikit-learn.org/stable/modules/generated/sklearn.linear_model.LinearRegression.html"
      ]
    },
    {
      "cell_type": "code",
      "execution_count": 1,
      "metadata": {
        "id": "m19aKKycU73J"
      },
      "outputs": [],
      "source": [
        "import numpy as np\n",
        "import pandas as pd\n",
        "import matplotlib.pyplot as plt\n",
        "\n",
        "import statsmodels.api as sm\n",
        "import statsmodels.formula.api as smf\n",
        "\n",
        "from scipy import stats\n",
        "\n",
        "from sklearn.linear_model import LinearRegression\n",
        "from sklearn.preprocessing import PolynomialFeatures\n",
        "from sklearn.pipeline import make_pipeline\n",
        "from sklearn.pipeline import Pipeline"
      ]
    },
    {
      "cell_type": "markdown",
      "metadata": {
        "id": "cei21gvsU73K"
      },
      "source": [
        "# Zadanie 1\n",
        "Wczytaj zbiór `Carseats`, który zawierają dane o sprzedaży fotelików samochodowych pewnej firmy w 400 różnych lokalizacjach:\n",
        "\n",
        "a) dopasuj model regresji liniowej `Sales~Price`;\n",
        "\n",
        "b) dopasuj model regresji liniowej `Sales~Price + Advertising`;\n",
        "\n",
        "c) dopasuj model regresji liniowej `Sales~.`;\n",
        "\n",
        "d) dopasuj model regresji wielomianowej stopnia 2 dla zmiennej `Price`;\n",
        "\n",
        "e) dopasuj model regresji wielomianowej stopnia 3 dla zmiennej `Price`;"
      ]
    },
    {
      "cell_type": "code",
      "source": [
        "carseats = sm.datasets.get_rdataset(dataname=\"Carseats\", package=\"ISLR\", cache=True)\n",
        "print(carseats.data)"
      ],
      "metadata": {
        "colab": {
          "base_uri": "https://localhost:8080/"
        },
        "id": "F2Cgn5KSJKh0",
        "outputId": "aa5b4b17-0fe2-47da-c35b-f6928d059e98"
      },
      "execution_count": 2,
      "outputs": [
        {
          "output_type": "stream",
          "name": "stdout",
          "text": [
            "     Sales  CompPrice  Income  Advertising  Population  Price ShelveLoc  Age  \\\n",
            "0     9.50        138      73           11         276    120       Bad   42   \n",
            "1    11.22        111      48           16         260     83      Good   65   \n",
            "2    10.06        113      35           10         269     80    Medium   59   \n",
            "3     7.40        117     100            4         466     97    Medium   55   \n",
            "4     4.15        141      64            3         340    128       Bad   38   \n",
            "..     ...        ...     ...          ...         ...    ...       ...  ...   \n",
            "395  12.57        138     108           17         203    128      Good   33   \n",
            "396   6.14        139      23            3          37    120    Medium   55   \n",
            "397   7.41        162      26           12         368    159    Medium   40   \n",
            "398   5.94        100      79            7         284     95       Bad   50   \n",
            "399   9.71        134      37            0          27    120      Good   49   \n",
            "\n",
            "     Education Urban   US  \n",
            "0           17   Yes  Yes  \n",
            "1           10   Yes  Yes  \n",
            "2           12   Yes  Yes  \n",
            "3           14   Yes  Yes  \n",
            "4           13   Yes   No  \n",
            "..         ...   ...  ...  \n",
            "395         14   Yes  Yes  \n",
            "396         11    No  Yes  \n",
            "397         18   Yes  Yes  \n",
            "398         12   Yes  Yes  \n",
            "399         16   Yes  Yes  \n",
            "\n",
            "[400 rows x 11 columns]\n"
          ]
        }
      ]
    },
    {
      "cell_type": "code",
      "source": [
        "#model Sales~Price\n",
        "#najpierw definiujemy obiekt LinearRegression z parametrami go charakteryzującymi\n",
        "lm1 = LinearRegression(fit_intercept=True)\n",
        "X = np.array(carseats.data.Price).reshape(-1, 1)\n",
        "print(X[0,0])\n",
        "#teraz dopasowujemy wcześniej zdefiniowany obiekt LinearRegression do naszych danych\n",
        "lm1.fit(X = X,y = carseats.data.Sales)\n",
        "#współczynniki bez wyrazu wolnego\n",
        "print(lm1.coef_)\n",
        "#wyraz wolny\n",
        "lm1.intercept_"
      ],
      "metadata": {
        "colab": {
          "base_uri": "https://localhost:8080/"
        },
        "id": "mB64TbEpJn_e",
        "outputId": "389a0fee-b936-4a5a-c9b8-d1d49d15c512"
      },
      "execution_count": null,
      "outputs": [
        {
          "output_type": "stream",
          "name": "stdout",
          "text": [
            "120\n",
            "[-0.05307302]\n"
          ]
        },
        {
          "output_type": "execute_result",
          "data": {
            "text/plain": [
              "13.641915176780913"
            ]
          },
          "metadata": {},
          "execution_count": 6
        }
      ]
    },
    {
      "cell_type": "code",
      "source": [
        "#score oznacza różne miary dla różnych obiektów. Dla regresji liniowej jest to R^2\n",
        "lm1.score(X,carseats.data.Sales)"
      ],
      "metadata": {
        "colab": {
          "base_uri": "https://localhost:8080/"
        },
        "id": "BuUSZBU5LTqG",
        "outputId": "c9e9b817-29b5-48da-82a3-57d966a96a61"
      },
      "execution_count": null,
      "outputs": [
        {
          "output_type": "execute_result",
          "data": {
            "text/plain": [
              "0.19798115021119478"
            ]
          },
          "metadata": {},
          "execution_count": 7
        }
      ]
    },
    {
      "cell_type": "code",
      "source": [
        "#wartości dopasowane (ale za X można włożyć zbiór testowy i wówczas mamy predykcje)\n",
        "lm1.predict(X)"
      ],
      "metadata": {
        "colab": {
          "base_uri": "https://localhost:8080/"
        },
        "id": "Rxb4gtBiL34N",
        "outputId": "5b337bd1-955f-4daa-f3df-288e8ea1b4e5"
      },
      "execution_count": null,
      "outputs": [
        {
          "output_type": "execute_result",
          "data": {
            "text/plain": [
              "array([ 7.27315296,  9.23685464,  9.3960737 ,  8.49383238,  6.84856881,\n",
              "        9.82065785,  7.91002918,  7.27315296,  7.06086088,  7.06086088,\n",
              "        8.33461333,  8.65305144,  6.42398466,  9.07763559,  7.37929899,\n",
              "        5.99940051,  7.80388314,  6.68934975, 10.03294992,  7.22007994,\n",
              "        6.68934975,  7.85695616,  6.31783862,  7.85695616,  7.64466409,\n",
              "        9.28992766,  6.68934975,  7.9631022 ,  8.49383238,  8.22846729,\n",
              "        8.91841653,  6.68934975,  6.37091164,  6.84856881,  6.84856881,\n",
              "        8.5469054 ,  8.33461333,  7.80388314,  8.22846729,  6.31783862,\n",
              "        6.95471485,  7.06086088, 12.36816273,  6.5301307 ,  8.59997842,\n",
              "        6.47705768,  9.92680388,  7.91002918,  8.44075936,  5.73403542,\n",
              "        7.91002918,  7.91002918,  6.79549579,  7.32622598,  5.99940051,\n",
              "        5.46867033,  9.18378162,  7.43237201,  8.17539427,  7.59159107,\n",
              "        7.1139339 ,  7.9631022 ,  6.58320372,  8.28154031,  8.12232125,\n",
              "        6.84856881,  8.81227049,  7.53851805,  6.5301307 ,  8.38768635,\n",
              "        8.38768635,  5.6809624 ,  7.48544503,  8.12232125,  6.42398466,\n",
              "        8.75919748,  9.92680388,  8.91841653,  5.94632749,  8.86534351,\n",
              "        9.44914672,  6.84856881,  6.26476561,  8.65305144,  7.22007994,\n",
              "        7.69773711,  6.5301307 ,  6.95471485,  7.75081012,  7.32622598,\n",
              "        8.17539427,  7.9631022 ,  7.00778786,  8.12232125,  9.18378162,\n",
              "        5.78710844,  6.63627674,  6.79549579,  6.90164183,  7.9631022 ,\n",
              "        8.01617522,  7.37929899,  8.49383238,  8.5469054 ,  6.31783862,\n",
              "        8.49383238,  6.26476561,  7.91002918,  8.17539427,  8.86534351,\n",
              "        7.48544503,  5.62788938,  7.00778786,  6.90164183,  8.01617522,\n",
              "        6.79549579,  6.84856881,  7.32622598,  8.38768635,  6.84856881,\n",
              "        6.68934975,  9.02456257,  7.91002918,  5.41559731,  7.27315296,\n",
              "       11.04133727,  6.58320372,  7.48544503,  6.95471485,  5.84018146,\n",
              "        9.55529275,  8.65305144,  6.42398466,  8.49383238,  6.68934975,\n",
              "        7.27315296,  7.27315296,  7.37929899,  7.85695616,  8.65305144,\n",
              "        6.79549579,  6.68934975,  8.12232125,  5.20330524,  7.1139339 ,\n",
              "        7.43237201,  6.68934975,  7.32622598,  8.49383238,  9.02456257,\n",
              "        7.59159107,  8.17539427,  6.84856881,  5.6809624 ,  7.80388314,\n",
              "        9.9798769 ,  5.30945127,  8.86534351,  7.69773711,  9.92680388,\n",
              "        7.75081012,  5.15023222,  5.73403542,  8.01617522,  6.15861957,\n",
              "        3.50496864,  6.37091164,  8.70612446,  7.43237201,  9.55529275,\n",
              "        7.37929899, 10.72289916,  7.80388314,  6.84856881,  3.82340675,\n",
              "        7.16700692,  5.46867033,  8.65305144,  9.34300068,  7.48544503,\n",
              "        5.73403542,  8.81227049,  6.21169259,  8.22846729,  8.49383238,\n",
              "        7.9631022 ,  9.07763559,  8.5469054 ,  8.86534351,  8.12232125,\n",
              "        8.28154031,  4.46028298,  8.70612446,  8.5469054 ,  6.84856881,\n",
              "        7.69773711,  6.58320372,  6.31783862,  6.84856881,  6.95471485,\n",
              "        5.89325448,  6.5301307 ,  6.74242277,  5.30945127,  7.06086088,\n",
              "        6.63627674,  5.15023222,  8.49383238, 10.24524199,  8.86534351,\n",
              "        7.1139339 ,  7.27315296,  8.06924823,  6.26476561,  7.9631022 ,\n",
              "        5.99940051,  5.99940051,  7.75081012,  7.27315296,  7.48544503,\n",
              "        7.06086088,  7.9631022 ,  5.94632749,  7.00778786,  6.15861957,\n",
              "        9.28992766,  7.16700692,  8.28154031,  4.99101316,  9.82065785,\n",
              "        7.59159107,  7.16700692,  8.06924823,  7.27315296,  6.79549579,\n",
              "        6.63627674,  7.91002918,  6.47705768,  6.58320372,  7.37929899,\n",
              "        7.22007994,  8.65305144,  6.47705768,  7.80388314,  8.33461333,\n",
              "        8.97148955,  8.86534351,  5.62788938,  8.28154031,  7.43237201,\n",
              "        5.36252429,  6.63627674,  7.43237201,  7.16700692,  6.79549579,\n",
              "        9.34300068,  5.99940051,  7.69773711,  9.34300068,  8.33461333,\n",
              "        8.28154031,  7.37929899,  6.63627674,  7.53851805,  5.20330524,\n",
              "        6.79549579,  7.69773711,  7.69773711,  8.06924823,  4.83179411,\n",
              "        8.91841653,  7.80388314, 10.29831501,  9.07763559,  7.32622598,\n",
              "        6.63627674,  6.74242277,  7.00778786,  5.62788938,  5.25637825,\n",
              "        5.94632749,  8.06924823,  5.46867033,  7.43237201,  8.5469054 ,\n",
              "        6.68934975,  7.64466409,  9.82065785,  8.49383238,  5.36252429,\n",
              "        8.17539427,  8.91841653,  9.71451181,  8.91841653,  8.38768635,\n",
              "        6.37091164,  7.1139339 ,  8.12232125,  6.74242277,  8.5469054 ,\n",
              "        8.38768635,  9.02456257,  7.80388314,  8.38768635,  6.5301307 ,\n",
              "        6.63627674,  6.58320372,  7.27315296,  6.95471485,  9.3960737 ,\n",
              "        4.83179411,  6.63627674,  6.47705768, 10.77597218,  6.79549579,\n",
              "        4.56642901,  9.82065785,  6.42398466,  6.74242277,  6.79549579,\n",
              "        5.57481637,  8.44075936,  6.26476561,  8.17539427,  5.6809624 ,\n",
              "        8.12232125,  7.16700692,  8.12232125,  7.75081012,  8.91841653,\n",
              "        7.69773711,  6.5301307 ,  8.12232125,  5.84018146,  9.23685464,\n",
              "        7.80388314,  6.05247353,  8.22846729,  8.28154031,  6.95471485,\n",
              "        8.81227049,  8.70612446,  7.37929899,  7.22007994,  6.95471485,\n",
              "        5.73403542,  7.00778786,  7.69773711,  7.9631022 ,  8.5469054 ,\n",
              "        8.81227049,  8.06924823,  7.16700692,  8.75919748,  5.94632749,\n",
              "        5.89325448,  4.93794014,  9.82065785,  7.37929899,  6.74242277,\n",
              "        7.59159107,  8.12232125,  7.80388314,  7.91002918,  6.68934975,\n",
              "        5.04408618,  6.5301307 , 10.8290452 ,  9.44914672,  7.16700692,\n",
              "        7.32622598,  6.95471485,  8.44075936,  7.48544503,  7.37929899,\n",
              "        7.06086088,  8.75919748,  7.00778786,  7.32622598,  7.9631022 ,\n",
              "        8.91841653,  5.62788938,  7.22007994, 10.03294992,  7.69773711,\n",
              "        6.63627674,  5.15023222,  7.53851805,  9.50221973,  7.9631022 ,\n",
              "        7.75081012,  7.06086088,  6.74242277,  7.27315296,  6.26476561,\n",
              "        6.84856881,  7.27315296,  5.20330524,  8.59997842,  7.27315296])"
            ]
          },
          "metadata": {},
          "execution_count": 8
        }
      ]
    },
    {
      "cell_type": "code",
      "source": [
        "#model Sales~Price + Advertising\n",
        "X2 = np.array(carseats.data)[:,np.array([3,5])]\n",
        "lm2 = LinearRegression(fit_intercept=True)\n",
        "lm2.fit(X2,y = carseats.data.Sales)\n",
        "lm2.coef_\n",
        "lm2.intercept_\n",
        "#R^2\n",
        "lm2.score(X2,carseats.data.Sales)"
      ],
      "metadata": {
        "colab": {
          "base_uri": "https://localhost:8080/"
        },
        "id": "CxI47CzrMdcs",
        "outputId": "8207d635-0779-40ec-aa60-3ead67f3cb0a"
      },
      "execution_count": null,
      "outputs": [
        {
          "output_type": "execute_result",
          "data": {
            "text/plain": [
              "0.28185560334302273"
            ]
          },
          "metadata": {},
          "execution_count": 20
        }
      ]
    },
    {
      "cell_type": "code",
      "source": [
        "#model Sales~.\n",
        "X3 = carseats.data\n",
        "#na początku dla zmiennych kategorycznych robimy one hot encoding \n",
        "#(dyskusja przy zadaniu 3 i 3.1 w zestawie dotyczącym regresji jednokrotnej)\n",
        "X3 = pd.get_dummies(X3,drop_first =True)\n",
        "#drop_first pozwala na usunięcie z rozważań jednej kolumny, np. dla 3 czynników Bad, Medium i Good,\n",
        "#usuwamy kolumnę 0-1 kową Bad i zostaje tylko Medium i Good, ale one w rzeczywistości wystarczą\n",
        "print(X3)\n",
        "lm3 = LinearRegression(fit_intercept=True)\n",
        "X3 = np.array(X3)[:,1:]\n",
        "lm3.fit(X3,y = carseats.data.Sales)\n",
        "lm3.coef_\n",
        "lm3.intercept_\n",
        "#R^2\n",
        "lm3.score(X3,carseats.data.Sales)"
      ],
      "metadata": {
        "colab": {
          "base_uri": "https://localhost:8080/"
        },
        "id": "elg4cx9X-svh",
        "outputId": "7fbeda3c-6337-462c-85ed-a2f5ec251f50"
      },
      "execution_count": null,
      "outputs": [
        {
          "output_type": "stream",
          "name": "stdout",
          "text": [
            "     Sales  CompPrice  Income  Advertising  Population  Price  Age  Education  \\\n",
            "0     9.50        138      73           11         276    120   42         17   \n",
            "1    11.22        111      48           16         260     83   65         10   \n",
            "2    10.06        113      35           10         269     80   59         12   \n",
            "3     7.40        117     100            4         466     97   55         14   \n",
            "4     4.15        141      64            3         340    128   38         13   \n",
            "..     ...        ...     ...          ...         ...    ...  ...        ...   \n",
            "395  12.57        138     108           17         203    128   33         14   \n",
            "396   6.14        139      23            3          37    120   55         11   \n",
            "397   7.41        162      26           12         368    159   40         18   \n",
            "398   5.94        100      79            7         284     95   50         12   \n",
            "399   9.71        134      37            0          27    120   49         16   \n",
            "\n",
            "     ShelveLoc_Good  ShelveLoc_Medium  Urban_Yes  US_Yes  \n",
            "0                 0                 0          1       1  \n",
            "1                 1                 0          1       1  \n",
            "2                 0                 1          1       1  \n",
            "3                 0                 1          1       1  \n",
            "4                 0                 0          1       0  \n",
            "..              ...               ...        ...     ...  \n",
            "395               1                 0          1       1  \n",
            "396               0                 1          0       1  \n",
            "397               0                 1          1       1  \n",
            "398               0                 0          1       1  \n",
            "399               1                 0          1       1  \n",
            "\n",
            "[400 rows x 12 columns]\n"
          ]
        },
        {
          "output_type": "execute_result",
          "data": {
            "text/plain": [
              "0.8734133434127013"
            ]
          },
          "metadata": {},
          "execution_count": 62
        }
      ]
    },
    {
      "cell_type": "code",
      "source": [
        "#teraz wielomian stopnia 2\n",
        "price = np.array(carseats.data.Price).reshape(-1,1)\n",
        "#chcemy mieć tylko x i x^2, bo wyraz wolny sam obiekt LinearRegression sobie doliczy,\n",
        "#stąd include_bias = False\n",
        "poly2 = PolynomialFeatures(degree = 2,include_bias = False)\n",
        "price2 = poly2.fit_transform(price)\n",
        "lm4 = LinearRegression(fit_intercept=True)\n",
        "lm4.fit(X=price2,y = carseats.data.Sales)\n",
        "print(lm4.coef_)\n",
        "print(lm4.intercept_)\n",
        "lm4.score(price2,carseats.data.Sales)"
      ],
      "metadata": {
        "colab": {
          "base_uri": "https://localhost:8080/"
        },
        "id": "LYQrk69NOAkB",
        "outputId": "e4af3bf1-37b0-4fcc-c62c-e79e6ea40ce8"
      },
      "execution_count": null,
      "outputs": [
        {
          "output_type": "stream",
          "name": "stdout",
          "text": [
            "[-6.4591343e-02  5.0377893e-05]\n",
            "14.272018030033502\n"
          ]
        },
        {
          "output_type": "execute_result",
          "data": {
            "text/plain": [
              "0.1982221162426384"
            ]
          },
          "metadata": {},
          "execution_count": 49
        }
      ]
    },
    {
      "cell_type": "code",
      "source": [
        "#teraz wielomian stopnia 3\n",
        "price = np.array(carseats.data.Price).reshape(-1,1)\n",
        "poly3 = PolynomialFeatures(degree = 3,include_bias = False)\n",
        "price3 = poly3.fit_transform(price)\n",
        "lm5 = LinearRegression(fit_intercept=True)\n",
        "lm5.fit(X=price3,y = carseats.data.Sales)\n",
        "print(lm5.coef_)\n",
        "print(lm5.intercept_)\n",
        "lm5.score(price3,carseats.data.Sales)"
      ],
      "metadata": {
        "colab": {
          "base_uri": "https://localhost:8080/"
        },
        "id": "_iAX9YmkTp8c",
        "outputId": "8086fc21-93b9-410e-ce81-2b5af35112fa"
      },
      "execution_count": null,
      "outputs": [
        {
          "output_type": "stream",
          "name": "stdout",
          "text": [
            "[-1.27155678e-01  6.42436294e-04 -1.77055030e-06]\n",
            "16.337010828654726\n"
          ]
        },
        {
          "output_type": "execute_result",
          "data": {
            "text/plain": [
              "0.19891039596334037"
            ]
          },
          "metadata": {},
          "execution_count": 51
        }
      ]
    },
    {
      "cell_type": "markdown",
      "metadata": {
        "id": "_xklkLtuU73W"
      },
      "source": [
        "### make_pipelines \n",
        "\n",
        "https://scikit-learn.org/stable/modules/generated/sklearn.pipeline.make_pipeline.html?highlight=make_pipeline#sklearn.pipeline.make_pipeline"
      ]
    },
    {
      "cell_type": "code",
      "source": [
        "#preprocessing danych i dopasowanie modelu w jednej funkcji\n",
        "#tu wielomian stopnia 2\n",
        "pipeline1 = make_pipeline(PolynomialFeatures(degree = 2,include_bias=False),LinearRegression())\n",
        "lm4  = pipeline1.fit(X = price,y = carseats.data.Sales)\n",
        "\n",
        "lm4.score(price,carseats.data.Sales)\n",
        "#Aby dojść do parametrów elementu pipelina najpierw bierzemy indeks elementu, \n",
        "#wywołujemy pipeline z numerem indeksu i po kropce parametr. \n",
        "lm4[1].coef_\n",
        "lm4[1].intercept_"
      ],
      "metadata": {
        "colab": {
          "base_uri": "https://localhost:8080/"
        },
        "id": "pv60QAoWRtuF",
        "outputId": "cee2f9c2-9d25-48b5-b221-8846d8770e1f"
      },
      "execution_count": null,
      "outputs": [
        {
          "output_type": "execute_result",
          "data": {
            "text/plain": [
              "14.272018030033502"
            ]
          },
          "metadata": {},
          "execution_count": 53
        }
      ]
    },
    {
      "cell_type": "markdown",
      "metadata": {
        "id": "hCFxBllJU73a"
      },
      "source": [
        "# Wybór i ocena najlepszego modelu regresji"
      ]
    },
    {
      "cell_type": "markdown",
      "metadata": {
        "id": "KebJxjkTU73a"
      },
      "source": [
        "Podczas budowy modelu, którego celem jest przewidywanie pewnych wartości na podstawie zbioru danych uczących poważnym problemem jest ocena jakości uczenia i zdolności poprawnego przewidywania.\n",
        "\n",
        "**Częstym błędem osób początkujących w zakresie analizy danych jest przeprowadzanie testów na tym samym zbiorze na którym system był uczony**. Takie rozwiązanie nie jest poprawnym miernikiem jakości nauczonego modelu i prowadzi do wyników które są przeszacowane, czyli nadmiernie optymistyczne.\n",
        "\n",
        "Zwykle głównym celem budowy modeli predykcyjnych jest późniejsze wykorzystanie przewidywań modelu na danych niedostępnych podczas procesu uczenia więc opracowano szereg metod pozwalających na znacznie bardziej uczciwy pomiar dokładności."
      ]
    },
    {
      "cell_type": "markdown",
      "metadata": {
        "id": "VM-oeSvOU73a"
      },
      "source": [
        "### Podział zbioru na część:\n",
        "- treningową,\n",
        "- testową.\n",
        "\n",
        "Idea oceny modelu lub doboru odpowiednich parametrów modelu sprowadza się wówczas do nauczenia modelu na części uczącej oraz przetestowania go na części testowej, która nie była wykorzystywana w procesie uczenia modelu. Dzięki wydzieleniu dwóch niezależnych podzbiorów, wektory części testowej zawierają informację o faktycznym wyniku jaki powinien zostać osiągnięty, natomiast nauczony (na części uczącej zbioru) model dostarcza wyników przewidywań."
      ]
    },
    {
      "cell_type": "markdown",
      "metadata": {
        "id": "MZh9mahGU73a"
      },
      "source": [
        "lub \n",
        "\n",
        "- treningową,\n",
        "- walidacyjną,\n",
        "- testową."
      ]
    },
    {
      "cell_type": "markdown",
      "metadata": {
        "id": "7NHdJ2IHU73b"
      },
      "source": [
        "Nierzadko, z wydzielenia próby walidacyjnej oraz testowej trzeba zrezygnować i wszystkie dane uznać za elementy próby uczącej. Jak wówczas porównywać różne modele?\n",
        "\n",
        "Trzeba się odwołać do wielokrotnego wykorzystania elementów próby uczącej, tak przy tym zorganizowanego, by wprowadzane tym sposobem obciążenie otrzymywanych oszacowań było możliwie małe."
      ]
    },
    {
      "cell_type": "markdown",
      "metadata": {
        "id": "T3oCZWXFU73b"
      },
      "source": [
        "## Kroswalidacja - sprawdzanie krzyżowe\n",
        "\n",
        "1. Próba ucząca zostaje podzielona na $K$ możliwie równych części.\n",
        "\n",
        "2. Z próby uczącej tworzy się $K$ różnych pseudoprób, powstających przez usuwanie z próby oryginalnej jednej z jej $K$ części. Każda pseudopróba składa się $K-1$ części próby uczącej.\n",
        "\n",
        "3. Dany model jest budowany $K$-krotnie, za każdym razem na podstawie innej pseudopróby.\n",
        "\n",
        "4. Otrzymujemy $K$ wersji tego samego modelu.\n",
        "\n",
        "5. Każda $k$-ta wersja modelu jest oceniana na tej części oryginalnej próby uczącej, która nie weszła do $k$-tej pseudopróby. Tym sposobem, oceny danej wersji modelu dokonujemy na obserwacjach, które nie brały udziałuw jego konstrukcji.\n",
        "\n",
        "6. Oszacowanie błędu kroswalidacji wyznaczamy jako średnią z błędów każdej wersji modelu."
      ]
    },
    {
      "cell_type": "markdown",
      "metadata": {
        "id": "4KBopaNKU73b"
      },
      "source": [
        "## Pomiary błędów\n",
        "\n",
        "### Błąd średniokwadratowy (ang. *Mean squared error*)\n",
        "$$\n",
        "\\text{MSE} = \\frac{1}{n}\\sum_{i=1}^n(y_i - \\hat{y}_i)^2.\n",
        "$$\n",
        "\n",
        "### Mediana błędu bezwzględnego (ang. *Median absolute error*)\n",
        "$$\n",
        "\\text{MAE}= \\text{Med}(|y_i - \\hat{y}_i|).\n",
        "$$"
      ]
    },
    {
      "cell_type": "markdown",
      "metadata": {
        "id": "la2MhJhDU73b"
      },
      "source": [
        "## Zadanie 2\n",
        "Wczytaj zbiór `Carseats`, a następnie\n",
        "\n",
        "1. Podziel zbiór na część treningową i testową w stosunku 7:3.\n",
        "\n",
        "2. Naucz dowolny model na części treningowej: \n",
        "    - wyznacz błąd dopasowania wykorzystującz MSE i MAE;\n",
        "    - wyznacz te same błędy wykorzystując metodę kroswalidacji.\n",
        "\n",
        "3. Sprawdź jakość predykcji. Na podstawie nauczonego modelu na części treningowej, dokonaj predykcji wartość `Sales` dla wartości ze zbioru testowego. Porównaj jakość dopasowania z jakością predykcji."
      ]
    },
    {
      "cell_type": "code",
      "execution_count": 4,
      "metadata": {
        "id": "wosG_NdyU73c"
      },
      "outputs": [],
      "source": [
        "from sklearn.model_selection import cross_val_score, train_test_split"
      ]
    },
    {
      "cell_type": "code",
      "source": [
        "carseats = sm.datasets.get_rdataset(dataname=\"Carseats\", package=\"ISLR\", cache=True)"
      ],
      "metadata": {
        "id": "HNsxlR-KP64g"
      },
      "execution_count": 3,
      "outputs": []
    },
    {
      "cell_type": "code",
      "source": [
        "# Podział zbioru na część treningową i na część testową\n",
        "y = carseats.data.Sales\n",
        "X = carseats.data.iloc[:,1:]\n",
        "X = pd.get_dummies(X,drop_first=True)\n",
        "print(X.head())\n",
        "#randomstate bo podział losowy\n",
        "X_train, X_test, y_train, y_test = train_test_split(X, y, test_size=0.3, random_state=123)"
      ],
      "metadata": {
        "colab": {
          "base_uri": "https://localhost:8080/"
        },
        "id": "eQieKae2NJid",
        "outputId": "261e456b-5fc6-4222-aa10-0d5eb0e2de92"
      },
      "execution_count": 5,
      "outputs": [
        {
          "output_type": "stream",
          "name": "stdout",
          "text": [
            "   CompPrice  Income  Advertising  Population  Price  Age  Education  \\\n",
            "0        138      73           11         276    120   42         17   \n",
            "1        111      48           16         260     83   65         10   \n",
            "2        113      35           10         269     80   59         12   \n",
            "3        117     100            4         466     97   55         14   \n",
            "4        141      64            3         340    128   38         13   \n",
            "\n",
            "   ShelveLoc_Good  ShelveLoc_Medium  Urban_Yes  US_Yes  \n",
            "0               0                 0          1       1  \n",
            "1               1                 0          1       1  \n",
            "2               0                 1          1       1  \n",
            "3               0                 1          1       1  \n",
            "4               0                 0          1       0  \n"
          ]
        }
      ]
    },
    {
      "cell_type": "code",
      "source": [
        "#sprawdzenie\n",
        "print(X_train.shape[0] / X.shape[0], X_test.shape[0] / X.shape[0])"
      ],
      "metadata": {
        "colab": {
          "base_uri": "https://localhost:8080/"
        },
        "id": "ISEiHJdWO5WC",
        "outputId": "bd276bea-3506-45f2-85c1-438c19e6b551"
      },
      "execution_count": 6,
      "outputs": [
        {
          "output_type": "stream",
          "name": "stdout",
          "text": [
            "0.7 0.3\n"
          ]
        }
      ]
    },
    {
      "cell_type": "code",
      "source": [
        "# Model \n",
        "lm = LinearRegression()\n",
        "lm.fit(X=X_train, y=y_train)"
      ],
      "metadata": {
        "colab": {
          "base_uri": "https://localhost:8080/"
        },
        "id": "GHi3sDaJO86g",
        "outputId": "b8736214-670f-4410-b7c2-09ae5c090966"
      },
      "execution_count": 7,
      "outputs": [
        {
          "output_type": "execute_result",
          "data": {
            "text/plain": [
              "LinearRegression()"
            ]
          },
          "metadata": {},
          "execution_count": 7
        }
      ]
    },
    {
      "cell_type": "code",
      "execution_count": 8,
      "metadata": {
        "id": "w7taIQ4HU73d"
      },
      "outputs": [],
      "source": [
        "import sklearn.metrics as metrics"
      ]
    },
    {
      "cell_type": "code",
      "source": [
        "#jakośc dopasowania (czyli miary na zb. treningowym)\n",
        "print(\"Train R2: {}\".format(lm.score(X_train, y_train)))\n",
        "print(\"Train MSE: {}\".format(metrics.mean_squared_error(y_true=y_train, y_pred=lm.predict(X_train))))\n",
        "print(\"Train MAE: {}\".format(metrics.median_absolute_error(y_true=y_train, y_pred=lm.predict(X_train))))\n",
        "print(\"Train MAR: {}\".format(metrics.mean_absolute_error(y_true=y_train, y_pred=lm.predict(X_train))))"
      ],
      "metadata": {
        "colab": {
          "base_uri": "https://localhost:8080/"
        },
        "id": "TsztwDT0Q2NT",
        "outputId": "f7da5ef9-6d98-4971-82a4-d7838ccc9e99"
      },
      "execution_count": 11,
      "outputs": [
        {
          "output_type": "stream",
          "name": "stdout",
          "text": [
            "Train R2: 0.8877516608074592\n",
            "Train MSE: 0.9085503897084769\n",
            "Train MAE: 0.6619545609541615\n",
            "Train MAR: 0.7652564384688191\n"
          ]
        }
      ]
    },
    {
      "cell_type": "code",
      "source": [
        "# Za pomocą metody kroswalidacji\n",
        "lm = LinearRegression()\n",
        "cv = 10 #liczba podzbiorów biorących udzia w kroswalidacji\n",
        "print(\"CV Train R2: {}\".format(cross_val_score(lm, X, y, cv=cv).mean()))\n",
        "print(\"CV Train MSE: {}\".format(-cross_val_score(lm, X, y, \n",
        "                                           scoring = 'neg_mean_squared_error', cv=cv).mean()))\n",
        "print(\"CV Train MAE: {}\".format(-cross_val_score(lm, X, y, \n",
        "                                           scoring = 'neg_median_absolute_error', cv=cv).mean()))\n",
        "#R^2 maleje, bo jednak jest liczony na części testowej w każdym obrocie pętli kroswalidacyjnej, a MSE i MAE rosną"
      ],
      "metadata": {
        "colab": {
          "base_uri": "https://localhost:8080/"
        },
        "id": "v7586IVcRPxL",
        "outputId": "1691a97f-5e9d-42a1-f767-15cbe8f063e0"
      },
      "execution_count": 15,
      "outputs": [
        {
          "output_type": "stream",
          "name": "stdout",
          "text": [
            "CV Train R2: 0.8570046698819291\n",
            "CV Train MSE: 1.0699336881636565\n",
            "CV Train MAE: 0.7201591261436748\n"
          ]
        }
      ]
    },
    {
      "cell_type": "code",
      "source": [
        "#jakośc predykcji (na zb. testowym)\n",
        "print(\"Test MSE: {}\".format(metrics.mean_squared_error(y_true=y_test, y_pred=lm.predict(X_test))))\n",
        "print(\"Test MAR: {}\".format(metrics.mean_absolute_error(y_true=y_test, y_pred=lm.predict(X_test))))\n",
        "print(\"Test MAE: {}\".format(metrics.median_absolute_error(y_true=y_test, y_pred=lm.predict(X_test))))\n",
        "# MSE MAR i MAE rosną"
      ],
      "metadata": {
        "colab": {
          "base_uri": "https://localhost:8080/"
        },
        "id": "H-rZRjlJR-64",
        "outputId": "cf1535dd-f7c0-4716-b86d-85eb60526a81"
      },
      "execution_count": 12,
      "outputs": [
        {
          "output_type": "stream",
          "name": "stdout",
          "text": [
            "Test MSE: 1.3052473929837585\n",
            "Test MAR: 0.9042605739350006\n",
            "Test MAE: 0.7750702168988819\n"
          ]
        }
      ]
    },
    {
      "cell_type": "markdown",
      "metadata": {
        "id": "z77hR6oJU73g"
      },
      "source": [
        "# *Zadanie 3\n",
        "Napisz własną funkcję do kroswalidacji (użyj `from sklearn.model_selection import KFold`)."
      ]
    },
    {
      "cell_type": "code",
      "execution_count": 16,
      "metadata": {
        "id": "jVk1s8XrU73g"
      },
      "outputs": [],
      "source": [
        "from sklearn.model_selection import KFold \n",
        "#KFold dokonuje podziału na n_splits części\n",
        "#W każdym obrocie pętli pod test_index są indeksy innej części, a reszta części, \n",
        "#które pozostają, służy do uczenia"
      ]
    },
    {
      "cell_type": "code",
      "source": [
        "def cv_fun(model, X, y, cv, score_fun):\n",
        "    kf = KFold(n_splits=cv)\n",
        "    scores = []\n",
        "    for train_index, test_index in kf.split(X):\n",
        "        X_train, X_test = X.iloc[train_index], X.iloc[test_index]\n",
        "        y_train, y_test = y.iloc[train_index], y.iloc[test_index]\n",
        "        model.fit(X=X_train, y=y_train)\n",
        "        y_pred = model.predict(X_test)\n",
        "        scores.append(score_fun(y_test, y_pred))\n",
        "    return np.array(scores)"
      ],
      "metadata": {
        "id": "_CwpZhKuS7Hm"
      },
      "execution_count": 17,
      "outputs": []
    },
    {
      "cell_type": "code",
      "source": [
        "cv_fun(lm, X, y, 10, metrics.mean_squared_error).mean()"
      ],
      "metadata": {
        "colab": {
          "base_uri": "https://localhost:8080/"
        },
        "id": "6UkDX29wUYB7",
        "outputId": "a17d62de-94f9-4705-c272-2924d06a3bba"
      },
      "execution_count": 18,
      "outputs": [
        {
          "output_type": "execute_result",
          "data": {
            "text/plain": [
              "1.0699336881636565"
            ]
          },
          "metadata": {},
          "execution_count": 18
        }
      ]
    },
    {
      "cell_type": "code",
      "source": [
        "cv_fun(lm, X, y, 10, metrics.median_absolute_error).mean()"
      ],
      "metadata": {
        "colab": {
          "base_uri": "https://localhost:8080/"
        },
        "id": "wGc316U7Uo_5",
        "outputId": "2ca37e99-736b-46ca-e6e8-44a3c86ee587"
      },
      "execution_count": 19,
      "outputs": [
        {
          "output_type": "execute_result",
          "data": {
            "text/plain": [
              "0.7201591261436748"
            ]
          },
          "metadata": {},
          "execution_count": 19
        }
      ]
    },
    {
      "cell_type": "markdown",
      "metadata": {
        "id": "gvZSGkljU73i"
      },
      "source": [
        "# Zadanie 4\n",
        "Dla zbióru `Carseats`,\n",
        "\n",
        "1. Podziel zbiór na część treningową i testową;\n",
        "\n",
        "2. Dopasuj model regresji:\n",
        "\n",
        "a) liniowej `Sales~Price`;\n",
        "\n",
        "b) liniowej `Sales~Price + Advertising`;\n",
        "\n",
        "c) liniowej `Sales~.`;\n",
        "\n",
        "d) wielomianowej stopnia 2 dla zmiennej `Price`;\n",
        "\n",
        "e) wielomianowej stopnia 3 dla zmiennej `Price`;\n",
        "\n",
        "3. Wybierz najlepszy model na podstawie miar jakości otrzymanych przy użyciu kroswalidacji 10-krotnej.\n",
        "\n",
        "4. Dla najlepszego modelu dokonaj predykcji na zbiorze testowy. Wyznacz jakość predykcji."
      ]
    },
    {
      "cell_type": "code",
      "execution_count": 20,
      "metadata": {
        "id": "ya-RhW0GU73i"
      },
      "outputs": [],
      "source": [
        "#zmienne zależne i niezależne i one-hot-encoding\n",
        "y = carseats.data['Sales']\n",
        "X = carseats.data.drop('Sales', axis=1)\n",
        "X = pd.get_dummies(X)"
      ]
    },
    {
      "cell_type": "code",
      "source": [
        "#1\n",
        "X_train, X_test, y_train, y_test = train_test_split(X, y, test_size=0.3, random_state=123)"
      ],
      "metadata": {
        "id": "g7gM5dAoVnMo"
      },
      "execution_count": 21,
      "outputs": []
    },
    {
      "cell_type": "code",
      "source": [
        "#2\n",
        "#Funkcja do tworzenia regresji wielomianowej \n",
        "#(w szególności stopnia 1 - więczwykłej regresji liniowej) \n",
        "#a także do liczenia scoreów metodą kroswalidacji\n",
        "\n",
        "def fit_model(X_train, y_train, degree=1):\n",
        "    model = make_pipeline(\n",
        "        PolynomialFeatures(degree=degree,include_bias=False),\n",
        "        LinearRegression()\n",
        "    )\n",
        "    cv_r2 = cross_val_score(model, X_train, y_train, scoring='r2', cv=10).mean()\n",
        "    cv_mse = -cross_val_score(model, X_train, y_train, scoring='neg_mean_squared_error', cv=10).mean()\n",
        "    cv_mae = -cross_val_score(model, X_train, y_train, scoring='neg_median_absolute_error', cv=10).mean()\n",
        "    \n",
        "    return {\n",
        "        'cv_r2': cv_r2, 'cv_mse': cv_mse, 'cv_mae': cv_mae\n",
        "    }\n"
      ],
      "metadata": {
        "id": "yhsAiPJvV7pi"
      },
      "execution_count": 22,
      "outputs": []
    },
    {
      "cell_type": "code",
      "source": [
        "results = pd.DataFrame(index=['cv_r2', 'cv_mse', 'cv_mae'])\n",
        "results['lm(Sales~Price)'] = fit_model(X_train=np.array(X_train['Price']).reshape(-1, 1), y_train=y_train).values()\n",
        "results['lm(Sales~Price+Advertising)'] = fit_model(X_train=X_train[['Price', 'Advertising']], y_train=y_train).values()\n",
        "results['lm(Sales~.)'] = fit_model(X_train=X_train, y_train=y_train).values()\n",
        "results['poly2(Sales~Price)'] = fit_model(X_train=np.array(X_train['Price']).reshape(-1, 1), y_train=y_train, degree=2).values()\n",
        "results['poly3(Sales~Price)'] = fit_model(X_train=np.array(X_train['Price']).reshape(-1, 1), y_train=y_train, degree=3).values()\n",
        "results"
      ],
      "metadata": {
        "colab": {
          "base_uri": "https://localhost:8080/",
          "height": 143
        },
        "id": "Srn-gQshXJin",
        "outputId": "8ddf38b3-e4b1-4003-e44c-41031c857765"
      },
      "execution_count": 26,
      "outputs": [
        {
          "output_type": "execute_result",
          "data": {
            "text/plain": [
              "        lm(Sales~Price)  lm(Sales~Price+Advertising)  lm(Sales~.)  \\\n",
              "cv_r2          0.134812                     0.218384     0.856823   \n",
              "cv_mse         6.684562                     6.060563     0.998997   \n",
              "cv_mae         1.721873                     1.597759     0.719593   \n",
              "\n",
              "        poly2(Sales~Price)  poly3(Sales~Price)  \n",
              "cv_r2             0.133412            0.131569  \n",
              "cv_mse            6.727347            6.703862  \n",
              "cv_mae            1.749296            1.753124  "
            ],
            "text/html": [
              "\n",
              "  <div id=\"df-a8a88e2c-cf7d-4f12-af56-5c5b929ff093\">\n",
              "    <div class=\"colab-df-container\">\n",
              "      <div>\n",
              "<style scoped>\n",
              "    .dataframe tbody tr th:only-of-type {\n",
              "        vertical-align: middle;\n",
              "    }\n",
              "\n",
              "    .dataframe tbody tr th {\n",
              "        vertical-align: top;\n",
              "    }\n",
              "\n",
              "    .dataframe thead th {\n",
              "        text-align: right;\n",
              "    }\n",
              "</style>\n",
              "<table border=\"1\" class=\"dataframe\">\n",
              "  <thead>\n",
              "    <tr style=\"text-align: right;\">\n",
              "      <th></th>\n",
              "      <th>lm(Sales~Price)</th>\n",
              "      <th>lm(Sales~Price+Advertising)</th>\n",
              "      <th>lm(Sales~.)</th>\n",
              "      <th>poly2(Sales~Price)</th>\n",
              "      <th>poly3(Sales~Price)</th>\n",
              "    </tr>\n",
              "  </thead>\n",
              "  <tbody>\n",
              "    <tr>\n",
              "      <th>cv_r2</th>\n",
              "      <td>0.134812</td>\n",
              "      <td>0.218384</td>\n",
              "      <td>0.856823</td>\n",
              "      <td>0.133412</td>\n",
              "      <td>0.131569</td>\n",
              "    </tr>\n",
              "    <tr>\n",
              "      <th>cv_mse</th>\n",
              "      <td>6.684562</td>\n",
              "      <td>6.060563</td>\n",
              "      <td>0.998997</td>\n",
              "      <td>6.727347</td>\n",
              "      <td>6.703862</td>\n",
              "    </tr>\n",
              "    <tr>\n",
              "      <th>cv_mae</th>\n",
              "      <td>1.721873</td>\n",
              "      <td>1.597759</td>\n",
              "      <td>0.719593</td>\n",
              "      <td>1.749296</td>\n",
              "      <td>1.753124</td>\n",
              "    </tr>\n",
              "  </tbody>\n",
              "</table>\n",
              "</div>\n",
              "      <button class=\"colab-df-convert\" onclick=\"convertToInteractive('df-a8a88e2c-cf7d-4f12-af56-5c5b929ff093')\"\n",
              "              title=\"Convert this dataframe to an interactive table.\"\n",
              "              style=\"display:none;\">\n",
              "        \n",
              "  <svg xmlns=\"http://www.w3.org/2000/svg\" height=\"24px\"viewBox=\"0 0 24 24\"\n",
              "       width=\"24px\">\n",
              "    <path d=\"M0 0h24v24H0V0z\" fill=\"none\"/>\n",
              "    <path d=\"M18.56 5.44l.94 2.06.94-2.06 2.06-.94-2.06-.94-.94-2.06-.94 2.06-2.06.94zm-11 1L8.5 8.5l.94-2.06 2.06-.94-2.06-.94L8.5 2.5l-.94 2.06-2.06.94zm10 10l.94 2.06.94-2.06 2.06-.94-2.06-.94-.94-2.06-.94 2.06-2.06.94z\"/><path d=\"M17.41 7.96l-1.37-1.37c-.4-.4-.92-.59-1.43-.59-.52 0-1.04.2-1.43.59L10.3 9.45l-7.72 7.72c-.78.78-.78 2.05 0 2.83L4 21.41c.39.39.9.59 1.41.59.51 0 1.02-.2 1.41-.59l7.78-7.78 2.81-2.81c.8-.78.8-2.07 0-2.86zM5.41 20L4 18.59l7.72-7.72 1.47 1.35L5.41 20z\"/>\n",
              "  </svg>\n",
              "      </button>\n",
              "      \n",
              "  <style>\n",
              "    .colab-df-container {\n",
              "      display:flex;\n",
              "      flex-wrap:wrap;\n",
              "      gap: 12px;\n",
              "    }\n",
              "\n",
              "    .colab-df-convert {\n",
              "      background-color: #E8F0FE;\n",
              "      border: none;\n",
              "      border-radius: 50%;\n",
              "      cursor: pointer;\n",
              "      display: none;\n",
              "      fill: #1967D2;\n",
              "      height: 32px;\n",
              "      padding: 0 0 0 0;\n",
              "      width: 32px;\n",
              "    }\n",
              "\n",
              "    .colab-df-convert:hover {\n",
              "      background-color: #E2EBFA;\n",
              "      box-shadow: 0px 1px 2px rgba(60, 64, 67, 0.3), 0px 1px 3px 1px rgba(60, 64, 67, 0.15);\n",
              "      fill: #174EA6;\n",
              "    }\n",
              "\n",
              "    [theme=dark] .colab-df-convert {\n",
              "      background-color: #3B4455;\n",
              "      fill: #D2E3FC;\n",
              "    }\n",
              "\n",
              "    [theme=dark] .colab-df-convert:hover {\n",
              "      background-color: #434B5C;\n",
              "      box-shadow: 0px 1px 3px 1px rgba(0, 0, 0, 0.15);\n",
              "      filter: drop-shadow(0px 1px 2px rgba(0, 0, 0, 0.3));\n",
              "      fill: #FFFFFF;\n",
              "    }\n",
              "  </style>\n",
              "\n",
              "      <script>\n",
              "        const buttonEl =\n",
              "          document.querySelector('#df-a8a88e2c-cf7d-4f12-af56-5c5b929ff093 button.colab-df-convert');\n",
              "        buttonEl.style.display =\n",
              "          google.colab.kernel.accessAllowed ? 'block' : 'none';\n",
              "\n",
              "        async function convertToInteractive(key) {\n",
              "          const element = document.querySelector('#df-a8a88e2c-cf7d-4f12-af56-5c5b929ff093');\n",
              "          const dataTable =\n",
              "            await google.colab.kernel.invokeFunction('convertToInteractive',\n",
              "                                                     [key], {});\n",
              "          if (!dataTable) return;\n",
              "\n",
              "          const docLinkHtml = 'Like what you see? Visit the ' +\n",
              "            '<a target=\"_blank\" href=https://colab.research.google.com/notebooks/data_table.ipynb>data table notebook</a>'\n",
              "            + ' to learn more about interactive tables.';\n",
              "          element.innerHTML = '';\n",
              "          dataTable['output_type'] = 'display_data';\n",
              "          await google.colab.output.renderOutput(dataTable, element);\n",
              "          const docLink = document.createElement('div');\n",
              "          docLink.innerHTML = docLinkHtml;\n",
              "          element.appendChild(docLink);\n",
              "        }\n",
              "      </script>\n",
              "    </div>\n",
              "  </div>\n",
              "  "
            ]
          },
          "metadata": {},
          "execution_count": 26
        }
      ]
    },
    {
      "cell_type": "code",
      "source": [
        "# 3. Wybierz najlepszy model na podstawie miar jakości otrzymanych przy użyciu kroswalidacji 10-krotnej.\n",
        "# Najlepsze wyniki na zbiorze treningowym otrzymał model: lm(Sales~.)"
      ],
      "metadata": {
        "id": "wMtGZmCzXDOk"
      },
      "execution_count": null,
      "outputs": []
    },
    {
      "cell_type": "code",
      "source": [
        "model = LinearRegression().fit(X_train, y_train)\n",
        "y_pred = model.predict(X_test)"
      ],
      "metadata": {
        "id": "LbFI_sbKXUZn"
      },
      "execution_count": 24,
      "outputs": []
    },
    {
      "cell_type": "code",
      "source": [
        "#4\n",
        "#na testowym jakość predykcji\n",
        "print(\"Test MSE: {}\".format(metrics.mean_squared_error(y_pred=y_pred, y_true=y_test)))\n",
        "print(\"Test MAE: {}\".format(metrics.mean_absolute_error(y_pred=y_pred, y_true=y_test)))"
      ],
      "metadata": {
        "colab": {
          "base_uri": "https://localhost:8080/"
        },
        "id": "rI8HGcOJXYZn",
        "outputId": "b1d27ca6-a3cf-4d07-e9f4-a1a88b5a298c"
      },
      "execution_count": 25,
      "outputs": [
        {
          "output_type": "stream",
          "name": "stdout",
          "text": [
            "Test MSE: 1.305247392983756\n",
            "Test MAE: 0.9042605739350001\n"
          ]
        }
      ]
    }
  ],
  "metadata": {
    "kernelspec": {
      "display_name": "Python 3",
      "language": "python",
      "name": "python3"
    },
    "language_info": {
      "codemirror_mode": {
        "name": "ipython",
        "version": 3
      },
      "file_extension": ".py",
      "mimetype": "text/x-python",
      "name": "python",
      "nbconvert_exporter": "python",
      "pygments_lexer": "ipython3",
      "version": "3.7.4"
    },
    "colab": {
      "provenance": [],
      "collapsed_sections": [
        "4KBopaNKU73b"
      ]
    }
  },
  "nbformat": 4,
  "nbformat_minor": 0
}