{
  "cells": [
    {
      "cell_type": "markdown",
      "metadata": {
        "id": "cVL2ia6yxWNn"
      },
      "source": [
        "# ANOVA"
      ]
    },
    {
      "cell_type": "code",
      "execution_count": null,
      "metadata": {
        "id": "hKvr1Rk3xWNs"
      },
      "outputs": [],
      "source": [
        "import numpy as np\n",
        "import pandas as pd\n",
        "import matplotlib.pyplot as plt\n",
        "import statsmodels.api as sm\n",
        "import statsmodels.stats as sm_stats\n",
        "from scipy import stats\n",
        "from statsmodels.formula.api import ols\n",
        "from statsmodels.stats.anova import anova_lm\n",
        "\n",
        "from statsmodels.stats.multicomp import MultiComparison, pairwise_tukeyhsd"
      ]
    },
    {
      "cell_type": "markdown",
      "source": [
        "#rozkład $F$-Snedecora\n",
        "Zmienna losowa $X$ ma rozkład $F$-Snedecora z parametrami $m,n\\in\\mathbb{N_+}$, jeżeli jej gęstość $f$~jest postaci\n",
        "\n",
        "\\begin{equation*}\n",
        "      f(x)=\n",
        "    \\begin{cases}\n",
        "    \\frac{\\Gamma(\\frac{n+m}{2})}{\\Gamma(\\frac{n}{2})\\Gamma(\\frac{m}{2})}\\Big(\\frac{m}{n}\\Big)^{\\frac{m}{2}}x^{\\frac{n}{2}-1}\\Big(x+\\frac{m}{n}\\Big)^{-\\frac{n+m}{2}} \\quad &\\text{dla} \\quad x\\geq0\\\\\n",
        "    0 \\quad &\\text{dla} \\quad x< 0,\n",
        "    \\end{cases}\n",
        "\\end{equation*}\n",
        "\n",
        "Wartość oczekiwana i wariancja dane są wzorami\n",
        "\\begin{equation*}\n",
        "    \\mathbb{E}X = \\frac{m}{m-2}, \\quad \\text{Var}(X) = \\frac{2m^2(n+m-2)}{n(m-2)(m-4)}.\n",
        "\\end{equation*}"
      ],
      "metadata": {
        "id": "Ig_o4kI7yXSN"
      }
    },
    {
      "cell_type": "markdown",
      "metadata": {
        "id": "hgpM8S6KxWNu"
      },
      "source": [
        "# Zadanie wstępne\n",
        "\n",
        "1. Zdefiniuj zmienną losową dla rozkładu $F$-Snedecora.\n",
        "2. Narysuj gęstość dla kilku wybranych stopni swobody. Zwróć uwagę na dziedzinę gęstości.\n",
        "3. Narysuj dystrybuantę dla kilku wybranych stopni swobody.\n",
        "4. Wyznacz podstawowe charakterystyki rozkładu: średnia, wariancja, odchylenie standardowe.\n",
        "5. Wylosuj $n$ obserwacji z zdefiniowanego rozkładu.\n",
        "6. Narysujmy histogram dla wylosowanej powyżej próbki.\n",
        "7. Sprawdź, czy zachodzi własność: jeśli $X$ pochodzi z rozkładu chi-kwadrat o $m$ stopniach swobody i $Y$ również pochodzi z rozkładu chi kwadrat ale o $n$ stopniach swobody, oraz zmienne $X$ i $Y$ są niezależne, to zmienna \n",
        "$$\n",
        "    Z = \\frac{\\frac{X}{m}}{\\frac{Y}{n}}\n",
        "$$\n",
        "ma rozkład $F$-Snedecora o $(m,n)$ stopniach swobody.\n",
        "8. Niech $X_1, \\ldots, X_{n_1}$ będzie próbą prostą z rozkładu $\\mathcal{N}(\\mu_1, \\sigma)$ oraz niech $Y_1, \\ldots, Y_{n_2}$ będzie próbą prostą z rozkładu $\\mathcal{N}(\\mu_2, \\sigma)$. Załóżmy ponadto, że obie próbki są niezależne. Niech $S_1^2$ i $S_2^2$ oznaczają, odpowiednio, wariancje próbkowe z pierwszej i drugiej próbki. Pokazać, że wówczas iloraz wariancji próbkowych \n",
        "$$\n",
        "\\frac{S_1^2}{S_2^2}\n",
        "$$\n",
        "ma rozkład $F$-Snedecora o $(n_1-1, n_2-1)$ stopniach swobody."
      ]
    },
    {
      "cell_type": "code",
      "execution_count": null,
      "metadata": {
        "id": "1svb_G-SxWN1"
      },
      "outputs": [],
      "source": [
        "#1. Definiujemy kilka zmiennych z rozkładu F-Snedecora\n",
        "f710 = stats.f(dfn=7, dfd=10)\n",
        "f25 = stats.f(dfn=2, dfd=5)\n",
        "f75 = stats.f(dfn=7, dfd=5)"
      ]
    },
    {
      "cell_type": "code",
      "source": [
        "#2.\n",
        "x_value = np.linspace(-5, 5, 100)\n",
        "plt.plot(x_value, f710.pdf(x_value))\n",
        "plt.plot(x_value, f25.pdf(x_value))\n",
        "plt.plot(x_value, f75.pdf(x_value))\n",
        "plt.legend(['m=7,n=10', 'm=2,n=5', 'm=7,n=5'])\n",
        "#stopnie swobody wpływają na przesuwanie się garbu i jego wysokość\n",
        "#nośnik od 0 do nieskończoności"
      ],
      "metadata": {
        "colab": {
          "base_uri": "https://localhost:8080/",
          "height": 282
        },
        "id": "5gFqtR-U67MQ",
        "outputId": "2a583635-fb92-4adb-87fc-c70cfeb9785a"
      },
      "execution_count": null,
      "outputs": [
        {
          "output_type": "execute_result",
          "data": {
            "text/plain": [
              "<matplotlib.legend.Legend at 0x7f794f5b7890>"
            ]
          },
          "metadata": {},
          "execution_count": 70
        },
        {
          "output_type": "display_data",
          "data": {
            "text/plain": [
              "<Figure size 432x288 with 1 Axes>"
            ],
            "image/png": "[encoded data removed]"
          },
          "metadata": {
            "needs_background": "light"
          }
        }
      ]
    },
    {
      "cell_type": "code",
      "source": [
        "#3. dystrybuanty\n",
        "x_value = np.linspace(-5, 5, 100)\n",
        "plt.plot(x_value, f710.cdf(x_value))\n",
        "plt.plot(x_value, f25.cdf(x_value))\n",
        "plt.plot(x_value, f75.cdf(x_value))\n",
        "plt.legend(['m=7,n=10', 'm=2,n=5', 'm=7,n=5'])"
      ],
      "metadata": {
        "colab": {
          "base_uri": "https://localhost:8080/",
          "height": 282
        },
        "id": "EqOxjeP38tjz",
        "outputId": "16c4aadb-c93f-4b40-e60d-1ed1bd637019"
      },
      "execution_count": null,
      "outputs": [
        {
          "output_type": "execute_result",
          "data": {
            "text/plain": [
              "<matplotlib.legend.Legend at 0x7f794fe55c10>"
            ]
          },
          "metadata": {},
          "execution_count": 71
        },
        {
          "output_type": "display_data",
          "data": {
            "text/plain": [
              "<Figure size 432x288 with 1 Axes>"
            ],
            "image/png": "[encoded data removed]"
          },
          "metadata": {
            "needs_background": "light"
          }
        }
      ]
    },
    {
      "cell_type": "code",
      "source": [
        "#4. #średnia to n/(n-2)\n",
        "size = 1000000\n",
        "#przybliżenie z próbki\n",
        "print(np.mean(f710.rvs(size)))\n",
        "#wartość teoretyczna\n",
        "print(10/(10-2))\n",
        "#przybliżenie z próbki\n",
        "print(np.mean(f25.rvs(size)))\n",
        "#wartość teoretyczna\n",
        "print(5/(5-2))\n",
        "#przybliżenie z próbki\n",
        "print(np.mean(f75.rvs(size)))\n",
        "#wartość teoretyczna\n",
        "print(5/(5-2))"
      ],
      "metadata": {
        "colab": {
          "base_uri": "https://localhost:8080/"
        },
        "id": "GltA1kgN9HEi",
        "outputId": "e41aac3d-0d52-445f-8c28-019bb9939fe8"
      },
      "execution_count": null,
      "outputs": [
        {
          "output_type": "stream",
          "name": "stdout",
          "text": [
            "1.2507279647712586\n",
            "1.25\n",
            "1.6698558333063827\n",
            "1.6666666666666667\n",
            "1.6642898548545197\n",
            "1.6666666666666667\n"
          ]
        }
      ]
    },
    {
      "cell_type": "code",
      "source": [
        "#4. #wariancja to 2*n**2(m+n-2)/(m(n-2)**2(n-4)) dla n>4\n",
        "size = 1000000\n",
        "#przybliżenie z próbki\n",
        "print(np.var(f710.rvs(size)))\n",
        "#wartość teoretyczna\n",
        "print(2*10**2*(7+10-2)/(7*(10-2)**2*(10-4)))\n",
        "#przybliżenie z próbki\n",
        "print(np.var(f25.rvs(size)))\n",
        "#wartość teoretyczna\n",
        "print(2*5**2*(2+5-2)/(2*(5-2)**2*(5-4)))\n",
        "#przybliżenie z próbki\n",
        "print(np.var(f75.rvs(size)))\n",
        "#wartość teoretyczna\n",
        "print(2*5**2*(7+5-2)/(7*(5-2)**2*(5-4)))"
      ],
      "metadata": {
        "colab": {
          "base_uri": "https://localhost:8080/"
        },
        "id": "ykOTFYv8-sO8",
        "outputId": "25b8f255-946b-45b0-c402-9a2785c44423"
      },
      "execution_count": null,
      "outputs": [
        {
          "output_type": "stream",
          "name": "stdout",
          "text": [
            "1.1145334497355301\n",
            "1.1160714285714286\n",
            "12.056322036483925\n",
            "13.88888888888889\n",
            "7.2242258458607305\n",
            "7.936507936507937\n"
          ]
        }
      ]
    },
    {
      "cell_type": "code",
      "source": [
        "#odchylenie to pierwiastek z wariancji"
      ],
      "metadata": {
        "id": "rs_pNn7JBIxu"
      },
      "execution_count": null,
      "outputs": []
    },
    {
      "cell_type": "code",
      "source": [
        "#5 i 6\n",
        "rs710 = f710.rvs(size)\n",
        "plt.hist(rs710,bins =200, density=True)\n",
        "x_value = np.linspace(-1, 10, 1000)\n",
        "plt.plot(x_value, f710.pdf(x_value))\n",
        "plt.show()\n",
        "\n",
        "rs25 = f25.rvs(size)\n",
        "plt.hist(rs25,bins =200, density=True)\n",
        "x_value = np.linspace(-1, 10, 1000)\n",
        "plt.plot(x_value, f25.pdf(x_value))\n",
        "plt.show()\n",
        "\n",
        "rs75 = f75.rvs(size)\n",
        "plt.hist(rs75,bins =200, density=True)\n",
        "x_value = np.linspace(-1, 10, 1000)\n",
        "plt.plot(x_value, f75.pdf(x_value))\n",
        "plt.show()"
      ],
      "metadata": {
        "colab": {
          "base_uri": "https://localhost:8080/",
          "height": 761
        },
        "id": "UmLm85T3BNRA",
        "outputId": "7990a348-6b49-4819-a581-90bf55fa773e"
      },
      "execution_count": null,
      "outputs": [
        {
          "output_type": "display_data",
          "data": {
            "text/plain": [
              "<Figure size 432x288 with 1 Axes>"
            ],
            "image/png": "[encoded data removed]"
          },
          "metadata": {
            "needs_background": "light"
          }
        },
        {
          "output_type": "display_data",
          "data": {
            "text/plain": [
              "<Figure size 432x288 with 1 Axes>"
            ],
            "image/png": "[encoded data removed]"
          },
          "metadata": {
            "needs_background": "light"
          }
        },
        {
          "output_type": "display_data",
          "data": {
            "text/plain": [
              "<Figure size 432x288 with 1 Axes>"
            ],
            "image/png": "[encoded data removed]"
          },
          "metadata": {
            "needs_background": "light"
          }
        }
      ]
    },
    {
      "cell_type": "code",
      "source": [
        "# 7. sprawdzamy symulacyjnie\n",
        "N = 10000\n",
        "m = 100\n",
        "X = stats.chi2.rvs(size=N, df=m)\n",
        "n = 120\n",
        "Y = stats.chi2.rvs(size=N, df=n)\n",
        "\n",
        "x_value = np.linspace(-1, 10, 1000)\n",
        "Z = X * n / Y / m\n",
        "plt.hist(Z, density=True)\n",
        "plt.plot(x_value, stats.f.pdf(x_value, m, n))"
      ],
      "metadata": {
        "colab": {
          "base_uri": "https://localhost:8080/",
          "height": 282
        },
        "id": "45OXeJz8DdYO",
        "outputId": "65159e83-d606-4a74-d5b6-f6eeae9bbf09"
      },
      "execution_count": null,
      "outputs": [
        {
          "output_type": "execute_result",
          "data": {
            "text/plain": [
              "[<matplotlib.lines.Line2D at 0x7f794f4e4290>]"
            ]
          },
          "metadata": {},
          "execution_count": 75
        },
        {
          "output_type": "display_data",
          "data": {
            "text/plain": [
              "<Figure size 432x288 with 1 Axes>"
            ],
            "image/png": "[encoded data removed]"
          },
          "metadata": {
            "needs_background": "light"
          }
        }
      ]
    },
    {
      "cell_type": "code",
      "source": [
        "# 8. udowadniamy symulacyjnie\n",
        "N = 1000\n",
        "n1 = 100\n",
        "n2 = 120\n",
        "sigma = 1\n",
        "mu1 = -2\n",
        "mu2 = 3\n",
        "Z = np.zeros(N)\n",
        "\n",
        "for i in range(N):\n",
        "    X = stats.norm.rvs(size=n1, loc=mu1, scale=sigma)\n",
        "    Y = stats.norm.rvs(size=n2, loc=mu2, scale=sigma)\n",
        "    Z[i] = X.var(ddof=1) / Y.var(ddof=1)\n",
        "plt.hist(Z, density=True)\n",
        "plt.plot(x_value, stats.f.pdf(x_value, n1-1, n2-1))"
      ],
      "metadata": {
        "colab": {
          "base_uri": "https://localhost:8080/",
          "height": 282
        },
        "id": "sRA2xUNzDFQb",
        "outputId": "fde632bf-8ad0-4032-ef2f-df0a65795f7c"
      },
      "execution_count": null,
      "outputs": [
        {
          "output_type": "execute_result",
          "data": {
            "text/plain": [
              "[<matplotlib.lines.Line2D at 0x7f794fc71510>]"
            ]
          },
          "metadata": {},
          "execution_count": 76
        },
        {
          "output_type": "display_data",
          "data": {
            "text/plain": [
              "<Figure size 432x288 with 1 Axes>"
            ],
            "image/png": "[encoded data removed]"
          },
          "metadata": {
            "needs_background": "light"
          }
        }
      ]
    },
    {
      "cell_type": "markdown",
      "metadata": {
        "id": "8gpBAe4yxWN4"
      },
      "source": [
        "# Zadanie 1\n",
        "Wykonano po cztery niezależne pomiary wytrzymałości na ́sciskanie trzech rodzajów betonu. Otrzymano następujące wyniki (w kG/cm2):\n",
        "\n",
        "|    |  | | |  |\n",
        "|:---:|:---:|:---:|:---:|:---:|\n",
        "|  I  | 204 | 200 | 198 | 204 |\n",
        "|  II | 197 | 205 | 213 | 209 |\n",
        "| III | 190 | 208 | 202 | 210 |\n",
        "\n",
        "Stwierdź, czy badane gatunki betonu różnią się istotnie pod względem ́sredniej wytrzymałości na ́sciskanie. Przyjmij poziom istotności 0.05."
      ]
    },
    {
      "cell_type": "markdown",
      "metadata": {
        "id": "uM8bhdEnxWN2"
      },
      "source": [
        "Zanim przystapimy do testu $F$ powinnismy sprawdzic, czy sa spełnione założenia pozwalajace posłuzyc sie wspomnianą metodą:\n",
        "\n",
        "1.  niezależność obserwacji,\n",
        "2.  normalność  rozkładów  w  każdej  z  podpopulacji  wyznaczonych  przez  poziomy czynników,\n",
        "3.  jednorodność wariancji podpopulacji wyznaczonych przez poziomy czynników."
      ]
    },
    {
      "cell_type": "code",
      "source": [
        "group1 = np.array([204,\t200,\t198,\t204])\n",
        "group2 = np.array([197,\t205,\t213,\t209])\n",
        "group3 = np.array([190,\t208,\t202,\t210])\n"
      ],
      "metadata": {
        "id": "H5IQcVTTYsHC"
      },
      "execution_count": null,
      "outputs": []
    },
    {
      "cell_type": "markdown",
      "metadata": {
        "id": "6QVokAIdxWN3"
      },
      "source": [
        "## Jednorodność wariancji\n",
        "\n",
        "Testujemy hipotezę zerową\n",
        "$$\n",
        "    H_0: \\sigma_1^2 = \\sigma^2_2 = \\ldots = \\sigma_r^2\n",
        "$$\n",
        "\n",
        "Do weryfikacji tej hipotezy możemy użyć testów:\n",
        "\n",
        "1. [Bartlett's Test](https://docs.scipy.org/doc/scipy-0.14.0/reference/generated/scipy.stats.bartlett.html)\n",
        "2. [Levene Test for Equality of Variances](https://docs.scipy.org/doc/scipy-0.14.0/reference/generated/scipy.stats.levene.html)\n"
      ]
    },
    {
      "cell_type": "code",
      "execution_count": null,
      "metadata": {
        "id": "RxBqmODMxWN3",
        "colab": {
          "base_uri": "https://localhost:8080/"
        },
        "outputId": "4adb5c2e-b694-4d80-df3a-fb976cace9a5"
      },
      "outputs": [
        {
          "output_type": "execute_result",
          "data": {
            "text/plain": [
              "BartlettResult(statistic=2.670632399098727, pvalue=0.2630749781137125)"
            ]
          },
          "metadata": {},
          "execution_count": 4
        }
      ],
      "source": [
        "#Sprawdzamy równośc wariancji\n",
        "stats.bartlett(group1,group2,group3)\n",
        "#duże p-val->wariancje równe"
      ]
    },
    {
      "cell_type": "code",
      "execution_count": null,
      "metadata": {
        "id": "lBWK8tC3xWN3",
        "colab": {
          "base_uri": "https://localhost:8080/"
        },
        "outputId": "c51402b7-3f1a-4722-8529-1eddfcf2681e"
      },
      "outputs": [
        {
          "output_type": "execute_result",
          "data": {
            "text/plain": [
              "LeveneResult(statistic=1.2672413793103448, pvalue=0.327415875663833)"
            ]
          },
          "metadata": {},
          "execution_count": 9
        }
      ],
      "source": [
        "stats.levene(group1,group2,group3,center = 'mean')\n",
        "#duże p-val->wariancje równe"
      ]
    },
    {
      "cell_type": "markdown",
      "metadata": {
        "id": "XkSwClx-xWN6"
      },
      "source": [
        "### Zadanie \n",
        "Napisz funkcję, która dla $n$ wektorów wykona i wypisze wyniki testu Bartletta i Levene."
      ]
    },
    {
      "cell_type": "code",
      "source": [
        "def variance_test(*args):\n",
        "    d = {}\n",
        "    bartlett_test = stats.bartlett(*args)\n",
        "    d['bartlett_test'] = {'statistic': bartlett_test.statistic, 'pvalue': bartlett_test.pvalue}\n",
        "    levene_test = stats.levene(*args, center='mean')\n",
        "    d['levene_test'] = {'statistic': levene_test.statistic, 'pvalue': levene_test.pvalue}\n",
        "    return pd.DataFrame(d)"
      ],
      "metadata": {
        "id": "v0DvKuNmD6ka"
      },
      "execution_count": null,
      "outputs": []
    },
    {
      "cell_type": "code",
      "source": [
        "#zobaczmy jak działa\n",
        "variance_test(group1,group2,group3)\n",
        "#duże p-val -> wariancje równe"
      ],
      "metadata": {
        "colab": {
          "base_uri": "https://localhost:8080/",
          "height": 112
        },
        "id": "INO2jR5KFITx",
        "outputId": "86e3692b-b0b4-4ae6-f136-6c8fabf93847"
      },
      "execution_count": null,
      "outputs": [
        {
          "output_type": "execute_result",
          "data": {
            "text/plain": [
              "           bartlett_test  levene_test\n",
              "statistic       2.670632     1.267241\n",
              "pvalue          0.263075     0.327416"
            ],
            "text/html": [
              "\n",
              "  <div id=\"df-c63836a1-ad91-4acf-a209-9ff0ff0678ae\">\n",
              "    <div class=\"colab-df-container\">\n",
              "      <div>\n",
              "<style scoped>\n",
              "    .dataframe tbody tr th:only-of-type {\n",
              "        vertical-align: middle;\n",
              "    }\n",
              "\n",
              "    .dataframe tbody tr th {\n",
              "        vertical-align: top;\n",
              "    }\n",
              "\n",
              "    .dataframe thead th {\n",
              "        text-align: right;\n",
              "    }\n",
              "</style>\n",
              "<table border=\"1\" class=\"dataframe\">\n",
              "  <thead>\n",
              "    <tr style=\"text-align: right;\">\n",
              "      <th></th>\n",
              "      <th>bartlett_test</th>\n",
              "      <th>levene_test</th>\n",
              "    </tr>\n",
              "  </thead>\n",
              "  <tbody>\n",
              "    <tr>\n",
              "      <th>statistic</th>\n",
              "      <td>2.670632</td>\n",
              "      <td>1.267241</td>\n",
              "    </tr>\n",
              "    <tr>\n",
              "      <th>pvalue</th>\n",
              "      <td>0.263075</td>\n",
              "      <td>0.327416</td>\n",
              "    </tr>\n",
              "  </tbody>\n",
              "</table>\n",
              "</div>\n",
              "      <button class=\"colab-df-convert\" onclick=\"convertToInteractive('df-c63836a1-ad91-4acf-a209-9ff0ff0678ae')\"\n",
              "              title=\"Convert this dataframe to an interactive table.\"\n",
              "              style=\"display:none;\">\n",
              "        \n",
              "  <svg xmlns=\"http://www.w3.org/2000/svg\" height=\"24px\"viewBox=\"0 0 24 24\"\n",
              "       width=\"24px\">\n",
              "    <path d=\"M0 0h24v24H0V0z\" fill=\"none\"/>\n",
              "    <path d=\"M18.56 5.44l.94 2.06.94-2.06 2.06-.94-2.06-.94-.94-2.06-.94 2.06-2.06.94zm-11 1L8.5 8.5l.94-2.06 2.06-.94-2.06-.94L8.5 2.5l-.94 2.06-2.06.94zm10 10l.94 2.06.94-2.06 2.06-.94-2.06-.94-.94-2.06-.94 2.06-2.06.94z\"/><path d=\"M17.41 7.96l-1.37-1.37c-.4-.4-.92-.59-1.43-.59-.52 0-1.04.2-1.43.59L10.3 9.45l-7.72 7.72c-.78.78-.78 2.05 0 2.83L4 21.41c.39.39.9.59 1.41.59.51 0 1.02-.2 1.41-.59l7.78-7.78 2.81-2.81c.8-.78.8-2.07 0-2.86zM5.41 20L4 18.59l7.72-7.72 1.47 1.35L5.41 20z\"/>\n",
              "  </svg>\n",
              "      </button>\n",
              "      \n",
              "  <style>\n",
              "    .colab-df-container {\n",
              "      display:flex;\n",
              "      flex-wrap:wrap;\n",
              "      gap: 12px;\n",
              "    }\n",
              "\n",
              "    .colab-df-convert {\n",
              "      background-color: #E8F0FE;\n",
              "      border: none;\n",
              "      border-radius: 50%;\n",
              "      cursor: pointer;\n",
              "      display: none;\n",
              "      fill: #1967D2;\n",
              "      height: 32px;\n",
              "      padding: 0 0 0 0;\n",
              "      width: 32px;\n",
              "    }\n",
              "\n",
              "    .colab-df-convert:hover {\n",
              "      background-color: #E2EBFA;\n",
              "      box-shadow: 0px 1px 2px rgba(60, 64, 67, 0.3), 0px 1px 3px 1px rgba(60, 64, 67, 0.15);\n",
              "      fill: #174EA6;\n",
              "    }\n",
              "\n",
              "    [theme=dark] .colab-df-convert {\n",
              "      background-color: #3B4455;\n",
              "      fill: #D2E3FC;\n",
              "    }\n",
              "\n",
              "    [theme=dark] .colab-df-convert:hover {\n",
              "      background-color: #434B5C;\n",
              "      box-shadow: 0px 1px 3px 1px rgba(0, 0, 0, 0.15);\n",
              "      filter: drop-shadow(0px 1px 2px rgba(0, 0, 0, 0.3));\n",
              "      fill: #FFFFFF;\n",
              "    }\n",
              "  </style>\n",
              "\n",
              "      <script>\n",
              "        const buttonEl =\n",
              "          document.querySelector('#df-c63836a1-ad91-4acf-a209-9ff0ff0678ae button.colab-df-convert');\n",
              "        buttonEl.style.display =\n",
              "          google.colab.kernel.accessAllowed ? 'block' : 'none';\n",
              "\n",
              "        async function convertToInteractive(key) {\n",
              "          const element = document.querySelector('#df-c63836a1-ad91-4acf-a209-9ff0ff0678ae');\n",
              "          const dataTable =\n",
              "            await google.colab.kernel.invokeFunction('convertToInteractive',\n",
              "                                                     [key], {});\n",
              "          if (!dataTable) return;\n",
              "\n",
              "          const docLinkHtml = 'Like what you see? Visit the ' +\n",
              "            '<a target=\"_blank\" href=https://colab.research.google.com/notebooks/data_table.ipynb>data table notebook</a>'\n",
              "            + ' to learn more about interactive tables.';\n",
              "          element.innerHTML = '';\n",
              "          dataTable['output_type'] = 'display_data';\n",
              "          await google.colab.output.renderOutput(dataTable, element);\n",
              "          const docLink = document.createElement('div');\n",
              "          docLink.innerHTML = docLinkHtml;\n",
              "          element.appendChild(docLink);\n",
              "        }\n",
              "      </script>\n",
              "    </div>\n",
              "  </div>\n",
              "  "
            ]
          },
          "metadata": {},
          "execution_count": 87
        }
      ]
    },
    {
      "cell_type": "code",
      "source": [
        "#podobnie zrobimy dla testów normalności\n",
        "def normal_tests(x):\n",
        "    tests = ['Shapiro-Wilk Test', \"Jarque–Bera Test\", \n",
        "             \"Kolmogorov–Smirnov Test\"]\n",
        "    shapiro = stats.shapiro(x)\n",
        "    jarque_bera = stats.jarque_bera(x)\n",
        "    x_stand = (x - np.mean(x)) / np.std(x, ddof=1)\n",
        "    ks = stats.kstest(x_stand, 'norm')\n",
        "    \n",
        "    statistics = np.round([shapiro[0], jarque_bera[0], ks.statistic], 2)\n",
        "    pvalues = np.round([shapiro[1], jarque_bera[1], ks.pvalue], 5)\n",
        "    \n",
        "    return pd.DataFrame({\n",
        "        'test': tests,\n",
        "        'statistic': statistics,\n",
        "        'pvalue': pvalues\n",
        "    })"
      ],
      "metadata": {
        "id": "Rh9blG_06r0F"
      },
      "execution_count": null,
      "outputs": []
    },
    {
      "cell_type": "markdown",
      "source": [
        "#Normalność rozkładów\n",
        "Testujemy hipotezę zerową\n",
        "$$\n",
        "    H_0: X_i\\sim N(\\mu_i,\\sigma_i)\n",
        "$$\n",
        "Dla każdej grupy $i$.\n",
        "Do weryfikacji tej hipotezy możemy użyć testów:\n",
        "\n",
        "1. [Shapiro-Wilk Test](https://docs.scipy.org/doc/scipy/reference/generated/scipy.stats.shapiro.html)\n",
        "2. [Jarque-Bera Test](https://docs.scipy.org/doc/scipy/reference/generated/scipy.stats.jarque_bera.html)\n",
        "3. [Kolmogorov-Smirnov Test](https://docs.scipy.org/doc/scipy/reference/generated/scipy.stats.kstest.html)"
      ],
      "metadata": {
        "id": "SoH4DcEY0kgA"
      }
    },
    {
      "cell_type": "code",
      "source": [
        "print(stats.shapiro(group1))\n",
        "print(stats.shapiro(group2))\n",
        "print(stats.shapiro(group3))\n",
        "#duże p-val->mamy normalność"
      ],
      "metadata": {
        "id": "77597t1x5p4-",
        "colab": {
          "base_uri": "https://localhost:8080/"
        },
        "outputId": "d6fa0674-5e9f-482a-c966-cd3bc8c7c211"
      },
      "execution_count": null,
      "outputs": [
        {
          "output_type": "stream",
          "name": "stdout",
          "text": [
            "(0.849402129650116, 0.22422975301742554)\n",
            "(0.9713736176490784, 0.8499705791473389)\n",
            "(0.8945063352584839, 0.40428683161735535)\n"
          ]
        }
      ]
    },
    {
      "cell_type": "code",
      "source": [
        "print(stats.jarque_bera(group1))\n",
        "print(stats.jarque_bera(group2))\n",
        "print(stats.jarque_bera(group3))\n",
        "#duże p-val->mamy normalność"
      ],
      "metadata": {
        "id": "1jHWKtjI5v19",
        "colab": {
          "base_uri": "https://localhost:8080/"
        },
        "outputId": "43fe1ebe-eb8c-4c1e-f1f1-37c723ea795c"
      },
      "execution_count": null,
      "outputs": [
        {
          "output_type": "stream",
          "name": "stdout",
          "text": [
            "(0.5236442050952034, 0.7696479299355593)\n",
            "(0.34801010689990286, 0.8402926512708442)\n",
            "(0.5370360282278892, 0.7645116506858183)\n"
          ]
        }
      ]
    },
    {
      "cell_type": "code",
      "source": [
        "print(stats.kstest((group1-np.mean(group1))/np.std(group1),'norm'))\n",
        "print(stats.kstest((group2-np.mean(group2))/np.std(group2),'norm'))\n",
        "print(stats.kstest((group3-np.mean(group3))/np.std(group3),'norm'))\n",
        "#duże p-val->mamy normalność"
      ],
      "metadata": {
        "id": "fbpihFEt5-eh",
        "colab": {
          "base_uri": "https://localhost:8080/"
        },
        "outputId": "d7555d66-9e09-4a02-ad36-e6d2939cb1a6"
      },
      "execution_count": null,
      "outputs": [
        {
          "output_type": "stream",
          "name": "stdout",
          "text": [
            "KstestResult(statistic=0.33203809342413215, pvalue=0.685616434793987)\n",
            "KstestResult(statistic=0.19395505995537166, pvalue=0.9982229984694713)\n",
            "KstestResult(statistic=0.25979719128985224, pvalue=0.950012526840911)\n"
          ]
        }
      ]
    },
    {
      "cell_type": "code",
      "source": [
        "#używając naszej funkcji\n",
        "print(normal_tests(group1))\n",
        "print(normal_tests(group2))\n",
        "print(normal_tests(group3))\n",
        "#duże p-val -> mamy normalność"
      ],
      "metadata": {
        "colab": {
          "base_uri": "https://localhost:8080/"
        },
        "id": "sH5PQUxXEiZt",
        "outputId": "ee7d3bc5-39af-4da6-c5f5-f57eaf620dd1"
      },
      "execution_count": null,
      "outputs": [
        {
          "output_type": "stream",
          "name": "stdout",
          "text": [
            "                      test  statistic   pvalue\n",
            "0        Shapiro-Wilk Test       0.85  0.22423\n",
            "1         Jarque–Bera Test       0.52  0.76965\n",
            "2  Kolmogorov–Smirnov Test       0.30  0.87039\n",
            "                      test  statistic   pvalue\n",
            "0        Shapiro-Wilk Test       0.97  0.84997\n",
            "1         Jarque–Bera Test       0.35  0.84029\n",
            "2  Kolmogorov–Smirnov Test       0.19  0.99851\n",
            "                      test  statistic   pvalue\n",
            "0        Shapiro-Wilk Test       0.89  0.40429\n",
            "1         Jarque–Bera Test       0.54  0.76451\n",
            "2  Kolmogorov–Smirnov Test       0.23  0.98441\n"
          ]
        }
      ]
    },
    {
      "cell_type": "markdown",
      "metadata": {
        "id": "jKdhh9hhxWN7"
      },
      "source": [
        "# ANOVA\n",
        "\n",
        "Testujemy hipotezę zerową\n",
        "$$\n",
        "H_0: \\mu_1 = \\mu_2 = \\mu_3\n",
        "$$ \n",
        "mówiącą, iż - ́sredniorzecz biorąc – badane gatunki betonu nie różnią się istotnie pod względem wytrzymałości na ́ściskanie, wobec hipotezy alternatywnej orzekającej, iż te gatunki różnią się wytrzymałością."
      ]
    },
    {
      "cell_type": "markdown",
      "source": [
        "Oznaczmy (w naszym zadaniu $r=3,n=4$)\n",
        "\n",
        "\n",
        "\n",
        "\n",
        "\n",
        "*   Średnią ze wszystkich obserwacji\n",
        "    \\begin{equation*}\n",
        "        \\overline{\\overline{Y}} = \\frac{1}{nr}\\sum_{i=1}^r\\sum_{j=1}^n Y_{ij},\n",
        "    \\end{equation*}\n",
        "*   Średnią na $i$-tym poziomie, $1 \\leq i \\leq n$\n",
        "    \\begin{equation*}\n",
        "        \\overline{Y}_i = \\frac{1}{n}\\sum_{j=1}^n Y_{ij},\n",
        "    \\end{equation*}\n",
        "*       Zmienność całkowitą w eksperymencie\n",
        "    \\begin{equation*}\n",
        "        \\text{SST} = \\sum_{i=1}^r\\sum_{j=1}^n (Y_{ij} -  \\overline{\\overline{Y}})^2,\n",
        "    \\end{equation*}\n",
        "*   zmienność między poziomami\n",
        "    \\begin{equation*}\n",
        "        \\text{SSA} = n\\sum_{i=1}^r(\\overline{Y}_i - \\overline{\\overline{Y}})^2,\n",
        "\\end{equation*}\n",
        "*  zmienność na danym poziomie\n",
        "    \\begin{equation*}\n",
        "        \\text{SSE} = \\sum_{i=1}^r\\sum_{j=1}(Y_{ij} - \\overline{Y}_i)^2.\n",
        "    \\end{equation*}\n",
        "\n",
        "    TW.  $\\text{SST}=\\text{SSA}+\\text{SSE}$\n"
      ],
      "metadata": {
        "id": "3-GIDJfh9A4d"
      }
    },
    {
      "cell_type": "markdown",
      "source": [
        "Statystyka testowa jest postaci:\n",
        "    \\begin{equation*}\n",
        "        F = \\frac{\\frac{\\text{SSA}}{r-1}}{\\frac{SSE}{r(n-1)}}=\\frac{MSA}{MSE}.\n",
        "    \\end{equation*}\n",
        "\n",
        "Obszar krytyczny testu $F$ jest postaci\n",
        "\\begin{equation*}\n",
        "    [F^{(r-1)(r(n-1))}_{1-\\alpha}, +\\infty).\n",
        "\\end{equation*}"
      ],
      "metadata": {
        "id": "gR1DsD7E-RMi"
      }
    },
    {
      "cell_type": "code",
      "source": [
        "stats.f_oneway(group1,group2,group3)\n",
        "#duże p-val średnie są równe \n",
        "# Na poziomie istotności 0.05 nie mamy podstaw do odrzucenia hipotezy zerowej, \n",
        "# uznajemy, że badane gatunki betonu nie różnią się istotnie pod względem wytrzymałości na ściskanie."
      ],
      "metadata": {
        "colab": {
          "base_uri": "https://localhost:8080/"
        },
        "id": "B8JfzfW-a0q3",
        "outputId": "274655bc-aea7-4275-cf49-bc711747d96c"
      },
      "execution_count": null,
      "outputs": [
        {
          "output_type": "execute_result",
          "data": {
            "text/plain": [
              "F_onewayResult(statistic=0.4902439024390243, pvalue=0.6279258107968897)"
            ]
          },
          "metadata": {},
          "execution_count": 88
        }
      ]
    },
    {
      "cell_type": "code",
      "source": [
        "#inny sposób\n",
        "values = np.concatenate([group1,group2,group3])\n",
        "values\n",
        "n = len(group1)\n",
        "types = np.concatenate([['I']*n,['II']*n,['III']*n])\n",
        "types"
      ],
      "metadata": {
        "colab": {
          "base_uri": "https://localhost:8080/"
        },
        "id": "fBotTpz2bQkb",
        "outputId": "0f950d1b-f0da-45f0-e1f9-ba0edd0f4790"
      },
      "execution_count": null,
      "outputs": [
        {
          "output_type": "execute_result",
          "data": {
            "text/plain": [
              "array(['I', 'I', 'I', 'I', 'II', 'II', 'II', 'II', 'III', 'III', 'III',\n",
              "       'III'], dtype='<U3')"
            ]
          },
          "metadata": {},
          "execution_count": 90
        }
      ]
    },
    {
      "cell_type": "code",
      "source": [
        "df = pd.DataFrame({'type': types,'value': values})\n",
        "df.head()"
      ],
      "metadata": {
        "colab": {
          "base_uri": "https://localhost:8080/",
          "height": 206
        },
        "id": "yhhAxXRTbw-5",
        "outputId": "a2bbd92c-d44f-4634-8ae7-da41a3516baf"
      },
      "execution_count": null,
      "outputs": [
        {
          "output_type": "execute_result",
          "data": {
            "text/plain": [
              "  type  value\n",
              "0    I    204\n",
              "1    I    200\n",
              "2    I    198\n",
              "3    I    204\n",
              "4   II    197"
            ],
            "text/html": [
              "\n",
              "  <div id=\"df-491086fa-6743-4321-a3a5-1f1863692a39\">\n",
              "    <div class=\"colab-df-container\">\n",
              "      <div>\n",
              "<style scoped>\n",
              "    .dataframe tbody tr th:only-of-type {\n",
              "        vertical-align: middle;\n",
              "    }\n",
              "\n",
              "    .dataframe tbody tr th {\n",
              "        vertical-align: top;\n",
              "    }\n",
              "\n",
              "    .dataframe thead th {\n",
              "        text-align: right;\n",
              "    }\n",
              "</style>\n",
              "<table border=\"1\" class=\"dataframe\">\n",
              "  <thead>\n",
              "    <tr style=\"text-align: right;\">\n",
              "      <th></th>\n",
              "      <th>type</th>\n",
              "      <th>value</th>\n",
              "    </tr>\n",
              "  </thead>\n",
              "  <tbody>\n",
              "    <tr>\n",
              "      <th>0</th>\n",
              "      <td>I</td>\n",
              "      <td>204</td>\n",
              "    </tr>\n",
              "    <tr>\n",
              "      <th>1</th>\n",
              "      <td>I</td>\n",
              "      <td>200</td>\n",
              "    </tr>\n",
              "    <tr>\n",
              "      <th>2</th>\n",
              "      <td>I</td>\n",
              "      <td>198</td>\n",
              "    </tr>\n",
              "    <tr>\n",
              "      <th>3</th>\n",
              "      <td>I</td>\n",
              "      <td>204</td>\n",
              "    </tr>\n",
              "    <tr>\n",
              "      <th>4</th>\n",
              "      <td>II</td>\n",
              "      <td>197</td>\n",
              "    </tr>\n",
              "  </tbody>\n",
              "</table>\n",
              "</div>\n",
              "      <button class=\"colab-df-convert\" onclick=\"convertToInteractive('df-491086fa-6743-4321-a3a5-1f1863692a39')\"\n",
              "              title=\"Convert this dataframe to an interactive table.\"\n",
              "              style=\"display:none;\">\n",
              "        \n",
              "  <svg xmlns=\"http://www.w3.org/2000/svg\" height=\"24px\"viewBox=\"0 0 24 24\"\n",
              "       width=\"24px\">\n",
              "    <path d=\"M0 0h24v24H0V0z\" fill=\"none\"/>\n",
              "    <path d=\"M18.56 5.44l.94 2.06.94-2.06 2.06-.94-2.06-.94-.94-2.06-.94 2.06-2.06.94zm-11 1L8.5 8.5l.94-2.06 2.06-.94-2.06-.94L8.5 2.5l-.94 2.06-2.06.94zm10 10l.94 2.06.94-2.06 2.06-.94-2.06-.94-.94-2.06-.94 2.06-2.06.94z\"/><path d=\"M17.41 7.96l-1.37-1.37c-.4-.4-.92-.59-1.43-.59-.52 0-1.04.2-1.43.59L10.3 9.45l-7.72 7.72c-.78.78-.78 2.05 0 2.83L4 21.41c.39.39.9.59 1.41.59.51 0 1.02-.2 1.41-.59l7.78-7.78 2.81-2.81c.8-.78.8-2.07 0-2.86zM5.41 20L4 18.59l7.72-7.72 1.47 1.35L5.41 20z\"/>\n",
              "  </svg>\n",
              "      </button>\n",
              "      \n",
              "  <style>\n",
              "    .colab-df-container {\n",
              "      display:flex;\n",
              "      flex-wrap:wrap;\n",
              "      gap: 12px;\n",
              "    }\n",
              "\n",
              "    .colab-df-convert {\n",
              "      background-color: #E8F0FE;\n",
              "      border: none;\n",
              "      border-radius: 50%;\n",
              "      cursor: pointer;\n",
              "      display: none;\n",
              "      fill: #1967D2;\n",
              "      height: 32px;\n",
              "      padding: 0 0 0 0;\n",
              "      width: 32px;\n",
              "    }\n",
              "\n",
              "    .colab-df-convert:hover {\n",
              "      background-color: #E2EBFA;\n",
              "      box-shadow: 0px 1px 2px rgba(60, 64, 67, 0.3), 0px 1px 3px 1px rgba(60, 64, 67, 0.15);\n",
              "      fill: #174EA6;\n",
              "    }\n",
              "\n",
              "    [theme=dark] .colab-df-convert {\n",
              "      background-color: #3B4455;\n",
              "      fill: #D2E3FC;\n",
              "    }\n",
              "\n",
              "    [theme=dark] .colab-df-convert:hover {\n",
              "      background-color: #434B5C;\n",
              "      box-shadow: 0px 1px 3px 1px rgba(0, 0, 0, 0.15);\n",
              "      filter: drop-shadow(0px 1px 2px rgba(0, 0, 0, 0.3));\n",
              "      fill: #FFFFFF;\n",
              "    }\n",
              "  </style>\n",
              "\n",
              "      <script>\n",
              "        const buttonEl =\n",
              "          document.querySelector('#df-491086fa-6743-4321-a3a5-1f1863692a39 button.colab-df-convert');\n",
              "        buttonEl.style.display =\n",
              "          google.colab.kernel.accessAllowed ? 'block' : 'none';\n",
              "\n",
              "        async function convertToInteractive(key) {\n",
              "          const element = document.querySelector('#df-491086fa-6743-4321-a3a5-1f1863692a39');\n",
              "          const dataTable =\n",
              "            await google.colab.kernel.invokeFunction('convertToInteractive',\n",
              "                                                     [key], {});\n",
              "          if (!dataTable) return;\n",
              "\n",
              "          const docLinkHtml = 'Like what you see? Visit the ' +\n",
              "            '<a target=\"_blank\" href=https://colab.research.google.com/notebooks/data_table.ipynb>data table notebook</a>'\n",
              "            + ' to learn more about interactive tables.';\n",
              "          element.innerHTML = '';\n",
              "          dataTable['output_type'] = 'display_data';\n",
              "          await google.colab.output.renderOutput(dataTable, element);\n",
              "          const docLink = document.createElement('div');\n",
              "          docLink.innerHTML = docLinkHtml;\n",
              "          element.appendChild(docLink);\n",
              "        }\n",
              "      </script>\n",
              "    </div>\n",
              "  </div>\n",
              "  "
            ]
          },
          "metadata": {},
          "execution_count": 91
        }
      ]
    },
    {
      "cell_type": "code",
      "source": [
        "model = ols('value~C(type)',df).fit()\n",
        "anv = anova_lm(model)\n",
        "anv\n",
        "#rezultat ten sam"
      ],
      "metadata": {
        "colab": {
          "base_uri": "https://localhost:8080/",
          "height": 112
        },
        "id": "eJzn73zMb9yb",
        "outputId": "d694d250-426b-40f5-e98b-a4cd407ea183"
      },
      "execution_count": null,
      "outputs": [
        {
          "output_type": "execute_result",
          "data": {
            "text/plain": [
              "           df      sum_sq    mean_sq         F    PR(>F)\n",
              "C(type)   2.0   44.666667  22.333333  0.490244  0.627926\n",
              "Residual  9.0  410.000000  45.555556       NaN       NaN"
            ],
            "text/html": [
              "\n",
              "  <div id=\"df-78e97a44-949e-4540-8f81-8be4d5d4fa24\">\n",
              "    <div class=\"colab-df-container\">\n",
              "      <div>\n",
              "<style scoped>\n",
              "    .dataframe tbody tr th:only-of-type {\n",
              "        vertical-align: middle;\n",
              "    }\n",
              "\n",
              "    .dataframe tbody tr th {\n",
              "        vertical-align: top;\n",
              "    }\n",
              "\n",
              "    .dataframe thead th {\n",
              "        text-align: right;\n",
              "    }\n",
              "</style>\n",
              "<table border=\"1\" class=\"dataframe\">\n",
              "  <thead>\n",
              "    <tr style=\"text-align: right;\">\n",
              "      <th></th>\n",
              "      <th>df</th>\n",
              "      <th>sum_sq</th>\n",
              "      <th>mean_sq</th>\n",
              "      <th>F</th>\n",
              "      <th>PR(&gt;F)</th>\n",
              "    </tr>\n",
              "  </thead>\n",
              "  <tbody>\n",
              "    <tr>\n",
              "      <th>C(type)</th>\n",
              "      <td>2.0</td>\n",
              "      <td>44.666667</td>\n",
              "      <td>22.333333</td>\n",
              "      <td>0.490244</td>\n",
              "      <td>0.627926</td>\n",
              "    </tr>\n",
              "    <tr>\n",
              "      <th>Residual</th>\n",
              "      <td>9.0</td>\n",
              "      <td>410.000000</td>\n",
              "      <td>45.555556</td>\n",
              "      <td>NaN</td>\n",
              "      <td>NaN</td>\n",
              "    </tr>\n",
              "  </tbody>\n",
              "</table>\n",
              "</div>\n",
              "      <button class=\"colab-df-convert\" onclick=\"convertToInteractive('df-78e97a44-949e-4540-8f81-8be4d5d4fa24')\"\n",
              "              title=\"Convert this dataframe to an interactive table.\"\n",
              "              style=\"display:none;\">\n",
              "        \n",
              "  <svg xmlns=\"http://www.w3.org/2000/svg\" height=\"24px\"viewBox=\"0 0 24 24\"\n",
              "       width=\"24px\">\n",
              "    <path d=\"M0 0h24v24H0V0z\" fill=\"none\"/>\n",
              "    <path d=\"M18.56 5.44l.94 2.06.94-2.06 2.06-.94-2.06-.94-.94-2.06-.94 2.06-2.06.94zm-11 1L8.5 8.5l.94-2.06 2.06-.94-2.06-.94L8.5 2.5l-.94 2.06-2.06.94zm10 10l.94 2.06.94-2.06 2.06-.94-2.06-.94-.94-2.06-.94 2.06-2.06.94z\"/><path d=\"M17.41 7.96l-1.37-1.37c-.4-.4-.92-.59-1.43-.59-.52 0-1.04.2-1.43.59L10.3 9.45l-7.72 7.72c-.78.78-.78 2.05 0 2.83L4 21.41c.39.39.9.59 1.41.59.51 0 1.02-.2 1.41-.59l7.78-7.78 2.81-2.81c.8-.78.8-2.07 0-2.86zM5.41 20L4 18.59l7.72-7.72 1.47 1.35L5.41 20z\"/>\n",
              "  </svg>\n",
              "      </button>\n",
              "      \n",
              "  <style>\n",
              "    .colab-df-container {\n",
              "      display:flex;\n",
              "      flex-wrap:wrap;\n",
              "      gap: 12px;\n",
              "    }\n",
              "\n",
              "    .colab-df-convert {\n",
              "      background-color: #E8F0FE;\n",
              "      border: none;\n",
              "      border-radius: 50%;\n",
              "      cursor: pointer;\n",
              "      display: none;\n",
              "      fill: #1967D2;\n",
              "      height: 32px;\n",
              "      padding: 0 0 0 0;\n",
              "      width: 32px;\n",
              "    }\n",
              "\n",
              "    .colab-df-convert:hover {\n",
              "      background-color: #E2EBFA;\n",
              "      box-shadow: 0px 1px 2px rgba(60, 64, 67, 0.3), 0px 1px 3px 1px rgba(60, 64, 67, 0.15);\n",
              "      fill: #174EA6;\n",
              "    }\n",
              "\n",
              "    [theme=dark] .colab-df-convert {\n",
              "      background-color: #3B4455;\n",
              "      fill: #D2E3FC;\n",
              "    }\n",
              "\n",
              "    [theme=dark] .colab-df-convert:hover {\n",
              "      background-color: #434B5C;\n",
              "      box-shadow: 0px 1px 3px 1px rgba(0, 0, 0, 0.15);\n",
              "      filter: drop-shadow(0px 1px 2px rgba(0, 0, 0, 0.3));\n",
              "      fill: #FFFFFF;\n",
              "    }\n",
              "  </style>\n",
              "\n",
              "      <script>\n",
              "        const buttonEl =\n",
              "          document.querySelector('#df-78e97a44-949e-4540-8f81-8be4d5d4fa24 button.colab-df-convert');\n",
              "        buttonEl.style.display =\n",
              "          google.colab.kernel.accessAllowed ? 'block' : 'none';\n",
              "\n",
              "        async function convertToInteractive(key) {\n",
              "          const element = document.querySelector('#df-78e97a44-949e-4540-8f81-8be4d5d4fa24');\n",
              "          const dataTable =\n",
              "            await google.colab.kernel.invokeFunction('convertToInteractive',\n",
              "                                                     [key], {});\n",
              "          if (!dataTable) return;\n",
              "\n",
              "          const docLinkHtml = 'Like what you see? Visit the ' +\n",
              "            '<a target=\"_blank\" href=https://colab.research.google.com/notebooks/data_table.ipynb>data table notebook</a>'\n",
              "            + ' to learn more about interactive tables.';\n",
              "          element.innerHTML = '';\n",
              "          dataTable['output_type'] = 'display_data';\n",
              "          await google.colab.output.renderOutput(dataTable, element);\n",
              "          const docLink = document.createElement('div');\n",
              "          docLink.innerHTML = docLinkHtml;\n",
              "          element.appendChild(docLink);\n",
              "        }\n",
              "      </script>\n",
              "    </div>\n",
              "  </div>\n",
              "  "
            ]
          },
          "metadata": {},
          "execution_count": 92
        }
      ]
    },
    {
      "cell_type": "markdown",
      "metadata": {
        "id": "7YCacWPcxWN9"
      },
      "source": [
        "# *Zadanie 1b\n",
        "Zaimplementuj swoją wersję testu $F$."
      ]
    },
    {
      "cell_type": "code",
      "source": [
        "def anova_oneway(df):\n",
        "    levels = np.unique(df.type)\n",
        "    groups = []\n",
        "    mean_all = np.mean(df.value)\n",
        "    SST = np.sum((df.value-mean_all)**2)\n",
        "    SSA = 0\n",
        "    for i in np.unique(df.type):\n",
        "      group = df.value[df.type==i]\n",
        "      mean_group = np.mean(group)\n",
        "      SSA_part = (mean_group-mean_all)**2\n",
        "      SSA = SSA+SSA_part\n",
        "    \n",
        "    r = len(np.unique(df.type))\n",
        "    #dla równolicznych grup\n",
        "    n = df.shape[0]/r\n",
        "    \n",
        "    SSA = n*SSA\n",
        "    SSE = SST-SSA\n",
        "\n",
        "    Fstat = (SSA/(r-1))/(SSE/(r*(n-1)))\n",
        "    frand = stats.f(dfn = r-1,dfd = r*(n-1))\n",
        "    pval = 1-frand.cdf(Fstat)\n",
        "    return(np.array([SSA,SSE,Fstat,pval]))\n",
        "    "
      ],
      "metadata": {
        "id": "98d6935f6_g5"
      },
      "execution_count": null,
      "outputs": []
    },
    {
      "cell_type": "code",
      "source": [
        "anova_oneway(df)"
      ],
      "metadata": {
        "colab": {
          "base_uri": "https://localhost:8080/"
        },
        "id": "UKhGMfdOMVTm",
        "outputId": "9ce417c3-abe6-4b80-e4e0-85572453dc26"
      },
      "execution_count": null,
      "outputs": [
        {
          "output_type": "execute_result",
          "data": {
            "text/plain": [
              "array([ 44.66666667, 410.        ,   0.4902439 ,   0.62792581])"
            ]
          },
          "metadata": {},
          "execution_count": 104
        }
      ]
    },
    {
      "cell_type": "markdown",
      "metadata": {
        "id": "1PPV_R3jxWN-"
      },
      "source": [
        "# Zadanie 2\n",
        "Wapń jest niezbędnym minerałem, który reguluje pracę serca, jest ważny dla krzepnięcia krwi i budowy zdrowych kości. Narodowa Fundacja Osteoporozy zaleca dzienne spożycie wapnia w ilości 1000-1200 mg / dzień dla dorosłych mężczyzn i kobiet. Podczas gdy wapń jest zawarty w niektórych produktach spożywczych, większość dorosłych nie ma wystarczającej ilości wapnia w swojej diecie i przyjmuje suplementy. Niestety niektóre suplementy mają skutki uboczne, takie jak zaburzenia żołądkowe, co utrudnia ich regularne przyjmowanie przez niektórych pacjentów.\n",
        "\n",
        "Badanie ma na celu sprawdzenie, czy istnieje różnica w średnim dziennym spożyciu wapnia u osób dorosłych z prawidłową gęstością kości, osób dorosłych z osteopenią (mała gęstość kości, która może prowadzić do osteoporozy) i osób dorosłych z osteoporozą. Dorośli w wieku 60 lat z prawidłową gęstością kości, osteopenią i osteoporozą są losowo wybierani z rejestrów szpitalnych i zapraszani do udziału w badaniu. Dzienne spożycie wapnia przez każdego uczestnika jest mierzone na podstawie zgłoszonego spożycia żywności i suplementów. Dane są pokazane poniżej.\n",
        "\n",
        "| Prawidłowa gęstość kości | Osteopenia | Osteoporoza |\n",
        "|:------------------------:|:----------:|:-----------:|\n",
        "|           1200           |    1000    |     890     |\n",
        "|           1000           |    1100    |     650     |\n",
        "|            980           |     700    |     1100    |\n",
        "|            900           |     800    |     900     |\n",
        "|            750           |     500    |     400     |\n",
        "|            800           |     700    |     350     |\n",
        "\n",
        "Czy istnieje statystycznie istotna różnica w średnim spożyciu wapnia u pacjentów z prawidłową gęstością kości w porównaniu do pacjentów z osteopenią i osteoporozą? Przyjmij poziom istotności 0.05."
      ]
    },
    {
      "cell_type": "code",
      "execution_count": null,
      "metadata": {
        "id": "iwSKbiJ3xWOA",
        "colab": {
          "base_uri": "https://localhost:8080/",
          "height": 112
        },
        "outputId": "bee18c4b-e396-4e0e-bdfc-56028850123d"
      },
      "outputs": [
        {
          "output_type": "execute_result",
          "data": {
            "text/plain": [
              "           bartlett_test  levene_test\n",
              "statistic       1.717165     1.909520\n",
              "pvalue          0.423762     0.182475"
            ],
            "text/html": [
              "\n",
              "  <div id=\"df-0851276e-0f26-4eb6-8c43-b345e2549c41\">\n",
              "    <div class=\"colab-df-container\">\n",
              "      <div>\n",
              "<style scoped>\n",
              "    .dataframe tbody tr th:only-of-type {\n",
              "        vertical-align: middle;\n",
              "    }\n",
              "\n",
              "    .dataframe tbody tr th {\n",
              "        vertical-align: top;\n",
              "    }\n",
              "\n",
              "    .dataframe thead th {\n",
              "        text-align: right;\n",
              "    }\n",
              "</style>\n",
              "<table border=\"1\" class=\"dataframe\">\n",
              "  <thead>\n",
              "    <tr style=\"text-align: right;\">\n",
              "      <th></th>\n",
              "      <th>bartlett_test</th>\n",
              "      <th>levene_test</th>\n",
              "    </tr>\n",
              "  </thead>\n",
              "  <tbody>\n",
              "    <tr>\n",
              "      <th>statistic</th>\n",
              "      <td>1.717165</td>\n",
              "      <td>1.909520</td>\n",
              "    </tr>\n",
              "    <tr>\n",
              "      <th>pvalue</th>\n",
              "      <td>0.423762</td>\n",
              "      <td>0.182475</td>\n",
              "    </tr>\n",
              "  </tbody>\n",
              "</table>\n",
              "</div>\n",
              "      <button class=\"colab-df-convert\" onclick=\"convertToInteractive('df-0851276e-0f26-4eb6-8c43-b345e2549c41')\"\n",
              "              title=\"Convert this dataframe to an interactive table.\"\n",
              "              style=\"display:none;\">\n",
              "        \n",
              "  <svg xmlns=\"http://www.w3.org/2000/svg\" height=\"24px\"viewBox=\"0 0 24 24\"\n",
              "       width=\"24px\">\n",
              "    <path d=\"M0 0h24v24H0V0z\" fill=\"none\"/>\n",
              "    <path d=\"M18.56 5.44l.94 2.06.94-2.06 2.06-.94-2.06-.94-.94-2.06-.94 2.06-2.06.94zm-11 1L8.5 8.5l.94-2.06 2.06-.94-2.06-.94L8.5 2.5l-.94 2.06-2.06.94zm10 10l.94 2.06.94-2.06 2.06-.94-2.06-.94-.94-2.06-.94 2.06-2.06.94z\"/><path d=\"M17.41 7.96l-1.37-1.37c-.4-.4-.92-.59-1.43-.59-.52 0-1.04.2-1.43.59L10.3 9.45l-7.72 7.72c-.78.78-.78 2.05 0 2.83L4 21.41c.39.39.9.59 1.41.59.51 0 1.02-.2 1.41-.59l7.78-7.78 2.81-2.81c.8-.78.8-2.07 0-2.86zM5.41 20L4 18.59l7.72-7.72 1.47 1.35L5.41 20z\"/>\n",
              "  </svg>\n",
              "      </button>\n",
              "      \n",
              "  <style>\n",
              "    .colab-df-container {\n",
              "      display:flex;\n",
              "      flex-wrap:wrap;\n",
              "      gap: 12px;\n",
              "    }\n",
              "\n",
              "    .colab-df-convert {\n",
              "      background-color: #E8F0FE;\n",
              "      border: none;\n",
              "      border-radius: 50%;\n",
              "      cursor: pointer;\n",
              "      display: none;\n",
              "      fill: #1967D2;\n",
              "      height: 32px;\n",
              "      padding: 0 0 0 0;\n",
              "      width: 32px;\n",
              "    }\n",
              "\n",
              "    .colab-df-convert:hover {\n",
              "      background-color: #E2EBFA;\n",
              "      box-shadow: 0px 1px 2px rgba(60, 64, 67, 0.3), 0px 1px 3px 1px rgba(60, 64, 67, 0.15);\n",
              "      fill: #174EA6;\n",
              "    }\n",
              "\n",
              "    [theme=dark] .colab-df-convert {\n",
              "      background-color: #3B4455;\n",
              "      fill: #D2E3FC;\n",
              "    }\n",
              "\n",
              "    [theme=dark] .colab-df-convert:hover {\n",
              "      background-color: #434B5C;\n",
              "      box-shadow: 0px 1px 3px 1px rgba(0, 0, 0, 0.15);\n",
              "      filter: drop-shadow(0px 1px 2px rgba(0, 0, 0, 0.3));\n",
              "      fill: #FFFFFF;\n",
              "    }\n",
              "  </style>\n",
              "\n",
              "      <script>\n",
              "        const buttonEl =\n",
              "          document.querySelector('#df-0851276e-0f26-4eb6-8c43-b345e2549c41 button.colab-df-convert');\n",
              "        buttonEl.style.display =\n",
              "          google.colab.kernel.accessAllowed ? 'block' : 'none';\n",
              "\n",
              "        async function convertToInteractive(key) {\n",
              "          const element = document.querySelector('#df-0851276e-0f26-4eb6-8c43-b345e2549c41');\n",
              "          const dataTable =\n",
              "            await google.colab.kernel.invokeFunction('convertToInteractive',\n",
              "                                                     [key], {});\n",
              "          if (!dataTable) return;\n",
              "\n",
              "          const docLinkHtml = 'Like what you see? Visit the ' +\n",
              "            '<a target=\"_blank\" href=https://colab.research.google.com/notebooks/data_table.ipynb>data table notebook</a>'\n",
              "            + ' to learn more about interactive tables.';\n",
              "          element.innerHTML = '';\n",
              "          dataTable['output_type'] = 'display_data';\n",
              "          await google.colab.output.renderOutput(dataTable, element);\n",
              "          const docLink = document.createElement('div');\n",
              "          docLink.innerHTML = docLinkHtml;\n",
              "          element.appendChild(docLink);\n",
              "        }\n",
              "      </script>\n",
              "    </div>\n",
              "  </div>\n",
              "  "
            ]
          },
          "metadata": {},
          "execution_count": 106
        }
      ],
      "source": [
        "group1 = [1200, 1000, 980, 900, 750, 800]\n",
        "group2 = [1000, 1100, 700, 800, 500, 700]\n",
        "group3 = [890, 650, 1100, 900, 400, 350]\n",
        "\n",
        "variance_test(group1, group2, group3)\n",
        "#duże p-val -> wariancje równe"
      ]
    },
    {
      "cell_type": "code",
      "source": [
        "print(normal_tests(group1))\n",
        "print(normal_tests(group2))\n",
        "print(normal_tests(group3))\n",
        "#duże p-val -> normalność jest"
      ],
      "metadata": {
        "colab": {
          "base_uri": "https://localhost:8080/"
        },
        "id": "BBQvk8EgNRm-",
        "outputId": "8512aad8-80c3-41b5-f149-c40713c1822b"
      },
      "execution_count": null,
      "outputs": [
        {
          "output_type": "stream",
          "name": "stdout",
          "text": [
            "                      test  statistic   pvalue\n",
            "0        Shapiro-Wilk Test       0.96  0.78384\n",
            "1         Jarque–Bera Test       0.36  0.83718\n",
            "2  Kolmogorov–Smirnov Test       0.18  0.98684\n",
            "                      test  statistic   pvalue\n",
            "0        Shapiro-Wilk Test       0.96  0.78283\n",
            "1         Jarque–Bera Test       0.33  0.84703\n",
            "2  Kolmogorov–Smirnov Test       0.18  0.99241\n",
            "                      test  statistic   pvalue\n",
            "0        Shapiro-Wilk Test       0.92  0.51605\n",
            "1         Jarque–Bera Test       0.55  0.76096\n",
            "2  Kolmogorov–Smirnov Test       0.22  0.93304\n"
          ]
        }
      ]
    },
    {
      "cell_type": "code",
      "source": [
        "stats.f_oneway(group1, group2, group3)\n",
        "# duże p-val -> nie odrzucamy H0\n",
        "#Na poziomie istotności 0.05 nie mamy podstaw do odrzucenia hipotezy zerowej, \n",
        "# uznajemy, że nie istnieje statystycznie istotna różnica w średnim spożyciu wapnia u pacjentów \n",
        "# z prawidłową gęstością kości w porównaniu do pacjentów z osteopenią i osteoporozą"
      ],
      "metadata": {
        "colab": {
          "base_uri": "https://localhost:8080/"
        },
        "id": "75-anUU2Ny5d",
        "outputId": "3f60b1bc-6085-40e0-dd19-d3608afcc5c7"
      },
      "execution_count": null,
      "outputs": [
        {
          "output_type": "execute_result",
          "data": {
            "text/plain": [
              "F_onewayResult(statistic=1.3948973368570847, pvalue=0.2782290200522075)"
            ]
          },
          "metadata": {},
          "execution_count": 108
        }
      ]
    },
    {
      "cell_type": "markdown",
      "metadata": {
        "id": "AsJBtE_wxWOB"
      },
      "source": [
        "## post-hoc - porówania wielokrotne\n",
        "Testujemy\n",
        "\\begin{equation*}\n",
        "    \\begin{split}\n",
        "        H_{0, ik}&: \\mu_i = \\mu_k, \\\\\n",
        "        H_{1, ik}&: \\mu_i \\neq \\mu_k\n",
        "    \\end{split}\n",
        "\\end{equation*}\n",
        "dla wszystkich par $i, k=1, \\ldots, r, i < k$.\n",
        "\n",
        "Hipotezę zerową odrzucamy, gdy $|\\overline{Y}_i - \\overline{Y}_k|$ jest ,,za duża''."
      ]
    },
    {
      "cell_type": "markdown",
      "source": [
        "### Metoda Tukeya\n",
        "Odrzucamy hipotezę zerową $H_{0, ik}$, gdy\n",
        "\\begin{equation*}\n",
        "    |\\overline{Y}_i - \\overline{Y}_k| \\geq q_{1-\\alpha}^{(r, r(n-1))}\\sqrt{\\frac{\\text{MSE}}{n}},\n",
        "\\end{equation*}\n",
        "gdzie $q_{1-\\alpha}^{(r, r(n-1)}$ jest kwantylem studentyzowanego rozkładu rozstępu."
      ],
      "metadata": {
        "id": "vsvG4x5iAJmd"
      }
    },
    {
      "cell_type": "markdown",
      "metadata": {
        "id": "lGMS5zzbxWOA"
      },
      "source": [
        "# Zadanie 3\n",
        "Wysunięto przypuszczenie, że wytrzymałość toreb papierowych zależy od stężenia twardego drewna w ścierze drzewnym, z którego owe torby są wytwarzane. W praktyce stosuje się stężenia od 5% do 20%. Dotychczasowe badania wykazały, że rozkład wytrzymałości toreb jest normalny, przy czym obserwowana zmienność nie zależała od poziomu stężenia twardego drewna w ścierze drzewnym. Poniższa tabela zawiera wyniki pomiarów wytrzymałości na rozciąganie (w psi) otrzymane podczas badań laboratoryjnych 24 toreb papierowych. Zbadać, czy wytrzymałość toreb zależy faktycznie od poziomu stężenia twardego drewna w ścierze drzewnym.\n",
        "\n",
        "|  Stężenie ścieru drzewnego |    |    |    |    |    |    |\n",
        "|:--------------------------:|:--:|:--:|:--:|:--:|:--:|:--:|\n",
        "|             5%             |  7 |  8 | 15 | 11 |  9 | 10 |\n",
        "|             10%            | 12 | 17 | 13 | 18 | 19 | 15 |\n",
        "|             15%            | 14 | 18 | 19 | 17 | 16 | 18 |\n",
        "|             20%            | 19 | 25 | 22 | 23 | 18 | 20 |"
      ]
    },
    {
      "cell_type": "code",
      "source": [
        "group1 = [7,8,15,11,9,10]\n",
        "group2 = [12,17,13,18,19,15]\n",
        "group3 = [14,18,19,17,16,18]\n",
        "group4 = [19,25,22,23,18,20]\n"
      ],
      "metadata": {
        "id": "Kadl4ZAV7nRU"
      },
      "execution_count": null,
      "outputs": []
    },
    {
      "cell_type": "code",
      "source": [
        "variance_test(group1, group2, group3, group4)\n",
        "#duże p-val -> wariancje równe"
      ],
      "metadata": {
        "colab": {
          "base_uri": "https://localhost:8080/",
          "height": 112
        },
        "id": "HxRsKJ4EqAIx",
        "outputId": "fce1f065-3383-47da-d871-f4e5106ff0d6"
      },
      "execution_count": null,
      "outputs": [
        {
          "output_type": "execute_result",
          "data": {
            "text/plain": [
              "           bartlett_test  levene_test\n",
              "statistic       1.135246     0.665064\n",
              "pvalue          0.768573     0.583262"
            ],
            "text/html": [
              "\n",
              "  <div id=\"df-0ceb95b9-9ee9-473a-89b8-21cad0fef296\">\n",
              "    <div class=\"colab-df-container\">\n",
              "      <div>\n",
              "<style scoped>\n",
              "    .dataframe tbody tr th:only-of-type {\n",
              "        vertical-align: middle;\n",
              "    }\n",
              "\n",
              "    .dataframe tbody tr th {\n",
              "        vertical-align: top;\n",
              "    }\n",
              "\n",
              "    .dataframe thead th {\n",
              "        text-align: right;\n",
              "    }\n",
              "</style>\n",
              "<table border=\"1\" class=\"dataframe\">\n",
              "  <thead>\n",
              "    <tr style=\"text-align: right;\">\n",
              "      <th></th>\n",
              "      <th>bartlett_test</th>\n",
              "      <th>levene_test</th>\n",
              "    </tr>\n",
              "  </thead>\n",
              "  <tbody>\n",
              "    <tr>\n",
              "      <th>statistic</th>\n",
              "      <td>1.135246</td>\n",
              "      <td>0.665064</td>\n",
              "    </tr>\n",
              "    <tr>\n",
              "      <th>pvalue</th>\n",
              "      <td>0.768573</td>\n",
              "      <td>0.583262</td>\n",
              "    </tr>\n",
              "  </tbody>\n",
              "</table>\n",
              "</div>\n",
              "      <button class=\"colab-df-convert\" onclick=\"convertToInteractive('df-0ceb95b9-9ee9-473a-89b8-21cad0fef296')\"\n",
              "              title=\"Convert this dataframe to an interactive table.\"\n",
              "              style=\"display:none;\">\n",
              "        \n",
              "  <svg xmlns=\"http://www.w3.org/2000/svg\" height=\"24px\"viewBox=\"0 0 24 24\"\n",
              "       width=\"24px\">\n",
              "    <path d=\"M0 0h24v24H0V0z\" fill=\"none\"/>\n",
              "    <path d=\"M18.56 5.44l.94 2.06.94-2.06 2.06-.94-2.06-.94-.94-2.06-.94 2.06-2.06.94zm-11 1L8.5 8.5l.94-2.06 2.06-.94-2.06-.94L8.5 2.5l-.94 2.06-2.06.94zm10 10l.94 2.06.94-2.06 2.06-.94-2.06-.94-.94-2.06-.94 2.06-2.06.94z\"/><path d=\"M17.41 7.96l-1.37-1.37c-.4-.4-.92-.59-1.43-.59-.52 0-1.04.2-1.43.59L10.3 9.45l-7.72 7.72c-.78.78-.78 2.05 0 2.83L4 21.41c.39.39.9.59 1.41.59.51 0 1.02-.2 1.41-.59l7.78-7.78 2.81-2.81c.8-.78.8-2.07 0-2.86zM5.41 20L4 18.59l7.72-7.72 1.47 1.35L5.41 20z\"/>\n",
              "  </svg>\n",
              "      </button>\n",
              "      \n",
              "  <style>\n",
              "    .colab-df-container {\n",
              "      display:flex;\n",
              "      flex-wrap:wrap;\n",
              "      gap: 12px;\n",
              "    }\n",
              "\n",
              "    .colab-df-convert {\n",
              "      background-color: #E8F0FE;\n",
              "      border: none;\n",
              "      border-radius: 50%;\n",
              "      cursor: pointer;\n",
              "      display: none;\n",
              "      fill: #1967D2;\n",
              "      height: 32px;\n",
              "      padding: 0 0 0 0;\n",
              "      width: 32px;\n",
              "    }\n",
              "\n",
              "    .colab-df-convert:hover {\n",
              "      background-color: #E2EBFA;\n",
              "      box-shadow: 0px 1px 2px rgba(60, 64, 67, 0.3), 0px 1px 3px 1px rgba(60, 64, 67, 0.15);\n",
              "      fill: #174EA6;\n",
              "    }\n",
              "\n",
              "    [theme=dark] .colab-df-convert {\n",
              "      background-color: #3B4455;\n",
              "      fill: #D2E3FC;\n",
              "    }\n",
              "\n",
              "    [theme=dark] .colab-df-convert:hover {\n",
              "      background-color: #434B5C;\n",
              "      box-shadow: 0px 1px 3px 1px rgba(0, 0, 0, 0.15);\n",
              "      filter: drop-shadow(0px 1px 2px rgba(0, 0, 0, 0.3));\n",
              "      fill: #FFFFFF;\n",
              "    }\n",
              "  </style>\n",
              "\n",
              "      <script>\n",
              "        const buttonEl =\n",
              "          document.querySelector('#df-0ceb95b9-9ee9-473a-89b8-21cad0fef296 button.colab-df-convert');\n",
              "        buttonEl.style.display =\n",
              "          google.colab.kernel.accessAllowed ? 'block' : 'none';\n",
              "\n",
              "        async function convertToInteractive(key) {\n",
              "          const element = document.querySelector('#df-0ceb95b9-9ee9-473a-89b8-21cad0fef296');\n",
              "          const dataTable =\n",
              "            await google.colab.kernel.invokeFunction('convertToInteractive',\n",
              "                                                     [key], {});\n",
              "          if (!dataTable) return;\n",
              "\n",
              "          const docLinkHtml = 'Like what you see? Visit the ' +\n",
              "            '<a target=\"_blank\" href=https://colab.research.google.com/notebooks/data_table.ipynb>data table notebook</a>'\n",
              "            + ' to learn more about interactive tables.';\n",
              "          element.innerHTML = '';\n",
              "          dataTable['output_type'] = 'display_data';\n",
              "          await google.colab.output.renderOutput(dataTable, element);\n",
              "          const docLink = document.createElement('div');\n",
              "          docLink.innerHTML = docLinkHtml;\n",
              "          element.appendChild(docLink);\n",
              "        }\n",
              "      </script>\n",
              "    </div>\n",
              "  </div>\n",
              "  "
            ]
          },
          "metadata": {},
          "execution_count": 110
        }
      ]
    },
    {
      "cell_type": "code",
      "source": [
        "print(normal_tests(group1))\n",
        "print(normal_tests(group2))\n",
        "print(normal_tests(group3))\n",
        "print(normal_tests(group4))\n",
        "#duże p-val -> normalność jest"
      ],
      "metadata": {
        "colab": {
          "base_uri": "https://localhost:8080/"
        },
        "id": "UTb7AfsxqYb5",
        "outputId": "1c7f6f43-0f5b-4c50-fbaa-a35298867ad7"
      },
      "execution_count": null,
      "outputs": [
        {
          "output_type": "stream",
          "name": "stdout",
          "text": [
            "                      test  statistic   pvalue\n",
            "0        Shapiro-Wilk Test       0.92  0.52270\n",
            "1         Jarque–Bera Test       0.78  0.67716\n",
            "2  Kolmogorov–Smirnov Test       0.20  0.97627\n",
            "                      test  statistic   pvalue\n",
            "0        Shapiro-Wilk Test       0.94  0.65994\n",
            "1         Jarque–Bera Test       0.59  0.74593\n",
            "2  Kolmogorov–Smirnov Test       0.18  0.98814\n",
            "                      test  statistic   pvalue\n",
            "0        Shapiro-Wilk Test       0.93  0.60671\n",
            "1         Jarque–Bera Test       0.58  0.74741\n",
            "2  Kolmogorov–Smirnov Test       0.21  0.95039\n",
            "                      test  statistic   pvalue\n",
            "0        Shapiro-Wilk Test       0.97  0.86308\n",
            "1         Jarque–Bera Test       0.45  0.79839\n",
            "2  Kolmogorov–Smirnov Test       0.17  0.99481\n"
          ]
        }
      ]
    },
    {
      "cell_type": "code",
      "source": [
        "stats.f_oneway(group1,group2,group3,group4)\n",
        "# małe p-val -> odrzucamy H0\n",
        "# na poziomie istotnosci 0.05 mamy podstawy do odrzucenia hipotezy zerowej\n",
        "# wytrzymałość toreb zależy istotnie od poziomu stężenia twardego drewna w ścierze drzewnym"
      ],
      "metadata": {
        "colab": {
          "base_uri": "https://localhost:8080/"
        },
        "id": "Q-nq5L5Nqfr9",
        "outputId": "fc1e8da7-3501-4eef-98b8-73a69c8c224f"
      },
      "execution_count": null,
      "outputs": [
        {
          "output_type": "execute_result",
          "data": {
            "text/plain": [
              "F_onewayResult(statistic=19.605206999573184, pvalue=3.5925782584743027e-06)"
            ]
          },
          "metadata": {},
          "execution_count": 112
        }
      ]
    },
    {
      "cell_type": "code",
      "source": [
        "#aby zobaczyć które dokładnie średnie są nierówne \n",
        "#musimy użyć porównań wielokrotnych i analizy post-hoc\n",
        "\n",
        "values = np.concatenate([group1,group2,group3,group4])\n",
        "n = len(group1)\n",
        "types = np.concatenate([['5%']*n,['10%']*n,['15%']*n,['20%']*n])\n",
        "df = pd.DataFrame({'type': types,'value': values})\n",
        "df.head()"
      ],
      "metadata": {
        "colab": {
          "base_uri": "https://localhost:8080/",
          "height": 206
        },
        "id": "ghILasCSqs-l",
        "outputId": "0adad166-096b-4c2b-b768-a12f8da11d1d"
      },
      "execution_count": null,
      "outputs": [
        {
          "output_type": "execute_result",
          "data": {
            "text/plain": [
              "  type  value\n",
              "0   5%      7\n",
              "1   5%      8\n",
              "2   5%     15\n",
              "3   5%     11\n",
              "4   5%      9"
            ],
            "text/html": [
              "\n",
              "  <div id=\"df-b75bad92-8990-4fae-a2a8-89d151161d89\">\n",
              "    <div class=\"colab-df-container\">\n",
              "      <div>\n",
              "<style scoped>\n",
              "    .dataframe tbody tr th:only-of-type {\n",
              "        vertical-align: middle;\n",
              "    }\n",
              "\n",
              "    .dataframe tbody tr th {\n",
              "        vertical-align: top;\n",
              "    }\n",
              "\n",
              "    .dataframe thead th {\n",
              "        text-align: right;\n",
              "    }\n",
              "</style>\n",
              "<table border=\"1\" class=\"dataframe\">\n",
              "  <thead>\n",
              "    <tr style=\"text-align: right;\">\n",
              "      <th></th>\n",
              "      <th>type</th>\n",
              "      <th>value</th>\n",
              "    </tr>\n",
              "  </thead>\n",
              "  <tbody>\n",
              "    <tr>\n",
              "      <th>0</th>\n",
              "      <td>5%</td>\n",
              "      <td>7</td>\n",
              "    </tr>\n",
              "    <tr>\n",
              "      <th>1</th>\n",
              "      <td>5%</td>\n",
              "      <td>8</td>\n",
              "    </tr>\n",
              "    <tr>\n",
              "      <th>2</th>\n",
              "      <td>5%</td>\n",
              "      <td>15</td>\n",
              "    </tr>\n",
              "    <tr>\n",
              "      <th>3</th>\n",
              "      <td>5%</td>\n",
              "      <td>11</td>\n",
              "    </tr>\n",
              "    <tr>\n",
              "      <th>4</th>\n",
              "      <td>5%</td>\n",
              "      <td>9</td>\n",
              "    </tr>\n",
              "  </tbody>\n",
              "</table>\n",
              "</div>\n",
              "      <button class=\"colab-df-convert\" onclick=\"convertToInteractive('df-b75bad92-8990-4fae-a2a8-89d151161d89')\"\n",
              "              title=\"Convert this dataframe to an interactive table.\"\n",
              "              style=\"display:none;\">\n",
              "        \n",
              "  <svg xmlns=\"http://www.w3.org/2000/svg\" height=\"24px\"viewBox=\"0 0 24 24\"\n",
              "       width=\"24px\">\n",
              "    <path d=\"M0 0h24v24H0V0z\" fill=\"none\"/>\n",
              "    <path d=\"M18.56 5.44l.94 2.06.94-2.06 2.06-.94-2.06-.94-.94-2.06-.94 2.06-2.06.94zm-11 1L8.5 8.5l.94-2.06 2.06-.94-2.06-.94L8.5 2.5l-.94 2.06-2.06.94zm10 10l.94 2.06.94-2.06 2.06-.94-2.06-.94-.94-2.06-.94 2.06-2.06.94z\"/><path d=\"M17.41 7.96l-1.37-1.37c-.4-.4-.92-.59-1.43-.59-.52 0-1.04.2-1.43.59L10.3 9.45l-7.72 7.72c-.78.78-.78 2.05 0 2.83L4 21.41c.39.39.9.59 1.41.59.51 0 1.02-.2 1.41-.59l7.78-7.78 2.81-2.81c.8-.78.8-2.07 0-2.86zM5.41 20L4 18.59l7.72-7.72 1.47 1.35L5.41 20z\"/>\n",
              "  </svg>\n",
              "      </button>\n",
              "      \n",
              "  <style>\n",
              "    .colab-df-container {\n",
              "      display:flex;\n",
              "      flex-wrap:wrap;\n",
              "      gap: 12px;\n",
              "    }\n",
              "\n",
              "    .colab-df-convert {\n",
              "      background-color: #E8F0FE;\n",
              "      border: none;\n",
              "      border-radius: 50%;\n",
              "      cursor: pointer;\n",
              "      display: none;\n",
              "      fill: #1967D2;\n",
              "      height: 32px;\n",
              "      padding: 0 0 0 0;\n",
              "      width: 32px;\n",
              "    }\n",
              "\n",
              "    .colab-df-convert:hover {\n",
              "      background-color: #E2EBFA;\n",
              "      box-shadow: 0px 1px 2px rgba(60, 64, 67, 0.3), 0px 1px 3px 1px rgba(60, 64, 67, 0.15);\n",
              "      fill: #174EA6;\n",
              "    }\n",
              "\n",
              "    [theme=dark] .colab-df-convert {\n",
              "      background-color: #3B4455;\n",
              "      fill: #D2E3FC;\n",
              "    }\n",
              "\n",
              "    [theme=dark] .colab-df-convert:hover {\n",
              "      background-color: #434B5C;\n",
              "      box-shadow: 0px 1px 3px 1px rgba(0, 0, 0, 0.15);\n",
              "      filter: drop-shadow(0px 1px 2px rgba(0, 0, 0, 0.3));\n",
              "      fill: #FFFFFF;\n",
              "    }\n",
              "  </style>\n",
              "\n",
              "      <script>\n",
              "        const buttonEl =\n",
              "          document.querySelector('#df-b75bad92-8990-4fae-a2a8-89d151161d89 button.colab-df-convert');\n",
              "        buttonEl.style.display =\n",
              "          google.colab.kernel.accessAllowed ? 'block' : 'none';\n",
              "\n",
              "        async function convertToInteractive(key) {\n",
              "          const element = document.querySelector('#df-b75bad92-8990-4fae-a2a8-89d151161d89');\n",
              "          const dataTable =\n",
              "            await google.colab.kernel.invokeFunction('convertToInteractive',\n",
              "                                                     [key], {});\n",
              "          if (!dataTable) return;\n",
              "\n",
              "          const docLinkHtml = 'Like what you see? Visit the ' +\n",
              "            '<a target=\"_blank\" href=https://colab.research.google.com/notebooks/data_table.ipynb>data table notebook</a>'\n",
              "            + ' to learn more about interactive tables.';\n",
              "          element.innerHTML = '';\n",
              "          dataTable['output_type'] = 'display_data';\n",
              "          await google.colab.output.renderOutput(dataTable, element);\n",
              "          const docLink = document.createElement('div');\n",
              "          docLink.innerHTML = docLinkHtml;\n",
              "          element.appendChild(docLink);\n",
              "        }\n",
              "      </script>\n",
              "    </div>\n",
              "  </div>\n",
              "  "
            ]
          },
          "metadata": {},
          "execution_count": 113
        }
      ]
    },
    {
      "cell_type": "code",
      "source": [
        "multicomparison = MultiComparison(data = df.value,groups = df.type)\n",
        "multicomparison"
      ],
      "metadata": {
        "colab": {
          "base_uri": "https://localhost:8080/"
        },
        "id": "mdk2zrCDt1L9",
        "outputId": "b989aaf4-73c5-4a50-e99c-094419e7c101"
      },
      "execution_count": null,
      "outputs": [
        {
          "output_type": "execute_result",
          "data": {
            "text/plain": [
              "<statsmodels.sandbox.stats.multicomp.MultiComparison at 0x7f794f10e190>"
            ]
          },
          "metadata": {},
          "execution_count": 114
        }
      ]
    },
    {
      "cell_type": "code",
      "source": [
        "#korzystamy z metody tukeya, problem, że mamy wiele testów, \n",
        "#więc statystycznie w którymś możemy popełnić bład pierwszego rodzaju z dużym prawdopodobieństwem\n",
        "#obniżamy poziom istotności w poszczególnych testach, aby sumarycznie mieć poziom 0.05\n",
        "tukey = multicomparison.tukeyhsd()\n",
        "tukey.summary()\n",
        "#wszystkie średnie są od siebie różne, oprócz średniej dla 10% i 15%"
      ],
      "metadata": {
        "colab": {
          "base_uri": "https://localhost:8080/",
          "height": 186
        },
        "id": "fxo7xwafuHSg",
        "outputId": "6832b0fb-87a5-4afd-8897-866acff2a301"
      },
      "execution_count": null,
      "outputs": [
        {
          "output_type": "execute_result",
          "data": {
            "text/plain": [
              "<class 'statsmodels.iolib.table.SimpleTable'>"
            ],
            "text/html": [
              "<table class=\"simpletable\">\n",
              "<caption>Multiple Comparison of Means - Tukey HSD, FWER=0.05</caption>\n",
              "<tr>\n",
              "  <th>group1</th> <th>group2</th> <th>meandiff</th>  <th>p-adj</th>   <th>lower</th>   <th>upper</th>  <th>reject</th>\n",
              "</tr>\n",
              "<tr>\n",
              "    <td>10%</td>    <td>15%</td>   <td>1.3333</td>  <td>0.7827</td>  <td>-2.7894</td> <td>5.4561</td>   <td>False</td>\n",
              "</tr>\n",
              "<tr>\n",
              "    <td>10%</td>    <td>20%</td>     <td>5.5</td>   <td>0.0066</td>  <td>1.3773</td>  <td>9.6227</td>   <td>True</td> \n",
              "</tr>\n",
              "<tr>\n",
              "    <td>10%</td>    <td>5%</td>    <td>-5.6667</td> <td>0.0051</td>  <td>-9.7894</td> <td>-1.5439</td>  <td>True</td> \n",
              "</tr>\n",
              "<tr>\n",
              "    <td>15%</td>    <td>20%</td>   <td>4.1667</td>   <td>0.047</td>  <td>0.0439</td>  <td>8.2894</td>   <td>True</td> \n",
              "</tr>\n",
              "<tr>\n",
              "    <td>15%</td>    <td>5%</td>     <td>-7.0</td>    <td>0.001</td> <td>-11.1227</td> <td>-2.8773</td>  <td>True</td> \n",
              "</tr>\n",
              "<tr>\n",
              "    <td>20%</td>    <td>5%</td>   <td>-11.1667</td>  <td>0.001</td> <td>-15.2894</td> <td>-7.0439</td>  <td>True</td> \n",
              "</tr>\n",
              "</table>"
            ]
          },
          "metadata": {},
          "execution_count": 116
        }
      ]
    },
    {
      "cell_type": "code",
      "source": [
        "#inny sposób\n",
        "tukey2 = pairwise_tukeyhsd(endog = df.value,groups = df.type)\n",
        "tukey2.summary()\n",
        "#taki sam wynik"
      ],
      "metadata": {
        "colab": {
          "base_uri": "https://localhost:8080/",
          "height": 186
        },
        "id": "g2JQylwFugsX",
        "outputId": "ae846ec5-286d-4d81-902a-a72a74f20fcf"
      },
      "execution_count": null,
      "outputs": [
        {
          "output_type": "execute_result",
          "data": {
            "text/plain": [
              "<class 'statsmodels.iolib.table.SimpleTable'>"
            ],
            "text/html": [
              "<table class=\"simpletable\">\n",
              "<caption>Multiple Comparison of Means - Tukey HSD, FWER=0.05</caption>\n",
              "<tr>\n",
              "  <th>group1</th> <th>group2</th> <th>meandiff</th>  <th>p-adj</th>   <th>lower</th>   <th>upper</th>  <th>reject</th>\n",
              "</tr>\n",
              "<tr>\n",
              "    <td>10%</td>    <td>15%</td>   <td>1.3333</td>  <td>0.7827</td>  <td>-2.7894</td> <td>5.4561</td>   <td>False</td>\n",
              "</tr>\n",
              "<tr>\n",
              "    <td>10%</td>    <td>20%</td>     <td>5.5</td>   <td>0.0066</td>  <td>1.3773</td>  <td>9.6227</td>   <td>True</td> \n",
              "</tr>\n",
              "<tr>\n",
              "    <td>10%</td>    <td>5%</td>    <td>-5.6667</td> <td>0.0051</td>  <td>-9.7894</td> <td>-1.5439</td>  <td>True</td> \n",
              "</tr>\n",
              "<tr>\n",
              "    <td>15%</td>    <td>20%</td>   <td>4.1667</td>   <td>0.047</td>  <td>0.0439</td>  <td>8.2894</td>   <td>True</td> \n",
              "</tr>\n",
              "<tr>\n",
              "    <td>15%</td>    <td>5%</td>     <td>-7.0</td>    <td>0.001</td> <td>-11.1227</td> <td>-2.8773</td>  <td>True</td> \n",
              "</tr>\n",
              "<tr>\n",
              "    <td>20%</td>    <td>5%</td>   <td>-11.1667</td>  <td>0.001</td> <td>-15.2894</td> <td>-7.0439</td>  <td>True</td> \n",
              "</tr>\n",
              "</table>"
            ]
          },
          "metadata": {},
          "execution_count": 117
        }
      ]
    },
    {
      "cell_type": "code",
      "source": [
        "tukey2.plot_simultaneous()    \n",
        "plt.show()\n",
        "#graficzne potwierdzenie"
      ],
      "metadata": {
        "colab": {
          "base_uri": "https://localhost:8080/",
          "height": 390
        },
        "id": "unPCi0ILvKVa",
        "outputId": "bdb3024f-6960-4fa9-82ab-e328133f1fe5"
      },
      "execution_count": null,
      "outputs": [
        {
          "output_type": "display_data",
          "data": {
            "text/plain": [
              "<Figure size 720x432 with 1 Axes>"
            ],
            "image/png": "[encoded data removed]"
          },
          "metadata": {
            "needs_background": "light"
          }
        }
      ]
    },
    {
      "cell_type": "markdown",
      "metadata": {
        "id": "mvZ2C-H-xWOD"
      },
      "source": [
        "# Zadanie 4\n",
        "W pliku `zarobki.csv` zamieszczono historyczne dane dotyczące wysokosci miesięcznych zarobków wybranych losowo osób w czterech miastach: w Warszawie, Krakowie, Wrocławiu i Katowicach. Zbadaj, czy wysokość miesięcznych zarobków tych miastach różni się istotnie (przyjmij poziom istotności 0.05)."
      ]
    },
    {
      "cell_type": "code",
      "execution_count": null,
      "metadata": {
        "id": "RFPW0lShxWOE",
        "colab": {
          "base_uri": "https://localhost:8080/",
          "height": 206
        },
        "outputId": "ee06ae22-f1e5-418d-9c5f-8ec9ccafbb95"
      },
      "outputs": [
        {
          "output_type": "execute_result",
          "data": {
            "text/plain": [
              "   zarobki    miasto\n",
              "0     1600  Warszawa\n",
              "1     1900  Warszawa\n",
              "2     2600  Warszawa\n",
              "3     1180    Krakow\n",
              "4     1412    Krakow"
            ],
            "text/html": [
              "\n",
              "  <div id=\"df-1a573245-16af-4cc2-a875-8526c1ff2d93\">\n",
              "    <div class=\"colab-df-container\">\n",
              "      <div>\n",
              "<style scoped>\n",
              "    .dataframe tbody tr th:only-of-type {\n",
              "        vertical-align: middle;\n",
              "    }\n",
              "\n",
              "    .dataframe tbody tr th {\n",
              "        vertical-align: top;\n",
              "    }\n",
              "\n",
              "    .dataframe thead th {\n",
              "        text-align: right;\n",
              "    }\n",
              "</style>\n",
              "<table border=\"1\" class=\"dataframe\">\n",
              "  <thead>\n",
              "    <tr style=\"text-align: right;\">\n",
              "      <th></th>\n",
              "      <th>zarobki</th>\n",
              "      <th>miasto</th>\n",
              "    </tr>\n",
              "  </thead>\n",
              "  <tbody>\n",
              "    <tr>\n",
              "      <th>0</th>\n",
              "      <td>1600</td>\n",
              "      <td>Warszawa</td>\n",
              "    </tr>\n",
              "    <tr>\n",
              "      <th>1</th>\n",
              "      <td>1900</td>\n",
              "      <td>Warszawa</td>\n",
              "    </tr>\n",
              "    <tr>\n",
              "      <th>2</th>\n",
              "      <td>2600</td>\n",
              "      <td>Warszawa</td>\n",
              "    </tr>\n",
              "    <tr>\n",
              "      <th>3</th>\n",
              "      <td>1180</td>\n",
              "      <td>Krakow</td>\n",
              "    </tr>\n",
              "    <tr>\n",
              "      <th>4</th>\n",
              "      <td>1412</td>\n",
              "      <td>Krakow</td>\n",
              "    </tr>\n",
              "  </tbody>\n",
              "</table>\n",
              "</div>\n",
              "      <button class=\"colab-df-convert\" onclick=\"convertToInteractive('df-1a573245-16af-4cc2-a875-8526c1ff2d93')\"\n",
              "              title=\"Convert this dataframe to an interactive table.\"\n",
              "              style=\"display:none;\">\n",
              "        \n",
              "  <svg xmlns=\"http://www.w3.org/2000/svg\" height=\"24px\"viewBox=\"0 0 24 24\"\n",
              "       width=\"24px\">\n",
              "    <path d=\"M0 0h24v24H0V0z\" fill=\"none\"/>\n",
              "    <path d=\"M18.56 5.44l.94 2.06.94-2.06 2.06-.94-2.06-.94-.94-2.06-.94 2.06-2.06.94zm-11 1L8.5 8.5l.94-2.06 2.06-.94-2.06-.94L8.5 2.5l-.94 2.06-2.06.94zm10 10l.94 2.06.94-2.06 2.06-.94-2.06-.94-.94-2.06-.94 2.06-2.06.94z\"/><path d=\"M17.41 7.96l-1.37-1.37c-.4-.4-.92-.59-1.43-.59-.52 0-1.04.2-1.43.59L10.3 9.45l-7.72 7.72c-.78.78-.78 2.05 0 2.83L4 21.41c.39.39.9.59 1.41.59.51 0 1.02-.2 1.41-.59l7.78-7.78 2.81-2.81c.8-.78.8-2.07 0-2.86zM5.41 20L4 18.59l7.72-7.72 1.47 1.35L5.41 20z\"/>\n",
              "  </svg>\n",
              "      </button>\n",
              "      \n",
              "  <style>\n",
              "    .colab-df-container {\n",
              "      display:flex;\n",
              "      flex-wrap:wrap;\n",
              "      gap: 12px;\n",
              "    }\n",
              "\n",
              "    .colab-df-convert {\n",
              "      background-color: #E8F0FE;\n",
              "      border: none;\n",
              "      border-radius: 50%;\n",
              "      cursor: pointer;\n",
              "      display: none;\n",
              "      fill: #1967D2;\n",
              "      height: 32px;\n",
              "      padding: 0 0 0 0;\n",
              "      width: 32px;\n",
              "    }\n",
              "\n",
              "    .colab-df-convert:hover {\n",
              "      background-color: #E2EBFA;\n",
              "      box-shadow: 0px 1px 2px rgba(60, 64, 67, 0.3), 0px 1px 3px 1px rgba(60, 64, 67, 0.15);\n",
              "      fill: #174EA6;\n",
              "    }\n",
              "\n",
              "    [theme=dark] .colab-df-convert {\n",
              "      background-color: #3B4455;\n",
              "      fill: #D2E3FC;\n",
              "    }\n",
              "\n",
              "    [theme=dark] .colab-df-convert:hover {\n",
              "      background-color: #434B5C;\n",
              "      box-shadow: 0px 1px 3px 1px rgba(0, 0, 0, 0.15);\n",
              "      filter: drop-shadow(0px 1px 2px rgba(0, 0, 0, 0.3));\n",
              "      fill: #FFFFFF;\n",
              "    }\n",
              "  </style>\n",
              "\n",
              "      <script>\n",
              "        const buttonEl =\n",
              "          document.querySelector('#df-1a573245-16af-4cc2-a875-8526c1ff2d93 button.colab-df-convert');\n",
              "        buttonEl.style.display =\n",
              "          google.colab.kernel.accessAllowed ? 'block' : 'none';\n",
              "\n",
              "        async function convertToInteractive(key) {\n",
              "          const element = document.querySelector('#df-1a573245-16af-4cc2-a875-8526c1ff2d93');\n",
              "          const dataTable =\n",
              "            await google.colab.kernel.invokeFunction('convertToInteractive',\n",
              "                                                     [key], {});\n",
              "          if (!dataTable) return;\n",
              "\n",
              "          const docLinkHtml = 'Like what you see? Visit the ' +\n",
              "            '<a target=\"_blank\" href=https://colab.research.google.com/notebooks/data_table.ipynb>data table notebook</a>'\n",
              "            + ' to learn more about interactive tables.';\n",
              "          element.innerHTML = '';\n",
              "          dataTable['output_type'] = 'display_data';\n",
              "          await google.colab.output.renderOutput(dataTable, element);\n",
              "          const docLink = document.createElement('div');\n",
              "          docLink.innerHTML = docLinkHtml;\n",
              "          element.appendChild(docLink);\n",
              "        }\n",
              "      </script>\n",
              "    </div>\n",
              "  </div>\n",
              "  "
            ]
          },
          "metadata": {},
          "execution_count": 121
        }
      ],
      "source": [
        "zarobki = pd.read_csv('zarobki.csv',sep = \";\")\n",
        "zarobki.head()"
      ]
    },
    {
      "cell_type": "code",
      "source": [
        "zarobki_warszawa = zarobki.zarobki[zarobki.miasto=='Warszawa']\n",
        "zarobki_krakow = zarobki.zarobki[zarobki.miasto=='Krakow']\n",
        "zarobki_wroclaw = zarobki.zarobki[zarobki.miasto=='Wroclaw']\n",
        "zarobki_katowice = zarobki.zarobki[zarobki.miasto=='Katowice']"
      ],
      "metadata": {
        "id": "vFB0v0SQytY-"
      },
      "execution_count": null,
      "outputs": []
    },
    {
      "cell_type": "code",
      "source": [
        "#normalnosc\n",
        "print(normal_tests(zarobki_warszawa))\n",
        "print(normal_tests(zarobki_krakow))\n",
        "print(normal_tests(zarobki_wroclaw))\n",
        "print(normal_tests(zarobki_katowice))\n",
        "#w niektórych przypadkach p-val małe\n",
        "#nie ma normalności w niektórych grupach"
      ],
      "metadata": {
        "colab": {
          "base_uri": "https://localhost:8080/"
        },
        "id": "ZOQ9OGmOzKXN",
        "outputId": "33068ef7-f22a-45c0-cc51-0369ccb172a8"
      },
      "execution_count": null,
      "outputs": [
        {
          "output_type": "stream",
          "name": "stdout",
          "text": [
            "                      test  statistic   pvalue\n",
            "0        Shapiro-Wilk Test       0.86  0.04345\n",
            "1         Jarque–Bera Test       3.79  0.15019\n",
            "2  Kolmogorov–Smirnov Test       0.25  0.35357\n",
            "                      test  statistic   pvalue\n",
            "0        Shapiro-Wilk Test       0.87  0.09816\n",
            "1         Jarque–Bera Test       1.97  0.37390\n",
            "2  Kolmogorov–Smirnov Test       0.18  0.90200\n",
            "                      test  statistic   pvalue\n",
            "0        Shapiro-Wilk Test       0.84  0.03953\n",
            "1         Jarque–Bera Test       3.62  0.16358\n",
            "2  Kolmogorov–Smirnov Test       0.22  0.67210\n",
            "                      test  statistic   pvalue\n",
            "0        Shapiro-Wilk Test       0.74  0.00145\n",
            "1         Jarque–Bera Test      11.91  0.00259\n",
            "2  Kolmogorov–Smirnov Test       0.25  0.40700\n"
          ]
        }
      ]
    },
    {
      "cell_type": "code",
      "source": [
        "#rownosc wariancji\n",
        "print(variance_test(zarobki_warszawa,zarobki_krakow,zarobki_wroclaw,zarobki_katowice))\n",
        "#p-val małe -> brak równości wariancji"
      ],
      "metadata": {
        "colab": {
          "base_uri": "https://localhost:8080/"
        },
        "id": "T1ybcPp5zv4Z",
        "outputId": "c9db66cc-3025-4ae4-9195-8e6660ccca7d"
      },
      "execution_count": null,
      "outputs": [
        {
          "output_type": "stream",
          "name": "stdout",
          "text": [
            "           bartlett_test  levene_test\n",
            "statistic      15.981910     4.585029\n",
            "pvalue          0.001144     0.007504\n"
          ]
        }
      ]
    },
    {
      "cell_type": "code",
      "source": [
        "#musimy użyć testu Kruskala-Wallisa\n",
        "stats.kruskal(zarobki_warszawa,zarobki_krakow,zarobki_wroclaw,zarobki_katowice)\n",
        "#małe p_val->rozkłady zarobków nie są takie same"
      ],
      "metadata": {
        "colab": {
          "base_uri": "https://localhost:8080/"
        },
        "id": "2nYtoG6W0SD9",
        "outputId": "98df10d1-5ad4-4dce-ba73-7cbb1702c081"
      },
      "execution_count": null,
      "outputs": [
        {
          "output_type": "execute_result",
          "data": {
            "text/plain": [
              "KruskalResult(statistic=8.052855983308689, pvalue=0.044931869248118164)"
            ]
          },
          "metadata": {},
          "execution_count": 127
        }
      ]
    },
    {
      "cell_type": "code",
      "source": [
        "#graficzne potwierdzenie uzyskanego wyniku\n",
        "plt.boxplot([zarobki_warszawa, zarobki_krakow, zarobki_wroclaw, zarobki_katowice], \n",
        "            labels=['Warszawa', 'Kraków', 'Wrocław', 'Katowice'])\n",
        "plt.show()"
      ],
      "metadata": {
        "colab": {
          "base_uri": "https://localhost:8080/",
          "height": 320
        },
        "id": "4Xdu4ph90u7O",
        "outputId": "3a5d4e8f-48b6-472e-a818-01b0a68dd030"
      },
      "execution_count": null,
      "outputs": [
        {
          "output_type": "stream",
          "name": "stderr",
          "text": [
            "/usr/local/lib/python3.7/dist-packages/matplotlib/cbook/__init__.py:1376: VisibleDeprecationWarning: Creating an ndarray from ragged nested sequences (which is a list-or-tuple of lists-or-tuples-or ndarrays with different lengths or shapes) is deprecated. If you meant to do this, you must specify 'dtype=object' when creating the ndarray.\n",
            "  X = np.atleast_1d(X.T if isinstance(X, np.ndarray) else np.asarray(X))\n"
          ]
        },
        {
          "output_type": "display_data",
          "data": {
            "text/plain": [
              "<Figure size 432x288 with 1 Axes>"
            ],
            "image/png": "[encoded data removed]"
          },
          "metadata": {
            "needs_background": "light"
          }
        }
      ]
    },
    {
      "cell_type": "code",
      "source": [
        "stats.kruskal(zarobki_krakow,zarobki_wroclaw,zarobki_katowice)\n",
        "#gdybyśmy brali miasta oprócz Warszawy to mamy duże pval-> rozkłady zarobków są podobne"
      ],
      "metadata": {
        "colab": {
          "base_uri": "https://localhost:8080/"
        },
        "id": "PcUtCnOL1DJO",
        "outputId": "914e564b-f437-4c2a-e098-49f18913c16f"
      },
      "execution_count": null,
      "outputs": [
        {
          "output_type": "execute_result",
          "data": {
            "text/plain": [
              "KruskalResult(statistic=0.6017499449702913, pvalue=0.7401703086160775)"
            ]
          },
          "metadata": {},
          "execution_count": 130
        }
      ]
    },
    {
      "cell_type": "markdown",
      "metadata": {
        "id": "0kkfQ9DyxWOE"
      },
      "source": [
        "# Zadanie 5\n",
        "W celu porównania trzech ́srodków antykorozyjnych pobrano po 10 próbek losowych drutu zabezpieczanego każdym z tych ́srodków i zmierzono głębokość zaistniałej korozji (razy 10−3mm). Wyniki pomiarów przestawia poniższa tabelka:\n",
        "\n",
        "| Środek A | Środek B | Środek C |\n",
        "|:--------:|:--------:|:--------:|\n",
        "|   98.5   |   100.2  |   56.7   |\n",
        "|   98.5   |   99.2   |   82.0   |\n",
        "|   98.5   |   99.9   |   67.8   |\n",
        "|   97.5   |   97.8   |   58.3   |\n",
        "|   99.3   |   99.8   |   61.2   |\n",
        "|   102.0  |   100.5  |   67.8   |\n",
        "|   101.8  |   99.8   |   117.4  |\n",
        "|   98.3   |   99.0   |   103.4  |\n",
        "|   102.0  |   101.1  |   43.8   |\n",
        "|   101.2  |   100.8  |   86.1   |\n",
        "\n",
        "Czy na podstawie tych  danym można stwierdzić, ̇ze ́srodki te różnią się istotnie podwzględem jakości tworzonego przez nie zabezpieczenia antykorozyjnego?"
      ]
    },
    {
      "cell_type": "code",
      "execution_count": null,
      "metadata": {
        "id": "GNnoC0HoxWOE"
      },
      "outputs": [],
      "source": [
        "group1 = [98.5,98.5,98.5,97.5,99.3,102,101.8,98.3,102,101.2]\n",
        "group2 = [100.2,99.2,99.9,97.8,99.8,100.5,99.8,99,101.1,100.8]\n",
        "group3 = [56.7,82,67.8,58.3,61.2,67.8,117.4,103.4,43.8,86.1]"
      ]
    },
    {
      "cell_type": "code",
      "source": [
        "#normalnosc\n",
        "print(normal_tests(group1))\n",
        "print(normal_tests(group2))\n",
        "print(normal_tests(group3))\n",
        "#najmniejsze p-val 0.036 od biedy można uznać normalność"
      ],
      "metadata": {
        "colab": {
          "base_uri": "https://localhost:8080/"
        },
        "id": "x94Q4Hk7U0ld",
        "outputId": "46c7f133-866c-4125-b807-7c265a39b181"
      },
      "execution_count": null,
      "outputs": [
        {
          "output_type": "stream",
          "name": "stdout",
          "text": [
            "                      test  statistic   pvalue\n",
            "0        Shapiro-Wilk Test       0.83  0.03595\n",
            "1         Jarque–Bera Test       1.25  0.53564\n",
            "2  Kolmogorov–Smirnov Test       0.26  0.43564\n",
            "                      test  statistic   pvalue\n",
            "0        Shapiro-Wilk Test       0.95  0.67555\n",
            "1         Jarque–Bera Test       0.83  0.66136\n",
            "2  Kolmogorov–Smirnov Test       0.20  0.83766\n",
            "                      test  statistic   pvalue\n",
            "0        Shapiro-Wilk Test       0.94  0.53834\n",
            "1         Jarque–Bera Test       0.82  0.66230\n",
            "2  Kolmogorov–Smirnov Test       0.22  0.69524\n"
          ]
        }
      ]
    },
    {
      "cell_type": "code",
      "source": [
        "print(variance_test(group1,group2,group3))\n",
        "#małe p-val -> wariancje nie są równe"
      ],
      "metadata": {
        "colab": {
          "base_uri": "https://localhost:8080/"
        },
        "id": "kkcxxEQrVI-M",
        "outputId": "fe3e0bb6-67f5-4491-d67b-9caa7b7b0a96"
      },
      "execution_count": null,
      "outputs": [
        {
          "output_type": "stream",
          "name": "stdout",
          "text": [
            "           bartlett_test  levene_test\n",
            "statistic   6.987810e+01    19.604626\n",
            "pvalue      6.701383e-16     0.000006\n"
          ]
        }
      ]
    },
    {
      "cell_type": "code",
      "source": [
        "#musimy użyć testu Kruskala-Wallisa\n",
        "stats.kruskal(group1,group2,group3)\n",
        "#małe p_val->rozkłady nie są takie same, środki różnie chronią prez korozją"
      ],
      "metadata": {
        "colab": {
          "base_uri": "https://localhost:8080/"
        },
        "id": "Fk5FnudeVr_s",
        "outputId": "95d40f79-3fbf-4f4b-e40e-1ef35f982421"
      },
      "execution_count": null,
      "outputs": [
        {
          "output_type": "execute_result",
          "data": {
            "text/plain": [
              "KruskalResult(statistic=7.00187165775402, pvalue=0.030169137057844988)"
            ]
          },
          "metadata": {},
          "execution_count": 134
        }
      ]
    },
    {
      "cell_type": "code",
      "source": [
        "#graficzne potwierdzenie uzyskanego wyniku\n",
        "plt.boxplot([group1,group2,group3], \n",
        "            labels=['Środek A', 'Środek B', 'Środek C'])\n",
        "plt.show()"
      ],
      "metadata": {
        "colab": {
          "base_uri": "https://localhost:8080/",
          "height": 266
        },
        "id": "io0MODHdWBHS",
        "outputId": "bf4c68da-3248-4ee1-cab2-34e695f3861e"
      },
      "execution_count": null,
      "outputs": [
        {
          "output_type": "display_data",
          "data": {
            "text/plain": [
              "<Figure size 432x288 with 1 Axes>"
            ],
            "image/png": "[encoded data removed]"
          },
          "metadata": {
            "needs_background": "light"
          }
        }
      ]
    },
    {
      "cell_type": "markdown",
      "source": [
        "#Dwuczynnikowa anova\n",
        "Model:\n",
        "\\begin{equation*}\n",
        "        Y_{ijk} = \\mu + \\alpha_i + \\beta_j + \\gamma_{ij} + \\varepsilon_{ijk},\n",
        "\\end{equation*}\n",
        "Testujemy hipotezy\n",
        "\\begin{equation*}\n",
        "    \\begin{split}\n",
        "        H_{0,1}&: \\alpha_1 = \\alpha_2 = \\ldots = \\alpha_r=0 \\\\\n",
        "        H_{1, 1}&: \\neg H_{0, 1}, \\\\\n",
        "                & \\\\\n",
        "        H_{0,2}&: \\beta_1 = \\beta_2 = \\ldots = \\beta_s=0 \\\\\n",
        "        H_{1,2}&: \\neg H_{0,2},\\\\\n",
        "                & \\\\\n",
        "        H_{0,3}&: \\gamma_{11} =  \\ldots = \\gamma_{rs}=0 \\\\\n",
        "        H_{1,3}&: \\neg H_{0,3}\n",
        "    \\end{split}\n",
        "\\end{equation*}"
      ],
      "metadata": {
        "id": "QHxsICJhAiUq"
      }
    },
    {
      "cell_type": "markdown",
      "source": [
        "| Źródło zmienności | Suma kwadratów ochyleń | Stopnie swobody| Średni kwadrat ochyleń | Statystyki testowe |\n",
        "|:--------:|:--------:|:--------:|:--------:|:--------:|\n",
        "| Czynnik A | $SSA$| r − 1| MSA = $\\frac{SSA}{r−1}$ | F1 = $\\frac{MSA}{MSE}$ |\n",
        "| Czynnik B | $SSB$| r − 1| MSB = $\\frac{SSB}{s−1}$ | F1 = $\\frac{MSB}{MSE}$ |\n",
        "| Interakcje SSAB | $SSAB$| (r − 1)(s − 1)| MSAB = $\\frac{SSAB}{(r−1)(s−1)}$ | F1 = $\\frac{MSAB}{MSE}$ |\n",
        "| Błąd losowy | $SSE$| rs(n − 1)| MSE = $\\frac{SSE}{rs(n − 1)}$ |  |\n",
        "| Ogółem | $SST$| rsn − 1|  |  |"
      ],
      "metadata": {
        "id": "sHYt1ViOBYG9"
      }
    },
    {
      "cell_type": "markdown",
      "metadata": {
        "id": "JvHUCmT0xWOE"
      },
      "source": [
        "# Zadanie 6\n",
        "Przeprowadzono następujące doświadczenie: 18 mężczyzn i 18 kobiet rozmieszczono losowo w 9 pokojach w ten sposób, ̇ze w każdym pokoju były po dwie osoby tej samej płci. W pokojach tych utrzymywano stałą temperaturę: 18, 21 albo 24 stopnie Celsjusza (przydział temperatur poszczególnym pokojom był także losowy). Po upływie trzech godzin oceniano samopoczucie każdej z badanych osób (zastosowano ocenę punktową, w której 1 = zbyt zimno, 8 = idealna temperatura, 15 = zbyt ciepło).\n",
        "\n",
        "|    |         M         |          K         |\n",
        "|:--:|:-----------------:|:------------------:|\n",
        "| 18 |  5, 4, 5, 4, 4, 2 |  1, 2, 5, 5, 1, 3  |\n",
        "| 21 |  8, 8, 6, 3, 5, 7 |  10, 7, 8, 8, 7, 8 |\n",
        "| 24 | 12, 8, 8, 7, 6, 6 | 11, 13, 8, 8, 6, 7 |\n",
        "\n",
        "Zbadaj wpływ, jaki na samopoczucie osób wywiera temperatura panująca w danym pokoju. Czy ocena samopoczucia zależy od płci? Czy występują ̨tu istotne interakcje między badanymi czynnikami (tzn. temperaturą i płcią)?"
      ]
    },
    {
      "cell_type": "code",
      "source": [
        "grupa1 = np.array([5, 4, 5, 4, 4, 2])\n",
        "grupa2 = np.array([8, 8, 6, 3, 5, 7])\n",
        "grupa3 = np.array([12, 8, 8, 7, 6, 6])\n",
        "grupa4 = np.array([1, 2, 5, 5, 1, 3])\n",
        "grupa5 = np.array([10, 7, 8, 8, 7, 8])\n",
        "grupa6 = np.array([11, 13, 8, 8, 6, 7])"
      ],
      "metadata": {
        "id": "eA8Q3Ey-8Ibp"
      },
      "execution_count": null,
      "outputs": []
    },
    {
      "cell_type": "code",
      "source": [
        "print(normal_tests(grupa1))\n",
        "print(normal_tests(grupa2))\n",
        "print(normal_tests(grupa3))\n",
        "print(normal_tests(grupa4))\n",
        "print(normal_tests(grupa5))\n",
        "print(normal_tests(grupa6))\n",
        "# wszędzie w miarę duże p-val ->mamy normalność"
      ],
      "metadata": {
        "colab": {
          "base_uri": "https://localhost:8080/"
        },
        "id": "DqcFz22H5JWn",
        "outputId": "1bfb6c0b-42b1-4715-b5b5-94fda170dfd2"
      },
      "execution_count": null,
      "outputs": [
        {
          "output_type": "stream",
          "name": "stdout",
          "text": [
            "                      test  statistic   pvalue\n",
            "0        Shapiro-Wilk Test       0.81  0.07784\n",
            "1         Jarque–Bera Test       1.00  0.60653\n",
            "2  Kolmogorov–Smirnov Test       0.33  0.42575\n",
            "                      test  statistic   pvalue\n",
            "0        Shapiro-Wilk Test       0.91  0.45221\n",
            "1         Jarque–Bera Test       0.57  0.75283\n",
            "2  Kolmogorov–Smirnov Test       0.17  0.99411\n",
            "                      test  statistic   pvalue\n",
            "0        Shapiro-Wilk Test       0.82  0.08507\n",
            "1         Jarque–Bera Test       1.39  0.49893\n",
            "2  Kolmogorov–Smirnov Test       0.30  0.54801\n",
            "                      test  statistic   pvalue\n",
            "0        Shapiro-Wilk Test       0.85  0.15787\n",
            "1         Jarque–Bera Test       0.69  0.70741\n",
            "2  Kolmogorov–Smirnov Test       0.21  0.94533\n",
            "                      test  statistic   pvalue\n",
            "0        Shapiro-Wilk Test       0.81  0.07784\n",
            "1         Jarque–Bera Test       1.00  0.60653\n",
            "2  Kolmogorov–Smirnov Test       0.33  0.42575\n",
            "                      test  statistic   pvalue\n",
            "0        Shapiro-Wilk Test       0.91  0.42277\n",
            "1         Jarque–Bera Test       0.65  0.72210\n",
            "2  Kolmogorov–Smirnov Test       0.29  0.60878\n"
          ]
        }
      ]
    },
    {
      "cell_type": "code",
      "source": [
        "variance_test(grupa1,grupa2,grupa3,grupa4,grupa5,grupa6)\n",
        "#wszędzie duże p-val -> mamy równośc wariancji"
      ],
      "metadata": {
        "colab": {
          "base_uri": "https://localhost:8080/",
          "height": 112
        },
        "id": "Wf0h5ClF5T4-",
        "outputId": "55e90d30-3024-422f-cac2-d2ec3659c78a"
      },
      "execution_count": null,
      "outputs": [
        {
          "output_type": "execute_result",
          "data": {
            "text/plain": [
              "           bartlett_test  levene_test\n",
              "statistic       5.566123     1.632925\n",
              "pvalue          0.350750     0.181675"
            ],
            "text/html": [
              "\n",
              "  <div id=\"df-93bd90d6-9df1-4e48-bd20-57d0f033db13\">\n",
              "    <div class=\"colab-df-container\">\n",
              "      <div>\n",
              "<style scoped>\n",
              "    .dataframe tbody tr th:only-of-type {\n",
              "        vertical-align: middle;\n",
              "    }\n",
              "\n",
              "    .dataframe tbody tr th {\n",
              "        vertical-align: top;\n",
              "    }\n",
              "\n",
              "    .dataframe thead th {\n",
              "        text-align: right;\n",
              "    }\n",
              "</style>\n",
              "<table border=\"1\" class=\"dataframe\">\n",
              "  <thead>\n",
              "    <tr style=\"text-align: right;\">\n",
              "      <th></th>\n",
              "      <th>bartlett_test</th>\n",
              "      <th>levene_test</th>\n",
              "    </tr>\n",
              "  </thead>\n",
              "  <tbody>\n",
              "    <tr>\n",
              "      <th>statistic</th>\n",
              "      <td>5.566123</td>\n",
              "      <td>1.632925</td>\n",
              "    </tr>\n",
              "    <tr>\n",
              "      <th>pvalue</th>\n",
              "      <td>0.350750</td>\n",
              "      <td>0.181675</td>\n",
              "    </tr>\n",
              "  </tbody>\n",
              "</table>\n",
              "</div>\n",
              "      <button class=\"colab-df-convert\" onclick=\"convertToInteractive('df-93bd90d6-9df1-4e48-bd20-57d0f033db13')\"\n",
              "              title=\"Convert this dataframe to an interactive table.\"\n",
              "              style=\"display:none;\">\n",
              "        \n",
              "  <svg xmlns=\"http://www.w3.org/2000/svg\" height=\"24px\"viewBox=\"0 0 24 24\"\n",
              "       width=\"24px\">\n",
              "    <path d=\"M0 0h24v24H0V0z\" fill=\"none\"/>\n",
              "    <path d=\"M18.56 5.44l.94 2.06.94-2.06 2.06-.94-2.06-.94-.94-2.06-.94 2.06-2.06.94zm-11 1L8.5 8.5l.94-2.06 2.06-.94-2.06-.94L8.5 2.5l-.94 2.06-2.06.94zm10 10l.94 2.06.94-2.06 2.06-.94-2.06-.94-.94-2.06-.94 2.06-2.06.94z\"/><path d=\"M17.41 7.96l-1.37-1.37c-.4-.4-.92-.59-1.43-.59-.52 0-1.04.2-1.43.59L10.3 9.45l-7.72 7.72c-.78.78-.78 2.05 0 2.83L4 21.41c.39.39.9.59 1.41.59.51 0 1.02-.2 1.41-.59l7.78-7.78 2.81-2.81c.8-.78.8-2.07 0-2.86zM5.41 20L4 18.59l7.72-7.72 1.47 1.35L5.41 20z\"/>\n",
              "  </svg>\n",
              "      </button>\n",
              "      \n",
              "  <style>\n",
              "    .colab-df-container {\n",
              "      display:flex;\n",
              "      flex-wrap:wrap;\n",
              "      gap: 12px;\n",
              "    }\n",
              "\n",
              "    .colab-df-convert {\n",
              "      background-color: #E8F0FE;\n",
              "      border: none;\n",
              "      border-radius: 50%;\n",
              "      cursor: pointer;\n",
              "      display: none;\n",
              "      fill: #1967D2;\n",
              "      height: 32px;\n",
              "      padding: 0 0 0 0;\n",
              "      width: 32px;\n",
              "    }\n",
              "\n",
              "    .colab-df-convert:hover {\n",
              "      background-color: #E2EBFA;\n",
              "      box-shadow: 0px 1px 2px rgba(60, 64, 67, 0.3), 0px 1px 3px 1px rgba(60, 64, 67, 0.15);\n",
              "      fill: #174EA6;\n",
              "    }\n",
              "\n",
              "    [theme=dark] .colab-df-convert {\n",
              "      background-color: #3B4455;\n",
              "      fill: #D2E3FC;\n",
              "    }\n",
              "\n",
              "    [theme=dark] .colab-df-convert:hover {\n",
              "      background-color: #434B5C;\n",
              "      box-shadow: 0px 1px 3px 1px rgba(0, 0, 0, 0.15);\n",
              "      filter: drop-shadow(0px 1px 2px rgba(0, 0, 0, 0.3));\n",
              "      fill: #FFFFFF;\n",
              "    }\n",
              "  </style>\n",
              "\n",
              "      <script>\n",
              "        const buttonEl =\n",
              "          document.querySelector('#df-93bd90d6-9df1-4e48-bd20-57d0f033db13 button.colab-df-convert');\n",
              "        buttonEl.style.display =\n",
              "          google.colab.kernel.accessAllowed ? 'block' : 'none';\n",
              "\n",
              "        async function convertToInteractive(key) {\n",
              "          const element = document.querySelector('#df-93bd90d6-9df1-4e48-bd20-57d0f033db13');\n",
              "          const dataTable =\n",
              "            await google.colab.kernel.invokeFunction('convertToInteractive',\n",
              "                                                     [key], {});\n",
              "          if (!dataTable) return;\n",
              "\n",
              "          const docLinkHtml = 'Like what you see? Visit the ' +\n",
              "            '<a target=\"_blank\" href=https://colab.research.google.com/notebooks/data_table.ipynb>data table notebook</a>'\n",
              "            + ' to learn more about interactive tables.';\n",
              "          element.innerHTML = '';\n",
              "          dataTable['output_type'] = 'display_data';\n",
              "          await google.colab.output.renderOutput(dataTable, element);\n",
              "          const docLink = document.createElement('div');\n",
              "          docLink.innerHTML = docLinkHtml;\n",
              "          element.appendChild(docLink);\n",
              "        }\n",
              "      </script>\n",
              "    </div>\n",
              "  </div>\n",
              "  "
            ]
          },
          "metadata": {},
          "execution_count": 139
        }
      ]
    },
    {
      "cell_type": "code",
      "source": [
        "values = np.concatenate((grupa1,grupa2,grupa3,grupa4,grupa5,grupa6))\n",
        "group1 = np.concatenate([['M']*18,['K']*18])\n",
        "group2 = np.concatenate([['18']*6,['21']*6,['24']*6,['18']*6,['21']*6,['24']*6])\n",
        "df = pd.DataFrame({'value': values,'group1': group1,'group2': group2})\n",
        "df.head()"
      ],
      "metadata": {
        "colab": {
          "base_uri": "https://localhost:8080/",
          "height": 206
        },
        "id": "8dZuK-qB5bew",
        "outputId": "22ff02ac-d5d0-4f93-e5ee-71717259fb9e"
      },
      "execution_count": null,
      "outputs": [
        {
          "output_type": "execute_result",
          "data": {
            "text/plain": [
              "   value group1 group2\n",
              "0      5      M     18\n",
              "1      4      M     18\n",
              "2      5      M     18\n",
              "3      4      M     18\n",
              "4      4      M     18"
            ],
            "text/html": [
              "\n",
              "  <div id=\"df-31d79210-08e3-4ae0-8cb6-0389325d8c54\">\n",
              "    <div class=\"colab-df-container\">\n",
              "      <div>\n",
              "<style scoped>\n",
              "    .dataframe tbody tr th:only-of-type {\n",
              "        vertical-align: middle;\n",
              "    }\n",
              "\n",
              "    .dataframe tbody tr th {\n",
              "        vertical-align: top;\n",
              "    }\n",
              "\n",
              "    .dataframe thead th {\n",
              "        text-align: right;\n",
              "    }\n",
              "</style>\n",
              "<table border=\"1\" class=\"dataframe\">\n",
              "  <thead>\n",
              "    <tr style=\"text-align: right;\">\n",
              "      <th></th>\n",
              "      <th>value</th>\n",
              "      <th>group1</th>\n",
              "      <th>group2</th>\n",
              "    </tr>\n",
              "  </thead>\n",
              "  <tbody>\n",
              "    <tr>\n",
              "      <th>0</th>\n",
              "      <td>5</td>\n",
              "      <td>M</td>\n",
              "      <td>18</td>\n",
              "    </tr>\n",
              "    <tr>\n",
              "      <th>1</th>\n",
              "      <td>4</td>\n",
              "      <td>M</td>\n",
              "      <td>18</td>\n",
              "    </tr>\n",
              "    <tr>\n",
              "      <th>2</th>\n",
              "      <td>5</td>\n",
              "      <td>M</td>\n",
              "      <td>18</td>\n",
              "    </tr>\n",
              "    <tr>\n",
              "      <th>3</th>\n",
              "      <td>4</td>\n",
              "      <td>M</td>\n",
              "      <td>18</td>\n",
              "    </tr>\n",
              "    <tr>\n",
              "      <th>4</th>\n",
              "      <td>4</td>\n",
              "      <td>M</td>\n",
              "      <td>18</td>\n",
              "    </tr>\n",
              "  </tbody>\n",
              "</table>\n",
              "</div>\n",
              "      <button class=\"colab-df-convert\" onclick=\"convertToInteractive('df-31d79210-08e3-4ae0-8cb6-0389325d8c54')\"\n",
              "              title=\"Convert this dataframe to an interactive table.\"\n",
              "              style=\"display:none;\">\n",
              "        \n",
              "  <svg xmlns=\"http://www.w3.org/2000/svg\" height=\"24px\"viewBox=\"0 0 24 24\"\n",
              "       width=\"24px\">\n",
              "    <path d=\"M0 0h24v24H0V0z\" fill=\"none\"/>\n",
              "    <path d=\"M18.56 5.44l.94 2.06.94-2.06 2.06-.94-2.06-.94-.94-2.06-.94 2.06-2.06.94zm-11 1L8.5 8.5l.94-2.06 2.06-.94-2.06-.94L8.5 2.5l-.94 2.06-2.06.94zm10 10l.94 2.06.94-2.06 2.06-.94-2.06-.94-.94-2.06-.94 2.06-2.06.94z\"/><path d=\"M17.41 7.96l-1.37-1.37c-.4-.4-.92-.59-1.43-.59-.52 0-1.04.2-1.43.59L10.3 9.45l-7.72 7.72c-.78.78-.78 2.05 0 2.83L4 21.41c.39.39.9.59 1.41.59.51 0 1.02-.2 1.41-.59l7.78-7.78 2.81-2.81c.8-.78.8-2.07 0-2.86zM5.41 20L4 18.59l7.72-7.72 1.47 1.35L5.41 20z\"/>\n",
              "  </svg>\n",
              "      </button>\n",
              "      \n",
              "  <style>\n",
              "    .colab-df-container {\n",
              "      display:flex;\n",
              "      flex-wrap:wrap;\n",
              "      gap: 12px;\n",
              "    }\n",
              "\n",
              "    .colab-df-convert {\n",
              "      background-color: #E8F0FE;\n",
              "      border: none;\n",
              "      border-radius: 50%;\n",
              "      cursor: pointer;\n",
              "      display: none;\n",
              "      fill: #1967D2;\n",
              "      height: 32px;\n",
              "      padding: 0 0 0 0;\n",
              "      width: 32px;\n",
              "    }\n",
              "\n",
              "    .colab-df-convert:hover {\n",
              "      background-color: #E2EBFA;\n",
              "      box-shadow: 0px 1px 2px rgba(60, 64, 67, 0.3), 0px 1px 3px 1px rgba(60, 64, 67, 0.15);\n",
              "      fill: #174EA6;\n",
              "    }\n",
              "\n",
              "    [theme=dark] .colab-df-convert {\n",
              "      background-color: #3B4455;\n",
              "      fill: #D2E3FC;\n",
              "    }\n",
              "\n",
              "    [theme=dark] .colab-df-convert:hover {\n",
              "      background-color: #434B5C;\n",
              "      box-shadow: 0px 1px 3px 1px rgba(0, 0, 0, 0.15);\n",
              "      filter: drop-shadow(0px 1px 2px rgba(0, 0, 0, 0.3));\n",
              "      fill: #FFFFFF;\n",
              "    }\n",
              "  </style>\n",
              "\n",
              "      <script>\n",
              "        const buttonEl =\n",
              "          document.querySelector('#df-31d79210-08e3-4ae0-8cb6-0389325d8c54 button.colab-df-convert');\n",
              "        buttonEl.style.display =\n",
              "          google.colab.kernel.accessAllowed ? 'block' : 'none';\n",
              "\n",
              "        async function convertToInteractive(key) {\n",
              "          const element = document.querySelector('#df-31d79210-08e3-4ae0-8cb6-0389325d8c54');\n",
              "          const dataTable =\n",
              "            await google.colab.kernel.invokeFunction('convertToInteractive',\n",
              "                                                     [key], {});\n",
              "          if (!dataTable) return;\n",
              "\n",
              "          const docLinkHtml = 'Like what you see? Visit the ' +\n",
              "            '<a target=\"_blank\" href=https://colab.research.google.com/notebooks/data_table.ipynb>data table notebook</a>'\n",
              "            + ' to learn more about interactive tables.';\n",
              "          element.innerHTML = '';\n",
              "          dataTable['output_type'] = 'display_data';\n",
              "          await google.colab.output.renderOutput(dataTable, element);\n",
              "          const docLink = document.createElement('div');\n",
              "          docLink.innerHTML = docLinkHtml;\n",
              "          element.appendChild(docLink);\n",
              "        }\n",
              "      </script>\n",
              "    </div>\n",
              "  </div>\n",
              "  "
            ]
          },
          "metadata": {},
          "execution_count": 140
        }
      ]
    },
    {
      "cell_type": "code",
      "source": [
        "formula = 'value~C(group1)+C(group2)+C(group1):C(group2)'\n",
        "model = ols(formula,df).fit()\n",
        "anv = anova_lm(model)\n",
        "print(anv)\n",
        "#płeć nie wpływa na samopoczucie, nie ma interakcji, ale temperatura wpływa"
      ],
      "metadata": {
        "colab": {
          "base_uri": "https://localhost:8080/"
        },
        "id": "HXxzCdDl6Qxy",
        "outputId": "9aad4ef3-386b-4817-8af3-0343c9bf4f66"
      },
      "execution_count": null,
      "outputs": [
        {
          "output_type": "stream",
          "name": "stdout",
          "text": [
            "                       df      sum_sq    mean_sq          F    PR(>F)\n",
            "C(group1)             1.0    2.777778   2.777778   0.776398  0.385250\n",
            "C(group2)             2.0  156.722222  78.361111  21.902174  0.000001\n",
            "C(group1):C(group2)   2.0   14.388889   7.194444   2.010870  0.151520\n",
            "Residual             30.0  107.333333   3.577778        NaN       NaN\n"
          ]
        }
      ]
    },
    {
      "cell_type": "code",
      "source": [
        "#robimy porównania wielokrotne dla poziomu temperatury\n",
        "tukey2 = pairwise_tukeyhsd(endog = df['value'],groups = df['group2'])\n",
        "tukey2.summary()\n",
        "#tylko temp. 21 i 24 dają porównywalny komfort, 18 znacznie go obniża"
      ],
      "metadata": {
        "colab": {
          "base_uri": "https://localhost:8080/",
          "height": 139
        },
        "id": "tTPMsw0E6zvm",
        "outputId": "1a862c84-4063-4d31-81ca-053cf63d37f3"
      },
      "execution_count": null,
      "outputs": [
        {
          "output_type": "execute_result",
          "data": {
            "text/plain": [
              "<class 'statsmodels.iolib.table.SimpleTable'>"
            ],
            "text/html": [
              "<table class=\"simpletable\">\n",
              "<caption>Multiple Comparison of Means - Tukey HSD, FWER=0.05</caption>\n",
              "<tr>\n",
              "  <th>group1</th> <th>group2</th> <th>meandiff</th>  <th>p-adj</th>  <th>lower</th>   <th>upper</th> <th>reject</th>\n",
              "</tr>\n",
              "<tr>\n",
              "    <td>18</td>     <td>21</td>    <td>3.6667</td>   <td>0.001</td> <td>1.7212</td>  <td>5.6121</td>  <td>True</td> \n",
              "</tr>\n",
              "<tr>\n",
              "    <td>18</td>     <td>24</td>    <td>4.9167</td>   <td>0.001</td> <td>2.9712</td>  <td>6.8621</td>  <td>True</td> \n",
              "</tr>\n",
              "<tr>\n",
              "    <td>21</td>     <td>24</td>     <td>1.25</td>   <td>0.2701</td> <td>-0.6954</td> <td>3.1954</td>  <td>False</td>\n",
              "</tr>\n",
              "</table>"
            ]
          },
          "metadata": {},
          "execution_count": 142
        }
      ]
    },
    {
      "cell_type": "code",
      "source": [
        "#graficzne potwierdzenie\n",
        "tukey2.plot_simultaneous()\n",
        "plt.show()"
      ],
      "metadata": {
        "colab": {
          "base_uri": "https://localhost:8080/",
          "height": 390
        },
        "id": "Bk0w6hnf7hHJ",
        "outputId": "37d1cfdb-f3a1-4bf6-b4f3-82d8ae85bedf"
      },
      "execution_count": null,
      "outputs": [
        {
          "output_type": "display_data",
          "data": {
            "text/plain": [
              "<Figure size 720x432 with 1 Axes>"
            ],
            "image/png": "[encoded data removed]"
          },
          "metadata": {
            "needs_background": "light"
          }
        }
      ]
    },
    {
      "cell_type": "markdown",
      "metadata": {
        "id": "tfHHprX8xWOG"
      },
      "source": [
        "# Zadanie 7\n",
        "W  pewnych  zakładach  lotniczych  stosuje  się  dwie  metody  nakładania farby podkładowej na częsci aluminiowe: malowanie zanurzeniowe i natryskowe. Czyni się  tak  w  celu  zwiększenia  przylegania  właściwej  farby  nawierzchniowej,  którą  później są malowane owe części. We wspomnianych zakładach stosowano do tej pory trzy rodzaje farb podkładowych. Inżynier technolog, odpowiedzialny za ten etap produkcji, postanowił zbadać, czy rodzaj farby podkładowej oraz sposób jej nakładania na detal mają istotny wpływ na siłę przylegania właściwej farby nawierzchniowej. W tym celu przeprowadzono eksperyment, w którym zmierzono siłę przylegania farby nawierzchniowej do kilku detali malowanych najpierw różnymi farbami podkładowymi, nanoszonymi obiema metodami. Wyniki pomiarów zamieszczono w poniższej tabeli.\n",
        "\n",
        "| Rodzaj farby |  Malowanie zanurzeniowe |  Malowanie natryskowe |\n",
        "|:------------:|:-----------------------:|:---------------------:|\n",
        "|       A      |      4.0, 4.5, 4.3      |     5.4, 4.9, 5.6     |\n",
        "|       B      |      5.6, 4.9, 5.4      |     5.8, 6.1, 6.3     |\n",
        "|       C      |      3.8, 3.7, 3.9      |     6.5, 6.0, 5.0     |\n",
        "\n",
        "Jakie wnioski powinien wyciągnąć inżynier na podstawie powyższych wyników?"
      ]
    },
    {
      "cell_type": "code",
      "execution_count": null,
      "metadata": {
        "id": "Lb5PxPnoxWOG"
      },
      "outputs": [],
      "source": [
        "grupa1 = np.array([4.0, 4.5, 4.3])\n",
        "grupa2 = np.array([5.6, 4.9, 5.4])\n",
        "grupa3 = np.array([3.8, 3.7, 3.9])\n",
        "grupa4 = np.array([5.4, 4.9, 5.6])\n",
        "grupa5 = np.array([5.8, 6.1, 6.3])\n",
        "grupa6 = np.array([6.5, 6.0, 5.0])"
      ]
    },
    {
      "cell_type": "code",
      "source": [
        "print(normal_tests(grupa1))\n",
        "print(normal_tests(grupa2))\n",
        "print(normal_tests(grupa3))\n",
        "print(normal_tests(grupa4))\n",
        "print(normal_tests(grupa5))\n",
        "print(normal_tests(grupa6))\n",
        "# wszędzie w miarę duże p-val ->mamy normalność (może to wynikać z małych próbek)"
      ],
      "metadata": {
        "colab": {
          "base_uri": "https://localhost:8080/"
        },
        "id": "9SA1OkxMYZLH",
        "outputId": "6a9e5fae-eb4c-4e5b-d760-0ef947574cfd"
      },
      "execution_count": null,
      "outputs": [
        {
          "output_type": "stream",
          "name": "stdout",
          "text": [
            "                      test  statistic   pvalue\n",
            "0        Shapiro-Wilk Test       0.99  0.78044\n",
            "1         Jarque–Bera Test       0.31  0.85649\n",
            "2  Kolmogorov–Smirnov Test       0.22  0.99872\n",
            "                      test  statistic   pvalue\n",
            "0        Shapiro-Wilk Test       0.94  0.53674\n",
            "1         Jarque–Bera Test       0.39  0.82207\n",
            "2  Kolmogorov–Smirnov Test       0.28  0.97636\n",
            "                      test  statistic   pvalue\n",
            "0        Shapiro-Wilk Test       1.00  1.00000\n",
            "1         Jarque–Bera Test       0.28  0.86882\n",
            "2  Kolmogorov–Smirnov Test       0.17  0.99999\n",
            "                      test  statistic   pvalue\n",
            "0        Shapiro-Wilk Test       0.94  0.53674\n",
            "1         Jarque–Bera Test       0.39  0.82207\n",
            "2  Kolmogorov–Smirnov Test       0.28  0.97636\n",
            "                      test  statistic   pvalue\n",
            "0        Shapiro-Wilk Test       0.99  0.78044\n",
            "1         Jarque–Bera Test       0.31  0.85649\n",
            "2  Kolmogorov–Smirnov Test       0.22  0.99872\n",
            "                      test  statistic   pvalue\n",
            "0        Shapiro-Wilk Test       0.96  0.63689\n",
            "1         Jarque–Bera Test       0.35  0.83772\n",
            "2  Kolmogorov–Smirnov Test       0.25  0.99071\n"
          ]
        }
      ]
    },
    {
      "cell_type": "code",
      "source": [
        "variance_test(grupa1,grupa2,grupa3,grupa4,grupa5,grupa6)\n",
        "#wszędzie duże p-val -> mamy równośc wariancji"
      ],
      "metadata": {
        "colab": {
          "base_uri": "https://localhost:8080/",
          "height": 112
        },
        "id": "X2rrj56cYkP-",
        "outputId": "fcaeec97-3b56-4b8c-c161-8f40aad4c6e0"
      },
      "execution_count": null,
      "outputs": [
        {
          "output_type": "execute_result",
          "data": {
            "text/plain": [
              "           bartlett_test  levene_test\n",
              "statistic       6.482549     2.455678\n",
              "pvalue          0.262053     0.093931"
            ],
            "text/html": [
              "\n",
              "  <div id=\"df-0d59e35b-8041-4234-a0ef-ef298c251713\">\n",
              "    <div class=\"colab-df-container\">\n",
              "      <div>\n",
              "<style scoped>\n",
              "    .dataframe tbody tr th:only-of-type {\n",
              "        vertical-align: middle;\n",
              "    }\n",
              "\n",
              "    .dataframe tbody tr th {\n",
              "        vertical-align: top;\n",
              "    }\n",
              "\n",
              "    .dataframe thead th {\n",
              "        text-align: right;\n",
              "    }\n",
              "</style>\n",
              "<table border=\"1\" class=\"dataframe\">\n",
              "  <thead>\n",
              "    <tr style=\"text-align: right;\">\n",
              "      <th></th>\n",
              "      <th>bartlett_test</th>\n",
              "      <th>levene_test</th>\n",
              "    </tr>\n",
              "  </thead>\n",
              "  <tbody>\n",
              "    <tr>\n",
              "      <th>statistic</th>\n",
              "      <td>6.482549</td>\n",
              "      <td>2.455678</td>\n",
              "    </tr>\n",
              "    <tr>\n",
              "      <th>pvalue</th>\n",
              "      <td>0.262053</td>\n",
              "      <td>0.093931</td>\n",
              "    </tr>\n",
              "  </tbody>\n",
              "</table>\n",
              "</div>\n",
              "      <button class=\"colab-df-convert\" onclick=\"convertToInteractive('df-0d59e35b-8041-4234-a0ef-ef298c251713')\"\n",
              "              title=\"Convert this dataframe to an interactive table.\"\n",
              "              style=\"display:none;\">\n",
              "        \n",
              "  <svg xmlns=\"http://www.w3.org/2000/svg\" height=\"24px\"viewBox=\"0 0 24 24\"\n",
              "       width=\"24px\">\n",
              "    <path d=\"M0 0h24v24H0V0z\" fill=\"none\"/>\n",
              "    <path d=\"M18.56 5.44l.94 2.06.94-2.06 2.06-.94-2.06-.94-.94-2.06-.94 2.06-2.06.94zm-11 1L8.5 8.5l.94-2.06 2.06-.94-2.06-.94L8.5 2.5l-.94 2.06-2.06.94zm10 10l.94 2.06.94-2.06 2.06-.94-2.06-.94-.94-2.06-.94 2.06-2.06.94z\"/><path d=\"M17.41 7.96l-1.37-1.37c-.4-.4-.92-.59-1.43-.59-.52 0-1.04.2-1.43.59L10.3 9.45l-7.72 7.72c-.78.78-.78 2.05 0 2.83L4 21.41c.39.39.9.59 1.41.59.51 0 1.02-.2 1.41-.59l7.78-7.78 2.81-2.81c.8-.78.8-2.07 0-2.86zM5.41 20L4 18.59l7.72-7.72 1.47 1.35L5.41 20z\"/>\n",
              "  </svg>\n",
              "      </button>\n",
              "      \n",
              "  <style>\n",
              "    .colab-df-container {\n",
              "      display:flex;\n",
              "      flex-wrap:wrap;\n",
              "      gap: 12px;\n",
              "    }\n",
              "\n",
              "    .colab-df-convert {\n",
              "      background-color: #E8F0FE;\n",
              "      border: none;\n",
              "      border-radius: 50%;\n",
              "      cursor: pointer;\n",
              "      display: none;\n",
              "      fill: #1967D2;\n",
              "      height: 32px;\n",
              "      padding: 0 0 0 0;\n",
              "      width: 32px;\n",
              "    }\n",
              "\n",
              "    .colab-df-convert:hover {\n",
              "      background-color: #E2EBFA;\n",
              "      box-shadow: 0px 1px 2px rgba(60, 64, 67, 0.3), 0px 1px 3px 1px rgba(60, 64, 67, 0.15);\n",
              "      fill: #174EA6;\n",
              "    }\n",
              "\n",
              "    [theme=dark] .colab-df-convert {\n",
              "      background-color: #3B4455;\n",
              "      fill: #D2E3FC;\n",
              "    }\n",
              "\n",
              "    [theme=dark] .colab-df-convert:hover {\n",
              "      background-color: #434B5C;\n",
              "      box-shadow: 0px 1px 3px 1px rgba(0, 0, 0, 0.15);\n",
              "      filter: drop-shadow(0px 1px 2px rgba(0, 0, 0, 0.3));\n",
              "      fill: #FFFFFF;\n",
              "    }\n",
              "  </style>\n",
              "\n",
              "      <script>\n",
              "        const buttonEl =\n",
              "          document.querySelector('#df-0d59e35b-8041-4234-a0ef-ef298c251713 button.colab-df-convert');\n",
              "        buttonEl.style.display =\n",
              "          google.colab.kernel.accessAllowed ? 'block' : 'none';\n",
              "\n",
              "        async function convertToInteractive(key) {\n",
              "          const element = document.querySelector('#df-0d59e35b-8041-4234-a0ef-ef298c251713');\n",
              "          const dataTable =\n",
              "            await google.colab.kernel.invokeFunction('convertToInteractive',\n",
              "                                                     [key], {});\n",
              "          if (!dataTable) return;\n",
              "\n",
              "          const docLinkHtml = 'Like what you see? Visit the ' +\n",
              "            '<a target=\"_blank\" href=https://colab.research.google.com/notebooks/data_table.ipynb>data table notebook</a>'\n",
              "            + ' to learn more about interactive tables.';\n",
              "          element.innerHTML = '';\n",
              "          dataTable['output_type'] = 'display_data';\n",
              "          await google.colab.output.renderOutput(dataTable, element);\n",
              "          const docLink = document.createElement('div');\n",
              "          docLink.innerHTML = docLinkHtml;\n",
              "          element.appendChild(docLink);\n",
              "        }\n",
              "      </script>\n",
              "    </div>\n",
              "  </div>\n",
              "  "
            ]
          },
          "metadata": {},
          "execution_count": 146
        }
      ]
    },
    {
      "cell_type": "code",
      "source": [
        "values = np.concatenate((grupa1,grupa2,grupa3,grupa4,grupa5,grupa6))\n",
        "group1 = np.concatenate([['Zanurzeniowe']*9,['Natryskowe']*9])\n",
        "group2 = np.concatenate([['A'] * 3, ['B'] * 3, ['C'] * 3, ['A'] * 3, ['B'] * 3, ['C'] * 3])\n",
        "df = pd.DataFrame({'value': values,'group1': group1,'group2': group2})\n",
        "df.head()"
      ],
      "metadata": {
        "colab": {
          "base_uri": "https://localhost:8080/",
          "height": 206
        },
        "id": "ZZNyXAAjYsDv",
        "outputId": "6d8d3e70-3128-4fd1-d3da-ee30cf646faf"
      },
      "execution_count": null,
      "outputs": [
        {
          "output_type": "execute_result",
          "data": {
            "text/plain": [
              "   value        group1 group2\n",
              "0    4.0  Zanurzeniowe      A\n",
              "1    4.5  Zanurzeniowe      A\n",
              "2    4.3  Zanurzeniowe      A\n",
              "3    5.6  Zanurzeniowe      B\n",
              "4    4.9  Zanurzeniowe      B"
            ],
            "text/html": [
              "\n",
              "  <div id=\"df-a7ad1416-de6e-42f0-9394-1337c90652e4\">\n",
              "    <div class=\"colab-df-container\">\n",
              "      <div>\n",
              "<style scoped>\n",
              "    .dataframe tbody tr th:only-of-type {\n",
              "        vertical-align: middle;\n",
              "    }\n",
              "\n",
              "    .dataframe tbody tr th {\n",
              "        vertical-align: top;\n",
              "    }\n",
              "\n",
              "    .dataframe thead th {\n",
              "        text-align: right;\n",
              "    }\n",
              "</style>\n",
              "<table border=\"1\" class=\"dataframe\">\n",
              "  <thead>\n",
              "    <tr style=\"text-align: right;\">\n",
              "      <th></th>\n",
              "      <th>value</th>\n",
              "      <th>group1</th>\n",
              "      <th>group2</th>\n",
              "    </tr>\n",
              "  </thead>\n",
              "  <tbody>\n",
              "    <tr>\n",
              "      <th>0</th>\n",
              "      <td>4.0</td>\n",
              "      <td>Zanurzeniowe</td>\n",
              "      <td>A</td>\n",
              "    </tr>\n",
              "    <tr>\n",
              "      <th>1</th>\n",
              "      <td>4.5</td>\n",
              "      <td>Zanurzeniowe</td>\n",
              "      <td>A</td>\n",
              "    </tr>\n",
              "    <tr>\n",
              "      <th>2</th>\n",
              "      <td>4.3</td>\n",
              "      <td>Zanurzeniowe</td>\n",
              "      <td>A</td>\n",
              "    </tr>\n",
              "    <tr>\n",
              "      <th>3</th>\n",
              "      <td>5.6</td>\n",
              "      <td>Zanurzeniowe</td>\n",
              "      <td>B</td>\n",
              "    </tr>\n",
              "    <tr>\n",
              "      <th>4</th>\n",
              "      <td>4.9</td>\n",
              "      <td>Zanurzeniowe</td>\n",
              "      <td>B</td>\n",
              "    </tr>\n",
              "  </tbody>\n",
              "</table>\n",
              "</div>\n",
              "      <button class=\"colab-df-convert\" onclick=\"convertToInteractive('df-a7ad1416-de6e-42f0-9394-1337c90652e4')\"\n",
              "              title=\"Convert this dataframe to an interactive table.\"\n",
              "              style=\"display:none;\">\n",
              "        \n",
              "  <svg xmlns=\"http://www.w3.org/2000/svg\" height=\"24px\"viewBox=\"0 0 24 24\"\n",
              "       width=\"24px\">\n",
              "    <path d=\"M0 0h24v24H0V0z\" fill=\"none\"/>\n",
              "    <path d=\"M18.56 5.44l.94 2.06.94-2.06 2.06-.94-2.06-.94-.94-2.06-.94 2.06-2.06.94zm-11 1L8.5 8.5l.94-2.06 2.06-.94-2.06-.94L8.5 2.5l-.94 2.06-2.06.94zm10 10l.94 2.06.94-2.06 2.06-.94-2.06-.94-.94-2.06-.94 2.06-2.06.94z\"/><path d=\"M17.41 7.96l-1.37-1.37c-.4-.4-.92-.59-1.43-.59-.52 0-1.04.2-1.43.59L10.3 9.45l-7.72 7.72c-.78.78-.78 2.05 0 2.83L4 21.41c.39.39.9.59 1.41.59.51 0 1.02-.2 1.41-.59l7.78-7.78 2.81-2.81c.8-.78.8-2.07 0-2.86zM5.41 20L4 18.59l7.72-7.72 1.47 1.35L5.41 20z\"/>\n",
              "  </svg>\n",
              "      </button>\n",
              "      \n",
              "  <style>\n",
              "    .colab-df-container {\n",
              "      display:flex;\n",
              "      flex-wrap:wrap;\n",
              "      gap: 12px;\n",
              "    }\n",
              "\n",
              "    .colab-df-convert {\n",
              "      background-color: #E8F0FE;\n",
              "      border: none;\n",
              "      border-radius: 50%;\n",
              "      cursor: pointer;\n",
              "      display: none;\n",
              "      fill: #1967D2;\n",
              "      height: 32px;\n",
              "      padding: 0 0 0 0;\n",
              "      width: 32px;\n",
              "    }\n",
              "\n",
              "    .colab-df-convert:hover {\n",
              "      background-color: #E2EBFA;\n",
              "      box-shadow: 0px 1px 2px rgba(60, 64, 67, 0.3), 0px 1px 3px 1px rgba(60, 64, 67, 0.15);\n",
              "      fill: #174EA6;\n",
              "    }\n",
              "\n",
              "    [theme=dark] .colab-df-convert {\n",
              "      background-color: #3B4455;\n",
              "      fill: #D2E3FC;\n",
              "    }\n",
              "\n",
              "    [theme=dark] .colab-df-convert:hover {\n",
              "      background-color: #434B5C;\n",
              "      box-shadow: 0px 1px 3px 1px rgba(0, 0, 0, 0.15);\n",
              "      filter: drop-shadow(0px 1px 2px rgba(0, 0, 0, 0.3));\n",
              "      fill: #FFFFFF;\n",
              "    }\n",
              "  </style>\n",
              "\n",
              "      <script>\n",
              "        const buttonEl =\n",
              "          document.querySelector('#df-a7ad1416-de6e-42f0-9394-1337c90652e4 button.colab-df-convert');\n",
              "        buttonEl.style.display =\n",
              "          google.colab.kernel.accessAllowed ? 'block' : 'none';\n",
              "\n",
              "        async function convertToInteractive(key) {\n",
              "          const element = document.querySelector('#df-a7ad1416-de6e-42f0-9394-1337c90652e4');\n",
              "          const dataTable =\n",
              "            await google.colab.kernel.invokeFunction('convertToInteractive',\n",
              "                                                     [key], {});\n",
              "          if (!dataTable) return;\n",
              "\n",
              "          const docLinkHtml = 'Like what you see? Visit the ' +\n",
              "            '<a target=\"_blank\" href=https://colab.research.google.com/notebooks/data_table.ipynb>data table notebook</a>'\n",
              "            + ' to learn more about interactive tables.';\n",
              "          element.innerHTML = '';\n",
              "          dataTable['output_type'] = 'display_data';\n",
              "          await google.colab.output.renderOutput(dataTable, element);\n",
              "          const docLink = document.createElement('div');\n",
              "          docLink.innerHTML = docLinkHtml;\n",
              "          element.appendChild(docLink);\n",
              "        }\n",
              "      </script>\n",
              "    </div>\n",
              "  </div>\n",
              "  "
            ]
          },
          "metadata": {},
          "execution_count": 147
        }
      ]
    },
    {
      "cell_type": "code",
      "source": [
        "formula = 'value ~ C(group1) + C(group2) + C(group1):C(group2)'\n",
        "model = ols(formula, df).fit()\n",
        "anv = anova_lm(model)\n",
        "print(anv)\n",
        "#małe p-valsy -> są wpływy czynników, jest też interakcja"
      ],
      "metadata": {
        "colab": {
          "base_uri": "https://localhost:8080/"
        },
        "id": "tRFi7on7ZSQI",
        "outputId": "6754d703-2187-4c23-fd1f-b65be6056717"
      },
      "execution_count": null,
      "outputs": [
        {
          "output_type": "stream",
          "name": "stdout",
          "text": [
            "                       df    sum_sq   mean_sq          F    PR(>F)\n",
            "C(group1)             1.0  7.347222  7.347222  44.982993  0.000022\n",
            "C(group2)             2.0  3.124444  1.562222   9.564626  0.003282\n",
            "C(group1):C(group2)   2.0  1.337778  0.668889   4.095238  0.044077\n",
            "Residual             12.0  1.960000  0.163333        NaN       NaN\n"
          ]
        }
      ]
    },
    {
      "cell_type": "code",
      "source": [
        "tukey2 = pairwise_tukeyhsd(endog = df['value'],groups = df['group2'])\n",
        "tukey2.summary()\n",
        "#wszędzie duże p-val -> wszystkie średnie równe co stoi w sprzeczności z poprzednim wynikiem, \n",
        "#taka sytuacja może się zdarzyć dla małej liczby obserwacji w komórkach."
      ],
      "metadata": {
        "colab": {
          "base_uri": "https://localhost:8080/",
          "height": 139
        },
        "id": "hCSxZh9dZg2L",
        "outputId": "0cc18eb0-9655-4754-c2d3-13f8f6fce9ff"
      },
      "execution_count": null,
      "outputs": [
        {
          "output_type": "execute_result",
          "data": {
            "text/plain": [
              "<class 'statsmodels.iolib.table.SimpleTable'>"
            ],
            "text/html": [
              "<table class=\"simpletable\">\n",
              "<caption>Multiple Comparison of Means - Tukey HSD, FWER=0.05</caption>\n",
              "<tr>\n",
              "  <th>group1</th> <th>group2</th> <th>meandiff</th>  <th>p-adj</th>  <th>lower</th>   <th>upper</th> <th>reject</th>\n",
              "</tr>\n",
              "<tr>\n",
              "     <td>A</td>      <td>B</td>      <td>0.9</td>   <td>0.1873</td> <td>-0.3628</td> <td>2.1628</td>  <td>False</td>\n",
              "</tr>\n",
              "<tr>\n",
              "     <td>A</td>      <td>C</td>    <td>0.0333</td>    <td>0.9</td>  <td>-1.2295</td> <td>1.2962</td>  <td>False</td>\n",
              "</tr>\n",
              "<tr>\n",
              "     <td>B</td>      <td>C</td>    <td>-0.8667</td>  <td>0.209</td> <td>-2.1295</td> <td>0.3962</td>  <td>False</td>\n",
              "</tr>\n",
              "</table>"
            ]
          },
          "metadata": {},
          "execution_count": 150
        }
      ]
    },
    {
      "cell_type": "code",
      "source": [
        "#graficzne powtwierdzenie wyników tukeya\n",
        "tukey2.plot_simultaneous()\n",
        "plt.show()"
      ],
      "metadata": {
        "colab": {
          "base_uri": "https://localhost:8080/",
          "height": 390
        },
        "id": "ysfKzTQfazqF",
        "outputId": "546d916d-8c83-41e7-d8ca-cffb227c7ee3"
      },
      "execution_count": null,
      "outputs": [
        {
          "output_type": "display_data",
          "data": {
            "text/plain": [
              "<Figure size 720x432 with 1 Axes>"
            ],
            "image/png": "[encoded data removed]"
          },
          "metadata": {
            "needs_background": "light"
          }
        }
      ]
    },
    {
      "cell_type": "code",
      "source": [
        "multicomparison = MultiComparison(data=df.value, groups=df.group2)\n",
        "tukey = multicomparison.tukeyhsd()\n",
        "tukey.summary()"
      ],
      "metadata": {
        "colab": {
          "base_uri": "https://localhost:8080/",
          "height": 139
        },
        "id": "GIrLL8nCa9od",
        "outputId": "5d8c90b2-4d7c-4ad1-be59-dd91b7e89696"
      },
      "execution_count": null,
      "outputs": [
        {
          "output_type": "execute_result",
          "data": {
            "text/plain": [
              "<class 'statsmodels.iolib.table.SimpleTable'>"
            ],
            "text/html": [
              "<table class=\"simpletable\">\n",
              "<caption>Multiple Comparison of Means - Tukey HSD, FWER=0.05</caption>\n",
              "<tr>\n",
              "  <th>group1</th> <th>group2</th> <th>meandiff</th>  <th>p-adj</th>  <th>lower</th>   <th>upper</th> <th>reject</th>\n",
              "</tr>\n",
              "<tr>\n",
              "     <td>A</td>      <td>B</td>      <td>0.9</td>   <td>0.1873</td> <td>-0.3628</td> <td>2.1628</td>  <td>False</td>\n",
              "</tr>\n",
              "<tr>\n",
              "     <td>A</td>      <td>C</td>    <td>0.0333</td>    <td>0.9</td>  <td>-1.2295</td> <td>1.2962</td>  <td>False</td>\n",
              "</tr>\n",
              "<tr>\n",
              "     <td>B</td>      <td>C</td>    <td>-0.8667</td>  <td>0.209</td> <td>-2.1295</td> <td>0.3962</td>  <td>False</td>\n",
              "</tr>\n",
              "</table>"
            ]
          },
          "metadata": {},
          "execution_count": 155
        }
      ]
    },
    {
      "cell_type": "markdown",
      "metadata": {
        "id": "bW2GJehkxWOH"
      },
      "source": [
        "# Zadanie 8\n",
        "W celu zbadania wpływu czterech dawek nawożenia azotowego (w ilościach 0, 40, 80 i 120 kg/ha) na wysokość plonów lucerny przy trzech sposobach siewu (siew czysty C oraz dwa rodzaje wsiewu M i P w jęczmień jary) założono doświadczenie w czterech powtórzeniach. Dla każdej kombinacji nawożenia ze sposobem siewu zmierzono plon zielonej masy (w kg z poletka). W pierwszym pokosie uzyskano następujące obserwacje:\n",
        "\n",
        "|   |            0            |           40           |           80           |           120          |\n",
        "|:-:|:-----------------------:|:----------------------:|:----------------------:|:----------------------:|\n",
        "| C | 33.2, 36.2, 44.2, 51.0  | 42.2, 41.4, 50.6, 45.2 | 50.2, 53.0, 52.6, 45.0 | 46.2, 52.4, 49.0, 43.6 |\n",
        "| M |  18.6, 13.0, 14.6, 18.8 | 18.0, 20.0, 14.2, 19.1 | 24.2, 21.6, 16.4, 19.0 | 34.2, 17.2, 15.5, 22.2 |\n",
        "| P |  20.4, 14.4, 11.0, 22.6 | 21.9, 42.0, 16.2, 25.6 | 18.2, 21.0, 27.3, 27.6 | 16.4, 15.0, 21.6, 27.8 |\n",
        "\n",
        "Ustal, który z badanych czynników miał istotny wpływ na wysokość plonów masy zielonej."
      ]
    },
    {
      "cell_type": "code",
      "source": [
        "grupa1 = [33.2, 36.2, 44.2, 51.0]\n",
        "grupa2 = [18.6, 13.0, 14.6, 18.8]\n",
        "grupa3 = [20.4, 14.4, 11.0, 22.6]\n",
        "grupa4 = [42.2, 41.4, 50.6, 45.2]\n",
        "grupa5 = [18.0, 20.0, 14.2, 19.1]\n",
        "grupa6 = [21.9, 42.0, 16.2, 25.6]\n",
        "grupa7 = [50.2, 53.0, 52.6, 45.0]\n",
        "grupa8 = [24.2, 21.6, 16.4, 19.0]\n",
        "grupa9 = [18.2, 21.0, 27.3, 27.6]\n",
        "grupa10 = [46.2, 52.4, 49.0, 43.6]\n",
        "grupa11 = [34.2, 17.2, 15.5, 22.2]\n",
        "grupa12 = [16.4, 15.0, 21.6, 27.8]"
      ],
      "metadata": {
        "id": "bTW9m3ejer3_"
      },
      "execution_count": null,
      "outputs": []
    },
    {
      "cell_type": "code",
      "source": [
        "print(normal_tests(grupa1))\n",
        "print(normal_tests(grupa2))\n",
        "print(normal_tests(grupa3))\n",
        "print(normal_tests(grupa4))\n",
        "print(normal_tests(grupa5))\n",
        "print(normal_tests(grupa6))\n",
        "print(normal_tests(grupa7))\n",
        "print(normal_tests(grupa8))\n",
        "print(normal_tests(grupa9))\n",
        "print(normal_tests(grupa10))\n",
        "print(normal_tests(grupa11))\n",
        "print(normal_tests(grupa12))\n",
        "# wszędzie w miarę duże p-val ->mamy normalność"
      ],
      "metadata": {
        "colab": {
          "base_uri": "https://localhost:8080/"
        },
        "id": "BBgNb0w4gWGG",
        "outputId": "d7ae5ce9-af8e-4c6c-e2a8-f38b8650c166"
      },
      "execution_count": null,
      "outputs": [
        {
          "output_type": "stream",
          "name": "stdout",
          "text": [
            "                      test  statistic   pvalue\n",
            "0        Shapiro-Wilk Test       0.95  0.70498\n",
            "1         Jarque–Bera Test       0.42  0.80912\n",
            "2  Kolmogorov–Smirnov Test       0.23  0.98333\n",
            "                      test  statistic   pvalue\n",
            "0        Shapiro-Wilk Test       0.85  0.24226\n",
            "1         Jarque–Bera Test       0.56  0.75742\n",
            "2  Kolmogorov–Smirnov Test       0.29  0.88776\n",
            "                      test  statistic   pvalue\n",
            "0        Shapiro-Wilk Test       0.94  0.65179\n",
            "1         Jarque–Bera Test       0.46  0.79323\n",
            "2  Kolmogorov–Smirnov Test       0.23  0.98278\n",
            "                      test  statistic   pvalue\n",
            "0        Shapiro-Wilk Test       0.89  0.39743\n",
            "1         Jarque–Bera Test       0.53  0.76890\n",
            "2  Kolmogorov–Smirnov Test       0.24  0.97768\n",
            "                      test  statistic   pvalue\n",
            "0        Shapiro-Wilk Test       0.89  0.38356\n",
            "1         Jarque–Bera Test       0.59  0.74513\n",
            "2  Kolmogorov–Smirnov Test       0.28  0.91803\n",
            "                      test  statistic   pvalue\n",
            "0        Shapiro-Wilk Test       0.91  0.50374\n",
            "1         Jarque–Bera Test       0.51  0.77514\n",
            "2  Kolmogorov–Smirnov Test       0.28  0.91311\n",
            "                      test  statistic   pvalue\n",
            "0        Shapiro-Wilk Test       0.86  0.24539\n",
            "1         Jarque–Bera Test       0.60  0.73960\n",
            "2  Kolmogorov–Smirnov Test       0.25  0.96395\n",
            "                      test  statistic   pvalue\n",
            "0        Shapiro-Wilk Test       0.99  0.97188\n",
            "1         Jarque–Bera Test       0.31  0.85716\n",
            "2  Kolmogorov–Smirnov Test       0.15  0.99999\n",
            "                      test  statistic   pvalue\n",
            "0        Shapiro-Wilk Test       0.86  0.25847\n",
            "1         Jarque–Bera Test       0.54  0.76284\n",
            "2  Kolmogorov–Smirnov Test       0.29  0.88895\n",
            "                      test  statistic   pvalue\n",
            "0        Shapiro-Wilk Test       0.99  0.96406\n",
            "1         Jarque–Bera Test       0.31  0.85771\n",
            "2  Kolmogorov–Smirnov Test       0.16  0.99992\n",
            "                      test  statistic   pvalue\n",
            "0        Shapiro-Wilk Test       0.88  0.31973\n",
            "1         Jarque–Bera Test       0.59  0.74384\n",
            "2  Kolmogorov–Smirnov Test       0.25  0.95923\n",
            "                      test  statistic   pvalue\n",
            "0        Shapiro-Wilk Test       0.92  0.55082\n",
            "1         Jarque–Bera Test       0.45  0.79846\n",
            "2  Kolmogorov–Smirnov Test       0.24  0.97162\n"
          ]
        }
      ]
    },
    {
      "cell_type": "code",
      "source": [
        "variance_test(grupa1,grupa2,grupa3,grupa4,grupa5,grupa6,grupa7,grupa8,grupa9,grupa10,grupa11,grupa12)\n",
        "#wszędzie duże p-val -> mamy równośc wariancji"
      ],
      "metadata": {
        "colab": {
          "base_uri": "https://localhost:8080/",
          "height": 112
        },
        "id": "ZaTsmrQGg15Q",
        "outputId": "b966811a-4d62-4ed0-9d71-352a67c8c02a"
      },
      "execution_count": null,
      "outputs": [
        {
          "output_type": "execute_result",
          "data": {
            "text/plain": [
              "           bartlett_test  levene_test\n",
              "statistic      12.723252     1.599828\n",
              "pvalue          0.311798     0.140707"
            ],
            "text/html": [
              "\n",
              "  <div id=\"df-2e71de0a-f462-49b1-9aaa-fdea7146be4e\">\n",
              "    <div class=\"colab-df-container\">\n",
              "      <div>\n",
              "<style scoped>\n",
              "    .dataframe tbody tr th:only-of-type {\n",
              "        vertical-align: middle;\n",
              "    }\n",
              "\n",
              "    .dataframe tbody tr th {\n",
              "        vertical-align: top;\n",
              "    }\n",
              "\n",
              "    .dataframe thead th {\n",
              "        text-align: right;\n",
              "    }\n",
              "</style>\n",
              "<table border=\"1\" class=\"dataframe\">\n",
              "  <thead>\n",
              "    <tr style=\"text-align: right;\">\n",
              "      <th></th>\n",
              "      <th>bartlett_test</th>\n",
              "      <th>levene_test</th>\n",
              "    </tr>\n",
              "  </thead>\n",
              "  <tbody>\n",
              "    <tr>\n",
              "      <th>statistic</th>\n",
              "      <td>12.723252</td>\n",
              "      <td>1.599828</td>\n",
              "    </tr>\n",
              "    <tr>\n",
              "      <th>pvalue</th>\n",
              "      <td>0.311798</td>\n",
              "      <td>0.140707</td>\n",
              "    </tr>\n",
              "  </tbody>\n",
              "</table>\n",
              "</div>\n",
              "      <button class=\"colab-df-convert\" onclick=\"convertToInteractive('df-2e71de0a-f462-49b1-9aaa-fdea7146be4e')\"\n",
              "              title=\"Convert this dataframe to an interactive table.\"\n",
              "              style=\"display:none;\">\n",
              "        \n",
              "  <svg xmlns=\"http://www.w3.org/2000/svg\" height=\"24px\"viewBox=\"0 0 24 24\"\n",
              "       width=\"24px\">\n",
              "    <path d=\"M0 0h24v24H0V0z\" fill=\"none\"/>\n",
              "    <path d=\"M18.56 5.44l.94 2.06.94-2.06 2.06-.94-2.06-.94-.94-2.06-.94 2.06-2.06.94zm-11 1L8.5 8.5l.94-2.06 2.06-.94-2.06-.94L8.5 2.5l-.94 2.06-2.06.94zm10 10l.94 2.06.94-2.06 2.06-.94-2.06-.94-.94-2.06-.94 2.06-2.06.94z\"/><path d=\"M17.41 7.96l-1.37-1.37c-.4-.4-.92-.59-1.43-.59-.52 0-1.04.2-1.43.59L10.3 9.45l-7.72 7.72c-.78.78-.78 2.05 0 2.83L4 21.41c.39.39.9.59 1.41.59.51 0 1.02-.2 1.41-.59l7.78-7.78 2.81-2.81c.8-.78.8-2.07 0-2.86zM5.41 20L4 18.59l7.72-7.72 1.47 1.35L5.41 20z\"/>\n",
              "  </svg>\n",
              "      </button>\n",
              "      \n",
              "  <style>\n",
              "    .colab-df-container {\n",
              "      display:flex;\n",
              "      flex-wrap:wrap;\n",
              "      gap: 12px;\n",
              "    }\n",
              "\n",
              "    .colab-df-convert {\n",
              "      background-color: #E8F0FE;\n",
              "      border: none;\n",
              "      border-radius: 50%;\n",
              "      cursor: pointer;\n",
              "      display: none;\n",
              "      fill: #1967D2;\n",
              "      height: 32px;\n",
              "      padding: 0 0 0 0;\n",
              "      width: 32px;\n",
              "    }\n",
              "\n",
              "    .colab-df-convert:hover {\n",
              "      background-color: #E2EBFA;\n",
              "      box-shadow: 0px 1px 2px rgba(60, 64, 67, 0.3), 0px 1px 3px 1px rgba(60, 64, 67, 0.15);\n",
              "      fill: #174EA6;\n",
              "    }\n",
              "\n",
              "    [theme=dark] .colab-df-convert {\n",
              "      background-color: #3B4455;\n",
              "      fill: #D2E3FC;\n",
              "    }\n",
              "\n",
              "    [theme=dark] .colab-df-convert:hover {\n",
              "      background-color: #434B5C;\n",
              "      box-shadow: 0px 1px 3px 1px rgba(0, 0, 0, 0.15);\n",
              "      filter: drop-shadow(0px 1px 2px rgba(0, 0, 0, 0.3));\n",
              "      fill: #FFFFFF;\n",
              "    }\n",
              "  </style>\n",
              "\n",
              "      <script>\n",
              "        const buttonEl =\n",
              "          document.querySelector('#df-2e71de0a-f462-49b1-9aaa-fdea7146be4e button.colab-df-convert');\n",
              "        buttonEl.style.display =\n",
              "          google.colab.kernel.accessAllowed ? 'block' : 'none';\n",
              "\n",
              "        async function convertToInteractive(key) {\n",
              "          const element = document.querySelector('#df-2e71de0a-f462-49b1-9aaa-fdea7146be4e');\n",
              "          const dataTable =\n",
              "            await google.colab.kernel.invokeFunction('convertToInteractive',\n",
              "                                                     [key], {});\n",
              "          if (!dataTable) return;\n",
              "\n",
              "          const docLinkHtml = 'Like what you see? Visit the ' +\n",
              "            '<a target=\"_blank\" href=https://colab.research.google.com/notebooks/data_table.ipynb>data table notebook</a>'\n",
              "            + ' to learn more about interactive tables.';\n",
              "          element.innerHTML = '';\n",
              "          dataTable['output_type'] = 'display_data';\n",
              "          await google.colab.output.renderOutput(dataTable, element);\n",
              "          const docLink = document.createElement('div');\n",
              "          docLink.innerHTML = docLinkHtml;\n",
              "          element.appendChild(docLink);\n",
              "        }\n",
              "      </script>\n",
              "    </div>\n",
              "  </div>\n",
              "  "
            ]
          },
          "metadata": {},
          "execution_count": 173
        }
      ]
    },
    {
      "cell_type": "code",
      "execution_count": null,
      "metadata": {
        "id": "j2oFlCmAxWOH"
      },
      "outputs": [],
      "source": [
        "values = [33.2, 36.2, 44.2, 51.0, 18.6, 13.0, 14.6, 18.8, 20.4, 14.4, 11.0, 22.6, \n",
        "         42.2, 41.4, 50.6, 45.2, 18.0, 20.0, 14.2, 19.1, 21.9, 42.0, 16.2, 25.6, \n",
        "         50.2, 53.0, 52.6, 45.0, 24.2, 21.6, 16.4, 19.0, 18.2, 21.0, 27.3, 27.6, \n",
        "         46.2, 52.4, 49.0, 43.6, 34.2, 17.2, 15.5, 22.2,  16.4, 15.0, 21.6, 27.8]\n",
        "\n",
        "group1 = np.concatenate([\n",
        "    ['0'] * 12, ['40'] * 12, ['80'] * 12, ['120'] * 12\n",
        "])\n",
        "\n",
        "group2 = np.concatenate([\n",
        "    ['C'] * 4, ['M'] * 4, ['P'] * 4, ['C'] * 4, ['M'] * 4, ['P'] * 4, \n",
        "    ['C'] * 4, ['M'] * 4, ['P'] * 4, ['C'] * 4, ['M'] * 4, ['P'] * 4\n",
        "])"
      ]
    },
    {
      "cell_type": "code",
      "source": [
        "df = pd.DataFrame({'value': values, 'group1': group1, 'group2': group2})\n",
        "df.head()"
      ],
      "metadata": {
        "colab": {
          "base_uri": "https://localhost:8080/",
          "height": 206
        },
        "id": "aoWSM71JcfbP",
        "outputId": "169cffb9-ed47-41eb-ff3d-b9f6dc4c3e64"
      },
      "execution_count": null,
      "outputs": [
        {
          "output_type": "execute_result",
          "data": {
            "text/plain": [
              "   value group1 group2\n",
              "0   33.2      0      C\n",
              "1   36.2      0      C\n",
              "2   44.2      0      C\n",
              "3   51.0      0      C\n",
              "4   18.6      0      M"
            ],
            "text/html": [
              "\n",
              "  <div id=\"df-c9de020d-3885-45ee-bb7f-371bf28af68f\">\n",
              "    <div class=\"colab-df-container\">\n",
              "      <div>\n",
              "<style scoped>\n",
              "    .dataframe tbody tr th:only-of-type {\n",
              "        vertical-align: middle;\n",
              "    }\n",
              "\n",
              "    .dataframe tbody tr th {\n",
              "        vertical-align: top;\n",
              "    }\n",
              "\n",
              "    .dataframe thead th {\n",
              "        text-align: right;\n",
              "    }\n",
              "</style>\n",
              "<table border=\"1\" class=\"dataframe\">\n",
              "  <thead>\n",
              "    <tr style=\"text-align: right;\">\n",
              "      <th></th>\n",
              "      <th>value</th>\n",
              "      <th>group1</th>\n",
              "      <th>group2</th>\n",
              "    </tr>\n",
              "  </thead>\n",
              "  <tbody>\n",
              "    <tr>\n",
              "      <th>0</th>\n",
              "      <td>33.2</td>\n",
              "      <td>0</td>\n",
              "      <td>C</td>\n",
              "    </tr>\n",
              "    <tr>\n",
              "      <th>1</th>\n",
              "      <td>36.2</td>\n",
              "      <td>0</td>\n",
              "      <td>C</td>\n",
              "    </tr>\n",
              "    <tr>\n",
              "      <th>2</th>\n",
              "      <td>44.2</td>\n",
              "      <td>0</td>\n",
              "      <td>C</td>\n",
              "    </tr>\n",
              "    <tr>\n",
              "      <th>3</th>\n",
              "      <td>51.0</td>\n",
              "      <td>0</td>\n",
              "      <td>C</td>\n",
              "    </tr>\n",
              "    <tr>\n",
              "      <th>4</th>\n",
              "      <td>18.6</td>\n",
              "      <td>0</td>\n",
              "      <td>M</td>\n",
              "    </tr>\n",
              "  </tbody>\n",
              "</table>\n",
              "</div>\n",
              "      <button class=\"colab-df-convert\" onclick=\"convertToInteractive('df-c9de020d-3885-45ee-bb7f-371bf28af68f')\"\n",
              "              title=\"Convert this dataframe to an interactive table.\"\n",
              "              style=\"display:none;\">\n",
              "        \n",
              "  <svg xmlns=\"http://www.w3.org/2000/svg\" height=\"24px\"viewBox=\"0 0 24 24\"\n",
              "       width=\"24px\">\n",
              "    <path d=\"M0 0h24v24H0V0z\" fill=\"none\"/>\n",
              "    <path d=\"M18.56 5.44l.94 2.06.94-2.06 2.06-.94-2.06-.94-.94-2.06-.94 2.06-2.06.94zm-11 1L8.5 8.5l.94-2.06 2.06-.94-2.06-.94L8.5 2.5l-.94 2.06-2.06.94zm10 10l.94 2.06.94-2.06 2.06-.94-2.06-.94-.94-2.06-.94 2.06-2.06.94z\"/><path d=\"M17.41 7.96l-1.37-1.37c-.4-.4-.92-.59-1.43-.59-.52 0-1.04.2-1.43.59L10.3 9.45l-7.72 7.72c-.78.78-.78 2.05 0 2.83L4 21.41c.39.39.9.59 1.41.59.51 0 1.02-.2 1.41-.59l7.78-7.78 2.81-2.81c.8-.78.8-2.07 0-2.86zM5.41 20L4 18.59l7.72-7.72 1.47 1.35L5.41 20z\"/>\n",
              "  </svg>\n",
              "      </button>\n",
              "      \n",
              "  <style>\n",
              "    .colab-df-container {\n",
              "      display:flex;\n",
              "      flex-wrap:wrap;\n",
              "      gap: 12px;\n",
              "    }\n",
              "\n",
              "    .colab-df-convert {\n",
              "      background-color: #E8F0FE;\n",
              "      border: none;\n",
              "      border-radius: 50%;\n",
              "      cursor: pointer;\n",
              "      display: none;\n",
              "      fill: #1967D2;\n",
              "      height: 32px;\n",
              "      padding: 0 0 0 0;\n",
              "      width: 32px;\n",
              "    }\n",
              "\n",
              "    .colab-df-convert:hover {\n",
              "      background-color: #E2EBFA;\n",
              "      box-shadow: 0px 1px 2px rgba(60, 64, 67, 0.3), 0px 1px 3px 1px rgba(60, 64, 67, 0.15);\n",
              "      fill: #174EA6;\n",
              "    }\n",
              "\n",
              "    [theme=dark] .colab-df-convert {\n",
              "      background-color: #3B4455;\n",
              "      fill: #D2E3FC;\n",
              "    }\n",
              "\n",
              "    [theme=dark] .colab-df-convert:hover {\n",
              "      background-color: #434B5C;\n",
              "      box-shadow: 0px 1px 3px 1px rgba(0, 0, 0, 0.15);\n",
              "      filter: drop-shadow(0px 1px 2px rgba(0, 0, 0, 0.3));\n",
              "      fill: #FFFFFF;\n",
              "    }\n",
              "  </style>\n",
              "\n",
              "      <script>\n",
              "        const buttonEl =\n",
              "          document.querySelector('#df-c9de020d-3885-45ee-bb7f-371bf28af68f button.colab-df-convert');\n",
              "        buttonEl.style.display =\n",
              "          google.colab.kernel.accessAllowed ? 'block' : 'none';\n",
              "\n",
              "        async function convertToInteractive(key) {\n",
              "          const element = document.querySelector('#df-c9de020d-3885-45ee-bb7f-371bf28af68f');\n",
              "          const dataTable =\n",
              "            await google.colab.kernel.invokeFunction('convertToInteractive',\n",
              "                                                     [key], {});\n",
              "          if (!dataTable) return;\n",
              "\n",
              "          const docLinkHtml = 'Like what you see? Visit the ' +\n",
              "            '<a target=\"_blank\" href=https://colab.research.google.com/notebooks/data_table.ipynb>data table notebook</a>'\n",
              "            + ' to learn more about interactive tables.';\n",
              "          element.innerHTML = '';\n",
              "          dataTable['output_type'] = 'display_data';\n",
              "          await google.colab.output.renderOutput(dataTable, element);\n",
              "          const docLink = document.createElement('div');\n",
              "          docLink.innerHTML = docLinkHtml;\n",
              "          element.appendChild(docLink);\n",
              "        }\n",
              "      </script>\n",
              "    </div>\n",
              "  </div>\n",
              "  "
            ]
          },
          "metadata": {},
          "execution_count": 175
        }
      ]
    },
    {
      "cell_type": "code",
      "source": [
        "formula = 'value ~ C(group1) + C(group2) + C(group1):C(group2)'\n",
        "model = ols(formula, df).fit()\n",
        "\n",
        "anv = anova_lm(model)\n",
        "print(anv)\n",
        "#małe p-val -> jest róznica w grupach i w interakcjach"
      ],
      "metadata": {
        "colab": {
          "base_uri": "https://localhost:8080/"
        },
        "id": "SkSPb7LpciDl",
        "outputId": "c67f29e5-be24-4b28-a429-87de3f512866"
      },
      "execution_count": null,
      "outputs": [
        {
          "output_type": "stream",
          "name": "stdout",
          "text": [
            "                       df       sum_sq      mean_sq           F        PR(>F)\n",
            "C(group1)             3.0   294.311667    98.103889    2.841761  5.136632e-02\n",
            "C(group2)             2.0  6998.981667  3499.490833  101.369223  1.624959e-15\n",
            "C(group1):C(group2)   6.0   169.663333    28.277222    0.819102  5.624660e-01\n",
            "Residual             36.0  1242.800000    34.522222         NaN           NaN\n"
          ]
        }
      ]
    },
    {
      "cell_type": "code",
      "source": [
        "#podobna sytuacja jak w porzednim zadaniu, wynik sprzeczny z anovą\n",
        "multicomparison = MultiComparison(data=df.value, groups=df.group1)\n",
        "tukey = multicomparison.tukeyhsd()\n",
        "tukey.summary()"
      ],
      "metadata": {
        "colab": {
          "base_uri": "https://localhost:8080/",
          "height": 186
        },
        "id": "WCcMarVVdEhI",
        "outputId": "82422dd8-9e2a-408d-e6fb-de1ac71fd100"
      },
      "execution_count": null,
      "outputs": [
        {
          "output_type": "execute_result",
          "data": {
            "text/plain": [
              "<class 'statsmodels.iolib.table.SimpleTable'>"
            ],
            "text/html": [
              "<table class=\"simpletable\">\n",
              "<caption>Multiple Comparison of Means - Tukey HSD, FWER=0.05</caption>\n",
              "<tr>\n",
              "  <th>group1</th> <th>group2</th> <th>meandiff</th>  <th>p-adj</th>   <th>lower</th>   <th>upper</th>  <th>reject</th>\n",
              "</tr>\n",
              "<tr>\n",
              "     <td>0</td>     <td>120</td>   <td>5.2583</td>  <td>0.7647</td>  <td>-9.8138</td> <td>20.3305</td>  <td>False</td>\n",
              "</tr>\n",
              "<tr>\n",
              "     <td>0</td>     <td>40</td>    <td>4.8667</td>  <td>0.8031</td> <td>-10.2055</td> <td>19.9388</td>  <td>False</td>\n",
              "</tr>\n",
              "<tr>\n",
              "     <td>0</td>     <td>80</td>    <td>6.5083</td>  <td>0.6422</td>  <td>-8.5638</td> <td>21.5805</td>  <td>False</td>\n",
              "</tr>\n",
              "<tr>\n",
              "    <td>120</td>    <td>40</td>    <td>-0.3917</td>   <td>0.9</td>  <td>-15.4638</td> <td>14.6805</td>  <td>False</td>\n",
              "</tr>\n",
              "<tr>\n",
              "    <td>120</td>    <td>80</td>     <td>1.25</td>     <td>0.9</td>  <td>-13.8222</td> <td>16.3222</td>  <td>False</td>\n",
              "</tr>\n",
              "<tr>\n",
              "    <td>40</td>     <td>80</td>    <td>1.6417</td>    <td>0.9</td>  <td>-13.4305</td> <td>16.7138</td>  <td>False</td>\n",
              "</tr>\n",
              "</table>"
            ]
          },
          "metadata": {},
          "execution_count": 177
        }
      ]
    },
    {
      "cell_type": "code",
      "source": [
        "multicomparison = MultiComparison(data=df.value, groups=df.group2)\n",
        "tukey = multicomparison.tukeyhsd()\n",
        "tukey.summary()\n",
        "# tu tylko poziomy M i P takie same"
      ],
      "metadata": {
        "colab": {
          "base_uri": "https://localhost:8080/",
          "height": 122
        },
        "id": "mS1doYQ1eYx5",
        "outputId": "09d0b591-da8c-4ec7-d439-ba407fc2715a"
      },
      "execution_count": null,
      "outputs": [
        {
          "output_type": "execute_result",
          "data": {
            "text/plain": [
              "<class 'statsmodels.iolib.table.SimpleTable'>"
            ],
            "text/html": [
              "<table class=\"simpletable\">\n",
              "<caption>Multiple Comparison of Means - Tukey HSD, FWER=0.05</caption>\n",
              "<tr>\n",
              "  <th>group1</th> <th>group2</th> <th>meandiff</th>  <th>p-adj</th>   <th>lower</th>    <th>upper</th>  <th>reject</th>\n",
              "</tr>\n",
              "<tr>\n",
              "     <td>C</td>      <td>M</td>   <td>-26.8375</td>  <td>0.001</td> <td>-32.1145</td> <td>-21.5605</td>  <td>True</td> \n",
              "</tr>\n",
              "<tr>\n",
              "     <td>C</td>      <td>P</td>   <td>-24.1875</td>  <td>0.001</td> <td>-29.4645</td> <td>-18.9105</td>  <td>True</td> \n",
              "</tr>\n",
              "<tr>\n",
              "     <td>M</td>      <td>P</td>     <td>2.65</td>   <td>0.4513</td>  <td>-2.627</td>    <td>7.927</td>   <td>False</td>\n",
              "</tr>\n",
              "</table>"
            ]
          },
          "metadata": {},
          "execution_count": 178
        }
      ]
    }
  ],
  "metadata": {
    "kernelspec": {
      "display_name": "Python 3",
      "language": "python",
      "name": "python3"
    },
    "language_info": {
      "codemirror_mode": {
        "name": "ipython",
        "version": 3
      },
      "file_extension": ".py",
      "mimetype": "text/x-python",
      "name": "python",
      "nbconvert_exporter": "python",
      "pygments_lexer": "ipython3",
      "version": "3.7.4"
    },
    "colab": {
      "provenance": [],
      "collapsed_sections": []
    }
  },
  "nbformat": 4,
  "nbformat_minor": 0
}