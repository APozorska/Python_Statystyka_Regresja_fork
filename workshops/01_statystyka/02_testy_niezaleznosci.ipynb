{
  "cells": [
    {
      "cell_type": "markdown",
      "metadata": {
        "id": "YnVZdI9OcnhK"
      },
      "source": [
        "# Testy niezależności"
      ]
    },
    {
      "cell_type": "code",
      "execution_count": null,
      "metadata": {
        "id": "xzxq1DC2cnhP",
        "colab": {
          "base_uri": "https://localhost:8080/"
        },
        "outputId": "005b3d42-8262-47d7-807a-03331a869542"
      },
      "outputs": [
        {
          "output_type": "stream",
          "name": "stderr",
          "text": [
            "/usr/local/lib/python3.7/dist-packages/statsmodels/tools/_testing.py:19: FutureWarning: pandas.util.testing is deprecated. Use the functions in the public API at pandas.testing instead.\n",
            "  import pandas.util.testing as tm\n"
          ]
        }
      ],
      "source": [
        "import numpy as np\n",
        "from scipy import stats\n",
        "from statsmodels.stats.contingency_tables import mcnemar"
      ]
    },
    {
      "cell_type": "markdown",
      "source": [
        "#Niezależność\n",
        "Mamy dwie zmienne losowe $(X,Y)$. Mówimy, że są one niezależne, gdy dla dowolnych zdarzeń $A$ i $B$ mamy\n",
        "\n",
        "$\\mathbb{P}(X\\in A,Y \\in B) = \\mathbb{P}(X\\in A)\\mathbb{P}(Y \\in B)$\n",
        "\n",
        "Jeśli mamy tablicę z ilością obserwacji które mają pewną wartość cechy 1 i pewną wartość cechy 2 (np. wykształcenie rodziców i dzieci patrz zad 1.) to wówczas wcześniejszy wzór probabilistyczny opisujemy danymi empirycznymi:  \n",
        "\n",
        "$\\frac{n_{11}}{n} = \\frac{n_{11}+n_{12}}{n}\\frac{n_{11}+n_{21}}{n}$"
      ],
      "metadata": {
        "id": "cCSx_ZHOFiRX"
      }
    },
    {
      "cell_type": "markdown",
      "source": [
        "#Test niezależności chi-kwadrat\n",
        "\n",
        "Hipotezy:\n",
        "\\begin{equation*}\n",
        "    H_0: \\text{ cechy są niezależne}\n",
        "\\end{equation*}\n",
        "wobec hipotezy alternatywnej\n",
        "\\begin{equation*}\n",
        "    H_1: \\text{ cechy są zależne}.\n",
        "\\end{equation*}\n",
        "\n",
        "Statystyka testowa jest dana wzorem \n",
        "\\begin{equation*}\n",
        "    T = \\sum_{j=1}^{rc}\\frac{(O_j - E_j)^2}{E_j},\n",
        "\\end{equation*}\n",
        "gdzie $O_j$ oznacza liczbę obserwacji w $j$-tej komórce tabeli korelacyjnej, natomiast $E_j$ jest tzw. oczekiwaną liczbą obserwacji, która powinna znaleźć się w $j$-tej komórce, jeżeli rozpatrywanej cechy są istotnie niezależne.\n",
        "\n",
        "Oczekiwaną liczbę obserwacji wylicza się dla każdej komórki ze wzoru\n",
        "\\begin{equation*}\n",
        "    E_j = \\frac{\\sum_j^r\\sum_j^c}{n},\n",
        "\\end{equation*}\n",
        "gdzie $\\sum_j^r$ oznacza sumę obserwacji w wierszu, w którym położona jest $j$-ta komórka, $\\sum_j^c$ jest sumą obserwacji w kolumnie, do której należy $j$-ta komórka, zaś $n$ jest licznością próby.\n",
        "\n",
        "Przy założeniu prawdziwości hipotezy zerowej oraz dla licznej próby $(n\\geq 100)$, statystyka testowa $T$ ma w przybliżeniu rozkład chi-kwadrat o $(r-1)(c-1)$ stopniach swobody.\n",
        "\n",
        "Duże wartości statystyki testowej przemawiają przeciwko hipotezie zerowej. Stąd obszar krytyczny ma postać\n",
        "\\begin{equation*}\n",
        "    W_{\\alpha} = [\\chi^2_{(1-\\alpha, (r-1)(c-1))}, +\\infty).\n",
        "\\end{equation*}\n"
      ],
      "metadata": {
        "id": "nk9RdQaUeT7E"
      }
    },
    {
      "cell_type": "markdown",
      "metadata": {
        "id": "16Sk6ZlFcnhS"
      },
      "source": [
        "# Zadanie 1 \n",
        "Na podstawie poniższych danych zbadać, czy istnieje zależnośc między wykształceniem dzieci i wykształceniem rodziców. Przyjąć poziom istotności 0.01.\n",
        "\n",
        "|                      | Wykształcenie rodziców |       |\n",
        "|----------------------|------------------------|------|\n",
        "| Wykształcenie dzieci | wyższe                 | inne |\n",
        "| wyższe               | 180                    | 120  |\n",
        "| inne                 | 55                     | 145  |"
      ]
    },
    {
      "cell_type": "code",
      "source": [
        "tab = np.array([[180,120],[55,145]])\n",
        "tab"
      ],
      "metadata": {
        "id": "x99y6KncdpYT",
        "colab": {
          "base_uri": "https://localhost:8080/"
        },
        "outputId": "0a460b30-c495-4023-a576-5e4a7ce40d0a"
      },
      "execution_count": null,
      "outputs": [
        {
          "output_type": "execute_result",
          "data": {
            "text/plain": [
              "array([[180, 120],\n",
              "       [ 55, 145]])"
            ]
          },
          "metadata": {},
          "execution_count": 2
        }
      ]
    },
    {
      "cell_type": "code",
      "source": [
        "results = stats.chi2_contingency(tab)\n",
        "print(results)\n",
        "#statystyka, p-val, stopnie swobody rozkłądu przy H0 i macierz oczekiwanych liczności elementów \n",
        "#w przypadku gdyby zmienne były niezależnie (macierz której elementami są E_j)"
      ],
      "metadata": {
        "colab": {
          "base_uri": "https://localhost:8080/"
        },
        "id": "BuMsrvEtI_zK",
        "outputId": "1f2b8f34-57b4-4b79-ca0f-f3ceab5a52ec"
      },
      "execution_count": null,
      "outputs": [
        {
          "output_type": "stream",
          "name": "stdout",
          "text": [
            "(49.58684597885722, 1.897818905361828e-12, 1, array([[141., 159.],\n",
            "       [ 94., 106.]]))\n"
          ]
        }
      ]
    },
    {
      "cell_type": "code",
      "source": [
        "results[1]\n",
        "#małe p-val -> odrzucamy H0 -> jest zależność między wykształceniem rodziców i dzieci"
      ],
      "metadata": {
        "colab": {
          "base_uri": "https://localhost:8080/"
        },
        "id": "hk83EV8IJm_p",
        "outputId": "487f3abc-a05c-4f83-9234-effe4f19ffb9"
      },
      "execution_count": null,
      "outputs": [
        {
          "output_type": "execute_result",
          "data": {
            "text/plain": [
              "1.897818905361828e-12"
            ]
          },
          "metadata": {},
          "execution_count": 4
        }
      ]
    },
    {
      "cell_type": "markdown",
      "metadata": {
        "id": "o2nh7OUFcnhZ"
      },
      "source": [
        "# Zadanie 2\n",
        "Na podstawie wyników badania 200 losowo wybranych osób stwierdzić, czy istnieje zależność między płcią a preferowanym miejscem spędzania wakacji. Przyjąć poziom istotności 0.05.\n",
        "\n",
        "|           | Preferowane miejsce spędzania wakacji |         |       |\n",
        "|-----------|---------------------------------------|---------|-------|\n",
        "|           |                  góry                 | jeziora | morze |\n",
        "| Kobiety   |                   32                  |    32   |   41  |\n",
        "| Mężczyźni |                   39                  |    33   |   23  |"
      ]
    },
    {
      "cell_type": "code",
      "source": [
        "tab = np.array([[32,32,41],[39,33,23]])\n",
        "results = stats.chi2_contingency(tab)\n",
        "print(results)\n",
        "#duże p-val -> nie odrzucamy H0 -> nie ma zależności między płcią a kierunkiem podróży"
      ],
      "metadata": {
        "id": "VOymeeWadbE0",
        "colab": {
          "base_uri": "https://localhost:8080/"
        },
        "outputId": "929b9da3-c650-4d83-d76b-dd2b4fa4a74b"
      },
      "execution_count": null,
      "outputs": [
        {
          "output_type": "stream",
          "name": "stdout",
          "text": [
            "(5.281228531784497, 0.07131744822282321, 2, array([[37.275, 34.125, 33.6  ],\n",
            "       [33.725, 30.875, 30.4  ]]))\n"
          ]
        }
      ]
    },
    {
      "cell_type": "code",
      "source": [
        "#bonus - łączymy góry i jeziora w jedną grupę \n",
        "tab = np.array([[64,41],[72,23]])\n",
        "results = stats.chi2_contingency(tab)\n",
        "print(results)\n",
        "#małe p-val -> odrzucamy H0 -> jest zależność między płcią a preferowanym kierunkiem wakacji"
      ],
      "metadata": {
        "colab": {
          "base_uri": "https://localhost:8080/"
        },
        "id": "xIf4aLzuLaoY",
        "outputId": "b886dd30-f427-47da-b87f-d2b81ecf6682"
      },
      "execution_count": null,
      "outputs": [
        {
          "output_type": "stream",
          "name": "stdout",
          "text": [
            "(4.386886333480762, 0.03621639600703492, 1, array([[71.4, 33.6],\n",
            "       [64.6, 30.4]]))\n"
          ]
        }
      ]
    },
    {
      "cell_type": "markdown",
      "metadata": {
        "id": "Oh4uaAbycnhb"
      },
      "source": [
        "# Zadanie 3\n",
        "W sondażu opinii publicznej zbadano 1000 wyborców. Respondenci zostali sklasyfikowani według płci (mężczyzna lub kobieta) i według preferencji głosowania (republikanin, demokrata lub niezależny). Wyniki pokazano w tabeli awaryjnej poniżej.\n",
        "\n",
        "|           | Republikanie | Demokraci | Niezależni |\n",
        "|:---------:|:------------:|:---------:|:----------:|\n",
        "| Mężczyzna |      200     |    150    |     50     |\n",
        "|  Kobieta  |      250     |    300    |     50     |\n",
        "\n",
        "Czy istnieje różnica między kobietami i mężczyznami? Czy preferencje mężczyzn w głosowaniu różnią się znacznie od preferencji kobiet? Użyj poziomu istotności 0.05."
      ]
    },
    {
      "cell_type": "code",
      "execution_count": null,
      "metadata": {
        "id": "87TSFsOjcnhc",
        "colab": {
          "base_uri": "https://localhost:8080/"
        },
        "outputId": "119aa6af-54cc-4b03-d1d2-aa03b38e315b"
      },
      "outputs": [
        {
          "output_type": "execute_result",
          "data": {
            "text/plain": [
              "array([[200, 150,  50],\n",
              "       [250, 300,  50]])"
            ]
          },
          "metadata": {},
          "execution_count": 14
        }
      ],
      "source": [
        "tab = np.array([[200, 150, 50], [250, 300, 50]])\n",
        "tab"
      ]
    },
    {
      "cell_type": "code",
      "source": [
        "stats.chi2_contingency(tab)"
      ],
      "metadata": {
        "colab": {
          "base_uri": "https://localhost:8080/"
        },
        "id": "WZvcRkmEhXnp",
        "outputId": "b776fe79-9d5d-4d45-f272-2b82fef6cdee"
      },
      "execution_count": null,
      "outputs": [
        {
          "output_type": "execute_result",
          "data": {
            "text/plain": [
              "(16.203703703703702, 0.0003029775487145488, 2, array([[180., 180.,  40.],\n",
              "        [270., 270.,  60.]]))"
            ]
          },
          "metadata": {},
          "execution_count": 15
        }
      ]
    },
    {
      "cell_type": "code",
      "source": [
        "#małe p-val -> odrzucamy H0 -> jest zależność między płcią, a preferencjami wyborczymi"
      ],
      "metadata": {
        "id": "CWKHydqbhabw"
      },
      "execution_count": null,
      "outputs": []
    },
    {
      "cell_type": "markdown",
      "source": [
        "#Dokładny test Fishera\n",
        " \n",
        "*   Test niezależności stosowany zamiast testu $\\chi^2$, gdy liczebności w komórkach w tabeli są mniejsze niż 5, a całkowita liczba obserwacji jest nie większa niż 20.\n",
        "*   Stosowany dla danych dostępnych w formie tablicy $2\\times 2$.  \n",
        "\n",
        "|           | $B_1$ | $B_2$ |\n",
        "|:---------:|:------------:|:---------:|\n",
        "| $A_1$ |      $n_{11}$    |    $n_{12}$    |\n",
        "| $A_2$  |      $n_{21}$     |    $n_{22}$    |\n",
        "\n",
        "W ramach testu Fishera obliczane jest prawdopodobieństwo otrzymania danego rozkładu z tablicy. Rozpatrywane  są  wszelkie możliwe  kombinacje  liczebności  komórek  w  oparciu  o liczebności brzegowe zgodnie ze wzorem:\n",
        "\\begin{equation*}\n",
        "    p = \\frac{{n_{11}+n_{12}\\choose n_{11}}{n_{21}+n_{22}\\choose n_{21}}}{{n \\choose n_{11}+n_{12}}}\n",
        "\\end{equation*}\n",
        "\n",
        "Dokładny poziom istotności $p$ jest sumą tych prawdopodobieństw, które są mniejsze lub równe badanemu prawdopodobieństwu."
      ],
      "metadata": {
        "id": "3e64hp3tfe-g"
      }
    },
    {
      "cell_type": "markdown",
      "metadata": {
        "id": "CNf6FVKMcnhc"
      },
      "source": [
        "# Zadanie 4\n",
        "Poniższa tabela podaje zestawienie efektów dwóch form terapii nowotworu krtani (zabiegu chirurgicznego i radioterapii) po upływie dwóch lat od zakończenia terapii.\n",
        "\n",
        "|                     | Opanowanie nowotworu | Nieopanowanie nowotworu |\n",
        "|:-------------------:|:--------------------:|:-----------------------:|\n",
        "| Zabieg chirurgiczny |          20          |            2            |\n",
        "|     Radioterapia    |          14          |            3            |\n",
        "\n",
        "Korzystając z tzw. dokładanego testu Fishera stwierdzić, czy wyniki obu zastosowanych form terapii różnią się istotnie."
      ]
    },
    {
      "cell_type": "code",
      "source": [
        "tab = np.array([[20,2],[14,3]])\n",
        "tab\n",
        "stats.fisher_exact(tab)\n",
        "#duże p-val -> nie odrzucamy H0 -> nie ma zależności między sposobem leczenia, \n",
        "#a opanowaniem nowotworu"
      ],
      "metadata": {
        "id": "KaSZ2wzbdRzD",
        "colab": {
          "base_uri": "https://localhost:8080/"
        },
        "outputId": "02ee4627-c9b9-4fe1-de7c-5ae4cff59adb"
      },
      "execution_count": null,
      "outputs": [
        {
          "output_type": "execute_result",
          "data": {
            "text/plain": [
              "(2.142857142857143, 0.6362354257091087)"
            ]
          },
          "metadata": {},
          "execution_count": 17
        }
      ]
    },
    {
      "cell_type": "code",
      "source": [
        "#bonus - co by było gdyby w radioterapii 8 przypadków byłoby opanowanych, a 9 nie\n",
        "tab = np.array([[20,2],[8,9]])\n",
        "tab\n",
        "stats.fisher_exact(tab)\n",
        "#małe p-val -> odrzucamy H0 -> jest zależność między sposobem leczenia, \n",
        "#a opanowaniem nowotworu"
      ],
      "metadata": {
        "colab": {
          "base_uri": "https://localhost:8080/"
        },
        "id": "QimPuyTcN1AO",
        "outputId": "a0be83c5-7f2e-4ec1-f080-7ad2f0760f81"
      },
      "execution_count": null,
      "outputs": [
        {
          "output_type": "execute_result",
          "data": {
            "text/plain": [
              "(11.25, 0.00403403813625698)"
            ]
          },
          "metadata": {},
          "execution_count": 18
        }
      ]
    },
    {
      "cell_type": "markdown",
      "metadata": {
        "id": "H8r-YpeDcnhf"
      },
      "source": [
        "# Zadanie 5\n",
        "Badając  wpływ  sposobu  karmienia  niemowląt  na stan  ich  uzębienia  uzyskano  wyniki przedstawione  w  poniższej tabeli.\n",
        "\n",
        "|          |           | Niemowlęta z uzębieniem |          |\n",
        "|:--------:|:---------:|:-----------------------:|:--------:|\n",
        "|          |           |        normalnym        | wadliwym |\n",
        "| Karmione |  piersią  |            4            |    16    |\n",
        "|          | z butelki |            1            |    21    |\n",
        "\n",
        "Na poziomie istotności 0.05, stwierdzić, czy sposób karmienia niemowląt a ich stan uzębienia są zmiennymi niezależnymi."
      ]
    },
    {
      "cell_type": "code",
      "source": [
        "tab = np.array([[4,16],[1,21]])\n",
        "stats.fisher_exact(tab)\n",
        "#duże p-val -> nie odrzucamy H0 -> nie ma zależności między sposobem karmienia dziecka, \n",
        "# a stanem jego uzębienia"
      ],
      "metadata": {
        "id": "G0rirvx0dN9P",
        "colab": {
          "base_uri": "https://localhost:8080/"
        },
        "outputId": "d19d0930-5cd6-43c5-baa4-81659f6e1e5d"
      },
      "execution_count": null,
      "outputs": [
        {
          "output_type": "execute_result",
          "data": {
            "text/plain": [
              "(5.25, 0.1744840525328329)"
            ]
          },
          "metadata": {},
          "execution_count": 19
        }
      ]
    },
    {
      "cell_type": "markdown",
      "source": [
        "#Test McNemara\n",
        "Służy do weryfikacji hipotezy o zgodności pomiędzy wynikami dwukrotnych pomiarów cechy $X$. \n",
        "\n",
        "Tabela kontyngencji o wymiarach $2\\times 2$:\n",
        "\n",
        "|           | Kategoria 1 | Kategoria 2 |\n",
        "|:---------:|:------------:|:---------:|\n",
        "| Kategoria 1 |      $O_{11}$    |    $O_{12}$    |\n",
        "| Kategoria 2  |      $O_{21}$     |    $O_{22}$    |\n",
        "\n",
        "Hipotezy\n",
        "\\begin{equation*}\n",
        "    H_0: O_{12} = O_{21}\\\\\n",
        "    H_1: O_{12} \\neq O_{21},\n",
        "\\end{equation*}\n",
        "gdzie $O_{12}$ i $O_{21}$ są licznościami obserwowanymi występującymi poza główną przekątną macierzy kontyngencji $2\\times 2$, czyli licznościami mówiącymi o braku zgodności wyników dwukrotnych pomiarów. \n",
        "\n",
        "Statystyka testowa jest dana wzorem\n",
        "\\begin{equation*}\n",
        "    T = \\frac{(O_{12} - O_{21})^2}{O_{12} + O_{21}}.\n",
        "\\end{equation*}\n",
        " Statystyka ta ma asymptotycznie (dla dużych liczności) rozkład chi-kwadrat z jednym stopniem swobody. \n"
      ],
      "metadata": {
        "id": "rDIiQwDb6GK6"
      }
    },
    {
      "cell_type": "markdown",
      "metadata": {
        "id": "-ZISC6iqcnhg"
      },
      "source": [
        "# Zadanie 6\n",
        "Po roku, który minął od powołania nowego rządu, losowo wybrana grupa 1600 osób została poproszona o ocenę gabinetu. Po upływie kolejnego roku ta sama grupa osób została powtórnie poproszona o wyrażenie swej opinii. Wyniki sondażu znajdują się w poniższej tabeli.\n",
        "\n",
        "|                                 |             |  Ocena po drugim roku rządów |             |\n",
        "|:-------------------------------:|:-----------:|:----------------------------:|:-----------:|\n",
        "|                                 |             |           Poparcie           | Dezaprobata |\n",
        "|  Ocena po pierwszym roku rządów |   Poparcie  |              794             |     150     |\n",
        "|                                 | Dezaprobata |              86              |     570     |\n",
        "\n",
        "Czy na podstawie tego badania można stwierdzić, że stopień poparcia dla gabinetu uległ istotnej zmianie?"
      ]
    },
    {
      "cell_type": "code",
      "source": [
        "tab = np.array([[794,150],[86,570]])\n",
        "print(mcnemar(tab))\n",
        "#małe p-val -> odrzucamy H0 ->  poparcie dla rządu zmieniło się istotnie przez ostatni rok\n"
      ],
      "metadata": {
        "id": "PGARJ5cWc_0m",
        "colab": {
          "base_uri": "https://localhost:8080/"
        },
        "outputId": "1917daa3-087e-4f6a-f0b4-caa192c2d427"
      },
      "execution_count": null,
      "outputs": [
        {
          "output_type": "stream",
          "name": "stdout",
          "text": [
            "pvalue      3.7159361395725575e-05\n",
            "statistic   86.0\n"
          ]
        }
      ]
    },
    {
      "cell_type": "markdown",
      "metadata": {
        "id": "QstLGPS4cnhi"
      },
      "source": [
        "# Zadanie 7\n",
        "Przeprowadzono ankietę, w której pytano się ankietowanych „Czy wirusem HIV można się zakazić przez podanie ręki?”. Odpowiedź „Tak” udzieliło 67 osób z pośród 100 ankietowanych. Po zastosowanej ankiecie przeprowadzono wśród uczestników, wykład na temat choroby AIDS i metodach przenoszenia wirusa HIV. Po wykładzie ponowiono pytanie. W wyniku badania: odpowiedzi „Tak” udzieliło 20 osób, w tym 0 osób co wcześniej udzieliło odpowiedzi „Nie”. Odpowiedzi „Nie” udzieliło 80 osób, w tym 47 osób co wcześniej udzieliło odpowiedzi „Tak”. Pytanie jakie stawia badacz brzmi: Czy przeprowadzony wykład wpłynął na rodzaj udzielanych odpowiedzi?."
      ]
    },
    {
      "cell_type": "markdown",
      "metadata": {
        "id": "yVtOXldNcnhi"
      },
      "source": [
        "|                  |     | Po  wykładzie |     |\n",
        "|:----------------:|:---:|:-------------:|:---:|\n",
        "|                  |     |      Tak      | Nie |\n",
        "|  Przed wykładem  | Tak |       20      |  47 |\n",
        "|                  | Nie |       0       |  33 |"
      ]
    },
    {
      "cell_type": "code",
      "execution_count": null,
      "metadata": {
        "id": "3qVtREuRcnhi",
        "colab": {
          "base_uri": "https://localhost:8080/"
        },
        "outputId": "fbe83aa1-16fe-4360-8c41-4137ecda6b8c"
      },
      "outputs": [
        {
          "output_type": "stream",
          "name": "stdout",
          "text": [
            "pvalue      1.4210854715202004e-14\n",
            "statistic   0.0\n"
          ]
        }
      ],
      "source": [
        "tab = np.array([[20,47],[0,33]])\n",
        "print(mcnemar(tab))\n",
        "#małe p-val -> odrzucamy H0 -> liczba osób nie wierzących w to, \n",
        "#że można się zarazić przez podanie ręki znaczączo się zmieniła po wykładzie"
      ]
    }
  ],
  "metadata": {
    "kernelspec": {
      "display_name": "Python 3",
      "language": "python",
      "name": "python3"
    },
    "language_info": {
      "codemirror_mode": {
        "name": "ipython",
        "version": 3
      },
      "file_extension": ".py",
      "mimetype": "text/x-python",
      "name": "python",
      "nbconvert_exporter": "python",
      "pygments_lexer": "ipython3",
      "version": "3.7.4"
    },
    "colab": {
      "provenance": []
    }
  },
  "nbformat": 4,
  "nbformat_minor": 0
}