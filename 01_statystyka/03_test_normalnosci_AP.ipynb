{
 "cells": [
  {
   "cell_type": "markdown",
   "metadata": {
    "id": "Lk4Mh7MGibTP"
   },
   "source": [
    "# Testy normalności"
   ]
  },
  {
   "cell_type": "code",
   "execution_count": 1,
   "metadata": {
    "id": "TDRqP6hxibTS"
   },
   "outputs": [],
   "source": [
    "import numpy as np\n",
    "import pandas as pd\n",
    "import matplotlib.pyplot as plt\n",
    "import statsmodels.api as sm\n",
    "import statsmodels.stats as sm_stats\n",
    "\n",
    "from scipy import stats"
   ]
  },
  {
   "cell_type": "markdown",
   "metadata": {
    "id": "Cszb1dQ4ibTT"
   },
   "source": [
    "Jednym z podstawowych kryteriów stosowalności technik statystycznych jest **rozkład danych**, do którego konkretna technika zostanie użyta. \n",
    "\n",
    "W podstawowych zastosowaniach interesuje nas właściwie jedynie czy rozkład populacji jest normalny, czy nie. Rozkład populacji staramy się ustalić na podstawie zebranej próby, więc w tym celu stosujemy odpowiednie testy statystyczne. \n",
    "\n",
    "Najbardziej uniwersalnym i w obecnych czasach najbardziej rozpowszechnionym testem używanym do tego celu jest **test Shapiro-Wilka**."
   ]
  },
  {
   "cell_type": "markdown",
   "metadata": {
    "id": "6jCzxG8KibTU"
   },
   "source": [
    "## Testy normalności - test Shapiro-Wilka\n",
    "\\begin{equation*}\n",
    "\\begin{split}\n",
    "    H_0&: \\text{rozkład badanej cechy jest normalny}\\\\\n",
    "    H_1&: \\text{rozkład badanej cechy nie jest normalny}\n",
    "\\end{split}\n",
    "\\end{equation*}\n",
    "\n",
    "Statystyka testowa \\textbf{testu Shapiro-Wilka} dana jest wzorem\n",
    "\\begin{equation*}\n",
    "    T = \\frac{\\Big( \\sum_{i=1}^{[\\frac{n}{2}]}a_i(n)(X_{n-i+1:n} - X_{i:n} \\Big)^2}{\\sum_{i=1}^n(X_i - \\overline{X})^2},\n",
    "\\end{equation*}\n",
    "gdzie $a_i(n)$ są pewnymi stałymi zależnymi od liczności próby, natomiast $[n/2]$ oznacza część całkowitą wyrażenia $n/2$.\n",
    "\n",
    "Obszar krytyczny ma postać\n",
    "\\begin{equation*}\n",
    "    W_{\\alpha} = (0, w(\\alpha, n)],\n",
    "\\end{equation*}\n",
    "gdzie $w(\\alpha, n)$ oznacza kwantyl rzędu $\\alpha$ rozkładu statystyki.\n"
   ]
  },
  {
   "cell_type": "code",
   "execution_count": 5,
   "metadata": {
    "id": "G7izL2FBibTU",
    "scrolled": true
   },
   "outputs": [
    {
     "data": {
      "text/plain": [
       "\u001b[1;31mSignature:\u001b[0m \u001b[0mstats\u001b[0m\u001b[1;33m.\u001b[0m\u001b[0mshapiro\u001b[0m\u001b[1;33m(\u001b[0m\u001b[0mx\u001b[0m\u001b[1;33m,\u001b[0m \u001b[1;33m*\u001b[0m\u001b[1;33m,\u001b[0m \u001b[0maxis\u001b[0m\u001b[1;33m=\u001b[0m\u001b[1;32mNone\u001b[0m\u001b[1;33m,\u001b[0m \u001b[0mnan_policy\u001b[0m\u001b[1;33m=\u001b[0m\u001b[1;34m'propagate'\u001b[0m\u001b[1;33m,\u001b[0m \u001b[0mkeepdims\u001b[0m\u001b[1;33m=\u001b[0m\u001b[1;32mFalse\u001b[0m\u001b[1;33m)\u001b[0m\u001b[1;33m\u001b[0m\u001b[1;33m\u001b[0m\u001b[0m\n",
       "\u001b[1;31mDocstring:\u001b[0m\n",
       "Perform the Shapiro-Wilk test for normality.\n",
       "\n",
       "The Shapiro-Wilk test tests the null hypothesis that the\n",
       "data was drawn from a normal distribution.\n",
       "\n",
       "Parameters\n",
       "----------\n",
       "x : array_like\n",
       "    Array of sample data.\n",
       "axis : int or None, default: None\n",
       "    If an int, the axis of the input along which to compute the statistic.\n",
       "    The statistic of each axis-slice (e.g. row) of the input will appear in a\n",
       "    corresponding element of the output.\n",
       "    If ``None``, the input will be raveled before computing the statistic.\n",
       "nan_policy : {'propagate', 'omit', 'raise'}\n",
       "    Defines how to handle input NaNs.\n",
       "    \n",
       "    - ``propagate``: if a NaN is present in the axis slice (e.g. row) along\n",
       "      which the  statistic is computed, the corresponding entry of the output\n",
       "      will be NaN.\n",
       "    - ``omit``: NaNs will be omitted when performing the calculation.\n",
       "      If insufficient data remains in the axis slice along which the\n",
       "      statistic is computed, the corresponding entry of the output will be\n",
       "      NaN.\n",
       "    - ``raise``: if a NaN is present, a ``ValueError`` will be raised.\n",
       "keepdims : bool, default: False\n",
       "    If this is set to True, the axes which are reduced are left\n",
       "    in the result as dimensions with size one. With this option,\n",
       "    the result will broadcast correctly against the input array.\n",
       "\n",
       "Returns\n",
       "-------\n",
       "statistic : float\n",
       "    The test statistic.\n",
       "p-value : float\n",
       "    The p-value for the hypothesis test.\n",
       "\n",
       "See Also\n",
       "--------\n",
       "\n",
       ":func:`anderson`\n",
       "    The Anderson-Darling test for normality\n",
       ":func:`kstest`\n",
       "    The Kolmogorov-Smirnov test for goodness of fit.\n",
       "\n",
       "\n",
       "Notes\n",
       "-----\n",
       "The algorithm used is described in [4]_ but censoring parameters as\n",
       "described are not implemented. For N > 5000 the W test statistic is\n",
       "accurate, but the p-value may not be.\n",
       "\n",
       "Beginning in SciPy 1.9, ``np.matrix`` inputs (not recommended for new\n",
       "code) are converted to ``np.ndarray`` before the calculation is performed. In\n",
       "this case, the output will be a scalar or ``np.ndarray`` of appropriate shape\n",
       "rather than a 2D ``np.matrix``. Similarly, while masked elements of masked\n",
       "arrays are ignored, the output will be a scalar or ``np.ndarray`` rather than a\n",
       "masked array with ``mask=False``.\n",
       "\n",
       "References\n",
       "----------\n",
       ".. [1] https://www.itl.nist.gov/div898/handbook/prc/section2/prc213.htm\n",
       "       :doi:`10.18434/M32189`\n",
       ".. [2] Shapiro, S. S. & Wilk, M.B, \"An analysis of variance test for\n",
       "       normality (complete samples)\", Biometrika, 1965, Vol. 52,\n",
       "       pp. 591-611, :doi:`10.2307/2333709`\n",
       ".. [3] Razali, N. M. & Wah, Y. B., \"Power comparisons of Shapiro-Wilk,\n",
       "       Kolmogorov-Smirnov, Lilliefors and Anderson-Darling tests\", Journal\n",
       "       of Statistical Modeling and Analytics, 2011, Vol. 2, pp. 21-33.\n",
       ".. [4] Royston P., \"Remark AS R94: A Remark on Algorithm AS 181: The\n",
       "       W-test for Normality\", 1995, Applied Statistics, Vol. 44,\n",
       "       :doi:`10.2307/2986146`\n",
       ".. [5] Phipson B., and Smyth, G. K., \"Permutation P-values Should Never Be\n",
       "       Zero: Calculating Exact P-values When Permutations Are Randomly\n",
       "       Drawn\", Statistical Applications in Genetics and Molecular Biology,\n",
       "       2010, Vol.9, :doi:`10.2202/1544-6115.1585`\n",
       ".. [6] Panagiotakos, D. B., \"The value of p-value in biomedical\n",
       "       research\", The Open Cardiovascular Medicine Journal, 2008, Vol.2,\n",
       "       pp. 97-99, :doi:`10.2174/1874192400802010097`\n",
       "\n",
       "Examples\n",
       "--------\n",
       "Suppose we wish to infer from measurements whether the weights of adult\n",
       "human males in a medical study are not normally distributed [2]_.\n",
       "The weights (lbs) are recorded in the array ``x`` below.\n",
       "\n",
       ">>> import numpy as np\n",
       ">>> x = np.array([148, 154, 158, 160, 161, 162, 166, 170, 182, 195, 236])\n",
       "\n",
       "The normality test of [1]_ and [2]_ begins by computing a statistic based\n",
       "on the relationship between the observations and the expected order\n",
       "statistics of a normal distribution.\n",
       "\n",
       ">>> from scipy import stats\n",
       ">>> res = stats.shapiro(x)\n",
       ">>> res.statistic\n",
       "0.7888147830963135\n",
       "\n",
       "The value of this statistic tends to be high (close to 1) for samples drawn\n",
       "from a normal distribution.\n",
       "\n",
       "The test is performed by comparing the observed value of the statistic\n",
       "against the null distribution: the distribution of statistic values formed\n",
       "under the null hypothesis that the weights were drawn from a normal\n",
       "distribution. For this normality test, the null distribution is not easy to\n",
       "calculate exactly, so it is usually approximated by Monte Carlo methods,\n",
       "that is, drawing many samples of the same size as ``x`` from a normal\n",
       "distribution and computing the values of the statistic for each.\n",
       "\n",
       ">>> def statistic(x):\n",
       "...     # Get only the `shapiro` statistic; ignore its p-value\n",
       "...     return stats.shapiro(x).statistic\n",
       ">>> ref = stats.monte_carlo_test(x, stats.norm.rvs, statistic,\n",
       "...                              alternative='less')\n",
       ">>> import matplotlib.pyplot as plt\n",
       ">>> fig, ax = plt.subplots(figsize=(8, 5))\n",
       ">>> bins = np.linspace(0.65, 1, 50)\n",
       ">>> def plot(ax):  # we'll reuse this\n",
       "...     ax.hist(ref.null_distribution, density=True, bins=bins)\n",
       "...     ax.set_title(\"Shapiro-Wilk Test Null Distribution \\n\"\n",
       "...                  \"(Monte Carlo Approximation, 11 Observations)\")\n",
       "...     ax.set_xlabel(\"statistic\")\n",
       "...     ax.set_ylabel(\"probability density\")\n",
       ">>> plot(ax)\n",
       ">>> plt.show()\n",
       "\n",
       "The comparison is quantified by the p-value: the proportion of values in\n",
       "the null distribution less than or equal to the observed value of the\n",
       "statistic.\n",
       "\n",
       ">>> fig, ax = plt.subplots(figsize=(8, 5))\n",
       ">>> plot(ax)\n",
       ">>> annotation = (f'p-value={res.pvalue:.6f}\\n(highlighted area)')\n",
       ">>> props = dict(facecolor='black', width=1, headwidth=5, headlength=8)\n",
       ">>> _ = ax.annotate(annotation, (0.75, 0.1), (0.68, 0.7), arrowprops=props)\n",
       ">>> i_extreme = np.where(bins <= res.statistic)[0]\n",
       ">>> for i in i_extreme:\n",
       "...     ax.patches[i].set_color('C1')\n",
       ">>> plt.xlim(0.65, 0.9)\n",
       ">>> plt.ylim(0, 4)\n",
       ">>> plt.show\n",
       ">>> res.pvalue\n",
       "0.006703833118081093\n",
       "\n",
       "If the p-value is \"small\" - that is, if there is a low probability of\n",
       "sampling data from a normally distributed population that produces such an\n",
       "extreme value of the statistic - this may be taken as evidence against\n",
       "the null hypothesis in favor of the alternative: the weights were not\n",
       "drawn from a normal distribution. Note that:\n",
       "\n",
       "- The inverse is not true; that is, the test is not used to provide\n",
       "  evidence *for* the null hypothesis.\n",
       "- The threshold for values that will be considered \"small\" is a choice that\n",
       "  should be made before the data is analyzed [5]_ with consideration of the\n",
       "  risks of both false positives (incorrectly rejecting the null hypothesis)\n",
       "  and false negatives (failure to reject a false null hypothesis).\n",
       "\u001b[1;31mFile:\u001b[0m      c:\\users\\bpe\\anaconda3\\lib\\site-packages\\scipy\\stats\\_morestats.py\n",
       "\u001b[1;31mType:\u001b[0m      function"
      ]
     },
     "metadata": {},
     "output_type": "display_data"
    }
   ],
   "source": [
    "?stats.shapiro"
   ]
  },
  {
   "cell_type": "markdown",
   "metadata": {
    "id": "XV3N6KZOibTW"
   },
   "source": [
    "## Zadanie \n",
    "Wygeneruj kilka próbek o różnej liczności z \n",
    "\n",
    "a) rozkładu normalnego,\n",
    "\n",
    "b) dla rozkładu chi-kwadrat,\n",
    "\n",
    "c) dla rozkładu wykładniczego,\n",
    "\n",
    "sporządź histogramy dla wygenerowanych próbek i sprawdź zachowanie się testu Shapiro-Wilka. Przyjmij poziom istotności 0.05."
   ]
  },
  {
   "cell_type": "code",
   "execution_count": 2,
   "metadata": {
    "id": "uGbozBAGibTW"
   },
   "outputs": [
    {
     "name": "stdout",
     "output_type": "stream",
     "text": [
      "ShapiroResult(statistic=0.9509468654910888, pvalue=0.6797121861165623)\n",
      "ShapiroResult(statistic=0.9236016290075002, pvalue=0.3879752899906033)\n",
      "ShapiroResult(statistic=0.8110679821676178, pvalue=0.019755292738639872)\n",
      "ShapiroResult(statistic=0.8461997986545403, pvalue=0.052337371263858436)\n"
     ]
    }
   ],
   "source": [
    "n =10\n",
    "norm = stats.norm.rvs(size = n,loc = 2,scale = 0.5)\n",
    "print(stats.shapiro(norm))\n",
    "norm_error = stats.norm.rvs(size = n,loc = 2,scale = 0.5)+stats.uniform.rvs(size = n,loc = -0.6,scale = 1.2)\n",
    "print(stats.shapiro(norm_error))\n",
    "chi = stats.chi2.rvs(size = n, df = 5)\n",
    "print(stats.shapiro(chi))\n",
    "exp = stats.expon.rvs(size = n, scale = 1/2)\n",
    "print(stats.shapiro(exp))"
   ]
  },
  {
   "cell_type": "code",
   "execution_count": 3,
   "metadata": {
    "id": "Yf_1Yr0SibTW"
   },
   "outputs": [
    {
     "name": "stdout",
     "output_type": "stream",
     "text": [
      "ShapiroResult(statistic=0.999645059199681, pvalue=0.540785114822715)\n",
      "ShapiroResult(statistic=0.9993861840792796, pvalue=0.09097166599472122)\n",
      "ShapiroResult(statistic=0.9120233474922603, pvalue=4.439160505571821e-47)\n",
      "ShapiroResult(statistic=0.8210931255871854, pvalue=1.6774466799850367e-59)\n"
     ]
    }
   ],
   "source": [
    "n =5000\n",
    "norm = stats.norm.rvs(size = n,loc = 2,scale = 0.5)\n",
    "print(stats.shapiro(norm))\n",
    "norm_error = stats.norm.rvs(size = n,loc = 2,scale = 0.5)+stats.uniform.rvs(size = n,loc = -0.6,scale = 1.2)\n",
    "print(stats.shapiro(norm_error))\n",
    "chi = stats.chi2.rvs(size = n, df = 5)\n",
    "print(stats.shapiro(chi))\n",
    "exp = stats.expon.rvs(size = n, scale = 1/2)\n",
    "print(stats.shapiro(exp))"
   ]
  },
  {
   "cell_type": "code",
   "execution_count": 6,
   "metadata": {
    "id": "b4EccIfVibTW"
   },
   "outputs": [
    {
     "data": {
      "text/plain": [
       "0.0417"
      ]
     },
     "execution_count": 6,
     "metadata": {},
     "output_type": "execute_result"
    }
   ],
   "source": [
    "n =5000\n",
    "k = 10000\n",
    "rej = []\n",
    "for i in range(k):\n",
    "  norm = stats.norm.rvs(size = n,loc = 2,scale = 0.5)\n",
    "  rej.append(stats.shapiro(norm)[1]<0.05)\n",
    "sum(rej)/k"
   ]
  },
  {
   "cell_type": "code",
   "execution_count": 8,
   "metadata": {
    "id": "xwAuk18Ktufp"
   },
   "outputs": [
    {
     "data": {
      "text/plain": [
       "0.0"
      ]
     },
     "execution_count": 8,
     "metadata": {},
     "output_type": "execute_result"
    }
   ],
   "source": [
    "n =5000\n",
    "k = 10000\n",
    "rej = []\n",
    "for i in range(k):\n",
    "  cau = stats.cauchy.rvs(size = n)\n",
    "  rej.append(stats.shapiro(cau)[1]>0.05)\n",
    "sum(rej)/k"
   ]
  },
  {
   "cell_type": "code",
   "execution_count": null,
   "metadata": {
    "id": "WM1YYoRbibTX"
   },
   "outputs": [],
   "source": []
  },
  {
   "cell_type": "markdown",
   "metadata": {
    "id": "dANAi20VibTX"
   },
   "source": [
    "## Zadanie\n",
    "Wygeneruj kilka próbek z rozkładu normalnego dla różnych parametrów $\\mu$ i $\\sigma$ i dla różnej liczności próbki i sprawdź ile razy zostanie odrzucona hipoteza o normalności rozkładu. Przyjmij poziom istotności 0.05."
   ]
  },
  {
   "cell_type": "code",
   "execution_count": 9,
   "metadata": {
    "id": "507G_eC8ibTX"
   },
   "outputs": [
    {
     "name": "stdout",
     "output_type": "stream",
     "text": [
      "---------------------------------\n",
      "P-value testu Shapiro-Wilka dla mu=-5.0, sigma=0.24, n=5: 0.29527474261451353\n",
      "P-value testu Shapiro-Wilka dla mu=-4.795918367346939, sigma=0.11, n=5: 0.12690817300806267\n",
      "P-value testu Shapiro-Wilka dla mu=-4.591836734693878, sigma=0.15, n=5: 0.05075939178011778\n",
      "P-value testu Shapiro-Wilka dla mu=-4.387755102040816, sigma=0.45, n=5: 0.4442003260535846\n",
      "P-value testu Shapiro-Wilka dla mu=-4.183673469387755, sigma=0.26, n=5: 0.27517022031440075\n",
      "P-value testu Shapiro-Wilka dla mu=-3.979591836734694, sigma=0.55, n=5: 0.05295801302438061\n",
      "P-value testu Shapiro-Wilka dla mu=-3.7755102040816326, sigma=0.06, n=5: 0.8899951805237394\n",
      "P-value testu Shapiro-Wilka dla mu=-3.571428571428571, sigma=1.27, n=5: 0.1307781888973455\n",
      "P-value testu Shapiro-Wilka dla mu=-3.36734693877551, sigma=1.56, n=5: 0.4219718950643777\n",
      "P-value testu Shapiro-Wilka dla mu=-3.163265306122449, sigma=1.7, n=5: 0.08568995901644125\n",
      "P-value testu Shapiro-Wilka dla mu=-2.9591836734693877, sigma=0.9, n=5: 0.8323830178998981\n",
      "P-value testu Shapiro-Wilka dla mu=-2.7551020408163263, sigma=1.72, n=5: 0.09908490968139959\n",
      "P-value testu Shapiro-Wilka dla mu=-2.5510204081632653, sigma=1.7, n=5: 0.6689879907746595\n",
      "P-value testu Shapiro-Wilka dla mu=-2.3469387755102042, sigma=1.08, n=5: 0.4506902119304815\n",
      "P-value testu Shapiro-Wilka dla mu=-2.142857142857143, sigma=1.1, n=5: 0.0967598954022542\n",
      "P-value testu Shapiro-Wilka dla mu=-1.9387755102040813, sigma=1.97, n=5: 0.11172176064195788\n",
      "P-value testu Shapiro-Wilka dla mu=-1.7346938775510203, sigma=0.21, n=5: 0.8181288714565045\n",
      "P-value testu Shapiro-Wilka dla mu=-1.5306122448979593, sigma=1.52, n=5: 0.5009150683819292\n",
      "P-value testu Shapiro-Wilka dla mu=-1.3265306122448979, sigma=0.84, n=5: 0.3024165942130611\n",
      "P-value testu Shapiro-Wilka dla mu=-1.1224489795918364, sigma=1.63, n=5: 0.5107318042234426\n",
      "P-value testu Shapiro-Wilka dla mu=-0.9183673469387754, sigma=1.54, n=5: 0.4910970751956204\n",
      "P-value testu Shapiro-Wilka dla mu=-0.7142857142857144, sigma=0.76, n=5: 0.7551697541059927\n",
      "P-value testu Shapiro-Wilka dla mu=-0.5102040816326525, sigma=0.58, n=5: 0.5602382013400189\n",
      "P-value testu Shapiro-Wilka dla mu=-0.3061224489795915, sigma=0.61, n=5: 0.06471650487738721\n",
      "P-value testu Shapiro-Wilka dla mu=-0.1020408163265305, sigma=0.47, n=5: 0.3810023218274492\n",
      "P-value testu Shapiro-Wilka dla mu=0.1020408163265305, sigma=1.45, n=5: 0.5604308317704061\n",
      "P-value testu Shapiro-Wilka dla mu=0.3061224489795915, sigma=0.2, n=5: 0.33256801266397046\n",
      "P-value testu Shapiro-Wilka dla mu=0.5102040816326534, sigma=1.81, n=5: 0.9412542210646679\n",
      "P-value testu Shapiro-Wilka dla mu=0.7142857142857144, sigma=1.24, n=5: 0.46394400092098437\n",
      "P-value testu Shapiro-Wilka dla mu=0.9183673469387754, sigma=1.59, n=5: 0.5220140267284152\n",
      "P-value testu Shapiro-Wilka dla mu=1.1224489795918373, sigma=1.54, n=5: 0.985787166333946\n",
      "P-value testu Shapiro-Wilka dla mu=1.3265306122448983, sigma=1.42, n=5: 0.13204091875995094\n",
      "P-value testu Shapiro-Wilka dla mu=1.5306122448979593, sigma=0.79, n=5: 0.794234454671394\n",
      "P-value testu Shapiro-Wilka dla mu=1.7346938775510203, sigma=1.1, n=5: 0.23526707220005566\n",
      "P-value testu Shapiro-Wilka dla mu=1.9387755102040813, sigma=1.63, n=5: 0.07534168249041155\n",
      "P-value testu Shapiro-Wilka dla mu=2.1428571428571432, sigma=0.66, n=5: 0.8046382280612705\n",
      "P-value testu Shapiro-Wilka dla mu=2.3469387755102042, sigma=0.33, n=5: 0.19372624163412777\n",
      "P-value testu Shapiro-Wilka dla mu=2.5510204081632653, sigma=1.71, n=5: 0.6140606339223978\n",
      "P-value testu Shapiro-Wilka dla mu=2.755102040816327, sigma=0.53, n=5: 0.5782546691254737\n",
      "P-value testu Shapiro-Wilka dla mu=2.959183673469388, sigma=1.25, n=5: 0.5832832332832046\n",
      "P-value testu Shapiro-Wilka dla mu=3.163265306122449, sigma=0.8, n=5: 0.019014842372750765\n",
      "P-value testu Shapiro-Wilka dla mu=3.36734693877551, sigma=0.04, n=5: 0.9806791085102553\n",
      "P-value testu Shapiro-Wilka dla mu=3.571428571428571, sigma=1.03, n=5: 0.9984838085046943\n",
      "P-value testu Shapiro-Wilka dla mu=3.775510204081632, sigma=1.25, n=5: 0.7669445919234845\n",
      "P-value testu Shapiro-Wilka dla mu=3.979591836734695, sigma=1.36, n=5: 0.7286655008828574\n",
      "P-value testu Shapiro-Wilka dla mu=4.183673469387756, sigma=0.98, n=5: 0.3120726633619436\n",
      "P-value testu Shapiro-Wilka dla mu=4.387755102040817, sigma=0.16, n=5: 0.26606021986114614\n",
      "P-value testu Shapiro-Wilka dla mu=4.591836734693878, sigma=1.33, n=5: 0.855091679748598\n",
      "P-value testu Shapiro-Wilka dla mu=4.795918367346939, sigma=1.66, n=5: 0.8799911170844104\n",
      "P-value testu Shapiro-Wilka dla mu=5.0, sigma=1.47, n=5: 0.23709698425988118\n",
      "---------------------------------\n",
      "Hipoteza o normalności została odrzucona 1 razy dla n=5\n",
      "---------------------------------\n",
      "P-value testu Shapiro-Wilka dla mu=-5.0, sigma=0.24, n=10: 0.7082813606711658\n",
      "P-value testu Shapiro-Wilka dla mu=-4.795918367346939, sigma=0.11, n=10: 0.6286281829748854\n",
      "P-value testu Shapiro-Wilka dla mu=-4.591836734693878, sigma=0.15, n=10: 0.12886421700559203\n",
      "P-value testu Shapiro-Wilka dla mu=-4.387755102040816, sigma=0.45, n=10: 0.3462547704357619\n",
      "P-value testu Shapiro-Wilka dla mu=-4.183673469387755, sigma=0.26, n=10: 0.2893878545486492\n",
      "P-value testu Shapiro-Wilka dla mu=-3.979591836734694, sigma=0.55, n=10: 0.13204590694706042\n",
      "P-value testu Shapiro-Wilka dla mu=-3.7755102040816326, sigma=0.06, n=10: 0.358475170054286\n",
      "P-value testu Shapiro-Wilka dla mu=-3.571428571428571, sigma=1.27, n=10: 0.3501513681784469\n",
      "P-value testu Shapiro-Wilka dla mu=-3.36734693877551, sigma=1.56, n=10: 0.29279308419729333\n",
      "P-value testu Shapiro-Wilka dla mu=-3.163265306122449, sigma=1.7, n=10: 0.08422448752912409\n",
      "P-value testu Shapiro-Wilka dla mu=-2.9591836734693877, sigma=0.9, n=10: 0.04328436793562542\n",
      "P-value testu Shapiro-Wilka dla mu=-2.7551020408163263, sigma=1.72, n=10: 0.8811343856968055\n",
      "P-value testu Shapiro-Wilka dla mu=-2.5510204081632653, sigma=1.7, n=10: 0.3319415466698125\n",
      "P-value testu Shapiro-Wilka dla mu=-2.3469387755102042, sigma=1.08, n=10: 0.5189252950471676\n",
      "P-value testu Shapiro-Wilka dla mu=-2.142857142857143, sigma=1.1, n=10: 0.586477705378772\n",
      "P-value testu Shapiro-Wilka dla mu=-1.9387755102040813, sigma=1.97, n=10: 0.7434591310603712\n",
      "P-value testu Shapiro-Wilka dla mu=-1.7346938775510203, sigma=0.21, n=10: 0.2725323356109077\n",
      "P-value testu Shapiro-Wilka dla mu=-1.5306122448979593, sigma=1.52, n=10: 0.9381615201245863\n",
      "P-value testu Shapiro-Wilka dla mu=-1.3265306122448979, sigma=0.84, n=10: 0.4943940807025009\n",
      "P-value testu Shapiro-Wilka dla mu=-1.1224489795918364, sigma=1.63, n=10: 0.3416693909813413\n",
      "P-value testu Shapiro-Wilka dla mu=-0.9183673469387754, sigma=1.54, n=10: 0.8147446014685951\n",
      "P-value testu Shapiro-Wilka dla mu=-0.7142857142857144, sigma=0.76, n=10: 0.30861314271239254\n",
      "P-value testu Shapiro-Wilka dla mu=-0.5102040816326525, sigma=0.58, n=10: 0.2770231539758961\n",
      "P-value testu Shapiro-Wilka dla mu=-0.3061224489795915, sigma=0.61, n=10: 0.38533279393133535\n",
      "P-value testu Shapiro-Wilka dla mu=-0.1020408163265305, sigma=0.47, n=10: 0.2901977336012892\n",
      "P-value testu Shapiro-Wilka dla mu=0.1020408163265305, sigma=1.45, n=10: 0.6138525057756368\n",
      "P-value testu Shapiro-Wilka dla mu=0.3061224489795915, sigma=0.2, n=10: 0.3358322844475797\n",
      "P-value testu Shapiro-Wilka dla mu=0.5102040816326534, sigma=1.81, n=10: 0.5829123035428004\n",
      "P-value testu Shapiro-Wilka dla mu=0.7142857142857144, sigma=1.24, n=10: 0.6451549052105515\n",
      "P-value testu Shapiro-Wilka dla mu=0.9183673469387754, sigma=1.59, n=10: 0.3686350458217503\n",
      "P-value testu Shapiro-Wilka dla mu=1.1224489795918373, sigma=1.54, n=10: 0.4811873863774725\n",
      "P-value testu Shapiro-Wilka dla mu=1.3265306122448983, sigma=1.42, n=10: 0.4133814542586887\n",
      "P-value testu Shapiro-Wilka dla mu=1.5306122448979593, sigma=0.79, n=10: 0.24165153105748638\n",
      "P-value testu Shapiro-Wilka dla mu=1.7346938775510203, sigma=1.1, n=10: 0.15300413358340026\n",
      "P-value testu Shapiro-Wilka dla mu=1.9387755102040813, sigma=1.63, n=10: 0.7864378855297951\n",
      "P-value testu Shapiro-Wilka dla mu=2.1428571428571432, sigma=0.66, n=10: 0.8986742287942096\n",
      "P-value testu Shapiro-Wilka dla mu=2.3469387755102042, sigma=0.33, n=10: 0.32106065683565443\n",
      "P-value testu Shapiro-Wilka dla mu=2.5510204081632653, sigma=1.71, n=10: 0.9786272459410927\n",
      "P-value testu Shapiro-Wilka dla mu=2.755102040816327, sigma=0.53, n=10: 0.9406249616531632\n",
      "P-value testu Shapiro-Wilka dla mu=2.959183673469388, sigma=1.25, n=10: 0.5478604434012255\n",
      "P-value testu Shapiro-Wilka dla mu=3.163265306122449, sigma=0.8, n=10: 0.2444244450189509\n",
      "P-value testu Shapiro-Wilka dla mu=3.36734693877551, sigma=0.04, n=10: 0.054484664128566854\n",
      "P-value testu Shapiro-Wilka dla mu=3.571428571428571, sigma=1.03, n=10: 0.3593585056475454\n",
      "P-value testu Shapiro-Wilka dla mu=3.775510204081632, sigma=1.25, n=10: 0.5359007224391649\n",
      "P-value testu Shapiro-Wilka dla mu=3.979591836734695, sigma=1.36, n=10: 0.6371033350346171\n",
      "P-value testu Shapiro-Wilka dla mu=4.183673469387756, sigma=0.98, n=10: 0.557443824068389\n",
      "P-value testu Shapiro-Wilka dla mu=4.387755102040817, sigma=0.16, n=10: 0.496212033316692\n",
      "P-value testu Shapiro-Wilka dla mu=4.591836734693878, sigma=1.33, n=10: 0.3547514785680216\n",
      "P-value testu Shapiro-Wilka dla mu=4.795918367346939, sigma=1.66, n=10: 0.2850859500738555\n",
      "P-value testu Shapiro-Wilka dla mu=5.0, sigma=1.47, n=10: 0.7554355723306188\n",
      "---------------------------------\n",
      "Hipoteza o normalności została odrzucona 1 razy dla n=10\n",
      "---------------------------------\n",
      "P-value testu Shapiro-Wilka dla mu=-5.0, sigma=0.24, n=20: 0.4847496348824475\n",
      "P-value testu Shapiro-Wilka dla mu=-4.795918367346939, sigma=0.11, n=20: 0.19759022757680184\n",
      "P-value testu Shapiro-Wilka dla mu=-4.591836734693878, sigma=0.15, n=20: 0.9444347981261517\n",
      "P-value testu Shapiro-Wilka dla mu=-4.387755102040816, sigma=0.45, n=20: 0.2154930841973946\n",
      "P-value testu Shapiro-Wilka dla mu=-4.183673469387755, sigma=0.26, n=20: 0.8753957723241917\n",
      "P-value testu Shapiro-Wilka dla mu=-3.979591836734694, sigma=0.55, n=20: 0.4406521290532653\n",
      "P-value testu Shapiro-Wilka dla mu=-3.7755102040816326, sigma=0.06, n=20: 0.5115881546999\n",
      "P-value testu Shapiro-Wilka dla mu=-3.571428571428571, sigma=1.27, n=20: 0.166053467540607\n",
      "P-value testu Shapiro-Wilka dla mu=-3.36734693877551, sigma=1.56, n=20: 0.5018069063018008\n",
      "P-value testu Shapiro-Wilka dla mu=-3.163265306122449, sigma=1.7, n=20: 0.8180478541605475\n",
      "P-value testu Shapiro-Wilka dla mu=-2.9591836734693877, sigma=0.9, n=20: 0.6045504618112172\n",
      "P-value testu Shapiro-Wilka dla mu=-2.7551020408163263, sigma=1.72, n=20: 0.6481547277183675\n",
      "P-value testu Shapiro-Wilka dla mu=-2.5510204081632653, sigma=1.7, n=20: 0.8659512933056062\n",
      "P-value testu Shapiro-Wilka dla mu=-2.3469387755102042, sigma=1.08, n=20: 0.31752859173103476\n",
      "P-value testu Shapiro-Wilka dla mu=-2.142857142857143, sigma=1.1, n=20: 0.9519842434539346\n",
      "P-value testu Shapiro-Wilka dla mu=-1.9387755102040813, sigma=1.97, n=20: 0.5287921739897254\n",
      "P-value testu Shapiro-Wilka dla mu=-1.7346938775510203, sigma=0.21, n=20: 0.3985500265790144\n",
      "P-value testu Shapiro-Wilka dla mu=-1.5306122448979593, sigma=1.52, n=20: 0.9820796720994661\n",
      "P-value testu Shapiro-Wilka dla mu=-1.3265306122448979, sigma=0.84, n=20: 0.007950839589641984\n",
      "P-value testu Shapiro-Wilka dla mu=-1.1224489795918364, sigma=1.63, n=20: 0.5082681729165361\n",
      "P-value testu Shapiro-Wilka dla mu=-0.9183673469387754, sigma=1.54, n=20: 0.5727405107067638\n",
      "P-value testu Shapiro-Wilka dla mu=-0.7142857142857144, sigma=0.76, n=20: 0.9621524791458373\n",
      "P-value testu Shapiro-Wilka dla mu=-0.5102040816326525, sigma=0.58, n=20: 0.7093778962931857\n",
      "P-value testu Shapiro-Wilka dla mu=-0.3061224489795915, sigma=0.61, n=20: 0.9606046263246594\n",
      "P-value testu Shapiro-Wilka dla mu=-0.1020408163265305, sigma=0.47, n=20: 0.6720407917629536\n",
      "P-value testu Shapiro-Wilka dla mu=0.1020408163265305, sigma=1.45, n=20: 0.025205630177636478\n",
      "P-value testu Shapiro-Wilka dla mu=0.3061224489795915, sigma=0.2, n=20: 0.04392499676910464\n",
      "P-value testu Shapiro-Wilka dla mu=0.5102040816326534, sigma=1.81, n=20: 0.3256607477935215\n",
      "P-value testu Shapiro-Wilka dla mu=0.7142857142857144, sigma=1.24, n=20: 0.4503078735907483\n",
      "P-value testu Shapiro-Wilka dla mu=0.9183673469387754, sigma=1.59, n=20: 0.08195610580644962\n",
      "P-value testu Shapiro-Wilka dla mu=1.1224489795918373, sigma=1.54, n=20: 0.7787894280277359\n",
      "P-value testu Shapiro-Wilka dla mu=1.3265306122448983, sigma=1.42, n=20: 0.05551816369524465\n",
      "P-value testu Shapiro-Wilka dla mu=1.5306122448979593, sigma=0.79, n=20: 0.28869267096418444\n",
      "P-value testu Shapiro-Wilka dla mu=1.7346938775510203, sigma=1.1, n=20: 0.31882764371474936\n",
      "P-value testu Shapiro-Wilka dla mu=1.9387755102040813, sigma=1.63, n=20: 0.8767976617082465\n",
      "P-value testu Shapiro-Wilka dla mu=2.1428571428571432, sigma=0.66, n=20: 0.4733204363499492\n",
      "P-value testu Shapiro-Wilka dla mu=2.3469387755102042, sigma=0.33, n=20: 0.7071456685855183\n",
      "P-value testu Shapiro-Wilka dla mu=2.5510204081632653, sigma=1.71, n=20: 0.5594988997497438\n",
      "P-value testu Shapiro-Wilka dla mu=2.755102040816327, sigma=0.53, n=20: 0.2756979264917264\n",
      "P-value testu Shapiro-Wilka dla mu=2.959183673469388, sigma=1.25, n=20: 0.7169645233365549\n",
      "P-value testu Shapiro-Wilka dla mu=3.163265306122449, sigma=0.8, n=20: 0.22004146623032378\n",
      "P-value testu Shapiro-Wilka dla mu=3.36734693877551, sigma=0.04, n=20: 0.5103866864554875\n",
      "P-value testu Shapiro-Wilka dla mu=3.571428571428571, sigma=1.03, n=20: 0.11596595198385462\n",
      "P-value testu Shapiro-Wilka dla mu=3.775510204081632, sigma=1.25, n=20: 0.17763015981685704\n",
      "P-value testu Shapiro-Wilka dla mu=3.979591836734695, sigma=1.36, n=20: 0.9576453324894099\n",
      "P-value testu Shapiro-Wilka dla mu=4.183673469387756, sigma=0.98, n=20: 0.07908353137657809\n",
      "P-value testu Shapiro-Wilka dla mu=4.387755102040817, sigma=0.16, n=20: 0.19999187694445436\n",
      "P-value testu Shapiro-Wilka dla mu=4.591836734693878, sigma=1.33, n=20: 0.31045722177184193\n",
      "P-value testu Shapiro-Wilka dla mu=4.795918367346939, sigma=1.66, n=20: 0.8952714951315821\n",
      "P-value testu Shapiro-Wilka dla mu=5.0, sigma=1.47, n=20: 0.5658151293859686\n",
      "---------------------------------\n",
      "Hipoteza o normalności została odrzucona 3 razy dla n=20\n",
      "---------------------------------\n",
      "P-value testu Shapiro-Wilka dla mu=-5.0, sigma=0.24, n=50: 0.2752078824223047\n",
      "P-value testu Shapiro-Wilka dla mu=-4.795918367346939, sigma=0.11, n=50: 0.4493487474457848\n",
      "P-value testu Shapiro-Wilka dla mu=-4.591836734693878, sigma=0.15, n=50: 0.2440493895003339\n",
      "P-value testu Shapiro-Wilka dla mu=-4.387755102040816, sigma=0.45, n=50: 0.6183876852876318\n",
      "P-value testu Shapiro-Wilka dla mu=-4.183673469387755, sigma=0.26, n=50: 0.8712360796988667\n",
      "P-value testu Shapiro-Wilka dla mu=-3.979591836734694, sigma=0.55, n=50: 0.702118943215285\n",
      "P-value testu Shapiro-Wilka dla mu=-3.7755102040816326, sigma=0.06, n=50: 0.13103465993062885\n",
      "P-value testu Shapiro-Wilka dla mu=-3.571428571428571, sigma=1.27, n=50: 0.30573262544828106\n",
      "P-value testu Shapiro-Wilka dla mu=-3.36734693877551, sigma=1.56, n=50: 0.2609641954264775\n",
      "P-value testu Shapiro-Wilka dla mu=-3.163265306122449, sigma=1.7, n=50: 0.2126787516540361\n",
      "P-value testu Shapiro-Wilka dla mu=-2.9591836734693877, sigma=0.9, n=50: 0.22264401647308524\n",
      "P-value testu Shapiro-Wilka dla mu=-2.7551020408163263, sigma=1.72, n=50: 0.6098305728635152\n",
      "P-value testu Shapiro-Wilka dla mu=-2.5510204081632653, sigma=1.7, n=50: 0.01582524509260364\n",
      "P-value testu Shapiro-Wilka dla mu=-2.3469387755102042, sigma=1.08, n=50: 0.6627877410403744\n",
      "P-value testu Shapiro-Wilka dla mu=-2.142857142857143, sigma=1.1, n=50: 0.7911577981087974\n",
      "P-value testu Shapiro-Wilka dla mu=-1.9387755102040813, sigma=1.97, n=50: 0.8432539105045957\n",
      "P-value testu Shapiro-Wilka dla mu=-1.7346938775510203, sigma=0.21, n=50: 0.719776221783121\n",
      "P-value testu Shapiro-Wilka dla mu=-1.5306122448979593, sigma=1.52, n=50: 0.7401362852394162\n",
      "P-value testu Shapiro-Wilka dla mu=-1.3265306122448979, sigma=0.84, n=50: 0.5133438377348716\n",
      "P-value testu Shapiro-Wilka dla mu=-1.1224489795918364, sigma=1.63, n=50: 0.6544220549463925\n",
      "P-value testu Shapiro-Wilka dla mu=-0.9183673469387754, sigma=1.54, n=50: 0.6460163843307392\n",
      "P-value testu Shapiro-Wilka dla mu=-0.7142857142857144, sigma=0.76, n=50: 0.3052056564176149\n",
      "P-value testu Shapiro-Wilka dla mu=-0.5102040816326525, sigma=0.58, n=50: 0.6223536766413491\n",
      "P-value testu Shapiro-Wilka dla mu=-0.3061224489795915, sigma=0.61, n=50: 0.6327114009867426\n",
      "P-value testu Shapiro-Wilka dla mu=-0.1020408163265305, sigma=0.47, n=50: 0.3974617647897409\n",
      "P-value testu Shapiro-Wilka dla mu=0.1020408163265305, sigma=1.45, n=50: 0.22352637704383427\n",
      "P-value testu Shapiro-Wilka dla mu=0.3061224489795915, sigma=0.2, n=50: 0.11819525472028547\n",
      "P-value testu Shapiro-Wilka dla mu=0.5102040816326534, sigma=1.81, n=50: 0.7501248388064379\n",
      "P-value testu Shapiro-Wilka dla mu=0.7142857142857144, sigma=1.24, n=50: 0.021414878627833006\n",
      "P-value testu Shapiro-Wilka dla mu=0.9183673469387754, sigma=1.59, n=50: 0.5200961905194065\n",
      "P-value testu Shapiro-Wilka dla mu=1.1224489795918373, sigma=1.54, n=50: 0.701558667402475\n",
      "P-value testu Shapiro-Wilka dla mu=1.3265306122448983, sigma=1.42, n=50: 0.45269404201143815\n",
      "P-value testu Shapiro-Wilka dla mu=1.5306122448979593, sigma=0.79, n=50: 0.5090238317324555\n",
      "P-value testu Shapiro-Wilka dla mu=1.7346938775510203, sigma=1.1, n=50: 0.7727796359338932\n",
      "P-value testu Shapiro-Wilka dla mu=1.9387755102040813, sigma=1.63, n=50: 0.055146380211057985\n",
      "P-value testu Shapiro-Wilka dla mu=2.1428571428571432, sigma=0.66, n=50: 0.8429913780473698\n",
      "P-value testu Shapiro-Wilka dla mu=2.3469387755102042, sigma=0.33, n=50: 0.3576519826163883\n",
      "P-value testu Shapiro-Wilka dla mu=2.5510204081632653, sigma=1.71, n=50: 0.8699710733690934\n",
      "P-value testu Shapiro-Wilka dla mu=2.755102040816327, sigma=0.53, n=50: 0.8123322111492352\n",
      "P-value testu Shapiro-Wilka dla mu=2.959183673469388, sigma=1.25, n=50: 0.5783041401703708\n",
      "P-value testu Shapiro-Wilka dla mu=3.163265306122449, sigma=0.8, n=50: 0.07018752147773623\n",
      "P-value testu Shapiro-Wilka dla mu=3.36734693877551, sigma=0.04, n=50: 0.04001226120329455\n",
      "P-value testu Shapiro-Wilka dla mu=3.571428571428571, sigma=1.03, n=50: 0.5856645556918705\n",
      "P-value testu Shapiro-Wilka dla mu=3.775510204081632, sigma=1.25, n=50: 0.18853071998043597\n",
      "P-value testu Shapiro-Wilka dla mu=3.979591836734695, sigma=1.36, n=50: 0.25297632470401255\n",
      "P-value testu Shapiro-Wilka dla mu=4.183673469387756, sigma=0.98, n=50: 0.8213639025542998\n",
      "P-value testu Shapiro-Wilka dla mu=4.387755102040817, sigma=0.16, n=50: 0.5762246474449364\n",
      "P-value testu Shapiro-Wilka dla mu=4.591836734693878, sigma=1.33, n=50: 0.08502165960213048\n",
      "P-value testu Shapiro-Wilka dla mu=4.795918367346939, sigma=1.66, n=50: 0.3311660374508725\n",
      "P-value testu Shapiro-Wilka dla mu=5.0, sigma=1.47, n=50: 0.0028704085991193666\n",
      "---------------------------------\n",
      "Hipoteza o normalności została odrzucona 4 razy dla n=50\n",
      "---------------------------------\n",
      "P-value testu Shapiro-Wilka dla mu=-5.0, sigma=0.24, n=100: 0.05282064434382379\n",
      "P-value testu Shapiro-Wilka dla mu=-4.795918367346939, sigma=0.11, n=100: 0.5834346714593672\n",
      "P-value testu Shapiro-Wilka dla mu=-4.591836734693878, sigma=0.15, n=100: 0.4908532330153953\n",
      "P-value testu Shapiro-Wilka dla mu=-4.387755102040816, sigma=0.45, n=100: 0.009987998514435546\n",
      "P-value testu Shapiro-Wilka dla mu=-4.183673469387755, sigma=0.26, n=100: 0.5787894079757473\n",
      "P-value testu Shapiro-Wilka dla mu=-3.979591836734694, sigma=0.55, n=100: 0.9866776872267436\n",
      "P-value testu Shapiro-Wilka dla mu=-3.7755102040816326, sigma=0.06, n=100: 0.8311558928299249\n",
      "P-value testu Shapiro-Wilka dla mu=-3.571428571428571, sigma=1.27, n=100: 0.5191747062124554\n",
      "P-value testu Shapiro-Wilka dla mu=-3.36734693877551, sigma=1.56, n=100: 0.6237778386323081\n",
      "P-value testu Shapiro-Wilka dla mu=-3.163265306122449, sigma=1.7, n=100: 0.8518442728011262\n",
      "P-value testu Shapiro-Wilka dla mu=-2.9591836734693877, sigma=0.9, n=100: 0.4277731668522655\n",
      "P-value testu Shapiro-Wilka dla mu=-2.7551020408163263, sigma=1.72, n=100: 0.4050849161969284\n",
      "P-value testu Shapiro-Wilka dla mu=-2.5510204081632653, sigma=1.7, n=100: 0.9831839893705442\n",
      "P-value testu Shapiro-Wilka dla mu=-2.3469387755102042, sigma=1.08, n=100: 0.5854967031246603\n",
      "P-value testu Shapiro-Wilka dla mu=-2.142857142857143, sigma=1.1, n=100: 0.45648556778948846\n",
      "P-value testu Shapiro-Wilka dla mu=-1.9387755102040813, sigma=1.97, n=100: 0.5026683631890745\n",
      "P-value testu Shapiro-Wilka dla mu=-1.7346938775510203, sigma=0.21, n=100: 0.48196419546137903\n",
      "P-value testu Shapiro-Wilka dla mu=-1.5306122448979593, sigma=1.52, n=100: 0.21538497631417347\n",
      "P-value testu Shapiro-Wilka dla mu=-1.3265306122448979, sigma=0.84, n=100: 0.3984992600903412\n",
      "P-value testu Shapiro-Wilka dla mu=-1.1224489795918364, sigma=1.63, n=100: 0.5086833055167035\n",
      "P-value testu Shapiro-Wilka dla mu=-0.9183673469387754, sigma=1.54, n=100: 0.3719027191239224\n",
      "P-value testu Shapiro-Wilka dla mu=-0.7142857142857144, sigma=0.76, n=100: 0.9264400126586542\n",
      "P-value testu Shapiro-Wilka dla mu=-0.5102040816326525, sigma=0.58, n=100: 0.1825333932135207\n",
      "P-value testu Shapiro-Wilka dla mu=-0.3061224489795915, sigma=0.61, n=100: 0.44594065398977717\n",
      "P-value testu Shapiro-Wilka dla mu=-0.1020408163265305, sigma=0.47, n=100: 0.1669326334530063\n",
      "P-value testu Shapiro-Wilka dla mu=0.1020408163265305, sigma=1.45, n=100: 0.7835483266646855\n",
      "P-value testu Shapiro-Wilka dla mu=0.3061224489795915, sigma=0.2, n=100: 0.7836997095415374\n",
      "P-value testu Shapiro-Wilka dla mu=0.5102040816326534, sigma=1.81, n=100: 0.5083943433577184\n",
      "P-value testu Shapiro-Wilka dla mu=0.7142857142857144, sigma=1.24, n=100: 0.5182134098939503\n",
      "P-value testu Shapiro-Wilka dla mu=0.9183673469387754, sigma=1.59, n=100: 0.07299164872174192\n",
      "P-value testu Shapiro-Wilka dla mu=1.1224489795918373, sigma=1.54, n=100: 0.7327971389278508\n",
      "P-value testu Shapiro-Wilka dla mu=1.3265306122448983, sigma=1.42, n=100: 0.35438183078083163\n",
      "P-value testu Shapiro-Wilka dla mu=1.5306122448979593, sigma=0.79, n=100: 0.7455132642016029\n",
      "P-value testu Shapiro-Wilka dla mu=1.7346938775510203, sigma=1.1, n=100: 0.8636017227684638\n",
      "P-value testu Shapiro-Wilka dla mu=1.9387755102040813, sigma=1.63, n=100: 0.16252174424249044\n",
      "P-value testu Shapiro-Wilka dla mu=2.1428571428571432, sigma=0.66, n=100: 0.8442271194657307\n",
      "P-value testu Shapiro-Wilka dla mu=2.3469387755102042, sigma=0.33, n=100: 0.40647808008543485\n",
      "P-value testu Shapiro-Wilka dla mu=2.5510204081632653, sigma=1.71, n=100: 0.9803964432112082\n",
      "P-value testu Shapiro-Wilka dla mu=2.755102040816327, sigma=0.53, n=100: 0.7719766437846607\n",
      "P-value testu Shapiro-Wilka dla mu=2.959183673469388, sigma=1.25, n=100: 0.6555838848207907\n",
      "P-value testu Shapiro-Wilka dla mu=3.163265306122449, sigma=0.8, n=100: 0.5806018367303709\n",
      "P-value testu Shapiro-Wilka dla mu=3.36734693877551, sigma=0.04, n=100: 0.4156334762188973\n",
      "P-value testu Shapiro-Wilka dla mu=3.571428571428571, sigma=1.03, n=100: 0.7783299523368203\n",
      "P-value testu Shapiro-Wilka dla mu=3.775510204081632, sigma=1.25, n=100: 0.1242334931061912\n",
      "P-value testu Shapiro-Wilka dla mu=3.979591836734695, sigma=1.36, n=100: 0.6478114803642863\n",
      "P-value testu Shapiro-Wilka dla mu=4.183673469387756, sigma=0.98, n=100: 0.7198030117983656\n",
      "P-value testu Shapiro-Wilka dla mu=4.387755102040817, sigma=0.16, n=100: 0.9744387066007167\n",
      "P-value testu Shapiro-Wilka dla mu=4.591836734693878, sigma=1.33, n=100: 0.7645013576722934\n",
      "P-value testu Shapiro-Wilka dla mu=4.795918367346939, sigma=1.66, n=100: 0.7288289753185209\n",
      "P-value testu Shapiro-Wilka dla mu=5.0, sigma=1.47, n=100: 0.024513714850867244\n",
      "---------------------------------\n",
      "Hipoteza o normalności została odrzucona 2 razy dla n=100\n",
      "---------------------------------\n",
      "P-value testu Shapiro-Wilka dla mu=-5.0, sigma=0.24, n=500: 0.7259743630256318\n",
      "P-value testu Shapiro-Wilka dla mu=-4.795918367346939, sigma=0.11, n=500: 0.4146257779877339\n",
      "P-value testu Shapiro-Wilka dla mu=-4.591836734693878, sigma=0.15, n=500: 0.8719083794887877\n",
      "P-value testu Shapiro-Wilka dla mu=-4.387755102040816, sigma=0.45, n=500: 0.4625297930697606\n",
      "P-value testu Shapiro-Wilka dla mu=-4.183673469387755, sigma=0.26, n=500: 0.1405644803478286\n",
      "P-value testu Shapiro-Wilka dla mu=-3.979591836734694, sigma=0.55, n=500: 0.11937658707327681\n",
      "P-value testu Shapiro-Wilka dla mu=-3.7755102040816326, sigma=0.06, n=500: 0.7218892087625766\n",
      "P-value testu Shapiro-Wilka dla mu=-3.571428571428571, sigma=1.27, n=500: 0.9012136180619833\n",
      "P-value testu Shapiro-Wilka dla mu=-3.36734693877551, sigma=1.56, n=500: 0.5068336375773199\n",
      "P-value testu Shapiro-Wilka dla mu=-3.163265306122449, sigma=1.7, n=500: 0.3763639847989788\n",
      "P-value testu Shapiro-Wilka dla mu=-2.9591836734693877, sigma=0.9, n=500: 0.9047357795049888\n",
      "P-value testu Shapiro-Wilka dla mu=-2.7551020408163263, sigma=1.72, n=500: 0.8914101244139805\n",
      "P-value testu Shapiro-Wilka dla mu=-2.5510204081632653, sigma=1.7, n=500: 0.9772261028979132\n",
      "P-value testu Shapiro-Wilka dla mu=-2.3469387755102042, sigma=1.08, n=500: 0.36226413436884164\n",
      "P-value testu Shapiro-Wilka dla mu=-2.142857142857143, sigma=1.1, n=500: 0.4388518353876473\n",
      "P-value testu Shapiro-Wilka dla mu=-1.9387755102040813, sigma=1.97, n=500: 0.016275554659143775\n",
      "P-value testu Shapiro-Wilka dla mu=-1.7346938775510203, sigma=0.21, n=500: 0.22850514959910112\n",
      "P-value testu Shapiro-Wilka dla mu=-1.5306122448979593, sigma=1.52, n=500: 0.4928539626910635\n",
      "P-value testu Shapiro-Wilka dla mu=-1.3265306122448979, sigma=0.84, n=500: 0.7281556025133887\n",
      "P-value testu Shapiro-Wilka dla mu=-1.1224489795918364, sigma=1.63, n=500: 0.5153638529041618\n",
      "P-value testu Shapiro-Wilka dla mu=-0.9183673469387754, sigma=1.54, n=500: 0.8636646844569359\n",
      "P-value testu Shapiro-Wilka dla mu=-0.7142857142857144, sigma=0.76, n=500: 0.45261578447227646\n",
      "P-value testu Shapiro-Wilka dla mu=-0.5102040816326525, sigma=0.58, n=500: 0.7598100240672556\n",
      "P-value testu Shapiro-Wilka dla mu=-0.3061224489795915, sigma=0.61, n=500: 0.09737472870150464\n",
      "P-value testu Shapiro-Wilka dla mu=-0.1020408163265305, sigma=0.47, n=500: 0.8950891137612066\n",
      "P-value testu Shapiro-Wilka dla mu=0.1020408163265305, sigma=1.45, n=500: 0.4352107539447174\n",
      "P-value testu Shapiro-Wilka dla mu=0.3061224489795915, sigma=0.2, n=500: 0.06296919323531408\n",
      "P-value testu Shapiro-Wilka dla mu=0.5102040816326534, sigma=1.81, n=500: 0.5064367404867407\n",
      "P-value testu Shapiro-Wilka dla mu=0.7142857142857144, sigma=1.24, n=500: 0.8923922828420552\n",
      "P-value testu Shapiro-Wilka dla mu=0.9183673469387754, sigma=1.59, n=500: 0.6522554903030796\n",
      "P-value testu Shapiro-Wilka dla mu=1.1224489795918373, sigma=1.54, n=500: 0.6599376832784877\n",
      "P-value testu Shapiro-Wilka dla mu=1.3265306122448983, sigma=1.42, n=500: 0.5068246534370995\n",
      "P-value testu Shapiro-Wilka dla mu=1.5306122448979593, sigma=0.79, n=500: 0.06517635464500661\n",
      "P-value testu Shapiro-Wilka dla mu=1.7346938775510203, sigma=1.1, n=500: 0.026996129173626426\n",
      "P-value testu Shapiro-Wilka dla mu=1.9387755102040813, sigma=1.63, n=500: 0.2611528336558365\n",
      "P-value testu Shapiro-Wilka dla mu=2.1428571428571432, sigma=0.66, n=500: 0.7053973215883436\n",
      "P-value testu Shapiro-Wilka dla mu=2.3469387755102042, sigma=0.33, n=500: 0.673189558575813\n",
      "P-value testu Shapiro-Wilka dla mu=2.5510204081632653, sigma=1.71, n=500: 0.29033180980321\n",
      "P-value testu Shapiro-Wilka dla mu=2.755102040816327, sigma=0.53, n=500: 0.5183222552845228\n",
      "P-value testu Shapiro-Wilka dla mu=2.959183673469388, sigma=1.25, n=500: 0.23660681271306527\n",
      "P-value testu Shapiro-Wilka dla mu=3.163265306122449, sigma=0.8, n=500: 0.8837044202429467\n",
      "P-value testu Shapiro-Wilka dla mu=3.36734693877551, sigma=0.04, n=500: 0.23134448866608198\n",
      "P-value testu Shapiro-Wilka dla mu=3.571428571428571, sigma=1.03, n=500: 0.6715411747161795\n",
      "P-value testu Shapiro-Wilka dla mu=3.775510204081632, sigma=1.25, n=500: 0.20719091597668554\n",
      "P-value testu Shapiro-Wilka dla mu=3.979591836734695, sigma=1.36, n=500: 0.6783576325968118\n",
      "P-value testu Shapiro-Wilka dla mu=4.183673469387756, sigma=0.98, n=500: 0.7796482191922992\n",
      "P-value testu Shapiro-Wilka dla mu=4.387755102040817, sigma=0.16, n=500: 0.8949335085310103\n",
      "P-value testu Shapiro-Wilka dla mu=4.591836734693878, sigma=1.33, n=500: 0.051475236145476944\n",
      "P-value testu Shapiro-Wilka dla mu=4.795918367346939, sigma=1.66, n=500: 0.036949707413145114\n",
      "P-value testu Shapiro-Wilka dla mu=5.0, sigma=1.47, n=500: 0.4635554689190816\n",
      "---------------------------------\n",
      "Hipoteza o normalności została odrzucona 3 razy dla n=500\n",
      "---------------------------------\n",
      "P-value testu Shapiro-Wilka dla mu=-5.0, sigma=0.24, n=1000: 0.29765816582117427\n",
      "P-value testu Shapiro-Wilka dla mu=-4.795918367346939, sigma=0.11, n=1000: 0.040462678002047406\n",
      "P-value testu Shapiro-Wilka dla mu=-4.591836734693878, sigma=0.15, n=1000: 0.8665459533351494\n",
      "P-value testu Shapiro-Wilka dla mu=-4.387755102040816, sigma=0.45, n=1000: 0.5169288750692469\n",
      "P-value testu Shapiro-Wilka dla mu=-4.183673469387755, sigma=0.26, n=1000: 0.19666326154314467\n",
      "P-value testu Shapiro-Wilka dla mu=-3.979591836734694, sigma=0.55, n=1000: 0.7900376980369777\n",
      "P-value testu Shapiro-Wilka dla mu=-3.7755102040816326, sigma=0.06, n=1000: 0.7097993137795349\n",
      "P-value testu Shapiro-Wilka dla mu=-3.571428571428571, sigma=1.27, n=1000: 0.12017916891910019\n",
      "P-value testu Shapiro-Wilka dla mu=-3.36734693877551, sigma=1.56, n=1000: 0.25012710435176977\n",
      "P-value testu Shapiro-Wilka dla mu=-3.163265306122449, sigma=1.7, n=1000: 0.36071394158665154\n",
      "P-value testu Shapiro-Wilka dla mu=-2.9591836734693877, sigma=0.9, n=1000: 0.5189626945877635\n",
      "P-value testu Shapiro-Wilka dla mu=-2.7551020408163263, sigma=1.72, n=1000: 0.627404461875443\n",
      "P-value testu Shapiro-Wilka dla mu=-2.5510204081632653, sigma=1.7, n=1000: 0.3399078910037432\n",
      "P-value testu Shapiro-Wilka dla mu=-2.3469387755102042, sigma=1.08, n=1000: 0.7074148377007956\n",
      "P-value testu Shapiro-Wilka dla mu=-2.142857142857143, sigma=1.1, n=1000: 0.6678677938136759\n",
      "P-value testu Shapiro-Wilka dla mu=-1.9387755102040813, sigma=1.97, n=1000: 0.032414346618234065\n",
      "P-value testu Shapiro-Wilka dla mu=-1.7346938775510203, sigma=0.21, n=1000: 0.9037500619015193\n",
      "P-value testu Shapiro-Wilka dla mu=-1.5306122448979593, sigma=1.52, n=1000: 0.9809036186933646\n",
      "P-value testu Shapiro-Wilka dla mu=-1.3265306122448979, sigma=0.84, n=1000: 0.6482226426502642\n",
      "P-value testu Shapiro-Wilka dla mu=-1.1224489795918364, sigma=1.63, n=1000: 0.3319090591087264\n",
      "P-value testu Shapiro-Wilka dla mu=-0.9183673469387754, sigma=1.54, n=1000: 0.7103375984757819\n",
      "P-value testu Shapiro-Wilka dla mu=-0.7142857142857144, sigma=0.76, n=1000: 0.3098910491744187\n",
      "P-value testu Shapiro-Wilka dla mu=-0.5102040816326525, sigma=0.58, n=1000: 0.4355598006905315\n",
      "P-value testu Shapiro-Wilka dla mu=-0.3061224489795915, sigma=0.61, n=1000: 0.7729879721610332\n",
      "P-value testu Shapiro-Wilka dla mu=-0.1020408163265305, sigma=0.47, n=1000: 0.2801684041543141\n",
      "P-value testu Shapiro-Wilka dla mu=0.1020408163265305, sigma=1.45, n=1000: 0.6582360138730754\n",
      "P-value testu Shapiro-Wilka dla mu=0.3061224489795915, sigma=0.2, n=1000: 0.16708105638465637\n",
      "P-value testu Shapiro-Wilka dla mu=0.5102040816326534, sigma=1.81, n=1000: 0.6691673602324821\n",
      "P-value testu Shapiro-Wilka dla mu=0.7142857142857144, sigma=1.24, n=1000: 0.8331072458025484\n",
      "P-value testu Shapiro-Wilka dla mu=0.9183673469387754, sigma=1.59, n=1000: 0.23518801075746282\n",
      "P-value testu Shapiro-Wilka dla mu=1.1224489795918373, sigma=1.54, n=1000: 0.774189683040514\n",
      "P-value testu Shapiro-Wilka dla mu=1.3265306122448983, sigma=1.42, n=1000: 0.5764009193893076\n",
      "P-value testu Shapiro-Wilka dla mu=1.5306122448979593, sigma=0.79, n=1000: 0.5689908887920206\n",
      "P-value testu Shapiro-Wilka dla mu=1.7346938775510203, sigma=1.1, n=1000: 0.36833646519052465\n",
      "P-value testu Shapiro-Wilka dla mu=1.9387755102040813, sigma=1.63, n=1000: 0.9284502629567911\n",
      "P-value testu Shapiro-Wilka dla mu=2.1428571428571432, sigma=0.66, n=1000: 0.8202348299076938\n",
      "P-value testu Shapiro-Wilka dla mu=2.3469387755102042, sigma=0.33, n=1000: 0.08856780188756384\n",
      "P-value testu Shapiro-Wilka dla mu=2.5510204081632653, sigma=1.71, n=1000: 0.6906761685408245\n",
      "P-value testu Shapiro-Wilka dla mu=2.755102040816327, sigma=0.53, n=1000: 0.12521702003393004\n",
      "P-value testu Shapiro-Wilka dla mu=2.959183673469388, sigma=1.25, n=1000: 0.9631211555101962\n",
      "P-value testu Shapiro-Wilka dla mu=3.163265306122449, sigma=0.8, n=1000: 0.09401692132055049\n",
      "P-value testu Shapiro-Wilka dla mu=3.36734693877551, sigma=0.04, n=1000: 0.29335585565540545\n",
      "P-value testu Shapiro-Wilka dla mu=3.571428571428571, sigma=1.03, n=1000: 0.38647684078912914\n",
      "P-value testu Shapiro-Wilka dla mu=3.775510204081632, sigma=1.25, n=1000: 0.6571298118540536\n",
      "P-value testu Shapiro-Wilka dla mu=3.979591836734695, sigma=1.36, n=1000: 0.5688645216191661\n",
      "P-value testu Shapiro-Wilka dla mu=4.183673469387756, sigma=0.98, n=1000: 0.9434333370611984\n",
      "P-value testu Shapiro-Wilka dla mu=4.387755102040817, sigma=0.16, n=1000: 0.162851673427032\n",
      "P-value testu Shapiro-Wilka dla mu=4.591836734693878, sigma=1.33, n=1000: 0.13014065433418243\n",
      "P-value testu Shapiro-Wilka dla mu=4.795918367346939, sigma=1.66, n=1000: 0.9539780042481298\n",
      "P-value testu Shapiro-Wilka dla mu=5.0, sigma=1.47, n=1000: 0.5174964146335772\n",
      "---------------------------------\n",
      "Hipoteza o normalności została odrzucona 2 razy dla n=1000\n"
     ]
    }
   ],
   "source": [
    "alpha = 0.05\n",
    "mu = np.linspace(-5, 5, 50)\n",
    "sigma = np.round(stats.uniform.rvs(size=50, loc=0, scale=2), 2)\n",
    "nobs = [5, 10, 20, 50, 100, 500, 1000]\n",
    "for n in nobs:\n",
    "    reject = 0\n",
    "    print(\"---------------------------------\")\n",
    "    for m, s in zip(mu, sigma):\n",
    "        x = stats.norm.rvs(size=n, loc=m, scale=s)\n",
    "        pval = stats.shapiro(x)[1]\n",
    "        print(\"P-value testu Shapiro-Wilka dla mu={}, sigma={}, n={}: {}\".format(m, s, n, pval))\n",
    "        if pval < alpha: reject += 1\n",
    "    print(\"---------------------------------\")\n",
    "    print(\"Hipoteza o normalności została odrzucona {} razy dla n={}\".format(reject, n))\n",
    "    #dla dużych próbek ok, fałszywie odrzuca mniej niż alpha*n razy"
   ]
  },
  {
   "cell_type": "code",
   "execution_count": null,
   "metadata": {
    "id": "3pjon47_ibTX"
   },
   "outputs": [],
   "source": []
  },
  {
   "cell_type": "code",
   "execution_count": null,
   "metadata": {
    "id": "r2JINqPxibTX"
   },
   "outputs": [],
   "source": []
  },
  {
   "cell_type": "markdown",
   "metadata": {
    "id": "EcjX2R59ibTX"
   },
   "source": [
    "## Zadanie\n",
    "Wygeneruj kilka próbek z rozkładu normalnego dla różnych parametrów $\\mu$ i $\\sigma$ i dla różnej liczności próbki. Przy generowaniu próbki dodaj pewien błąd. Sprawdź ile razy zostanie odrzucona hipoteza o normalności rozkładu. Przyjmij poziom istotności 0.05."
   ]
  },
  {
   "cell_type": "code",
   "execution_count": 10,
   "metadata": {
    "id": "fByd1ZyKibTY"
   },
   "outputs": [
    {
     "name": "stdout",
     "output_type": "stream",
     "text": [
      "---------------------------------\n",
      "P-value testu Shapiro-Wilka dla mu=-5.0, sigma=0.56, n=5: 0.5335969615420251\n",
      "P-value testu Shapiro-Wilka dla mu=-4.795918367346939, sigma=0.11, n=5: 0.8309238785310744\n",
      "P-value testu Shapiro-Wilka dla mu=-4.591836734693878, sigma=0.56, n=5: 0.15398891136147091\n",
      "P-value testu Shapiro-Wilka dla mu=-4.387755102040816, sigma=0.08, n=5: 0.1713974974685546\n",
      "P-value testu Shapiro-Wilka dla mu=-4.183673469387755, sigma=0.25, n=5: 0.8537722529338443\n",
      "P-value testu Shapiro-Wilka dla mu=-3.979591836734694, sigma=0.52, n=5: 0.3244257211503639\n",
      "P-value testu Shapiro-Wilka dla mu=-3.7755102040816326, sigma=0.37, n=5: 0.38742372550117893\n",
      "P-value testu Shapiro-Wilka dla mu=-3.571428571428571, sigma=0.29, n=5: 0.4389061256749998\n",
      "P-value testu Shapiro-Wilka dla mu=-3.36734693877551, sigma=0.23, n=5: 0.6513430964626332\n",
      "P-value testu Shapiro-Wilka dla mu=-3.163265306122449, sigma=0.82, n=5: 0.03550848443714867\n",
      "P-value testu Shapiro-Wilka dla mu=-2.9591836734693877, sigma=0.83, n=5: 0.15848494534026064\n",
      "P-value testu Shapiro-Wilka dla mu=-2.7551020408163263, sigma=0.89, n=5: 0.07695367685562304\n",
      "P-value testu Shapiro-Wilka dla mu=-2.5510204081632653, sigma=0.85, n=5: 0.48063866504231156\n",
      "P-value testu Shapiro-Wilka dla mu=-2.3469387755102042, sigma=0.66, n=5: 0.25951361625422475\n",
      "P-value testu Shapiro-Wilka dla mu=-2.142857142857143, sigma=0.36, n=5: 0.2011131206198336\n",
      "P-value testu Shapiro-Wilka dla mu=-1.9387755102040813, sigma=0.13, n=5: 0.3152451507499363\n",
      "P-value testu Shapiro-Wilka dla mu=-1.7346938775510203, sigma=0.25, n=5: 0.5212879025668644\n",
      "P-value testu Shapiro-Wilka dla mu=-1.5306122448979593, sigma=0.46, n=5: 0.2614528251842668\n",
      "P-value testu Shapiro-Wilka dla mu=-1.3265306122448979, sigma=0.86, n=5: 0.33004130808327214\n",
      "P-value testu Shapiro-Wilka dla mu=-1.1224489795918364, sigma=0.58, n=5: 0.8120399863761874\n",
      "P-value testu Shapiro-Wilka dla mu=-0.9183673469387754, sigma=0.74, n=5: 0.9064282156055445\n",
      "P-value testu Shapiro-Wilka dla mu=-0.7142857142857144, sigma=0.24, n=5: 0.025152180918921713\n",
      "P-value testu Shapiro-Wilka dla mu=-0.5102040816326525, sigma=0.85, n=5: 0.7862503639245992\n",
      "P-value testu Shapiro-Wilka dla mu=-0.3061224489795915, sigma=0.2, n=5: 0.5346551047378286\n",
      "P-value testu Shapiro-Wilka dla mu=-0.1020408163265305, sigma=0.16, n=5: 0.5034397557235317\n",
      "P-value testu Shapiro-Wilka dla mu=0.1020408163265305, sigma=0.67, n=5: 0.02029582835836098\n",
      "P-value testu Shapiro-Wilka dla mu=0.3061224489795915, sigma=0.06, n=5: 0.38400704138603575\n",
      "P-value testu Shapiro-Wilka dla mu=0.5102040816326534, sigma=0.93, n=5: 0.0043616395770305835\n",
      "P-value testu Shapiro-Wilka dla mu=0.7142857142857144, sigma=0.69, n=5: 0.9881326757408201\n",
      "P-value testu Shapiro-Wilka dla mu=0.9183673469387754, sigma=0.59, n=5: 0.3347407784971679\n",
      "P-value testu Shapiro-Wilka dla mu=1.1224489795918373, sigma=0.92, n=5: 0.42888031019555534\n",
      "P-value testu Shapiro-Wilka dla mu=1.3265306122448983, sigma=0.38, n=5: 0.19354483310676945\n",
      "P-value testu Shapiro-Wilka dla mu=1.5306122448979593, sigma=0.35, n=5: 0.5093331378014241\n",
      "P-value testu Shapiro-Wilka dla mu=1.7346938775510203, sigma=0.57, n=5: 0.1291175526432387\n",
      "P-value testu Shapiro-Wilka dla mu=1.9387755102040813, sigma=0.35, n=5: 0.6821988264412235\n",
      "P-value testu Shapiro-Wilka dla mu=2.1428571428571432, sigma=0.02, n=5: 0.36189075375526675\n",
      "P-value testu Shapiro-Wilka dla mu=2.3469387755102042, sigma=0.93, n=5: 0.15900707703500044\n",
      "P-value testu Shapiro-Wilka dla mu=2.5510204081632653, sigma=0.64, n=5: 0.4950043645848296\n",
      "P-value testu Shapiro-Wilka dla mu=2.755102040816327, sigma=0.51, n=5: 0.038351310598977034\n",
      "P-value testu Shapiro-Wilka dla mu=2.959183673469388, sigma=0.23, n=5: 0.6050881991447572\n",
      "P-value testu Shapiro-Wilka dla mu=3.163265306122449, sigma=0.06, n=5: 0.5266485993601999\n",
      "P-value testu Shapiro-Wilka dla mu=3.36734693877551, sigma=0.62, n=5: 0.6931361069352556\n",
      "P-value testu Shapiro-Wilka dla mu=3.571428571428571, sigma=0.92, n=5: 0.5489913256682393\n",
      "P-value testu Shapiro-Wilka dla mu=3.775510204081632, sigma=0.92, n=5: 0.8850020756851908\n",
      "P-value testu Shapiro-Wilka dla mu=3.979591836734695, sigma=0.86, n=5: 0.19889553228979923\n",
      "P-value testu Shapiro-Wilka dla mu=4.183673469387756, sigma=0.39, n=5: 0.6205648718901351\n",
      "P-value testu Shapiro-Wilka dla mu=4.387755102040817, sigma=0.02, n=5: 0.5460005760136822\n",
      "P-value testu Shapiro-Wilka dla mu=4.591836734693878, sigma=0.12, n=5: 0.5206672393660152\n",
      "P-value testu Shapiro-Wilka dla mu=4.795918367346939, sigma=0.94, n=5: 0.4677469339813322\n",
      "P-value testu Shapiro-Wilka dla mu=5.0, sigma=0.71, n=5: 0.823497618883096\n",
      "---------------------------------\n",
      "Hipoteza o normalności została odrzucona 5 razy dla n=5\n",
      "---------------------------------\n",
      "P-value testu Shapiro-Wilka dla mu=-5.0, sigma=0.56, n=10: 0.15992985787261743\n",
      "P-value testu Shapiro-Wilka dla mu=-4.795918367346939, sigma=0.11, n=10: 0.35561332838537496\n",
      "P-value testu Shapiro-Wilka dla mu=-4.591836734693878, sigma=0.56, n=10: 0.8420391628580963\n",
      "P-value testu Shapiro-Wilka dla mu=-4.387755102040816, sigma=0.08, n=10: 0.4320095168825349\n",
      "P-value testu Shapiro-Wilka dla mu=-4.183673469387755, sigma=0.25, n=10: 0.8809306976390063\n",
      "P-value testu Shapiro-Wilka dla mu=-3.979591836734694, sigma=0.52, n=10: 0.39932065498838076\n",
      "P-value testu Shapiro-Wilka dla mu=-3.7755102040816326, sigma=0.37, n=10: 0.5574894071556717\n",
      "P-value testu Shapiro-Wilka dla mu=-3.571428571428571, sigma=0.29, n=10: 0.5281514193751183\n",
      "P-value testu Shapiro-Wilka dla mu=-3.36734693877551, sigma=0.23, n=10: 0.44126057005561037\n",
      "P-value testu Shapiro-Wilka dla mu=-3.163265306122449, sigma=0.82, n=10: 0.524281016892863\n",
      "P-value testu Shapiro-Wilka dla mu=-2.9591836734693877, sigma=0.83, n=10: 0.8163372899720741\n",
      "P-value testu Shapiro-Wilka dla mu=-2.7551020408163263, sigma=0.89, n=10: 0.9278553990337102\n",
      "P-value testu Shapiro-Wilka dla mu=-2.5510204081632653, sigma=0.85, n=10: 0.007176297170971713\n",
      "P-value testu Shapiro-Wilka dla mu=-2.3469387755102042, sigma=0.66, n=10: 0.4873663253896528\n",
      "P-value testu Shapiro-Wilka dla mu=-2.142857142857143, sigma=0.36, n=10: 0.49374329291731284\n",
      "P-value testu Shapiro-Wilka dla mu=-1.9387755102040813, sigma=0.13, n=10: 0.4318182939449415\n",
      "P-value testu Shapiro-Wilka dla mu=-1.7346938775510203, sigma=0.25, n=10: 0.15258481466539686\n",
      "P-value testu Shapiro-Wilka dla mu=-1.5306122448979593, sigma=0.46, n=10: 0.48249388983107333\n",
      "P-value testu Shapiro-Wilka dla mu=-1.3265306122448979, sigma=0.86, n=10: 0.7969049315478798\n",
      "P-value testu Shapiro-Wilka dla mu=-1.1224489795918364, sigma=0.58, n=10: 0.29881460889318473\n",
      "P-value testu Shapiro-Wilka dla mu=-0.9183673469387754, sigma=0.74, n=10: 0.6724406805719527\n",
      "P-value testu Shapiro-Wilka dla mu=-0.7142857142857144, sigma=0.24, n=10: 0.32854602249256365\n",
      "P-value testu Shapiro-Wilka dla mu=-0.5102040816326525, sigma=0.85, n=10: 0.6775424633900807\n",
      "P-value testu Shapiro-Wilka dla mu=-0.3061224489795915, sigma=0.2, n=10: 0.6074362028751767\n",
      "P-value testu Shapiro-Wilka dla mu=-0.1020408163265305, sigma=0.16, n=10: 0.5724126073305753\n",
      "P-value testu Shapiro-Wilka dla mu=0.1020408163265305, sigma=0.67, n=10: 0.34382699563270563\n",
      "P-value testu Shapiro-Wilka dla mu=0.3061224489795915, sigma=0.06, n=10: 0.625811725376481\n",
      "P-value testu Shapiro-Wilka dla mu=0.5102040816326534, sigma=0.93, n=10: 0.4097732255710339\n",
      "P-value testu Shapiro-Wilka dla mu=0.7142857142857144, sigma=0.69, n=10: 0.5313398335976036\n",
      "P-value testu Shapiro-Wilka dla mu=0.9183673469387754, sigma=0.59, n=10: 0.09459151393517348\n",
      "P-value testu Shapiro-Wilka dla mu=1.1224489795918373, sigma=0.92, n=10: 0.9051923379944677\n",
      "P-value testu Shapiro-Wilka dla mu=1.3265306122448983, sigma=0.38, n=10: 0.35989921651198\n",
      "P-value testu Shapiro-Wilka dla mu=1.5306122448979593, sigma=0.35, n=10: 0.8355119129157151\n",
      "P-value testu Shapiro-Wilka dla mu=1.7346938775510203, sigma=0.57, n=10: 0.4482047659966636\n",
      "P-value testu Shapiro-Wilka dla mu=1.9387755102040813, sigma=0.35, n=10: 0.9249668142687553\n",
      "P-value testu Shapiro-Wilka dla mu=2.1428571428571432, sigma=0.02, n=10: 0.10060772871472257\n",
      "P-value testu Shapiro-Wilka dla mu=2.3469387755102042, sigma=0.93, n=10: 0.44465814505100304\n",
      "P-value testu Shapiro-Wilka dla mu=2.5510204081632653, sigma=0.64, n=10: 0.532093731015352\n",
      "P-value testu Shapiro-Wilka dla mu=2.755102040816327, sigma=0.51, n=10: 0.4917881820526514\n",
      "P-value testu Shapiro-Wilka dla mu=2.959183673469388, sigma=0.23, n=10: 0.45895489813565393\n",
      "P-value testu Shapiro-Wilka dla mu=3.163265306122449, sigma=0.06, n=10: 0.12748030501587893\n",
      "P-value testu Shapiro-Wilka dla mu=3.36734693877551, sigma=0.62, n=10: 0.8593972136472058\n",
      "P-value testu Shapiro-Wilka dla mu=3.571428571428571, sigma=0.92, n=10: 0.24497002687093494\n",
      "P-value testu Shapiro-Wilka dla mu=3.775510204081632, sigma=0.92, n=10: 0.20718657376814958\n",
      "P-value testu Shapiro-Wilka dla mu=3.979591836734695, sigma=0.86, n=10: 0.9745987865695986\n",
      "P-value testu Shapiro-Wilka dla mu=4.183673469387756, sigma=0.39, n=10: 0.9496170387273714\n",
      "P-value testu Shapiro-Wilka dla mu=4.387755102040817, sigma=0.02, n=10: 0.07168515323673626\n",
      "P-value testu Shapiro-Wilka dla mu=4.591836734693878, sigma=0.12, n=10: 0.49531593813299346\n",
      "P-value testu Shapiro-Wilka dla mu=4.795918367346939, sigma=0.94, n=10: 0.9550968959462751\n",
      "P-value testu Shapiro-Wilka dla mu=5.0, sigma=0.71, n=10: 0.5513662921231236\n",
      "---------------------------------\n",
      "Hipoteza o normalności została odrzucona 1 razy dla n=10\n",
      "---------------------------------\n",
      "P-value testu Shapiro-Wilka dla mu=-5.0, sigma=0.56, n=20: 0.41444957378001746\n",
      "P-value testu Shapiro-Wilka dla mu=-4.795918367346939, sigma=0.11, n=20: 0.057038268049136524\n",
      "P-value testu Shapiro-Wilka dla mu=-4.591836734693878, sigma=0.56, n=20: 0.6443640278083248\n",
      "P-value testu Shapiro-Wilka dla mu=-4.387755102040816, sigma=0.08, n=20: 0.343798386178904\n",
      "P-value testu Shapiro-Wilka dla mu=-4.183673469387755, sigma=0.25, n=20: 0.16210077257096078\n",
      "P-value testu Shapiro-Wilka dla mu=-3.979591836734694, sigma=0.52, n=20: 0.7474490761710336\n",
      "P-value testu Shapiro-Wilka dla mu=-3.7755102040816326, sigma=0.37, n=20: 0.7147951711533116\n",
      "P-value testu Shapiro-Wilka dla mu=-3.571428571428571, sigma=0.29, n=20: 0.7641729474361232\n",
      "P-value testu Shapiro-Wilka dla mu=-3.36734693877551, sigma=0.23, n=20: 0.34793310142928685\n",
      "P-value testu Shapiro-Wilka dla mu=-3.163265306122449, sigma=0.82, n=20: 0.5728503932320061\n",
      "P-value testu Shapiro-Wilka dla mu=-2.9591836734693877, sigma=0.83, n=20: 0.2409265655069467\n",
      "P-value testu Shapiro-Wilka dla mu=-2.7551020408163263, sigma=0.89, n=20: 0.40557670415756003\n",
      "P-value testu Shapiro-Wilka dla mu=-2.5510204081632653, sigma=0.85, n=20: 0.0036405428555638746\n",
      "P-value testu Shapiro-Wilka dla mu=-2.3469387755102042, sigma=0.66, n=20: 0.8606566094871325\n",
      "P-value testu Shapiro-Wilka dla mu=-2.142857142857143, sigma=0.36, n=20: 0.9499269770155346\n",
      "P-value testu Shapiro-Wilka dla mu=-1.9387755102040813, sigma=0.13, n=20: 0.011103856440019811\n",
      "P-value testu Shapiro-Wilka dla mu=-1.7346938775510203, sigma=0.25, n=20: 0.15820382592004012\n",
      "P-value testu Shapiro-Wilka dla mu=-1.5306122448979593, sigma=0.46, n=20: 0.6458145903256114\n",
      "P-value testu Shapiro-Wilka dla mu=-1.3265306122448979, sigma=0.86, n=20: 0.87806313431127\n",
      "P-value testu Shapiro-Wilka dla mu=-1.1224489795918364, sigma=0.58, n=20: 0.6629352091094172\n",
      "P-value testu Shapiro-Wilka dla mu=-0.9183673469387754, sigma=0.74, n=20: 0.6153911246921333\n",
      "P-value testu Shapiro-Wilka dla mu=-0.7142857142857144, sigma=0.24, n=20: 0.15713358835102814\n",
      "P-value testu Shapiro-Wilka dla mu=-0.5102040816326525, sigma=0.85, n=20: 0.6353325024786359\n",
      "P-value testu Shapiro-Wilka dla mu=-0.3061224489795915, sigma=0.2, n=20: 0.08021801691561907\n",
      "P-value testu Shapiro-Wilka dla mu=-0.1020408163265305, sigma=0.16, n=20: 0.5786923198596472\n",
      "P-value testu Shapiro-Wilka dla mu=0.1020408163265305, sigma=0.67, n=20: 0.6323730164119812\n",
      "P-value testu Shapiro-Wilka dla mu=0.3061224489795915, sigma=0.06, n=20: 0.05738328309095222\n",
      "P-value testu Shapiro-Wilka dla mu=0.5102040816326534, sigma=0.93, n=20: 0.1053627194329747\n",
      "P-value testu Shapiro-Wilka dla mu=0.7142857142857144, sigma=0.69, n=20: 0.30135755110493617\n",
      "P-value testu Shapiro-Wilka dla mu=0.9183673469387754, sigma=0.59, n=20: 0.44851217482522093\n",
      "P-value testu Shapiro-Wilka dla mu=1.1224489795918373, sigma=0.92, n=20: 0.186521383570879\n",
      "P-value testu Shapiro-Wilka dla mu=1.3265306122448983, sigma=0.38, n=20: 0.605481447322004\n",
      "P-value testu Shapiro-Wilka dla mu=1.5306122448979593, sigma=0.35, n=20: 0.5426702517633716\n",
      "P-value testu Shapiro-Wilka dla mu=1.7346938775510203, sigma=0.57, n=20: 0.6851848523503906\n",
      "P-value testu Shapiro-Wilka dla mu=1.9387755102040813, sigma=0.35, n=20: 0.30738020155765694\n",
      "P-value testu Shapiro-Wilka dla mu=2.1428571428571432, sigma=0.02, n=20: 0.14887612794195532\n",
      "P-value testu Shapiro-Wilka dla mu=2.3469387755102042, sigma=0.93, n=20: 0.13365706051825832\n",
      "P-value testu Shapiro-Wilka dla mu=2.5510204081632653, sigma=0.64, n=20: 0.9627733740271812\n",
      "P-value testu Shapiro-Wilka dla mu=2.755102040816327, sigma=0.51, n=20: 0.144677153520352\n",
      "P-value testu Shapiro-Wilka dla mu=2.959183673469388, sigma=0.23, n=20: 0.7880483610641515\n",
      "P-value testu Shapiro-Wilka dla mu=3.163265306122449, sigma=0.06, n=20: 0.038114125894748795\n",
      "P-value testu Shapiro-Wilka dla mu=3.36734693877551, sigma=0.62, n=20: 0.3055969535630135\n",
      "P-value testu Shapiro-Wilka dla mu=3.571428571428571, sigma=0.92, n=20: 0.971025535114869\n",
      "P-value testu Shapiro-Wilka dla mu=3.775510204081632, sigma=0.92, n=20: 0.5957679756437891\n",
      "P-value testu Shapiro-Wilka dla mu=3.979591836734695, sigma=0.86, n=20: 0.7891762165932861\n",
      "P-value testu Shapiro-Wilka dla mu=4.183673469387756, sigma=0.39, n=20: 0.3246103696116341\n",
      "P-value testu Shapiro-Wilka dla mu=4.387755102040817, sigma=0.02, n=20: 0.25480869680287926\n",
      "P-value testu Shapiro-Wilka dla mu=4.591836734693878, sigma=0.12, n=20: 0.5641732724877067\n",
      "P-value testu Shapiro-Wilka dla mu=4.795918367346939, sigma=0.94, n=20: 0.7924852679977665\n",
      "P-value testu Shapiro-Wilka dla mu=5.0, sigma=0.71, n=20: 0.9017591729501142\n",
      "---------------------------------\n",
      "Hipoteza o normalności została odrzucona 3 razy dla n=20\n",
      "---------------------------------\n",
      "P-value testu Shapiro-Wilka dla mu=-5.0, sigma=0.56, n=50: 0.8773732175734921\n",
      "P-value testu Shapiro-Wilka dla mu=-4.795918367346939, sigma=0.11, n=50: 0.0500929551846766\n",
      "P-value testu Shapiro-Wilka dla mu=-4.591836734693878, sigma=0.56, n=50: 0.14046040216000755\n",
      "P-value testu Shapiro-Wilka dla mu=-4.387755102040816, sigma=0.08, n=50: 0.06893514629446901\n",
      "P-value testu Shapiro-Wilka dla mu=-4.183673469387755, sigma=0.25, n=50: 0.10407631504435033\n",
      "P-value testu Shapiro-Wilka dla mu=-3.979591836734694, sigma=0.52, n=50: 0.24334733384858076\n",
      "P-value testu Shapiro-Wilka dla mu=-3.7755102040816326, sigma=0.37, n=50: 0.025443425853198517\n",
      "P-value testu Shapiro-Wilka dla mu=-3.571428571428571, sigma=0.29, n=50: 0.10145478005203079\n",
      "P-value testu Shapiro-Wilka dla mu=-3.36734693877551, sigma=0.23, n=50: 0.0032665578529037327\n",
      "P-value testu Shapiro-Wilka dla mu=-3.163265306122449, sigma=0.82, n=50: 0.4509896814857394\n",
      "P-value testu Shapiro-Wilka dla mu=-2.9591836734693877, sigma=0.83, n=50: 0.10207775124456309\n",
      "P-value testu Shapiro-Wilka dla mu=-2.7551020408163263, sigma=0.89, n=50: 0.16081917548143093\n",
      "P-value testu Shapiro-Wilka dla mu=-2.5510204081632653, sigma=0.85, n=50: 0.7861509829313071\n",
      "P-value testu Shapiro-Wilka dla mu=-2.3469387755102042, sigma=0.66, n=50: 0.010061237728131538\n",
      "P-value testu Shapiro-Wilka dla mu=-2.142857142857143, sigma=0.36, n=50: 0.897020776569224\n",
      "P-value testu Shapiro-Wilka dla mu=-1.9387755102040813, sigma=0.13, n=50: 0.23456088697684457\n",
      "P-value testu Shapiro-Wilka dla mu=-1.7346938775510203, sigma=0.25, n=50: 0.5496919613529274\n",
      "P-value testu Shapiro-Wilka dla mu=-1.5306122448979593, sigma=0.46, n=50: 0.426358229837271\n",
      "P-value testu Shapiro-Wilka dla mu=-1.3265306122448979, sigma=0.86, n=50: 0.12385345155962635\n",
      "P-value testu Shapiro-Wilka dla mu=-1.1224489795918364, sigma=0.58, n=50: 0.0217960422284533\n",
      "P-value testu Shapiro-Wilka dla mu=-0.9183673469387754, sigma=0.74, n=50: 0.2625625719376033\n",
      "P-value testu Shapiro-Wilka dla mu=-0.7142857142857144, sigma=0.24, n=50: 0.02077250359751287\n",
      "P-value testu Shapiro-Wilka dla mu=-0.5102040816326525, sigma=0.85, n=50: 0.7881304861616637\n",
      "P-value testu Shapiro-Wilka dla mu=-0.3061224489795915, sigma=0.2, n=50: 0.04692074693255361\n",
      "P-value testu Shapiro-Wilka dla mu=-0.1020408163265305, sigma=0.16, n=50: 0.03938232645856597\n",
      "P-value testu Shapiro-Wilka dla mu=0.1020408163265305, sigma=0.67, n=50: 0.7607838120464026\n",
      "P-value testu Shapiro-Wilka dla mu=0.3061224489795915, sigma=0.06, n=50: 0.020214411488774543\n",
      "P-value testu Shapiro-Wilka dla mu=0.5102040816326534, sigma=0.93, n=50: 0.33934654557692867\n",
      "P-value testu Shapiro-Wilka dla mu=0.7142857142857144, sigma=0.69, n=50: 0.2651734307037025\n",
      "P-value testu Shapiro-Wilka dla mu=0.9183673469387754, sigma=0.59, n=50: 0.8379726315078819\n",
      "P-value testu Shapiro-Wilka dla mu=1.1224489795918373, sigma=0.92, n=50: 0.49957861288087047\n",
      "P-value testu Shapiro-Wilka dla mu=1.3265306122448983, sigma=0.38, n=50: 0.02595871627300934\n",
      "P-value testu Shapiro-Wilka dla mu=1.5306122448979593, sigma=0.35, n=50: 0.06767156034980694\n",
      "P-value testu Shapiro-Wilka dla mu=1.7346938775510203, sigma=0.57, n=50: 0.9596558396550053\n",
      "P-value testu Shapiro-Wilka dla mu=1.9387755102040813, sigma=0.35, n=50: 0.09892116695970349\n",
      "P-value testu Shapiro-Wilka dla mu=2.1428571428571432, sigma=0.02, n=50: 0.03092492276427086\n",
      "P-value testu Shapiro-Wilka dla mu=2.3469387755102042, sigma=0.93, n=50: 0.07143015850616818\n",
      "P-value testu Shapiro-Wilka dla mu=2.5510204081632653, sigma=0.64, n=50: 0.047996820078240916\n",
      "P-value testu Shapiro-Wilka dla mu=2.755102040816327, sigma=0.51, n=50: 0.027117266553670933\n",
      "P-value testu Shapiro-Wilka dla mu=2.959183673469388, sigma=0.23, n=50: 0.0031513780623858285\n",
      "P-value testu Shapiro-Wilka dla mu=3.163265306122449, sigma=0.06, n=50: 0.11291686277714325\n",
      "P-value testu Shapiro-Wilka dla mu=3.36734693877551, sigma=0.62, n=50: 0.46435576313702126\n",
      "P-value testu Shapiro-Wilka dla mu=3.571428571428571, sigma=0.92, n=50: 0.6481934811717442\n",
      "P-value testu Shapiro-Wilka dla mu=3.775510204081632, sigma=0.92, n=50: 0.5429192186135094\n",
      "P-value testu Shapiro-Wilka dla mu=3.979591836734695, sigma=0.86, n=50: 0.021660126979098606\n",
      "P-value testu Shapiro-Wilka dla mu=4.183673469387756, sigma=0.39, n=50: 0.007223860788951239\n",
      "P-value testu Shapiro-Wilka dla mu=4.387755102040817, sigma=0.02, n=50: 0.004717164936798636\n",
      "P-value testu Shapiro-Wilka dla mu=4.591836734693878, sigma=0.12, n=50: 0.015393897338068533\n",
      "P-value testu Shapiro-Wilka dla mu=4.795918367346939, sigma=0.94, n=50: 0.6301915651765573\n",
      "P-value testu Shapiro-Wilka dla mu=5.0, sigma=0.71, n=50: 0.5912784797516557\n",
      "---------------------------------\n",
      "Hipoteza o normalności została odrzucona 17 razy dla n=50\n",
      "---------------------------------\n",
      "P-value testu Shapiro-Wilka dla mu=-5.0, sigma=0.56, n=100: 0.27596697862574465\n",
      "P-value testu Shapiro-Wilka dla mu=-4.795918367346939, sigma=0.11, n=100: 0.00013259061479075146\n",
      "P-value testu Shapiro-Wilka dla mu=-4.591836734693878, sigma=0.56, n=100: 0.2552884720320251\n",
      "P-value testu Shapiro-Wilka dla mu=-4.387755102040816, sigma=0.08, n=100: 0.0001753749727463094\n",
      "P-value testu Shapiro-Wilka dla mu=-4.183673469387755, sigma=0.25, n=100: 0.0015310996887364983\n",
      "P-value testu Shapiro-Wilka dla mu=-3.979591836734694, sigma=0.52, n=100: 0.5701589525255264\n",
      "P-value testu Shapiro-Wilka dla mu=-3.7755102040816326, sigma=0.37, n=100: 0.012805859440583526\n",
      "P-value testu Shapiro-Wilka dla mu=-3.571428571428571, sigma=0.29, n=100: 0.00976804035079839\n",
      "P-value testu Shapiro-Wilka dla mu=-3.36734693877551, sigma=0.23, n=100: 0.02743549455808436\n",
      "P-value testu Shapiro-Wilka dla mu=-3.163265306122449, sigma=0.82, n=100: 0.4635316300035906\n",
      "P-value testu Shapiro-Wilka dla mu=-2.9591836734693877, sigma=0.83, n=100: 0.4898517823746314\n",
      "P-value testu Shapiro-Wilka dla mu=-2.7551020408163263, sigma=0.89, n=100: 0.26691310257581485\n",
      "P-value testu Shapiro-Wilka dla mu=-2.5510204081632653, sigma=0.85, n=100: 0.517374036957438\n",
      "P-value testu Shapiro-Wilka dla mu=-2.3469387755102042, sigma=0.66, n=100: 0.22551454775383173\n",
      "P-value testu Shapiro-Wilka dla mu=-2.142857142857143, sigma=0.36, n=100: 0.13428257334934568\n",
      "P-value testu Shapiro-Wilka dla mu=-1.9387755102040813, sigma=0.13, n=100: 0.0005624022658159741\n",
      "P-value testu Shapiro-Wilka dla mu=-1.7346938775510203, sigma=0.25, n=100: 0.0004400661204699906\n",
      "P-value testu Shapiro-Wilka dla mu=-1.5306122448979593, sigma=0.46, n=100: 0.13299124542200536\n",
      "P-value testu Shapiro-Wilka dla mu=-1.3265306122448979, sigma=0.86, n=100: 0.17501193026616735\n",
      "P-value testu Shapiro-Wilka dla mu=-1.1224489795918364, sigma=0.58, n=100: 0.4770929932550982\n",
      "P-value testu Shapiro-Wilka dla mu=-0.9183673469387754, sigma=0.74, n=100: 0.0631843561786304\n",
      "P-value testu Shapiro-Wilka dla mu=-0.7142857142857144, sigma=0.24, n=100: 0.00723040558806351\n",
      "P-value testu Shapiro-Wilka dla mu=-0.5102040816326525, sigma=0.85, n=100: 0.06841024026873078\n",
      "P-value testu Shapiro-Wilka dla mu=-0.3061224489795915, sigma=0.2, n=100: 0.00046689638128769663\n",
      "P-value testu Shapiro-Wilka dla mu=-0.1020408163265305, sigma=0.16, n=100: 0.00026290351299254616\n",
      "P-value testu Shapiro-Wilka dla mu=0.1020408163265305, sigma=0.67, n=100: 0.2045853349196992\n",
      "P-value testu Shapiro-Wilka dla mu=0.3061224489795915, sigma=0.06, n=100: 8.743738024936212e-05\n",
      "P-value testu Shapiro-Wilka dla mu=0.5102040816326534, sigma=0.93, n=100: 0.34173388882303873\n",
      "P-value testu Shapiro-Wilka dla mu=0.7142857142857144, sigma=0.69, n=100: 0.6324750653480906\n",
      "P-value testu Shapiro-Wilka dla mu=0.9183673469387754, sigma=0.59, n=100: 0.5714513494573148\n",
      "P-value testu Shapiro-Wilka dla mu=1.1224489795918373, sigma=0.92, n=100: 0.1540089127754874\n",
      "P-value testu Shapiro-Wilka dla mu=1.3265306122448983, sigma=0.38, n=100: 0.038755549752266055\n",
      "P-value testu Shapiro-Wilka dla mu=1.5306122448979593, sigma=0.35, n=100: 0.0037583169600224516\n",
      "P-value testu Shapiro-Wilka dla mu=1.7346938775510203, sigma=0.57, n=100: 0.2771291856070197\n",
      "P-value testu Shapiro-Wilka dla mu=1.9387755102040813, sigma=0.35, n=100: 0.012487652245544704\n",
      "P-value testu Shapiro-Wilka dla mu=2.1428571428571432, sigma=0.02, n=100: 3.0277974500348016e-05\n",
      "P-value testu Shapiro-Wilka dla mu=2.3469387755102042, sigma=0.93, n=100: 0.39597983666575354\n",
      "P-value testu Shapiro-Wilka dla mu=2.5510204081632653, sigma=0.64, n=100: 0.5189215445399564\n",
      "P-value testu Shapiro-Wilka dla mu=2.755102040816327, sigma=0.51, n=100: 0.0030979908934674408\n",
      "P-value testu Shapiro-Wilka dla mu=2.959183673469388, sigma=0.23, n=100: 0.003577356611777643\n",
      "P-value testu Shapiro-Wilka dla mu=3.163265306122449, sigma=0.06, n=100: 0.005808956399636058\n",
      "P-value testu Shapiro-Wilka dla mu=3.36734693877551, sigma=0.62, n=100: 0.21138586031635748\n",
      "P-value testu Shapiro-Wilka dla mu=3.571428571428571, sigma=0.92, n=100: 0.2044718699684383\n",
      "P-value testu Shapiro-Wilka dla mu=3.775510204081632, sigma=0.92, n=100: 0.8531375511177346\n",
      "P-value testu Shapiro-Wilka dla mu=3.979591836734695, sigma=0.86, n=100: 0.622293788237277\n",
      "P-value testu Shapiro-Wilka dla mu=4.183673469387756, sigma=0.39, n=100: 0.537073604135189\n",
      "P-value testu Shapiro-Wilka dla mu=4.387755102040817, sigma=0.02, n=100: 0.0008211896436753852\n",
      "P-value testu Shapiro-Wilka dla mu=4.591836734693878, sigma=0.12, n=100: 0.00030398784386068215\n",
      "P-value testu Shapiro-Wilka dla mu=4.795918367346939, sigma=0.94, n=100: 0.40195461757448026\n",
      "P-value testu Shapiro-Wilka dla mu=5.0, sigma=0.71, n=100: 0.45207071326625575\n",
      "---------------------------------\n",
      "Hipoteza o normalności została odrzucona 21 razy dla n=100\n",
      "---------------------------------\n",
      "P-value testu Shapiro-Wilka dla mu=-5.0, sigma=0.56, n=500: 8.449950682211073e-06\n",
      "P-value testu Shapiro-Wilka dla mu=-4.795918367346939, sigma=0.11, n=500: 2.2588441487592215e-11\n",
      "P-value testu Shapiro-Wilka dla mu=-4.591836734693878, sigma=0.56, n=500: 1.074440291441315e-05\n",
      "P-value testu Shapiro-Wilka dla mu=-4.387755102040816, sigma=0.08, n=500: 1.0697654660897575e-10\n",
      "P-value testu Shapiro-Wilka dla mu=-4.183673469387755, sigma=0.25, n=500: 8.6952000699076e-10\n",
      "P-value testu Shapiro-Wilka dla mu=-3.979591836734694, sigma=0.52, n=500: 2.032237103103775e-05\n",
      "P-value testu Shapiro-Wilka dla mu=-3.7755102040816326, sigma=0.37, n=500: 5.0059429075948666e-08\n",
      "P-value testu Shapiro-Wilka dla mu=-3.571428571428571, sigma=0.29, n=500: 1.0160061943287353e-09\n",
      "P-value testu Shapiro-Wilka dla mu=-3.36734693877551, sigma=0.23, n=500: 1.1419498791160806e-09\n",
      "P-value testu Shapiro-Wilka dla mu=-3.163265306122449, sigma=0.82, n=500: 4.6869748694170335e-05\n",
      "P-value testu Shapiro-Wilka dla mu=-2.9591836734693877, sigma=0.83, n=500: 0.012241295691342371\n",
      "P-value testu Shapiro-Wilka dla mu=-2.7551020408163263, sigma=0.89, n=500: 0.014011280527716056\n",
      "P-value testu Shapiro-Wilka dla mu=-2.5510204081632653, sigma=0.85, n=500: 0.05903873539635824\n",
      "P-value testu Shapiro-Wilka dla mu=-2.3469387755102042, sigma=0.66, n=500: 0.0016694422347947287\n",
      "P-value testu Shapiro-Wilka dla mu=-2.142857142857143, sigma=0.36, n=500: 3.869141728032478e-09\n",
      "P-value testu Shapiro-Wilka dla mu=-1.9387755102040813, sigma=0.13, n=500: 1.572393860973051e-10\n",
      "P-value testu Shapiro-Wilka dla mu=-1.7346938775510203, sigma=0.25, n=500: 7.13065027928018e-09\n",
      "P-value testu Shapiro-Wilka dla mu=-1.5306122448979593, sigma=0.46, n=500: 2.0073859258118362e-07\n",
      "P-value testu Shapiro-Wilka dla mu=-1.3265306122448979, sigma=0.86, n=500: 0.01830949370263169\n",
      "P-value testu Shapiro-Wilka dla mu=-1.1224489795918364, sigma=0.58, n=500: 0.00018033796547746315\n",
      "P-value testu Shapiro-Wilka dla mu=-0.9183673469387754, sigma=0.74, n=500: 0.00017736676242349506\n",
      "P-value testu Shapiro-Wilka dla mu=-0.7142857142857144, sigma=0.24, n=500: 1.7098862503626652e-09\n",
      "P-value testu Shapiro-Wilka dla mu=-0.5102040816326525, sigma=0.85, n=500: 0.022291016688309476\n",
      "P-value testu Shapiro-Wilka dla mu=-0.3061224489795915, sigma=0.2, n=500: 2.056861883620554e-10\n",
      "P-value testu Shapiro-Wilka dla mu=-0.1020408163265305, sigma=0.16, n=500: 1.7103430055060523e-09\n",
      "P-value testu Shapiro-Wilka dla mu=0.1020408163265305, sigma=0.67, n=500: 0.003974448608561976\n",
      "P-value testu Shapiro-Wilka dla mu=0.3061224489795915, sigma=0.06, n=500: 1.4920862540157895e-11\n",
      "P-value testu Shapiro-Wilka dla mu=0.5102040816326534, sigma=0.93, n=500: 0.00239800086579292\n",
      "P-value testu Shapiro-Wilka dla mu=0.7142857142857144, sigma=0.69, n=500: 0.0037496442157720416\n",
      "P-value testu Shapiro-Wilka dla mu=0.9183673469387754, sigma=0.59, n=500: 8.193407978326498e-07\n",
      "P-value testu Shapiro-Wilka dla mu=1.1224489795918373, sigma=0.92, n=500: 0.19157103161420602\n",
      "P-value testu Shapiro-Wilka dla mu=1.3265306122448983, sigma=0.38, n=500: 3.1347242359153495e-07\n",
      "P-value testu Shapiro-Wilka dla mu=1.5306122448979593, sigma=0.35, n=500: 2.8809214923238128e-08\n",
      "P-value testu Shapiro-Wilka dla mu=1.7346938775510203, sigma=0.57, n=500: 0.00017555765138830716\n",
      "P-value testu Shapiro-Wilka dla mu=1.9387755102040813, sigma=0.35, n=500: 3.6438582128318325e-09\n",
      "P-value testu Shapiro-Wilka dla mu=2.1428571428571432, sigma=0.02, n=500: 2.199944562298471e-13\n",
      "P-value testu Shapiro-Wilka dla mu=2.3469387755102042, sigma=0.93, n=500: 0.6692006607967107\n",
      "P-value testu Shapiro-Wilka dla mu=2.5510204081632653, sigma=0.64, n=500: 0.006744863407865342\n",
      "P-value testu Shapiro-Wilka dla mu=2.755102040816327, sigma=0.51, n=500: 8.454936537229767e-06\n",
      "P-value testu Shapiro-Wilka dla mu=2.959183673469388, sigma=0.23, n=500: 7.486130162168088e-09\n",
      "P-value testu Shapiro-Wilka dla mu=3.163265306122449, sigma=0.06, n=500: 3.26117438758359e-11\n",
      "P-value testu Shapiro-Wilka dla mu=3.36734693877551, sigma=0.62, n=500: 0.006144525403335211\n",
      "P-value testu Shapiro-Wilka dla mu=3.571428571428571, sigma=0.92, n=500: 0.2833521257202536\n",
      "P-value testu Shapiro-Wilka dla mu=3.775510204081632, sigma=0.92, n=500: 0.20431081935549072\n",
      "P-value testu Shapiro-Wilka dla mu=3.979591836734695, sigma=0.86, n=500: 0.06439074708684489\n",
      "P-value testu Shapiro-Wilka dla mu=4.183673469387756, sigma=0.39, n=500: 1.0975424367329123e-05\n",
      "P-value testu Shapiro-Wilka dla mu=4.387755102040817, sigma=0.02, n=500: 5.473924548798354e-12\n",
      "P-value testu Shapiro-Wilka dla mu=4.591836734693878, sigma=0.12, n=500: 2.610447900935062e-09\n",
      "P-value testu Shapiro-Wilka dla mu=4.795918367346939, sigma=0.94, n=500: 0.05418490943175978\n",
      "P-value testu Shapiro-Wilka dla mu=5.0, sigma=0.71, n=500: 3.6414786392397544e-05\n",
      "---------------------------------\n",
      "Hipoteza o normalności została odrzucona 43 razy dla n=500\n",
      "---------------------------------\n",
      "P-value testu Shapiro-Wilka dla mu=-5.0, sigma=0.56, n=5000: 6.034485177562772e-20\n",
      "P-value testu Shapiro-Wilka dla mu=-4.795918367346939, sigma=0.11, n=5000: 1.0155998409032157e-35\n",
      "P-value testu Shapiro-Wilka dla mu=-4.591836734693878, sigma=0.56, n=5000: 5.0116945704149535e-20\n",
      "P-value testu Shapiro-Wilka dla mu=-4.387755102040816, sigma=0.08, n=5000: 1.7123951186695146e-35\n",
      "P-value testu Shapiro-Wilka dla mu=-4.183673469387755, sigma=0.25, n=5000: 2.048762682568663e-30\n",
      "P-value testu Shapiro-Wilka dla mu=-3.979591836734694, sigma=0.52, n=5000: 2.888308807309994e-22\n",
      "P-value testu Shapiro-Wilka dla mu=-3.7755102040816326, sigma=0.37, n=5000: 1.3470713612524209e-27\n",
      "P-value testu Shapiro-Wilka dla mu=-3.571428571428571, sigma=0.29, n=5000: 8.027379509533302e-31\n",
      "P-value testu Shapiro-Wilka dla mu=-3.36734693877551, sigma=0.23, n=5000: 6.636113997567312e-33\n",
      "P-value testu Shapiro-Wilka dla mu=-3.163265306122449, sigma=0.82, n=5000: 6.30613255144404e-12\n",
      "P-value testu Shapiro-Wilka dla mu=-2.9591836734693877, sigma=0.83, n=5000: 1.5092277844034445e-10\n",
      "P-value testu Shapiro-Wilka dla mu=-2.7551020408163263, sigma=0.89, n=5000: 5.523683862727132e-08\n",
      "P-value testu Shapiro-Wilka dla mu=-2.5510204081632653, sigma=0.85, n=5000: 9.433841961847552e-10\n",
      "P-value testu Shapiro-Wilka dla mu=-2.3469387755102042, sigma=0.66, n=5000: 6.10039701612563e-17\n",
      "P-value testu Shapiro-Wilka dla mu=-2.142857142857143, sigma=0.36, n=5000: 2.3709482623542774e-29\n",
      "P-value testu Shapiro-Wilka dla mu=-1.9387755102040813, sigma=0.13, n=5000: 6.390161481962399e-35\n",
      "P-value testu Shapiro-Wilka dla mu=-1.7346938775510203, sigma=0.25, n=5000: 1.3233994540409627e-31\n",
      "P-value testu Shapiro-Wilka dla mu=-1.5306122448979593, sigma=0.46, n=5000: 1.6984773760210525e-22\n",
      "P-value testu Shapiro-Wilka dla mu=-1.3265306122448979, sigma=0.86, n=5000: 2.7540491067057573e-10\n",
      "P-value testu Shapiro-Wilka dla mu=-1.1224489795918364, sigma=0.58, n=5000: 9.854625898745783e-19\n",
      "P-value testu Shapiro-Wilka dla mu=-0.9183673469387754, sigma=0.74, n=5000: 9.675214523026442e-15\n",
      "P-value testu Shapiro-Wilka dla mu=-0.7142857142857144, sigma=0.24, n=5000: 4.153022366134929e-32\n",
      "P-value testu Shapiro-Wilka dla mu=-0.5102040816326525, sigma=0.85, n=5000: 1.5612148816346188e-13\n",
      "P-value testu Shapiro-Wilka dla mu=-0.3061224489795915, sigma=0.2, n=5000: 9.295640310227086e-32\n",
      "P-value testu Shapiro-Wilka dla mu=-0.1020408163265305, sigma=0.16, n=5000: 7.337852423949479e-34\n",
      "P-value testu Shapiro-Wilka dla mu=0.1020408163265305, sigma=0.67, n=5000: 6.357560809236435e-16\n",
      "P-value testu Shapiro-Wilka dla mu=0.3061224489795915, sigma=0.06, n=5000: 3.314272954926554e-36\n",
      "P-value testu Shapiro-Wilka dla mu=0.5102040816326534, sigma=0.93, n=5000: 3.48777624713751e-11\n",
      "P-value testu Shapiro-Wilka dla mu=0.7142857142857144, sigma=0.69, n=5000: 2.188121803542074e-16\n",
      "P-value testu Shapiro-Wilka dla mu=0.9183673469387754, sigma=0.59, n=5000: 8.895851315832673e-20\n",
      "P-value testu Shapiro-Wilka dla mu=1.1224489795918373, sigma=0.92, n=5000: 2.5100423477843108e-09\n",
      "P-value testu Shapiro-Wilka dla mu=1.3265306122448983, sigma=0.38, n=5000: 1.0112010903331049e-27\n",
      "P-value testu Shapiro-Wilka dla mu=1.5306122448979593, sigma=0.35, n=5000: 7.390450778259154e-28\n",
      "P-value testu Shapiro-Wilka dla mu=1.7346938775510203, sigma=0.57, n=5000: 3.2392281391117996e-20\n",
      "P-value testu Shapiro-Wilka dla mu=1.9387755102040813, sigma=0.35, n=5000: 3.0346056617012677e-28\n",
      "P-value testu Shapiro-Wilka dla mu=2.1428571428571432, sigma=0.02, n=5000: 1.8650457401731951e-37\n",
      "P-value testu Shapiro-Wilka dla mu=2.3469387755102042, sigma=0.93, n=5000: 1.078672573349843e-08\n",
      "P-value testu Shapiro-Wilka dla mu=2.5510204081632653, sigma=0.64, n=5000: 2.0747814931450693e-16\n",
      "P-value testu Shapiro-Wilka dla mu=2.755102040816327, sigma=0.51, n=5000: 4.8664856093969595e-23\n",
      "P-value testu Shapiro-Wilka dla mu=2.959183673469388, sigma=0.23, n=5000: 8.874983740082029e-33\n",
      "P-value testu Shapiro-Wilka dla mu=3.163265306122449, sigma=0.06, n=5000: 9.400703536514874e-36\n",
      "P-value testu Shapiro-Wilka dla mu=3.36734693877551, sigma=0.62, n=5000: 1.8771694587659886e-16\n",
      "P-value testu Shapiro-Wilka dla mu=3.571428571428571, sigma=0.92, n=5000: 1.4608775987636985e-08\n",
      "P-value testu Shapiro-Wilka dla mu=3.775510204081632, sigma=0.92, n=5000: 4.4830435695383494e-10\n",
      "P-value testu Shapiro-Wilka dla mu=3.979591836734695, sigma=0.86, n=5000: 2.4722401812500812e-11\n",
      "P-value testu Shapiro-Wilka dla mu=4.183673469387756, sigma=0.39, n=5000: 2.6940772052639826e-27\n",
      "P-value testu Shapiro-Wilka dla mu=4.387755102040817, sigma=0.02, n=5000: 4.666849104526207e-37\n",
      "P-value testu Shapiro-Wilka dla mu=4.591836734693878, sigma=0.12, n=5000: 1.507513556617476e-35\n",
      "P-value testu Shapiro-Wilka dla mu=4.795918367346939, sigma=0.94, n=5000: 1.0128120848533483e-08\n",
      "P-value testu Shapiro-Wilka dla mu=5.0, sigma=0.71, n=5000: 2.4282027444413995e-15\n",
      "---------------------------------\n",
      "Hipoteza o normalności została odrzucona 50 razy dla n=5000\n"
     ]
    }
   ],
   "source": [
    "mu = np.linspace(-5, 5, 50)\n",
    "sigma = np.round(stats.uniform.rvs(size=50, loc=0, scale=1), 2)\n",
    "nobs = [5, 10, 20, 50, 100, 500, 5000]\n",
    "for n in nobs:\n",
    "    print(\"---------------------------------\")\n",
    "    reject = 0\n",
    "    for m, s in zip(mu, sigma):\n",
    "        x = stats.norm.rvs(size=n, loc=m, scale=s) + stats.uniform.rvs(size=n, loc=-2, scale=4)\n",
    "        pval = stats.shapiro(x)[1]\n",
    "        print(\"P-value testu Shapiro-Wilka dla mu={}, sigma={}, n={}: {}\".format(m, s, n, pval))\n",
    "        if pval < alpha: reject += 1\n",
    "    print(\"---------------------------------\")\n",
    "    print(\"Hipoteza o normalności została odrzucona {} razy dla n={}\".format(reject, n))"
   ]
  },
  {
   "cell_type": "code",
   "execution_count": null,
   "metadata": {
    "id": "UiEhvE0JibTY"
   },
   "outputs": [],
   "source": [
    "# test powinien dobrze dzialac dla dowolnej mu i dowolnej simgy, ktory dowolnie generujemy"
   ]
  },
  {
   "cell_type": "code",
   "execution_count": null,
   "metadata": {
    "id": "amirIIQ4ibTY"
   },
   "outputs": [],
   "source": []
  },
  {
   "cell_type": "code",
   "execution_count": null,
   "metadata": {
    "id": "wn_WPzWGibTY"
   },
   "outputs": [],
   "source": []
  },
  {
   "cell_type": "markdown",
   "metadata": {
    "id": "-l7Fk8u_ibTY"
   },
   "source": [
    "## ***Metody graficzne\n",
    "\n",
    "- histogram (z naniesionym fitem rozkładu normalnego)\n",
    "\n",
    "- $qq$-plot:\n",
    "    * oś x - teoretyczne kwantyle z rozkładu normalnego\n",
    "    * oś y - empiryczne kwantyle wyznaczone na podstawie próby; punkty na wykresie powinny układać wzdłuż prostej $y=x$."
   ]
  },
  {
   "cell_type": "code",
   "execution_count": 11,
   "metadata": {
    "id": "Edw4gU3wibTY"
   },
   "outputs": [
    {
     "data": {
      "text/plain": [
       "\u001b[1;31mSignature:\u001b[0m \u001b[0mstats\u001b[0m\u001b[1;33m.\u001b[0m\u001b[0mnorm\u001b[0m\u001b[1;33m.\u001b[0m\u001b[0mfit\u001b[0m\u001b[1;33m(\u001b[0m\u001b[0mdata\u001b[0m\u001b[1;33m,\u001b[0m \u001b[1;33m**\u001b[0m\u001b[0mkwds\u001b[0m\u001b[1;33m)\u001b[0m\u001b[1;33m\u001b[0m\u001b[1;33m\u001b[0m\u001b[0m\n",
       "\u001b[1;31mDocstring:\u001b[0m\n",
       "Return estimates of shape (if applicable), location, and scale\n",
       "parameters from data. The default estimation method is Maximum\n",
       "Likelihood Estimation (MLE), but Method of Moments (MM)\n",
       "is also available.\n",
       "\n",
       "Starting estimates for the fit are given by input arguments;\n",
       "for any arguments not provided with starting estimates,\n",
       "``self._fitstart(data)`` is called to generate such.\n",
       "\n",
       "One can hold some parameters fixed to specific values by passing in\n",
       "keyword arguments ``f0``, ``f1``, ..., ``fn`` (for shape parameters)\n",
       "and ``floc`` and ``fscale`` (for location and scale parameters,\n",
       "respectively).\n",
       "\n",
       "Parameters\n",
       "----------\n",
       "data : array_like or `CensoredData` instance\n",
       "    Data to use in estimating the distribution parameters.\n",
       "arg1, arg2, arg3,... : floats, optional\n",
       "    Starting value(s) for any shape-characterizing arguments (those not\n",
       "    provided will be determined by a call to ``_fitstart(data)``).\n",
       "    No default value.\n",
       "**kwds : floats, optional\n",
       "    - `loc`: initial guess of the distribution's location parameter.\n",
       "    - `scale`: initial guess of the distribution's scale parameter.\n",
       "\n",
       "    Special keyword arguments are recognized as holding certain\n",
       "    parameters fixed:\n",
       "\n",
       "    - f0...fn : hold respective shape parameters fixed.\n",
       "      Alternatively, shape parameters to fix can be specified by name.\n",
       "      For example, if ``self.shapes == \"a, b\"``, ``fa`` and ``fix_a``\n",
       "      are equivalent to ``f0``, and ``fb`` and ``fix_b`` are\n",
       "      equivalent to ``f1``.\n",
       "\n",
       "    - floc : hold location parameter fixed to specified value.\n",
       "\n",
       "    - fscale : hold scale parameter fixed to specified value.\n",
       "\n",
       "    - optimizer : The optimizer to use.  The optimizer must take\n",
       "      ``func`` and starting position as the first two arguments,\n",
       "      plus ``args`` (for extra arguments to pass to the\n",
       "      function to be optimized) and ``disp``. \n",
       "      The ``fit`` method calls the optimizer with ``disp=0`` to suppress output.\n",
       "      The optimizer must return the estimated parameters.\n",
       "\n",
       "    - method : The method to use. The default is \"MLE\" (Maximum\n",
       "      Likelihood Estimate); \"MM\" (Method of Moments)\n",
       "      is also available.\n",
       "\n",
       "Raises\n",
       "------\n",
       "TypeError, ValueError\n",
       "    If an input is invalid\n",
       "`~scipy.stats.FitError`\n",
       "    If fitting fails or the fit produced would be invalid\n",
       "\n",
       "Returns\n",
       "-------\n",
       "parameter_tuple : tuple of floats\n",
       "    Estimates for any shape parameters (if applicable), followed by\n",
       "    those for location and scale. For most random variables, shape\n",
       "    statistics will be returned, but there are exceptions (e.g.\n",
       "    ``norm``).\n",
       "\n",
       "Notes\n",
       "-----\n",
       "For the normal distribution, method of moments and maximum likelihood\n",
       "estimation give identical fits, and explicit formulas for the estimates\n",
       "are available.\n",
       "This function uses these explicit formulas for the maximum likelihood\n",
       "estimation of the normal distribution parameters, so the\n",
       "`optimizer` and `method` arguments are ignored.\n",
       "\n",
       "Examples\n",
       "--------\n",
       "\n",
       "Generate some data to fit: draw random variates from the `beta`\n",
       "distribution\n",
       "\n",
       ">>> import numpy as np\n",
       ">>> from scipy.stats import beta\n",
       ">>> a, b = 1., 2.\n",
       ">>> rng = np.random.default_rng(172786373191770012695001057628748821561)\n",
       ">>> x = beta.rvs(a, b, size=1000, random_state=rng)\n",
       "\n",
       "Now we can fit all four parameters (``a``, ``b``, ``loc`` and\n",
       "``scale``):\n",
       "\n",
       ">>> a1, b1, loc1, scale1 = beta.fit(x)\n",
       ">>> a1, b1, loc1, scale1\n",
       "(1.0198945204435628, 1.9484708982737828, 4.372241314917588e-05, 0.9979078845964814)\n",
       "\n",
       "The fit can be done also using a custom optimizer:\n",
       "\n",
       ">>> from scipy.optimize import minimize\n",
       ">>> def custom_optimizer(func, x0, args=(), disp=0):\n",
       "...     res = minimize(func, x0, args, method=\"slsqp\", options={\"disp\": disp})\n",
       "...     if res.success:\n",
       "...         return res.x\n",
       "...     raise RuntimeError('optimization routine failed')\n",
       ">>> a1, b1, loc1, scale1 = beta.fit(x, method=\"MLE\", optimizer=custom_optimizer)\n",
       ">>> a1, b1, loc1, scale1\n",
       "(1.0198821087258905, 1.948484145914738, 4.3705304486881485e-05, 0.9979104663953395)\n",
       "\n",
       "We can also use some prior knowledge about the dataset: let's keep\n",
       "``loc`` and ``scale`` fixed:\n",
       "\n",
       ">>> a1, b1, loc1, scale1 = beta.fit(x, floc=0, fscale=1)\n",
       ">>> loc1, scale1\n",
       "(0, 1)\n",
       "\n",
       "We can also keep shape parameters fixed by using ``f``-keywords. To\n",
       "keep the zero-th shape parameter ``a`` equal 1, use ``f0=1`` or,\n",
       "equivalently, ``fa=1``:\n",
       "\n",
       ">>> a1, b1, loc1, scale1 = beta.fit(x, fa=1, floc=0, fscale=1)\n",
       ">>> a1\n",
       "1\n",
       "\n",
       "Not all distributions return estimates for the shape parameters.\n",
       "``norm`` for example just returns estimates for location and scale:\n",
       "\n",
       ">>> from scipy.stats import norm\n",
       ">>> x = norm.rvs(a, b, size=1000, random_state=123)\n",
       ">>> loc1, scale1 = norm.fit(x)\n",
       ">>> loc1, scale1\n",
       "(0.92087172783841631, 2.0015750750324668)\n",
       "\u001b[1;31mFile:\u001b[0m      c:\\users\\bpe\\anaconda3\\lib\\site-packages\\scipy\\stats\\_continuous_distns.py\n",
       "\u001b[1;31mType:\u001b[0m      method"
      ]
     },
     "metadata": {},
     "output_type": "display_data"
    }
   ],
   "source": [
    "?stats.norm.fit"
   ]
  },
  {
   "cell_type": "code",
   "execution_count": null,
   "metadata": {
    "id": "s6BZ2B5qibTY"
   },
   "outputs": [],
   "source": [
    "# ?sm.qqplot"
   ]
  },
  {
   "cell_type": "code",
   "execution_count": 12,
   "metadata": {
    "id": "Wy3TYrxV3XjW"
   },
   "outputs": [],
   "source": [
    "n = 100\n",
    "# generuje probki o konkretnych rozkladach o liczebnosci n=100\n",
    "norm2 = stats.norm.rvs(size=n, loc=2, scale=0.5) + stats.uniform.rvs(size=n, loc=-2, scale=4)\n",
    "norm = stats.norm.rvs(size=n, loc=2, scale=0.5) \n",
    "chi = stats.chi2.rvs(size=n, df=5)\n",
    "exp = stats.expon.rvs(size=n, scale=1/2)"
   ]
  },
  {
   "cell_type": "code",
   "execution_count": 13,
   "metadata": {
    "id": "QyT-cLR63we3"
   },
   "outputs": [
    {
     "name": "stdout",
     "output_type": "stream",
     "text": [
      "ShapiroResult(statistic=0.9951802665259599, pvalue=0.9795304620226449)\n"
     ]
    },
    {
     "data": {
      "image/png": "[encoded data removed]",
      "text/plain": [
       "<Figure size 640x480 with 1 Axes>"
      ]
     },
     "metadata": {},
     "output_type": "display_data"
    }
   ],
   "source": [
    "sm.qqplot(norm, stats.norm, line='q') # dla probki normalnego rozkladu\n",
    "print(stats.shapiro(norm))\n",
    "plt.show()"
   ]
  },
  {
   "cell_type": "code",
   "execution_count": null,
   "metadata": {},
   "outputs": [],
   "source": [
    "# kropki ukladaja sie wzdluz czerwonej linii"
   ]
  },
  {
   "cell_type": "code",
   "execution_count": 14,
   "metadata": {
    "id": "TLNaRJ9Z4VcD"
   },
   "outputs": [
    {
     "name": "stdout",
     "output_type": "stream",
     "text": [
      "ShapiroResult(statistic=0.9421703780085112, pvalue=0.0002621477070910569)\n"
     ]
    },
    {
     "data": {
      "image/png": "[encoded data removed]",
      "text/plain": [
       "<Figure size 640x480 with 1 Axes>"
      ]
     },
     "metadata": {},
     "output_type": "display_data"
    }
   ],
   "source": [
    "sm.qqplot(chi, stats.norm, line='q')\n",
    "print(stats.shapiro(chi))\n",
    "plt.show()"
   ]
  },
  {
   "cell_type": "code",
   "execution_count": null,
   "metadata": {},
   "outputs": [],
   "source": [
    "# dla ukladu ktory nie jest normalny punkty zaczynaja uciekac"
   ]
  },
  {
   "cell_type": "code",
   "execution_count": 15,
   "metadata": {
    "id": "nq67UBet5BWf"
   },
   "outputs": [
    {
     "name": "stdout",
     "output_type": "stream",
     "text": [
      "ShapiroResult(statistic=0.9824020767395365, pvalue=0.20361333010456661)\n"
     ]
    },
    {
     "data": {
      "image/png": "[encoded data removed]",
      "text/plain": [
       "<Figure size 640x480 with 1 Axes>"
      ]
     },
     "metadata": {},
     "output_type": "display_data"
    }
   ],
   "source": [
    "sm.qqplot(norm2, stats.norm, line='q')\n",
    "print(stats.shapiro(norm2))\n",
    "plt.show()"
   ]
  },
  {
   "cell_type": "code",
   "execution_count": 16,
   "metadata": {},
   "outputs": [],
   "source": [
    "# w tym przypadku juz bardzo uciekaja punkty"
   ]
  },
  {
   "cell_type": "code",
   "execution_count": null,
   "metadata": {},
   "outputs": [],
   "source": [
    "# o wykresiach - \n",
    "# pierwsza os (poziobma) to sa wartosci kwantyli rozkladu normalnego\n",
    "# na osi y - kwantyle empiryczne "
   ]
  },
  {
   "cell_type": "code",
   "execution_count": 17,
   "metadata": {},
   "outputs": [
    {
     "data": {
      "text/plain": [
       "array([1.84395162, 1.90900959, 2.55595224, 2.09342983, 2.42916176,\n",
       "       2.17500976, 1.14087772, 2.86637588, 2.06385715, 1.45954268,\n",
       "       2.24692583, 1.13194402, 1.57619273, 1.77340688, 2.47984785,\n",
       "       1.43704106, 2.69650132, 2.28697013, 0.48238871, 2.17895681,\n",
       "       2.57617106, 1.81481503, 2.07731175, 2.43083653, 1.74947022,\n",
       "       1.5553991 , 1.7977845 , 1.75027125, 1.62941667, 1.90236195,\n",
       "       1.60021034, 1.91256687, 2.21798898, 1.63779395, 1.81573014,\n",
       "       3.04650753, 1.17361309, 2.06221074, 3.58387996, 1.11001795,\n",
       "       1.92857352, 3.18269592, 0.94664121, 2.71435462, 1.93809222,\n",
       "       1.55825476, 1.01619692, 2.61247532, 2.26007528, 1.66256273,\n",
       "       2.30504088, 1.63852885, 2.04991529, 1.45625441, 2.16724768,\n",
       "       2.45224229, 2.22428221, 2.3510964 , 1.41937696, 2.72161682,\n",
       "       2.02705271, 1.88530182, 1.90595759, 2.56252299, 2.21507947,\n",
       "       0.99720975, 2.32162751, 2.49923372, 2.15882199, 1.89813977,\n",
       "       1.93892457, 1.42718327, 2.62226   , 1.05750063, 2.36035756,\n",
       "       2.12053891, 2.54061133, 1.23362944, 2.40549478, 1.23394863,\n",
       "       1.41972061, 2.22561809, 1.74098303, 1.89894939, 1.80844174,\n",
       "       1.53587957, 2.92769637, 2.65258605, 1.63459005, 1.72789673,\n",
       "       1.26622118, 2.1566522 , 3.00404093, 0.42585132, 2.51742336,\n",
       "       2.05603182, 1.37373253, 1.71681438, 1.91256531, 2.52318359])"
      ]
     },
     "execution_count": 17,
     "metadata": {},
     "output_type": "execute_result"
    }
   ],
   "source": [
    "norm"
   ]
  },
  {
   "cell_type": "code",
   "execution_count": 20,
   "metadata": {},
   "outputs": [
    {
     "data": {
      "text/plain": [
       "2.625292601867988"
      ]
     },
     "execution_count": 20,
     "metadata": {},
     "output_type": "execute_result"
    }
   ],
   "source": [
    "np.quantile(norm, 0.9) # kwantyle empiryczme \n",
    "# czyli 90 procent wartosc jest mniejszych niz kwantyl empiryczny\n",
    "# jak jest rozklad normalny to kwantyle empiryczne powinny przyblizac\n",
    "# teoretyczne wartosci z rozkladu normalnego\n",
    "# czyli punkty powinny ukladac sie wzdluz osi\n",
    "# zawsze wzdluz linii jak jest rozklad normalny!"
   ]
  },
  {
   "cell_type": "markdown",
   "metadata": {
    "id": "uG-oidOHibTZ"
   },
   "source": [
    "## Zadanie\n",
    "Wygeneruj kilka próbek o różnej liczności z \n",
    "\n",
    "a) rozkładu normalnego,\n",
    "\n",
    "b) rozkładu chi-kwadrat,\n",
    "\n",
    "c) rozkładu wykładniczego,\n",
    "\n",
    "sporządź histogramy z naniesionym filtrem rozkładu normalnego oraz wykresy $qq$-plot. Na podstawie otrzymanych rysunków oceń czy rozkład jest normalny."
   ]
  },
  {
   "cell_type": "code",
   "execution_count": 33,
   "metadata": {
    "id": "9P6gEsPsibTZ"
   },
   "outputs": [],
   "source": [
    "n =100000\n",
    "norm = stats.norm.rvs(size = n,loc = 2,scale = 0.5)\n",
    "# zaszumienie nizej rozkladu normalnego rozkladem jednostajnym\n",
    "norm_error = stats.norm.rvs(size = n,loc = 2,scale = 0.5)+stats.uniform.rvs(size = n,loc = -0.6,scale = 1.2)\n",
    "chi = stats.chi2.rvs(size = n, df = 5)\n",
    "exp = stats.expon.rvs(size = n, scale = 1/2)\n",
    "cau = stats.cauchy.rvs(size = n)"
   ]
  },
  {
   "cell_type": "code",
   "execution_count": 34,
   "metadata": {
    "id": "5R6kF6sIibTZ"
   },
   "outputs": [
    {
     "name": "stdout",
     "output_type": "stream",
     "text": [
      "1.9989589885476213 0.5005401840218502\n",
      "1.9982402916637327 0.6089403087237109\n",
      "4.9918057036088985 3.1586506167213058\n",
      "0.5007382560702685 0.5020816126509213\n",
      "0.5007382560702685 0.5020816126509213\n"
     ]
    },
    {
     "data": {
      "text/plain": [
       "[<matplotlib.lines.Line2D at 0x1de796b6120>]"
      ]
     },
     "execution_count": 34,
     "metadata": {},
     "output_type": "execute_result"
    },
    {
     "data": {
      "image/png": "[encoded data removed]",
      "text/plain": [
       "<Figure size 2000x1000 with 4 Axes>"
      ]
     },
     "metadata": {},
     "output_type": "display_data"
    }
   ],
   "source": [
    "# histogram z naniesionym filtrem rozkładu normalnego\n",
    "m1, s1 = stats.norm.fit(norm)\n",
    "print(m1, s1)\n",
    "m2, s2 = stats.norm.fit(norm_error)\n",
    "print(m2, s2)\n",
    "m3, s3 = stats.norm.fit(chi)\n",
    "print(m3, s3)\n",
    "m4, s4 = stats.norm.fit(exp)\n",
    "print(m4, s4)\n",
    "\n",
    "m5, s5 = stats.norm.fit(exp)\n",
    "print(m5, s5)\n",
    "\n",
    "fig, ax = plt.subplots(2, 2, figsize=(20, 10))\n",
    "N_bins = 10\n",
    "\n",
    "x_range = np.linspace(norm.min(), norm.max(), 100)\n",
    "ax[0, 0].hist(norm, bins=N_bins, density=True, alpha=0.5)\n",
    "ax[0, 0].plot(x_range, stats.norm.pdf(x_range, m1, s1), '--')\n",
    "\n",
    "x_range = np.linspace(norm_error.min(), norm_error.max(), 100)\n",
    "ax[0, 1].hist(norm_error, bins=N_bins, density=True, alpha=0.5)\n",
    "ax[0, 1].plot(x_range, stats.norm.pdf(x_range, m2, s2), '--')\n",
    "\n",
    "x_range = np.linspace(chi.min(), chi.max(), 100)\n",
    "ax[1, 0].hist(chi, bins=N_bins, density=True, alpha=0.5)\n",
    "ax[1, 0].plot(x_range, stats.norm.pdf(x_range, m3, s3), '--')\n",
    "\n",
    "x_range = np.linspace(exp.min(), exp.max(), 100)\n",
    "ax[1, 1].hist(exp, bins=N_bins, density=True, alpha=0.5)\n",
    "ax[1, 1].plot(x_range, stats.norm.pdf(x_range, m4, s4), '--')\n",
    "\n",
    "x_range = np.linspace(norm.min(), norm.max(), 100)\n",
    "ax[1, 1].hist(cau, bins=N_bins, density=True, alpha=0.5)\n",
    "ax[1, 1].plot(x_range, stats.norm.pdf(x_range, m5, s5), '--')"
   ]
  },
  {
   "cell_type": "code",
   "execution_count": 35,
   "metadata": {
    "scrolled": true
   },
   "outputs": [
    {
     "name": "stderr",
     "output_type": "stream",
     "text": [
      "C:\\Users\\BPE\\anaconda3\\Lib\\site-packages\\scipy\\stats\\_axis_nan_policy.py:531: UserWarning: scipy.stats.shapiro: For N > 5000, computed p-value may not be accurate. Current N is 100000.\n",
      "  res = hypotest_fun_out(*samples, **kwds)\n"
     ]
    },
    {
     "name": "stdout",
     "output_type": "stream",
     "text": [
      "ShapiroResult(statistic=0.999961174422534, pvalue=0.31625568337764365)\n"
     ]
    },
    {
     "data": {
      "image/png": "[encoded data removed]",
      "text/plain": [
       "<Figure size 640x480 with 1 Axes>"
      ]
     },
     "metadata": {},
     "output_type": "display_data"
    }
   ],
   "source": [
    "sm.qqplot(norm, stats.norm, line='q')\n",
    "print(stats.shapiro(norm))\n",
    "plt.show()"
   ]
  },
  {
   "cell_type": "code",
   "execution_count": 36,
   "metadata": {},
   "outputs": [
    {
     "name": "stdout",
     "output_type": "stream",
     "text": [
      "ShapiroResult(statistic=0.9998311569168096, pvalue=2.1379181535120073e-06)\n"
     ]
    },
    {
     "data": {
      "image/png": "[encoded data removed]",
      "text/plain": [
       "<Figure size 640x480 with 1 Axes>"
      ]
     },
     "metadata": {},
     "output_type": "display_data"
    }
   ],
   "source": [
    "sm.qqplot(norm_error, stats.norm, line='q')\n",
    "print(stats.shapiro(norm_error))\n",
    "plt.show()"
   ]
  },
  {
   "cell_type": "code",
   "execution_count": 37,
   "metadata": {},
   "outputs": [
    {
     "name": "stdout",
     "output_type": "stream",
     "text": [
      "ShapiroResult(statistic=0.01236333077944518, pvalue=4.9724158623077e-184)\n"
     ]
    },
    {
     "data": {
      "image/png": "[encoded data removed]",
      "text/plain": [
       "<Figure size 640x480 with 1 Axes>"
      ]
     },
     "metadata": {},
     "output_type": "display_data"
    }
   ],
   "source": [
    "sm.qqplot(cau, stats.norm, line='q')\n",
    "print(stats.shapiro(cau))\n",
    "plt.show()\n",
    "# dla cauchyego na konca odstajace sa mocno wartosci"
   ]
  },
  {
   "cell_type": "code",
   "execution_count": 39,
   "metadata": {},
   "outputs": [],
   "source": [
    "# qqplot to identyfikacji czy cos pochodzi z rozkladu normalnego"
   ]
  },
  {
   "cell_type": "code",
   "execution_count": null,
   "metadata": {},
   "outputs": [],
   "source": [
    "# ale mozna tez sprawdzic inne rozklady, \n",
    "# ale z reguly jest uzywany do identyfikacji czy probka pochodzi z zadanego ukladu"
   ]
  },
  {
   "cell_type": "code",
   "execution_count": null,
   "metadata": {},
   "outputs": [],
   "source": []
  },
  {
   "cell_type": "code",
   "execution_count": null,
   "metadata": {},
   "outputs": [],
   "source": []
  },
  {
   "cell_type": "markdown",
   "metadata": {
    "id": "y6kDYwosibTZ"
   },
   "source": [
    "## ***Inne testy do badania normalności\n",
    "\n",
    "* testy oparte na kurtozie i skośności:\n",
    "    - [test D'Agostino $K^2$](https://en.wikipedia.org/wiki/D%27Agostino%27s_K-squared_test): `scipy.stats.normaltest`;\n",
    "\n",
    "    - [test Jarque–Bera](https://en.wikipedia.org/wiki/Jarque%E2%80%93Bera_test): `scipy.stats.jarque_bera`;\n",
    "    \n",
    "* testy oparte na dystrybuancie empirycznej:\n",
    "    - [test Kolmogorova–Smirnova](https://en.wikipedia.org/wiki/Kolmogorov%E2%80%93Smirnov_test): `scipy.stats.kstest`;\n",
    "    \n",
    "    - [test Lilliefors](https://en.wikipedia.org/wiki/Lilliefors_test): `statsmodels.stats.diagnostic.lilliefors`;"
   ]
  },
  {
   "cell_type": "code",
   "execution_count": null,
   "metadata": {
    "scrolled": true
   },
   "outputs": [],
   "source": [
    "# test omnibusowy\n",
    "# pierwsze dwa uzywa sie przy duzej probie - powyzej 5 000 \n",
    "# najlepiej przy takiej probie puscic oba\n",
    "# "
   ]
  },
  {
   "cell_type": "code",
   "execution_count": null,
   "metadata": {},
   "outputs": [],
   "source": [
    "# test kolomogorova i lilliefors to sprawdzamy ogolnie rozklady ciagle"
   ]
  },
  {
   "cell_type": "markdown",
   "metadata": {
    "id": "KLJne4_MibTZ"
   },
   "source": [
    "## Test typu omnibus D’Agostino-Pearsona oparty o kurtozę i skośność\n",
    "Łącząc dwa testy otrzymuje się test czuły na odstępstwa od normalności zarówno w postaci niezerowej skośności jak i kurtozy istotnie różniej od 3.\n",
    "\n",
    "Statystyką testową jest\n",
    "$$\n",
    "K^2=(Z(\\sqrt{b_1}))^2+ (Z(b_2))^2,\n",
    "$$\n",
    "gdzie $Z(\\sqrt{b_1})$ to  statystyka  testowa  testu  opartego  o  skośność  a $Z(b_2)$  to  statystyka  testowa  testu opartego o kurtozę.\n",
    "\n",
    "Asymptotyczny rozkład tej statystyki to rozkład $\\chi^2$.\n",
    "\n",
    "Ponadto:\n",
    "$m_k = \\frac{1}{n}\\sum_{i=1}^n (x_i -\\overline{x})^k$, $\\sqrt{b_1} = \\frac{m_3}{m_2^{3/2}}$, $b_2 = \\frac{m4}{m_2^2}-3$.\n",
    "\n",
    "## Test typu omnibus Jarque-Bera oparty o kurtozę i skośność\n",
    "Innym testem opartym o kurtozę i skośność jest test Jarque-Bera. Statystyka testowaw przypadku tego testu ma łatwiejszą postać niż dla testu D’Agostino-Pearsona. Traci się jednak na niedokładnym oszacowaniu wartości krytycznych przy niewielkich wielkościach próby. Asymptotycznie ten test jest tak samo mocny jak test D’Agostino-Pearsona, ale na asymptotykę można liczyć jedynie w przypadku dużych prób.\n",
    "\n",
    "Statystyka testowa ma postać:\n",
    "$$\n",
    "    \\text{JB} = \\frac{n}{6}\\Big((\\sqrt{b_1})^2 + \\frac{1}{4}(b_2-3)^2\\Big).\n",
    "$$\n",
    "\n",
    "\n",
    "## Test Kołmogorova-Smirnova\n",
    "\n",
    "Test oparty o odległość supremum pomiędzy dystrybuantami empiryczną $F_n$ i teoretyczną $F$\n",
    "$$\n",
    "d(F_n, F) = \\sup_{x}|F_n(x) - F(x)|.\n",
    "$$\n",
    "\n",
    "Statystka testowa oparta o powyższą odległość sprowadza się do liczenia maksimum modułu różnicy dystrybuant w punktach skoku dystrybuanty empirycznej:\n",
    "$$\n",
    "D = \\max_{x_i}|F_n(x_i) - F(x_i)|.\n",
    "$$\n",
    "\n",
    "Rozkład statystyki testowej można wyznaczyć w sposób dokładny dla prostej hipotezy zerowej, a więc dla porównania z jednym określonym rozkładem. Asymptotycznie, ta statystyka przemnożona przez $\\sqrt{n}$ ma rozkład Kołmogorowa.\n",
    "\n",
    "Test ten pomimo łatwego opisu probabilistycznego nie jest stosowany z uwagi na moc niższą niż konkurencja.\n",
    "\n",
    "## Test Lillieforsa\n",
    "\n",
    "Ten test to modyfikacja testu Kołmogorowa-Smirnowa zaproponowana przez Huberta Lillieforsa, pozwalająca na testowanie zgodności z całą rodziną rozkładów normalnych, bez znajomości parametrów średniej i odchylenia standardowego (test Kołmogorowa-Smirnowa pozwala na zbadanie zgodnościz jednym określonym rozkładem).\n",
    "\n",
    "Statystyka testowa w przypadku testu Lillieforsa wygląda tak samo jak w przypadku testu Kołmogorowa-Smirnowa. Różnica polega na zastosowaniu innego rozkładu dla statystyki testowej (przybliżenie rozkładu dokładnego), uwzględniającego to, że hipoteza zerowa jest hipotezą złożoną."
   ]
  },
  {
   "cell_type": "code",
   "execution_count": null,
   "metadata": {
    "id": "vANo27qdibTa"
   },
   "outputs": [],
   "source": [
    "# ?stats.normaltest"
   ]
  },
  {
   "cell_type": "code",
   "execution_count": null,
   "metadata": {
    "id": "SO5xUqTbibTa"
   },
   "outputs": [],
   "source": [
    "# ?stats.jarque_bera"
   ]
  },
  {
   "cell_type": "code",
   "execution_count": null,
   "metadata": {
    "id": "bTQntXD2ibTa"
   },
   "outputs": [],
   "source": [
    "# ?stats.kstest"
   ]
  },
  {
   "cell_type": "code",
   "execution_count": null,
   "metadata": {
    "id": "0CIeYsYUibTa"
   },
   "outputs": [],
   "source": [
    "# ?sm_stats.diagnostic.lilliefors"
   ]
  },
  {
   "cell_type": "code",
   "execution_count": 43,
   "metadata": {},
   "outputs": [
    {
     "name": "stdout",
     "output_type": "stream",
     "text": [
      "SignificanceResult(statistic=615.4308488484419, pvalue=2.2955627880037234e-134)\n",
      "SignificanceResult(statistic=8.161462354496585, pvalue=0.016895107816928476)\n",
      "NormaltestResult(statistic=697.6179032879321, pvalue=3.2673605611471435e-152)\n",
      "NormaltestResult(statistic=8.092336678816494, pvalue=0.017489259323687438)\n"
     ]
    }
   ],
   "source": [
    "n =1000000\n",
    "norm = stats.norm.rvs(size = n,loc = 2,scale = 0.5)\n",
    "norm_error = stats.norm.rvs(size = n,loc = 2,scale = 0.5)+stats.uniform.rvs(size = n,loc = -0.6,scale = 1.2)\n",
    "print(stats.jarque_bera(norm_error))\n",
    "print(stats.jarque_bera(norm))\n",
    "print(stats.normaltest(norm_error))\n",
    "print(stats.normaltest(norm))"
   ]
  },
  {
   "cell_type": "markdown",
   "metadata": {
    "id": "pslWQxJkibTa"
   },
   "source": [
    "## Zadanie\n",
    "Napisz funkcję, która dla dowolnej próbki zwróci ramkę danych z wyznaczonymi statystykami testowymi i $p$-wartościami dla poznanych testów normalności."
   ]
  },
  {
   "cell_type": "code",
   "execution_count": null,
   "metadata": {
    "id": "9fVIstTSibTa"
   },
   "outputs": [],
   "source": [
    "# def normal_tests(x):\n",
    "#     pass"
   ]
  },
  {
   "cell_type": "markdown",
   "metadata": {
    "id": "MiPwiMBzibTb"
   },
   "source": [
    "## Zadanie\n",
    "Wczytaj dane `mtcars.csv` i sprawdź normalność każdej z kolumn (za pomocą testów statystycznych oraz metod graficznych). "
   ]
  },
  {
   "cell_type": "code",
   "execution_count": null,
   "metadata": {
    "id": "3BtQLSRvibTb"
   },
   "outputs": [],
   "source": [
    "# mtcars = pd.read_csv(\"../data/mtcars.csv\")\n",
    "# mtcars.head()"
   ]
  },
  {
   "cell_type": "code",
   "execution_count": null,
   "metadata": {
    "id": "9UucpCGnibTb"
   },
   "outputs": [],
   "source": []
  }
 ],
 "metadata": {
  "colab": {
   "provenance": []
  },
  "kernelspec": {
   "display_name": "Python 3 (ipykernel)",
   "language": "python",
   "name": "python3"
  },
  "language_info": {
   "codemirror_mode": {
    "name": "ipython",
    "version": 3
   },
   "file_extension": ".py",
   "mimetype": "text/x-python",
   "name": "python",
   "nbconvert_exporter": "python",
   "pygments_lexer": "ipython3",
   "version": "3.12.4"
  }
 },
 "nbformat": 4,
 "nbformat_minor": 4
}
